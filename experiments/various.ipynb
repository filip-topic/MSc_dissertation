{
 "cells": [
  {
   "cell_type": "markdown",
   "metadata": {},
   "source": [
    "# inflation data experiments"
   ]
  },
  {
   "cell_type": "code",
   "execution_count": 1,
   "metadata": {},
   "outputs": [],
   "source": [
    "import yfinance as yf\n",
    "import requests\n",
    "import pandas as pd"
   ]
  },
  {
   "cell_type": "code",
   "execution_count": 2,
   "metadata": {},
   "outputs": [],
   "source": [
    "def get_inflation_data(country_code: str, start_year: int, end_year: int):\n",
    "    url = f\"http://api.worldbank.org/v2/country/{country_code}/indicator/FP.CPI.TOTL?date={start_year}:{end_year}&format=json\"\n",
    "    response = requests.get(url)\n",
    "    data = response.json()\n",
    "    inflation_data = pd.json_normalize(data[1])\n",
    "    return inflation_data[['date', 'value']].rename(columns={'date': 'Year', 'value': 'Inflation'})"
   ]
  },
  {
   "cell_type": "code",
   "execution_count": 4,
   "metadata": {},
   "outputs": [
    {
     "data": {
      "text/plain": [
       "0     118.690502\n",
       "1     117.244195\n",
       "2     115.157303\n",
       "3     112.411557\n",
       "4     110.067009\n",
       "5     108.695722\n",
       "6     108.566932\n",
       "7     106.833849\n",
       "8     105.291505\n",
       "9     103.156842\n",
       "10    100.000000\n",
       "11     98.386420\n",
       "12     98.737477\n",
       "13     95.086992\n",
       "14     92.449705\n",
       "15     89.560532\n",
       "16     86.621678\n",
       "17     84.363079\n",
       "18     82.490467\n",
       "19     81.202568\n",
       "20     78.970721\n",
       "Name: Inflation, dtype: float64"
      ]
     },
     "execution_count": 4,
     "metadata": {},
     "output_type": "execute_result"
    }
   ],
   "source": [
    "inflation_data = get_inflation_data('USA', 2000, 2020)\n",
    "inflation_data[\"Inflation\"]"
   ]
  }
 ],
 "metadata": {
  "kernelspec": {
   "display_name": "Python 3",
   "language": "python",
   "name": "python3"
  },
  "language_info": {
   "codemirror_mode": {
    "name": "ipython",
    "version": 3
   },
   "file_extension": ".py",
   "mimetype": "text/x-python",
   "name": "python",
   "nbconvert_exporter": "python",
   "pygments_lexer": "ipython3",
   "version": "3.11.1"
  }
 },
 "nbformat": 4,
 "nbformat_minor": 2
}
