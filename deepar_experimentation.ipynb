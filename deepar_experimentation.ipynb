{
 "cells": [
  {
   "cell_type": "markdown",
   "metadata": {},
   "source": [
    "# DeepAR"
   ]
  },
  {
   "cell_type": "markdown",
   "metadata": {},
   "source": []
  },
  {
   "cell_type": "code",
   "execution_count": 17,
   "metadata": {},
   "outputs": [],
   "source": [
    "import pandas as pd\n",
    "import numpy as np\n",
    "from gluonts.mx.model.deepar import DeepAREstimator\n",
    "from gluonts.mx.trainer import Trainer\n",
    "from gluonts.dataset.common import ListDataset\n",
    "from gluonts.evaluation.backtest import make_evaluation_predictions\n",
    "from gluonts.evaluation import Evaluator\n",
    "from datetime import datetime, timedelta\n",
    "import yfinance as yf\n",
    "import matplotlib.pyplot as plt"
   ]
  },
  {
   "cell_type": "code",
   "execution_count": 7,
   "metadata": {},
   "outputs": [
    {
     "name": "stdout",
     "output_type": "stream",
     "text": [
      "[*********************100%%**********************]  1 of 1 completed\n"
     ]
    }
   ],
   "source": [
    "prediction_length = 10\n",
    "end_date = datetime.today()\n",
    "start_date = end_date - timedelta(days=365)  \n",
    "apple_stock_price = yf.download(\"AAPL\", start=start_date, end=end_date, interval=\"1d\")[\"Adj Close\"]"
   ]
  },
  {
   "cell_type": "code",
   "execution_count": 8,
   "metadata": {},
   "outputs": [],
   "source": [
    "\n",
    "apple_stock_price = apple_stock_price.reset_index()\n",
    "apple_stock_price.columns = ['ds', 'y']\n",
    "\n",
    "df = apple_stock_price"
   ]
  },
  {
   "cell_type": "code",
   "execution_count": 9,
   "metadata": {},
   "outputs": [],
   "source": [
    "# data has to be in a specific format for the GluonTS package\n",
    "\n",
    "train_ds = ListDataset(\n",
    "    [{\"start\": df['ds'].iloc[0], \"target\": df['y'].values}],\n",
    "    freq=\"D\"\n",
    ")"
   ]
  },
  {
   "cell_type": "code",
   "execution_count": 10,
   "metadata": {},
   "outputs": [],
   "source": [
    "estimator = DeepAREstimator(\n",
    "    freq=\"D\",\n",
    "    prediction_length=prediction_length,  # The forecast horizon\n",
    "    trainer=Trainer(epochs=20)\n",
    ")"
   ]
  },
  {
   "cell_type": "code",
   "execution_count": 11,
   "metadata": {},
   "outputs": [
    {
     "name": "stderr",
     "output_type": "stream",
     "text": [
      "100%|██████████| 50/50 [00:01<00:00, 32.63it/s, epoch=1/20, avg_epoch_loss=5.29]\n",
      "100%|██████████| 50/50 [00:01<00:00, 38.20it/s, epoch=2/20, avg_epoch_loss=3.68]\n",
      "100%|██████████| 50/50 [00:01<00:00, 38.10it/s, epoch=3/20, avg_epoch_loss=3.53]\n",
      "100%|██████████| 50/50 [00:01<00:00, 37.33it/s, epoch=4/20, avg_epoch_loss=3.4]\n",
      "100%|██████████| 50/50 [00:01<00:00, 38.15it/s, epoch=5/20, avg_epoch_loss=3.3]\n",
      "100%|██████████| 50/50 [00:01<00:00, 37.50it/s, epoch=6/20, avg_epoch_loss=3.23]\n",
      "100%|██████████| 50/50 [00:01<00:00, 36.60it/s, epoch=7/20, avg_epoch_loss=3.09]\n",
      "100%|██████████| 50/50 [00:01<00:00, 38.02it/s, epoch=8/20, avg_epoch_loss=3.07]\n",
      "100%|██████████| 50/50 [00:01<00:00, 37.08it/s, epoch=9/20, avg_epoch_loss=2.92]\n",
      "100%|██████████| 50/50 [00:01<00:00, 35.22it/s, epoch=10/20, avg_epoch_loss=2.82]\n",
      "100%|██████████| 50/50 [00:01<00:00, 38.07it/s, epoch=11/20, avg_epoch_loss=2.76]\n",
      "100%|██████████| 50/50 [00:01<00:00, 36.99it/s, epoch=12/20, avg_epoch_loss=2.81]\n",
      "100%|██████████| 50/50 [00:01<00:00, 36.61it/s, epoch=13/20, avg_epoch_loss=2.7]\n",
      "100%|██████████| 50/50 [00:01<00:00, 35.34it/s, epoch=14/20, avg_epoch_loss=2.74]\n",
      "100%|██████████| 50/50 [00:01<00:00, 35.14it/s, epoch=15/20, avg_epoch_loss=2.66]\n",
      "100%|██████████| 50/50 [00:01<00:00, 35.70it/s, epoch=16/20, avg_epoch_loss=2.75]\n",
      "100%|██████████| 50/50 [00:01<00:00, 36.39it/s, epoch=17/20, avg_epoch_loss=2.61]\n",
      "100%|██████████| 50/50 [00:01<00:00, 34.05it/s, epoch=18/20, avg_epoch_loss=2.6]\n",
      "100%|██████████| 50/50 [00:01<00:00, 36.19it/s, epoch=19/20, avg_epoch_loss=2.54]\n",
      "100%|██████████| 50/50 [00:01<00:00, 37.08it/s, epoch=20/20, avg_epoch_loss=2.61]\n"
     ]
    }
   ],
   "source": [
    "predictor = estimator.train(training_data=train_ds)"
   ]
  },
  {
   "cell_type": "code",
   "execution_count": 12,
   "metadata": {},
   "outputs": [],
   "source": [
    "test_ds = ListDataset(\n",
    "    [{\"start\": df['ds'].iloc[0], \"target\": df['y'].values}],\n",
    "    freq=\"D\"\n",
    ")"
   ]
  },
  {
   "cell_type": "code",
   "execution_count": 13,
   "metadata": {},
   "outputs": [],
   "source": [
    "forecast_it, ts_it = make_evaluation_predictions(\n",
    "    dataset=test_ds, predictor=predictor, num_samples=100\n",
    ")"
   ]
  },
  {
   "cell_type": "code",
   "execution_count": 14,
   "metadata": {},
   "outputs": [
    {
     "name": "stderr",
     "output_type": "stream",
     "text": [
      "Running evaluation: 1it [00:00, 62.10it/s]"
     ]
    },
    {
     "name": "stdout",
     "output_type": "stream",
     "text": [
      "Aggregate metrics:\n",
      " {'MSE': 100.5635986328125, 'abs_error': 85.50347900390625, 'abs_target_sum': 2072.1201171875, 'abs_target_mean': 207.21201171875, 'seasonal_error': 1.7442537943522136, 'MASE': 4.902009058587761, 'MAPE': 0.04042007029056549, 'sMAPE': 0.041521936655044556, 'MSIS': 72.6485756380414, 'num_masked_target_values': 0.0, 'QuantileLoss[0.1]': 25.76131591796875, 'Coverage[0.1]': 0.0, 'QuantileLoss[0.2]': 44.4538818359375, 'Coverage[0.2]': 0.0, 'QuantileLoss[0.3]': 60.654867553710936, 'Coverage[0.3]': 0.0, 'QuantileLoss[0.4]': 74.06569213867188, 'Coverage[0.4]': 0.1, 'QuantileLoss[0.5]': 85.50347900390625, 'Coverage[0.5]': 0.1, 'QuantileLoss[0.6]': 95.39305419921877, 'Coverage[0.6]': 0.1, 'QuantileLoss[0.7]': 100.7367950439453, 'Coverage[0.7]': 0.2, 'QuantileLoss[0.8]': 102.04116210937502, 'Coverage[0.8]': 0.2, 'QuantileLoss[0.9]': 88.72214965820312, 'Coverage[0.9]': 0.4, 'RMSE': 10.028140337710303, 'NRMSE': 0.04839555513471658, 'ND': 0.04126376569325556, 'wQuantileLoss[0.1]': 0.012432346804747365, 'wQuantileLoss[0.2]': 0.021453332491301227, 'wQuantileLoss[0.3]': 0.02927188778806806, 'wQuantileLoss[0.4]': 0.03574391828172666, 'wQuantileLoss[0.5]': 0.04126376569325556, 'wQuantileLoss[0.6]': 0.04603645001463346, 'wQuantileLoss[0.7]': 0.04861532601723684, 'wQuantileLoss[0.8]': 0.049244810309489226, 'wQuantileLoss[0.9]': 0.042817088122587305, 'mean_absolute_QuantileLoss': 75.2591552734375, 'mean_wQuantileLoss': 0.03631988061367174, 'MAE_Coverage': 0.23333333333333334, 'OWA': nan}\n",
      "Item metrics:\n",
      "   item_id forecast_start         MSE  abs_error  abs_target_sum  \\\n",
      "0    None     2024-02-18  100.563599  85.503479     2072.120117   \n",
      "\n",
      "   abs_target_mean  seasonal_error      MASE     MAPE     sMAPE  ...  \\\n",
      "0       207.212012        1.744254  4.902009  0.04042  0.041522  ...   \n",
      "\n",
      "   QuantileLoss[0.5]  Coverage[0.5]  QuantileLoss[0.6]  Coverage[0.6]  \\\n",
      "0          85.503479            0.1          95.393054            0.1   \n",
      "\n",
      "   QuantileLoss[0.7]  Coverage[0.7]  QuantileLoss[0.8]  Coverage[0.8]  \\\n",
      "0         100.736795            0.2         102.041162            0.2   \n",
      "\n",
      "   QuantileLoss[0.9]  Coverage[0.9]  \n",
      "0           88.72215            0.4  \n",
      "\n",
      "[1 rows x 31 columns]\n"
     ]
    },
    {
     "name": "stderr",
     "output_type": "stream",
     "text": [
      "\n"
     ]
    }
   ],
   "source": [
    "forecasts = list(forecast_it)\n",
    "tss = list(ts_it)\n",
    "\n",
    "# Evaluate the model\n",
    "evaluator = Evaluator()\n",
    "agg_metrics, item_metrics = evaluator(tss, forecasts)\n",
    "\n",
    "print(\"Aggregate metrics:\\n\", agg_metrics)\n",
    "print(\"Item metrics:\\n\", item_metrics)"
   ]
  },
  {
   "cell_type": "code",
   "execution_count": 19,
   "metadata": {},
   "outputs": [
    {
     "ename": "AttributeError",
     "evalue": "'DataFrame' object has no attribute 'start_date'",
     "output_type": "error",
     "traceback": [
      "\u001b[1;31m---------------------------------------------------------------------------\u001b[0m",
      "\u001b[1;31mAttributeError\u001b[0m                            Traceback (most recent call last)",
      "Cell \u001b[1;32mIn[19], line 13\u001b[0m\n\u001b[0;32m     10\u001b[0m         plt\u001b[38;5;241m.\u001b[39mshow()\n\u001b[0;32m     12\u001b[0m \u001b[38;5;66;03m# Plot the forecast\u001b[39;00m\n\u001b[1;32m---> 13\u001b[0m \u001b[43mplot_forecast\u001b[49m\u001b[43m(\u001b[49m\u001b[43mtss\u001b[49m\u001b[43m,\u001b[49m\u001b[43m \u001b[49m\u001b[43mforecasts\u001b[49m\u001b[43m,\u001b[49m\u001b[43m \u001b[49m\u001b[43mprediction_length\u001b[49m\u001b[43m)\u001b[49m\n",
      "Cell \u001b[1;32mIn[19], line 4\u001b[0m, in \u001b[0;36mplot_forecast\u001b[1;34m(tss, forecasts, prediction_length)\u001b[0m\n\u001b[0;32m      2\u001b[0m \u001b[38;5;28;01mfor\u001b[39;00m target, forecast \u001b[38;5;129;01min\u001b[39;00m \u001b[38;5;28mzip\u001b[39m(tss, forecasts):\n\u001b[0;32m      3\u001b[0m     plt\u001b[38;5;241m.\u001b[39mfigure(figsize\u001b[38;5;241m=\u001b[39m(\u001b[38;5;241m12\u001b[39m, \u001b[38;5;241m6\u001b[39m))\n\u001b[1;32m----> 4\u001b[0m     target_index \u001b[38;5;241m=\u001b[39m pd\u001b[38;5;241m.\u001b[39mdate_range(start\u001b[38;5;241m=\u001b[39m\u001b[43mtarget\u001b[49m\u001b[38;5;241;43m.\u001b[39;49m\u001b[43mstart_date\u001b[49m, periods\u001b[38;5;241m=\u001b[39m\u001b[38;5;28mlen\u001b[39m(target), freq\u001b[38;5;241m=\u001b[39m\u001b[38;5;124m'\u001b[39m\u001b[38;5;124mD\u001b[39m\u001b[38;5;124m'\u001b[39m)\n\u001b[0;32m      5\u001b[0m     plt\u001b[38;5;241m.\u001b[39mplot(target_index, target, label\u001b[38;5;241m=\u001b[39m\u001b[38;5;124m\"\u001b[39m\u001b[38;5;124mActual\u001b[39m\u001b[38;5;124m\"\u001b[39m)\n\u001b[0;32m      6\u001b[0m     forecast_index \u001b[38;5;241m=\u001b[39m pd\u001b[38;5;241m.\u001b[39mdate_range(start\u001b[38;5;241m=\u001b[39mtarget_index[\u001b[38;5;241m-\u001b[39m\u001b[38;5;241m1\u001b[39m] \u001b[38;5;241m+\u001b[39m pd\u001b[38;5;241m.\u001b[39mTimedelta(days\u001b[38;5;241m=\u001b[39m\u001b[38;5;241m1\u001b[39m), periods\u001b[38;5;241m=\u001b[39mprediction_length, freq\u001b[38;5;241m=\u001b[39m\u001b[38;5;124m'\u001b[39m\u001b[38;5;124mD\u001b[39m\u001b[38;5;124m'\u001b[39m)\n",
      "File \u001b[1;32m~\\AppData\\Roaming\\Python\\Python311\\site-packages\\pandas\\core\\generic.py:6204\u001b[0m, in \u001b[0;36mNDFrame.__getattr__\u001b[1;34m(self, name)\u001b[0m\n\u001b[0;32m   6197\u001b[0m \u001b[38;5;28;01mif\u001b[39;00m (\n\u001b[0;32m   6198\u001b[0m     name \u001b[38;5;129;01mnot\u001b[39;00m \u001b[38;5;129;01min\u001b[39;00m \u001b[38;5;28mself\u001b[39m\u001b[38;5;241m.\u001b[39m_internal_names_set\n\u001b[0;32m   6199\u001b[0m     \u001b[38;5;129;01mand\u001b[39;00m name \u001b[38;5;129;01mnot\u001b[39;00m \u001b[38;5;129;01min\u001b[39;00m \u001b[38;5;28mself\u001b[39m\u001b[38;5;241m.\u001b[39m_metadata\n\u001b[0;32m   6200\u001b[0m     \u001b[38;5;129;01mand\u001b[39;00m name \u001b[38;5;129;01mnot\u001b[39;00m \u001b[38;5;129;01min\u001b[39;00m \u001b[38;5;28mself\u001b[39m\u001b[38;5;241m.\u001b[39m_accessors\n\u001b[0;32m   6201\u001b[0m     \u001b[38;5;129;01mand\u001b[39;00m \u001b[38;5;28mself\u001b[39m\u001b[38;5;241m.\u001b[39m_info_axis\u001b[38;5;241m.\u001b[39m_can_hold_identifiers_and_holds_name(name)\n\u001b[0;32m   6202\u001b[0m ):\n\u001b[0;32m   6203\u001b[0m     \u001b[38;5;28;01mreturn\u001b[39;00m \u001b[38;5;28mself\u001b[39m[name]\n\u001b[1;32m-> 6204\u001b[0m \u001b[38;5;28;01mreturn\u001b[39;00m \u001b[38;5;28;43mobject\u001b[39;49m\u001b[38;5;241;43m.\u001b[39;49m\u001b[38;5;21;43m__getattribute__\u001b[39;49m\u001b[43m(\u001b[49m\u001b[38;5;28;43mself\u001b[39;49m\u001b[43m,\u001b[49m\u001b[43m \u001b[49m\u001b[43mname\u001b[49m\u001b[43m)\u001b[49m\n",
      "\u001b[1;31mAttributeError\u001b[0m: 'DataFrame' object has no attribute 'start_date'"
     ]
    },
    {
     "data": {
      "text/plain": [
       "<Figure size 1200x600 with 0 Axes>"
      ]
     },
     "metadata": {},
     "output_type": "display_data"
    }
   ],
   "source": [
    "def plot_forecast(tss, forecasts, prediction_length):\n",
    "    for target, forecast in zip(tss, forecasts):\n",
    "        plt.figure(figsize=(12, 6))\n",
    "        target_index = pd.date_range(start=target.start_date, periods=len(target), freq='D')\n",
    "        plt.plot(target_index, target, label=\"Actual\")\n",
    "        forecast_index = pd.date_range(start=target_index[-1] + pd.Timedelta(days=1), periods=prediction_length, freq='D')\n",
    "        plt.plot(forecast_index, forecast.mean, label=\"Forecast\")\n",
    "        plt.fill_between(forecast_index, forecast.quantile(0.1), forecast.quantile(0.9), color='r', alpha=0.3)\n",
    "        plt.legend()\n",
    "        plt.show()\n",
    "\n",
    "# Plot the forecast\n",
    "plot_forecast(tss, forecasts, prediction_length)"
   ]
  }
 ],
 "metadata": {
  "kernelspec": {
   "display_name": "Python 3",
   "language": "python",
   "name": "python3"
  },
  "language_info": {
   "codemirror_mode": {
    "name": "ipython",
    "version": 3
   },
   "file_extension": ".py",
   "mimetype": "text/x-python",
   "name": "python",
   "nbconvert_exporter": "python",
   "pygments_lexer": "ipython3",
   "version": "3.11.1"
  }
 },
 "nbformat": 4,
 "nbformat_minor": 2
}
