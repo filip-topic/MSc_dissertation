{
 "cells": [
  {
   "cell_type": "markdown",
   "metadata": {},
   "source": [
    "# inflation data experiments"
   ]
  },
  {
   "cell_type": "code",
   "execution_count": 1,
   "metadata": {},
   "outputs": [],
   "source": [
    "import yfinance as yf\n",
    "import requests\n",
    "import pandas as pd\n",
    "import os\n",
    "from datetime import datetime, timedelta"
   ]
  },
  {
   "cell_type": "code",
   "execution_count": 8,
   "metadata": {},
   "outputs": [
    {
     "data": {
      "text/plain": [
       "'c:\\\\Users\\\\topco\\\\Dokumenti\\\\MSc Banking and Digital Finance UCL\\\\Modules\\\\Dissertation\\\\MSc_dissertation\\\\llama'"
      ]
     },
     "execution_count": 8,
     "metadata": {},
     "output_type": "execute_result"
    }
   ],
   "source": [
    "os.getcwd() + \"\\\\llama\""
   ]
  },
  {
   "cell_type": "code",
   "execution_count": 1,
   "metadata": {},
   "outputs": [],
   "source": [
    "from modules.data.data_reader import read_data"
   ]
  },
  {
   "cell_type": "code",
   "execution_count": 2,
   "metadata": {},
   "outputs": [
    {
     "name": "stdout",
     "output_type": "stream",
     "text": [
      "['all_sp500_stocks_1years_daily', 'exp.ipynb']\n",
      "--------\n",
      "['all_sp500_stocks_1years_daily']\n",
      "--------\n"
     ]
    }
   ],
   "source": [
    "a = read_data(\"stock\")"
   ]
  },
  {
   "cell_type": "markdown",
   "metadata": {},
   "source": [
    "## Testing tscv dataset"
   ]
  },
  {
   "cell_type": "code",
   "execution_count": 1,
   "metadata": {},
   "outputs": [],
   "source": [
    "from modules.data.tscv import create_tscv_dataset\n",
    "from modules.data.data_loader import get_simle_data"
   ]
  },
  {
   "cell_type": "code",
   "execution_count": 2,
   "metadata": {},
   "outputs": [],
   "source": [
    "import pandas as pd"
   ]
  },
  {
   "cell_type": "code",
   "execution_count": 3,
   "metadata": {},
   "outputs": [
    {
     "name": "stdout",
     "output_type": "stream",
     "text": [
      "[*********************100%%**********************]  1 of 1 completed\n"
     ]
    }
   ],
   "source": [
    "a = get_simle_data()"
   ]
  },
  {
   "cell_type": "code",
   "execution_count": 10,
   "metadata": {},
   "outputs": [
    {
     "data": {
      "text/html": [
       "<div>\n",
       "<style scoped>\n",
       "    .dataframe tbody tr th:only-of-type {\n",
       "        vertical-align: middle;\n",
       "    }\n",
       "\n",
       "    .dataframe tbody tr th {\n",
       "        vertical-align: top;\n",
       "    }\n",
       "\n",
       "    .dataframe thead th {\n",
       "        text-align: right;\n",
       "    }\n",
       "</style>\n",
       "<table border=\"1\" class=\"dataframe\">\n",
       "  <thead>\n",
       "    <tr style=\"text-align: right;\">\n",
       "      <th></th>\n",
       "      <th>ds</th>\n",
       "      <th>y</th>\n",
       "    </tr>\n",
       "  </thead>\n",
       "  <tbody>\n",
       "    <tr>\n",
       "      <th>45</th>\n",
       "      <td>2023-09-08</td>\n",
       "      <td>178.179993</td>\n",
       "    </tr>\n",
       "    <tr>\n",
       "      <th>46</th>\n",
       "      <td>2023-09-11</td>\n",
       "      <td>179.360001</td>\n",
       "    </tr>\n",
       "    <tr>\n",
       "      <th>47</th>\n",
       "      <td>2023-09-12</td>\n",
       "      <td>176.300003</td>\n",
       "    </tr>\n",
       "    <tr>\n",
       "      <th>48</th>\n",
       "      <td>2023-09-13</td>\n",
       "      <td>174.210007</td>\n",
       "    </tr>\n",
       "    <tr>\n",
       "      <th>49</th>\n",
       "      <td>2023-09-14</td>\n",
       "      <td>175.740005</td>\n",
       "    </tr>\n",
       "    <tr>\n",
       "      <th>50</th>\n",
       "      <td>2023-09-15</td>\n",
       "      <td>175.009995</td>\n",
       "    </tr>\n",
       "    <tr>\n",
       "      <th>51</th>\n",
       "      <td>2023-09-18</td>\n",
       "      <td>177.970001</td>\n",
       "    </tr>\n",
       "    <tr>\n",
       "      <th>52</th>\n",
       "      <td>2023-09-19</td>\n",
       "      <td>179.070007</td>\n",
       "    </tr>\n",
       "    <tr>\n",
       "      <th>53</th>\n",
       "      <td>2023-09-20</td>\n",
       "      <td>175.490005</td>\n",
       "    </tr>\n",
       "    <tr>\n",
       "      <th>54</th>\n",
       "      <td>2023-09-21</td>\n",
       "      <td>173.929993</td>\n",
       "    </tr>\n",
       "    <tr>\n",
       "      <th>55</th>\n",
       "      <td>2023-09-22</td>\n",
       "      <td>174.789993</td>\n",
       "    </tr>\n",
       "    <tr>\n",
       "      <th>56</th>\n",
       "      <td>2023-09-25</td>\n",
       "      <td>176.080002</td>\n",
       "    </tr>\n",
       "    <tr>\n",
       "      <th>57</th>\n",
       "      <td>2023-09-26</td>\n",
       "      <td>171.960007</td>\n",
       "    </tr>\n",
       "    <tr>\n",
       "      <th>58</th>\n",
       "      <td>2023-09-27</td>\n",
       "      <td>170.429993</td>\n",
       "    </tr>\n",
       "    <tr>\n",
       "      <th>59</th>\n",
       "      <td>2023-09-28</td>\n",
       "      <td>170.690002</td>\n",
       "    </tr>\n",
       "  </tbody>\n",
       "</table>\n",
       "</div>"
      ],
      "text/plain": [
       "           ds           y\n",
       "45 2023-09-08  178.179993\n",
       "46 2023-09-11  179.360001\n",
       "47 2023-09-12  176.300003\n",
       "48 2023-09-13  174.210007\n",
       "49 2023-09-14  175.740005\n",
       "50 2023-09-15  175.009995\n",
       "51 2023-09-18  177.970001\n",
       "52 2023-09-19  179.070007\n",
       "53 2023-09-20  175.490005\n",
       "54 2023-09-21  173.929993\n",
       "55 2023-09-22  174.789993\n",
       "56 2023-09-25  176.080002\n",
       "57 2023-09-26  171.960007\n",
       "58 2023-09-27  170.429993\n",
       "59 2023-09-28  170.690002"
      ]
     },
     "execution_count": 10,
     "metadata": {},
     "output_type": "execute_result"
    }
   ],
   "source": [
    "a.iloc[45:60]"
   ]
  },
  {
   "cell_type": "code",
   "execution_count": 5,
   "metadata": {},
   "outputs": [],
   "source": [
    "tscv = create_tscv_dataset(data=a, context_length=50, n_folds=3, prediction_horizon=5, max_folds=False)"
   ]
  },
  {
   "cell_type": "code",
   "execution_count": 11,
   "metadata": {},
   "outputs": [
    {
     "data": {
      "text/html": [
       "<div>\n",
       "<style scoped>\n",
       "    .dataframe tbody tr th:only-of-type {\n",
       "        vertical-align: middle;\n",
       "    }\n",
       "\n",
       "    .dataframe tbody tr th {\n",
       "        vertical-align: top;\n",
       "    }\n",
       "\n",
       "    .dataframe thead th {\n",
       "        text-align: right;\n",
       "    }\n",
       "</style>\n",
       "<table border=\"1\" class=\"dataframe\">\n",
       "  <thead>\n",
       "    <tr style=\"text-align: right;\">\n",
       "      <th></th>\n",
       "      <th>ds</th>\n",
       "      <th>y0</th>\n",
       "      <th>y1</th>\n",
       "      <th>y2</th>\n",
       "    </tr>\n",
       "  </thead>\n",
       "  <tbody>\n",
       "    <tr>\n",
       "      <th>46</th>\n",
       "      <td>2023-09-11</td>\n",
       "      <td>179.360001</td>\n",
       "      <td>176.300003</td>\n",
       "      <td>174.210007</td>\n",
       "    </tr>\n",
       "    <tr>\n",
       "      <th>47</th>\n",
       "      <td>2023-09-12</td>\n",
       "      <td>176.300003</td>\n",
       "      <td>174.210007</td>\n",
       "      <td>175.740005</td>\n",
       "    </tr>\n",
       "    <tr>\n",
       "      <th>48</th>\n",
       "      <td>2023-09-13</td>\n",
       "      <td>174.210007</td>\n",
       "      <td>175.740005</td>\n",
       "      <td>175.009995</td>\n",
       "    </tr>\n",
       "    <tr>\n",
       "      <th>49</th>\n",
       "      <td>2023-09-14</td>\n",
       "      <td>175.740005</td>\n",
       "      <td>175.009995</td>\n",
       "      <td>177.970001</td>\n",
       "    </tr>\n",
       "    <tr>\n",
       "      <th>50</th>\n",
       "      <td>2023-09-15</td>\n",
       "      <td>173.929993</td>\n",
       "      <td>174.789993</td>\n",
       "      <td>176.080002</td>\n",
       "    </tr>\n",
       "  </tbody>\n",
       "</table>\n",
       "</div>"
      ],
      "text/plain": [
       "           ds          y0          y1          y2\n",
       "46 2023-09-11  179.360001  176.300003  174.210007\n",
       "47 2023-09-12  176.300003  174.210007  175.740005\n",
       "48 2023-09-13  174.210007  175.740005  175.009995\n",
       "49 2023-09-14  175.740005  175.009995  177.970001\n",
       "50 2023-09-15  173.929993  174.789993  176.080002"
      ]
     },
     "execution_count": 11,
     "metadata": {},
     "output_type": "execute_result"
    }
   ],
   "source": [
    "tscv.tail(5)"
   ]
  },
  {
   "cell_type": "markdown",
   "metadata": {},
   "source": [
    "## Testing run_experiment() with tscv functionality"
   ]
  },
  {
   "cell_type": "code",
   "execution_count": 1,
   "metadata": {},
   "outputs": [],
   "source": [
    "from modules.experiment.experiment import run_experiment\n",
    "from modules.data.tscv import create_tscv_dataset\n",
    "from modules.data.data_loader import get_simle_data"
   ]
  },
  {
   "cell_type": "code",
   "execution_count": 2,
   "metadata": {},
   "outputs": [
    {
     "name": "stdout",
     "output_type": "stream",
     "text": [
      "[*********************100%%**********************]  1 of 1 completed\n"
     ]
    }
   ],
   "source": [
    "data = get_simle_data()"
   ]
  },
  {
   "cell_type": "code",
   "execution_count": 3,
   "metadata": {},
   "outputs": [],
   "source": [
    "tscv_data = create_tscv_dataset(data=data, context_length=100, n_folds=4, prediction_horizon=3, max_folds=False)"
   ]
  },
  {
   "cell_type": "code",
   "execution_count": 4,
   "metadata": {},
   "outputs": [
    {
     "name": "stdout",
     "output_type": "stream",
     "text": [
      "y0 done  1\n",
      "------------\n",
      "y1 done  2\n",
      "------------\n",
      "y2 done  3\n",
      "------------\n",
      "y3 done  4\n",
      "------------\n"
     ]
    }
   ],
   "source": [
    "tscv_result, prediction = run_experiment(data=tscv_data, tscv=True)"
   ]
  },
  {
   "cell_type": "code",
   "execution_count": 5,
   "metadata": {},
   "outputs": [
    {
     "data": {
      "text/plain": [
       "{'r2': {'arima': 0.682973903010296, 'llama': -372.0972545117879},\n",
       " 'mse': {'arima': 0.1792706001964967, 'llama': 210.9774853966219},\n",
       " 'mae': {'arima': 0.3713687210222858, 'llama': 14.44460902996071},\n",
       " 'rmse': {'arima': 0.4234035902026537, 'llama': 14.525064041050625}}"
      ]
     },
     "execution_count": 5,
     "metadata": {},
     "output_type": "execute_result"
    }
   ],
   "source": [
    "tscv_result"
   ]
  },
  {
   "cell_type": "code",
   "execution_count": 6,
   "metadata": {},
   "outputs": [
    {
     "data": {
      "text/plain": [
       "{'arima': [189.69992071089578,\n",
       "  189.74544857416888,\n",
       "  190.52555933547032,\n",
       "  189.19343791716744],\n",
       " 'llama': [177.15544973811058,\n",
       "  175.38051008615636,\n",
       "  174.71364383660395,\n",
       "  174.96195045366127],\n",
       " 'true': [[189.3699951171875],\n",
       "  [189.9499969482422],\n",
       "  [191.24000549316406],\n",
       "  [189.42999267578125]]}"
      ]
     },
     "execution_count": 6,
     "metadata": {},
     "output_type": "execute_result"
    }
   ],
   "source": [
    "prediction"
   ]
  },
  {
   "cell_type": "code",
   "execution_count": 1,
   "metadata": {},
   "outputs": [],
   "source": [
    "from modules.data import data_loader, data_splitter"
   ]
  },
  {
   "cell_type": "code",
   "execution_count": 12,
   "metadata": {},
   "outputs": [
    {
     "data": {
      "text/html": [
       "<div>\n",
       "<style scoped>\n",
       "    .dataframe tbody tr th:only-of-type {\n",
       "        vertical-align: middle;\n",
       "    }\n",
       "\n",
       "    .dataframe tbody tr th {\n",
       "        vertical-align: top;\n",
       "    }\n",
       "\n",
       "    .dataframe thead th {\n",
       "        text-align: right;\n",
       "    }\n",
       "</style>\n",
       "<table border=\"1\" class=\"dataframe\">\n",
       "  <thead>\n",
       "    <tr style=\"text-align: right;\">\n",
       "      <th></th>\n",
       "      <th>ds</th>\n",
       "      <th>y0</th>\n",
       "      <th>y1</th>\n",
       "      <th>y2</th>\n",
       "    </tr>\n",
       "  </thead>\n",
       "  <tbody>\n",
       "    <tr>\n",
       "      <th>0</th>\n",
       "      <td>2023-07-06</td>\n",
       "      <td>191.809998</td>\n",
       "      <td>190.679993</td>\n",
       "      <td>188.610001</td>\n",
       "    </tr>\n",
       "    <tr>\n",
       "      <th>1</th>\n",
       "      <td>2023-07-07</td>\n",
       "      <td>190.679993</td>\n",
       "      <td>188.610001</td>\n",
       "      <td>188.080002</td>\n",
       "    </tr>\n",
       "    <tr>\n",
       "      <th>2</th>\n",
       "      <td>2023-07-10</td>\n",
       "      <td>188.610001</td>\n",
       "      <td>188.080002</td>\n",
       "      <td>189.770004</td>\n",
       "    </tr>\n",
       "    <tr>\n",
       "      <th>3</th>\n",
       "      <td>2023-07-11</td>\n",
       "      <td>188.080002</td>\n",
       "      <td>189.770004</td>\n",
       "      <td>190.539993</td>\n",
       "    </tr>\n",
       "    <tr>\n",
       "      <th>4</th>\n",
       "      <td>2023-07-12</td>\n",
       "      <td>189.770004</td>\n",
       "      <td>190.539993</td>\n",
       "      <td>190.690002</td>\n",
       "    </tr>\n",
       "    <tr>\n",
       "      <th>5</th>\n",
       "      <td>2023-07-13</td>\n",
       "      <td>190.539993</td>\n",
       "      <td>190.690002</td>\n",
       "      <td>193.990005</td>\n",
       "    </tr>\n",
       "    <tr>\n",
       "      <th>6</th>\n",
       "      <td>2023-07-14</td>\n",
       "      <td>190.690002</td>\n",
       "      <td>193.990005</td>\n",
       "      <td>193.729996</td>\n",
       "    </tr>\n",
       "    <tr>\n",
       "      <th>7</th>\n",
       "      <td>2023-07-17</td>\n",
       "      <td>193.990005</td>\n",
       "      <td>193.729996</td>\n",
       "      <td>195.100006</td>\n",
       "    </tr>\n",
       "    <tr>\n",
       "      <th>8</th>\n",
       "      <td>2023-07-18</td>\n",
       "      <td>193.729996</td>\n",
       "      <td>195.100006</td>\n",
       "      <td>193.130005</td>\n",
       "    </tr>\n",
       "    <tr>\n",
       "      <th>9</th>\n",
       "      <td>2023-07-19</td>\n",
       "      <td>195.100006</td>\n",
       "      <td>193.130005</td>\n",
       "      <td>191.940002</td>\n",
       "    </tr>\n",
       "    <tr>\n",
       "      <th>10</th>\n",
       "      <td>2023-07-20</td>\n",
       "      <td>193.130005</td>\n",
       "      <td>191.940002</td>\n",
       "      <td>192.750000</td>\n",
       "    </tr>\n",
       "    <tr>\n",
       "      <th>11</th>\n",
       "      <td>2023-07-21</td>\n",
       "      <td>191.940002</td>\n",
       "      <td>192.750000</td>\n",
       "      <td>193.619995</td>\n",
       "    </tr>\n",
       "    <tr>\n",
       "      <th>12</th>\n",
       "      <td>2023-07-24</td>\n",
       "      <td>192.750000</td>\n",
       "      <td>193.619995</td>\n",
       "      <td>194.500000</td>\n",
       "    </tr>\n",
       "    <tr>\n",
       "      <th>13</th>\n",
       "      <td>2023-07-25</td>\n",
       "      <td>193.619995</td>\n",
       "      <td>194.500000</td>\n",
       "      <td>193.220001</td>\n",
       "    </tr>\n",
       "    <tr>\n",
       "      <th>14</th>\n",
       "      <td>2023-07-26</td>\n",
       "      <td>194.500000</td>\n",
       "      <td>193.220001</td>\n",
       "      <td>195.830002</td>\n",
       "    </tr>\n",
       "    <tr>\n",
       "      <th>15</th>\n",
       "      <td>2023-07-27</td>\n",
       "      <td>193.220001</td>\n",
       "      <td>195.830002</td>\n",
       "      <td>196.449997</td>\n",
       "    </tr>\n",
       "    <tr>\n",
       "      <th>16</th>\n",
       "      <td>2023-07-28</td>\n",
       "      <td>195.830002</td>\n",
       "      <td>196.449997</td>\n",
       "      <td>195.610001</td>\n",
       "    </tr>\n",
       "    <tr>\n",
       "      <th>17</th>\n",
       "      <td>2023-07-31</td>\n",
       "      <td>196.449997</td>\n",
       "      <td>195.610001</td>\n",
       "      <td>192.580002</td>\n",
       "    </tr>\n",
       "    <tr>\n",
       "      <th>18</th>\n",
       "      <td>2023-08-01</td>\n",
       "      <td>195.610001</td>\n",
       "      <td>192.580002</td>\n",
       "      <td>191.169998</td>\n",
       "    </tr>\n",
       "    <tr>\n",
       "      <th>19</th>\n",
       "      <td>2023-08-02</td>\n",
       "      <td>192.580002</td>\n",
       "      <td>191.169998</td>\n",
       "      <td>181.990005</td>\n",
       "    </tr>\n",
       "    <tr>\n",
       "      <th>20</th>\n",
       "      <td>2023-08-03</td>\n",
       "      <td>191.169998</td>\n",
       "      <td>181.990005</td>\n",
       "      <td>178.850006</td>\n",
       "    </tr>\n",
       "    <tr>\n",
       "      <th>21</th>\n",
       "      <td>2023-08-04</td>\n",
       "      <td>181.990005</td>\n",
       "      <td>178.850006</td>\n",
       "      <td>179.800003</td>\n",
       "    </tr>\n",
       "    <tr>\n",
       "      <th>22</th>\n",
       "      <td>2023-08-07</td>\n",
       "      <td>178.850006</td>\n",
       "      <td>179.800003</td>\n",
       "      <td>178.190002</td>\n",
       "    </tr>\n",
       "    <tr>\n",
       "      <th>23</th>\n",
       "      <td>2023-08-08</td>\n",
       "      <td>179.800003</td>\n",
       "      <td>178.190002</td>\n",
       "      <td>177.970001</td>\n",
       "    </tr>\n",
       "    <tr>\n",
       "      <th>24</th>\n",
       "      <td>2023-08-09</td>\n",
       "      <td>178.190002</td>\n",
       "      <td>177.970001</td>\n",
       "      <td>177.789993</td>\n",
       "    </tr>\n",
       "    <tr>\n",
       "      <th>25</th>\n",
       "      <td>2023-08-10</td>\n",
       "      <td>177.970001</td>\n",
       "      <td>177.789993</td>\n",
       "      <td>179.460007</td>\n",
       "    </tr>\n",
       "    <tr>\n",
       "      <th>26</th>\n",
       "      <td>2023-08-11</td>\n",
       "      <td>177.789993</td>\n",
       "      <td>179.460007</td>\n",
       "      <td>177.449997</td>\n",
       "    </tr>\n",
       "    <tr>\n",
       "      <th>27</th>\n",
       "      <td>2023-08-14</td>\n",
       "      <td>179.460007</td>\n",
       "      <td>177.449997</td>\n",
       "      <td>176.570007</td>\n",
       "    </tr>\n",
       "    <tr>\n",
       "      <th>28</th>\n",
       "      <td>2023-08-15</td>\n",
       "      <td>177.449997</td>\n",
       "      <td>176.570007</td>\n",
       "      <td>174.000000</td>\n",
       "    </tr>\n",
       "    <tr>\n",
       "      <th>29</th>\n",
       "      <td>2023-08-16</td>\n",
       "      <td>176.570007</td>\n",
       "      <td>174.000000</td>\n",
       "      <td>174.490005</td>\n",
       "    </tr>\n",
       "    <tr>\n",
       "      <th>30</th>\n",
       "      <td>2023-08-17</td>\n",
       "      <td>174.000000</td>\n",
       "      <td>174.490005</td>\n",
       "      <td>175.839996</td>\n",
       "    </tr>\n",
       "    <tr>\n",
       "      <th>31</th>\n",
       "      <td>2023-08-18</td>\n",
       "      <td>174.490005</td>\n",
       "      <td>175.839996</td>\n",
       "      <td>177.229996</td>\n",
       "    </tr>\n",
       "    <tr>\n",
       "      <th>32</th>\n",
       "      <td>2023-08-21</td>\n",
       "      <td>175.839996</td>\n",
       "      <td>177.229996</td>\n",
       "      <td>181.119995</td>\n",
       "    </tr>\n",
       "    <tr>\n",
       "      <th>33</th>\n",
       "      <td>2023-08-22</td>\n",
       "      <td>177.229996</td>\n",
       "      <td>181.119995</td>\n",
       "      <td>176.380005</td>\n",
       "    </tr>\n",
       "    <tr>\n",
       "      <th>34</th>\n",
       "      <td>2023-08-23</td>\n",
       "      <td>181.119995</td>\n",
       "      <td>176.380005</td>\n",
       "      <td>178.610001</td>\n",
       "    </tr>\n",
       "    <tr>\n",
       "      <th>35</th>\n",
       "      <td>2023-08-24</td>\n",
       "      <td>176.380005</td>\n",
       "      <td>178.610001</td>\n",
       "      <td>180.190002</td>\n",
       "    </tr>\n",
       "    <tr>\n",
       "      <th>36</th>\n",
       "      <td>2023-08-25</td>\n",
       "      <td>178.610001</td>\n",
       "      <td>180.190002</td>\n",
       "      <td>184.119995</td>\n",
       "    </tr>\n",
       "    <tr>\n",
       "      <th>37</th>\n",
       "      <td>2023-08-28</td>\n",
       "      <td>180.190002</td>\n",
       "      <td>184.119995</td>\n",
       "      <td>187.649994</td>\n",
       "    </tr>\n",
       "    <tr>\n",
       "      <th>38</th>\n",
       "      <td>2023-08-29</td>\n",
       "      <td>184.119995</td>\n",
       "      <td>187.649994</td>\n",
       "      <td>187.869995</td>\n",
       "    </tr>\n",
       "    <tr>\n",
       "      <th>39</th>\n",
       "      <td>2023-08-30</td>\n",
       "      <td>187.649994</td>\n",
       "      <td>187.869995</td>\n",
       "      <td>189.460007</td>\n",
       "    </tr>\n",
       "    <tr>\n",
       "      <th>40</th>\n",
       "      <td>2023-08-31</td>\n",
       "      <td>187.869995</td>\n",
       "      <td>189.460007</td>\n",
       "      <td>189.699997</td>\n",
       "    </tr>\n",
       "    <tr>\n",
       "      <th>41</th>\n",
       "      <td>2023-09-01</td>\n",
       "      <td>189.460007</td>\n",
       "      <td>189.699997</td>\n",
       "      <td>182.910004</td>\n",
       "    </tr>\n",
       "    <tr>\n",
       "      <th>42</th>\n",
       "      <td>2023-09-05</td>\n",
       "      <td>189.699997</td>\n",
       "      <td>182.910004</td>\n",
       "      <td>177.559998</td>\n",
       "    </tr>\n",
       "    <tr>\n",
       "      <th>43</th>\n",
       "      <td>2023-09-06</td>\n",
       "      <td>182.910004</td>\n",
       "      <td>177.559998</td>\n",
       "      <td>178.179993</td>\n",
       "    </tr>\n",
       "    <tr>\n",
       "      <th>44</th>\n",
       "      <td>2023-09-07</td>\n",
       "      <td>177.559998</td>\n",
       "      <td>178.179993</td>\n",
       "      <td>179.360001</td>\n",
       "    </tr>\n",
       "    <tr>\n",
       "      <th>45</th>\n",
       "      <td>2023-09-08</td>\n",
       "      <td>178.179993</td>\n",
       "      <td>179.360001</td>\n",
       "      <td>176.300003</td>\n",
       "    </tr>\n",
       "    <tr>\n",
       "      <th>46</th>\n",
       "      <td>2023-09-11</td>\n",
       "      <td>179.360001</td>\n",
       "      <td>176.300003</td>\n",
       "      <td>174.210007</td>\n",
       "    </tr>\n",
       "    <tr>\n",
       "      <th>47</th>\n",
       "      <td>2023-09-12</td>\n",
       "      <td>176.300003</td>\n",
       "      <td>174.210007</td>\n",
       "      <td>175.740005</td>\n",
       "    </tr>\n",
       "    <tr>\n",
       "      <th>48</th>\n",
       "      <td>2023-09-13</td>\n",
       "      <td>174.210007</td>\n",
       "      <td>175.740005</td>\n",
       "      <td>175.009995</td>\n",
       "    </tr>\n",
       "    <tr>\n",
       "      <th>49</th>\n",
       "      <td>2023-09-14</td>\n",
       "      <td>175.740005</td>\n",
       "      <td>175.009995</td>\n",
       "      <td>177.970001</td>\n",
       "    </tr>\n",
       "    <tr>\n",
       "      <th>50</th>\n",
       "      <td>2023-09-15</td>\n",
       "      <td>173.929993</td>\n",
       "      <td>174.789993</td>\n",
       "      <td>176.080002</td>\n",
       "    </tr>\n",
       "  </tbody>\n",
       "</table>\n",
       "</div>"
      ],
      "text/plain": [
       "           ds          y0          y1          y2\n",
       "0  2023-07-06  191.809998  190.679993  188.610001\n",
       "1  2023-07-07  190.679993  188.610001  188.080002\n",
       "2  2023-07-10  188.610001  188.080002  189.770004\n",
       "3  2023-07-11  188.080002  189.770004  190.539993\n",
       "4  2023-07-12  189.770004  190.539993  190.690002\n",
       "5  2023-07-13  190.539993  190.690002  193.990005\n",
       "6  2023-07-14  190.690002  193.990005  193.729996\n",
       "7  2023-07-17  193.990005  193.729996  195.100006\n",
       "8  2023-07-18  193.729996  195.100006  193.130005\n",
       "9  2023-07-19  195.100006  193.130005  191.940002\n",
       "10 2023-07-20  193.130005  191.940002  192.750000\n",
       "11 2023-07-21  191.940002  192.750000  193.619995\n",
       "12 2023-07-24  192.750000  193.619995  194.500000\n",
       "13 2023-07-25  193.619995  194.500000  193.220001\n",
       "14 2023-07-26  194.500000  193.220001  195.830002\n",
       "15 2023-07-27  193.220001  195.830002  196.449997\n",
       "16 2023-07-28  195.830002  196.449997  195.610001\n",
       "17 2023-07-31  196.449997  195.610001  192.580002\n",
       "18 2023-08-01  195.610001  192.580002  191.169998\n",
       "19 2023-08-02  192.580002  191.169998  181.990005\n",
       "20 2023-08-03  191.169998  181.990005  178.850006\n",
       "21 2023-08-04  181.990005  178.850006  179.800003\n",
       "22 2023-08-07  178.850006  179.800003  178.190002\n",
       "23 2023-08-08  179.800003  178.190002  177.970001\n",
       "24 2023-08-09  178.190002  177.970001  177.789993\n",
       "25 2023-08-10  177.970001  177.789993  179.460007\n",
       "26 2023-08-11  177.789993  179.460007  177.449997\n",
       "27 2023-08-14  179.460007  177.449997  176.570007\n",
       "28 2023-08-15  177.449997  176.570007  174.000000\n",
       "29 2023-08-16  176.570007  174.000000  174.490005\n",
       "30 2023-08-17  174.000000  174.490005  175.839996\n",
       "31 2023-08-18  174.490005  175.839996  177.229996\n",
       "32 2023-08-21  175.839996  177.229996  181.119995\n",
       "33 2023-08-22  177.229996  181.119995  176.380005\n",
       "34 2023-08-23  181.119995  176.380005  178.610001\n",
       "35 2023-08-24  176.380005  178.610001  180.190002\n",
       "36 2023-08-25  178.610001  180.190002  184.119995\n",
       "37 2023-08-28  180.190002  184.119995  187.649994\n",
       "38 2023-08-29  184.119995  187.649994  187.869995\n",
       "39 2023-08-30  187.649994  187.869995  189.460007\n",
       "40 2023-08-31  187.869995  189.460007  189.699997\n",
       "41 2023-09-01  189.460007  189.699997  182.910004\n",
       "42 2023-09-05  189.699997  182.910004  177.559998\n",
       "43 2023-09-06  182.910004  177.559998  178.179993\n",
       "44 2023-09-07  177.559998  178.179993  179.360001\n",
       "45 2023-09-08  178.179993  179.360001  176.300003\n",
       "46 2023-09-11  179.360001  176.300003  174.210007\n",
       "47 2023-09-12  176.300003  174.210007  175.740005\n",
       "48 2023-09-13  174.210007  175.740005  175.009995\n",
       "49 2023-09-14  175.740005  175.009995  177.970001\n",
       "50 2023-09-15  173.929993  174.789993  176.080002"
      ]
     },
     "execution_count": 12,
     "metadata": {},
     "output_type": "execute_result"
    }
   ],
   "source": [
    "tscv = create_tscv_dataset(data=a, context_length=50, n_folds=10, prediction_horizon=2, max_folds=False)"
   ]
  },
  {
   "cell_type": "code",
   "execution_count": 12,
   "metadata": {},
   "outputs": [],
   "source": [
    "price_index = data_loader.get_inflation_data(\"GB\", 2000, 2023)"
   ]
  },
  {
   "cell_type": "code",
   "execution_count": 15,
   "metadata": {},
   "outputs": [],
   "source": [
    "import os"
   ]
  },
  {
   "cell_type": "code",
   "execution_count": 16,
   "metadata": {},
   "outputs": [
    {
     "ename": "KeyError",
     "evalue": "'observations'",
     "output_type": "error",
     "traceback": [
      "\u001b[1;31m---------------------------------------------------------------------------\u001b[0m",
      "\u001b[1;31mKeyError\u001b[0m                                  Traceback (most recent call last)",
      "Cell \u001b[1;32mIn[16], line 5\u001b[0m\n\u001b[0;32m      3\u001b[0m end_date \u001b[38;5;241m=\u001b[39m \u001b[38;5;124m\"\u001b[39m\u001b[38;5;124m2020-12-31\u001b[39m\u001b[38;5;124m\"\u001b[39m\n\u001b[0;32m      4\u001b[0m series_id \u001b[38;5;241m=\u001b[39m \u001b[38;5;124m\"\u001b[39m\u001b[38;5;124mFEDFUNDS\u001b[39m\u001b[38;5;124m\"\u001b[39m\n\u001b[1;32m----> 5\u001b[0m interest_rate_data \u001b[38;5;241m=\u001b[39m \u001b[43mdata_loader\u001b[49m\u001b[38;5;241;43m.\u001b[39;49m\u001b[43mget_interest_rate_data\u001b[49m\u001b[43m(\u001b[49m\u001b[43mseries_id\u001b[49m\u001b[43m,\u001b[49m\u001b[43m \u001b[49m\u001b[43mstart_date\u001b[49m\u001b[43m,\u001b[49m\u001b[43m \u001b[49m\u001b[43mend_date\u001b[49m\u001b[43m,\u001b[49m\u001b[43m \u001b[49m\u001b[43mfred_api_key\u001b[49m\u001b[43m)\u001b[49m\n",
      "File \u001b[1;32mc:\\Users\\topco\\Dokumenti\\MSc Banking and Digital Finance UCL\\Modules\\Dissertation\\MSc_dissertation\\modules\\data\\data_loader.py:21\u001b[0m, in \u001b[0;36mget_interest_rate_data\u001b[1;34m(series_id, start, end, api_key)\u001b[0m\n\u001b[0;32m     19\u001b[0m response \u001b[38;5;241m=\u001b[39m requests\u001b[38;5;241m.\u001b[39mget(url)\n\u001b[0;32m     20\u001b[0m data \u001b[38;5;241m=\u001b[39m response\u001b[38;5;241m.\u001b[39mjson()\n\u001b[1;32m---> 21\u001b[0m interest_rate_data \u001b[38;5;241m=\u001b[39m pd\u001b[38;5;241m.\u001b[39mjson_normalize(\u001b[43mdata\u001b[49m\u001b[43m[\u001b[49m\u001b[38;5;124;43m'\u001b[39;49m\u001b[38;5;124;43mobservations\u001b[39;49m\u001b[38;5;124;43m'\u001b[39;49m\u001b[43m]\u001b[49m)\n\u001b[0;32m     22\u001b[0m \u001b[38;5;28;01mreturn\u001b[39;00m interest_rate_data[[\u001b[38;5;124m'\u001b[39m\u001b[38;5;124mdate\u001b[39m\u001b[38;5;124m'\u001b[39m, \u001b[38;5;124m'\u001b[39m\u001b[38;5;124mvalue\u001b[39m\u001b[38;5;124m'\u001b[39m]]\u001b[38;5;241m.\u001b[39mrename(columns\u001b[38;5;241m=\u001b[39m{\u001b[38;5;124m'\u001b[39m\u001b[38;5;124mdate\u001b[39m\u001b[38;5;124m'\u001b[39m: \u001b[38;5;124m'\u001b[39m\u001b[38;5;124mDate\u001b[39m\u001b[38;5;124m'\u001b[39m, \u001b[38;5;124m'\u001b[39m\u001b[38;5;124mvalue\u001b[39m\u001b[38;5;124m'\u001b[39m: \u001b[38;5;124m'\u001b[39m\u001b[38;5;124mInterest Rate\u001b[39m\u001b[38;5;124m'\u001b[39m})\n",
      "\u001b[1;31mKeyError\u001b[0m: 'observations'"
     ]
    }
   ],
   "source": [
    "fred_api_key = os.getenv(\"fred_api_key\")\n",
    "start_date = \"2000-01-01\"\n",
    "end_date = \"2020-12-31\"\n",
    "series_id = \"FEDFUNDS\"\n",
    "interest_rate_data = data_loader.get_interest_rate_data(series_id, start_date, end_date, fred_api_key)"
   ]
  },
  {
   "cell_type": "markdown",
   "metadata": {},
   "source": [
    "## Loading data "
   ]
  },
  {
   "cell_type": "code",
   "execution_count": 2,
   "metadata": {},
   "outputs": [
    {
     "name": "stdout",
     "output_type": "stream",
     "text": [
      "[*********************100%%**********************]  1 of 1 completed\n"
     ]
    }
   ],
   "source": [
    "a = data_loader.get_simle_data()\n",
    "tr, te = data_splitter.split_data(a, 10)"
   ]
  },
  {
   "cell_type": "markdown",
   "metadata": {},
   "source": [
    "## Imports"
   ]
  },
  {
   "cell_type": "code",
   "execution_count": 14,
   "metadata": {},
   "outputs": [],
   "source": [
    "from modules.models.lag_llama import get_lam_llama_forecast"
   ]
  },
  {
   "cell_type": "code",
   "execution_count": 15,
   "metadata": {},
   "outputs": [],
   "source": [
    "from modules.models.arima import get_autoarima"
   ]
  },
  {
   "cell_type": "code",
   "execution_count": 16,
   "metadata": {},
   "outputs": [],
   "source": [
    "def get_inflation_data(country_code: str, start_year: int, end_year: int):\n",
    "    url = f\"http://api.worldbank.org/v2/country/{country_code}/indicator/FP.CPI.TOTL?date={start_year}:{end_year}&format=json\"\n",
    "    response = requests.get(url)\n",
    "    data = response.json()\n",
    "    inflation_data = pd.json_normalize(data[1])\n",
    "    return inflation_data[['date', 'value']].rename(columns={'date': 'Year', 'value': 'Inflation'})"
   ]
  },
  {
   "cell_type": "code",
   "execution_count": 17,
   "metadata": {},
   "outputs": [
    {
     "data": {
      "text/plain": [
       "0     118.690502\n",
       "1     117.244195\n",
       "2     115.157303\n",
       "3     112.411557\n",
       "4     110.067009\n",
       "5     108.695722\n",
       "6     108.566932\n",
       "7     106.833849\n",
       "8     105.291505\n",
       "9     103.156842\n",
       "10    100.000000\n",
       "11     98.386420\n",
       "12     98.737477\n",
       "13     95.086992\n",
       "14     92.449705\n",
       "15     89.560532\n",
       "16     86.621678\n",
       "17     84.363079\n",
       "18     82.490467\n",
       "19     81.202568\n",
       "20     78.970721\n",
       "Name: Inflation, dtype: float64"
      ]
     },
     "execution_count": 17,
     "metadata": {},
     "output_type": "execute_result"
    }
   ],
   "source": [
    "inflation_data = get_inflation_data('USA', 2000, 2020)\n",
    "inflation_data[\"Inflation\"]"
   ]
  }
 ],
 "metadata": {
  "kernelspec": {
   "display_name": "Python 3",
   "language": "python",
   "name": "python3"
  },
  "language_info": {
   "codemirror_mode": {
    "name": "ipython",
    "version": 3
   },
   "file_extension": ".py",
   "mimetype": "text/x-python",
   "name": "python",
   "nbconvert_exporter": "python",
   "pygments_lexer": "ipython3",
   "version": "3.11.1"
  }
 },
 "nbformat": 4,
 "nbformat_minor": 2
}
