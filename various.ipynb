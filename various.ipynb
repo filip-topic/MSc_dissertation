{
 "cells": [
  {
   "cell_type": "markdown",
   "metadata": {},
   "source": [
    "# inflation data experiments"
   ]
  },
  {
   "cell_type": "code",
   "execution_count": 7,
   "metadata": {},
   "outputs": [],
   "source": [
    "import yfinance as yf\n",
    "import requests\n",
    "import pandas as pd\n",
    "import os\n",
    "from datetime import datetime, timedelta"
   ]
  },
  {
   "cell_type": "code",
   "execution_count": 8,
   "metadata": {},
   "outputs": [
    {
     "data": {
      "text/plain": [
       "'c:\\\\Users\\\\topco\\\\Dokumenti\\\\MSc Banking and Digital Finance UCL\\\\Modules\\\\Dissertation\\\\MSc_dissertation\\\\llama'"
      ]
     },
     "execution_count": 8,
     "metadata": {},
     "output_type": "execute_result"
    }
   ],
   "source": [
    "os.getcwd() + \"\\\\llama\""
   ]
  },
  {
   "cell_type": "code",
   "execution_count": 1,
   "metadata": {},
   "outputs": [],
   "source": [
    "from modules.data import data_loader, data_splitter"
   ]
  },
  {
   "cell_type": "code",
   "execution_count": 2,
   "metadata": {},
   "outputs": [
    {
     "name": "stdout",
     "output_type": "stream",
     "text": [
      "[*********************100%%**********************]  1 of 1 completed\n"
     ]
    }
   ],
   "source": [
    "a = data_loader.get_simle_data()\n",
    "tr, te = data_splitter.split_data(a, 10)"
   ]
  },
  {
   "cell_type": "code",
   "execution_count": 4,
   "metadata": {},
   "outputs": [
    {
     "data": {
      "text/html": [
       "<div>\n",
       "<style scoped>\n",
       "    .dataframe tbody tr th:only-of-type {\n",
       "        vertical-align: middle;\n",
       "    }\n",
       "\n",
       "    .dataframe tbody tr th {\n",
       "        vertical-align: top;\n",
       "    }\n",
       "\n",
       "    .dataframe thead th {\n",
       "        text-align: right;\n",
       "    }\n",
       "</style>\n",
       "<table border=\"1\" class=\"dataframe\">\n",
       "  <thead>\n",
       "    <tr style=\"text-align: right;\">\n",
       "      <th></th>\n",
       "      <th>ds</th>\n",
       "      <th>y</th>\n",
       "    </tr>\n",
       "  </thead>\n",
       "  <tbody>\n",
       "    <tr>\n",
       "      <th>241</th>\n",
       "      <td>2024-06-11</td>\n",
       "      <td>207.149994</td>\n",
       "    </tr>\n",
       "    <tr>\n",
       "      <th>242</th>\n",
       "      <td>2024-06-12</td>\n",
       "      <td>213.070007</td>\n",
       "    </tr>\n",
       "    <tr>\n",
       "      <th>243</th>\n",
       "      <td>2024-06-13</td>\n",
       "      <td>214.240005</td>\n",
       "    </tr>\n",
       "    <tr>\n",
       "      <th>244</th>\n",
       "      <td>2024-06-14</td>\n",
       "      <td>212.490005</td>\n",
       "    </tr>\n",
       "    <tr>\n",
       "      <th>245</th>\n",
       "      <td>2024-06-17</td>\n",
       "      <td>216.669998</td>\n",
       "    </tr>\n",
       "    <tr>\n",
       "      <th>246</th>\n",
       "      <td>2024-06-18</td>\n",
       "      <td>214.289993</td>\n",
       "    </tr>\n",
       "    <tr>\n",
       "      <th>247</th>\n",
       "      <td>2024-06-20</td>\n",
       "      <td>209.679993</td>\n",
       "    </tr>\n",
       "    <tr>\n",
       "      <th>248</th>\n",
       "      <td>2024-06-21</td>\n",
       "      <td>207.490005</td>\n",
       "    </tr>\n",
       "    <tr>\n",
       "      <th>249</th>\n",
       "      <td>2024-06-24</td>\n",
       "      <td>208.139999</td>\n",
       "    </tr>\n",
       "    <tr>\n",
       "      <th>250</th>\n",
       "      <td>2024-06-25</td>\n",
       "      <td>209.070007</td>\n",
       "    </tr>\n",
       "  </tbody>\n",
       "</table>\n",
       "</div>"
      ],
      "text/plain": [
       "            ds           y\n",
       "241 2024-06-11  207.149994\n",
       "242 2024-06-12  213.070007\n",
       "243 2024-06-13  214.240005\n",
       "244 2024-06-14  212.490005\n",
       "245 2024-06-17  216.669998\n",
       "246 2024-06-18  214.289993\n",
       "247 2024-06-20  209.679993\n",
       "248 2024-06-21  207.490005\n",
       "249 2024-06-24  208.139999\n",
       "250 2024-06-25  209.070007"
      ]
     },
     "execution_count": 4,
     "metadata": {},
     "output_type": "execute_result"
    }
   ],
   "source": [
    "te"
   ]
  },
  {
   "cell_type": "code",
   "execution_count": 14,
   "metadata": {},
   "outputs": [],
   "source": [
    "from modules.models.lag_llama import get_lam_llama_forecast"
   ]
  },
  {
   "cell_type": "code",
   "execution_count": 15,
   "metadata": {},
   "outputs": [],
   "source": [
    "from modules.models.arima import get_autoarima"
   ]
  },
  {
   "cell_type": "code",
   "execution_count": 16,
   "metadata": {},
   "outputs": [],
   "source": [
    "def get_inflation_data(country_code: str, start_year: int, end_year: int):\n",
    "    url = f\"http://api.worldbank.org/v2/country/{country_code}/indicator/FP.CPI.TOTL?date={start_year}:{end_year}&format=json\"\n",
    "    response = requests.get(url)\n",
    "    data = response.json()\n",
    "    inflation_data = pd.json_normalize(data[1])\n",
    "    return inflation_data[['date', 'value']].rename(columns={'date': 'Year', 'value': 'Inflation'})"
   ]
  },
  {
   "cell_type": "code",
   "execution_count": 17,
   "metadata": {},
   "outputs": [
    {
     "data": {
      "text/plain": [
       "0     118.690502\n",
       "1     117.244195\n",
       "2     115.157303\n",
       "3     112.411557\n",
       "4     110.067009\n",
       "5     108.695722\n",
       "6     108.566932\n",
       "7     106.833849\n",
       "8     105.291505\n",
       "9     103.156842\n",
       "10    100.000000\n",
       "11     98.386420\n",
       "12     98.737477\n",
       "13     95.086992\n",
       "14     92.449705\n",
       "15     89.560532\n",
       "16     86.621678\n",
       "17     84.363079\n",
       "18     82.490467\n",
       "19     81.202568\n",
       "20     78.970721\n",
       "Name: Inflation, dtype: float64"
      ]
     },
     "execution_count": 17,
     "metadata": {},
     "output_type": "execute_result"
    }
   ],
   "source": [
    "inflation_data = get_inflation_data('USA', 2000, 2020)\n",
    "inflation_data[\"Inflation\"]"
   ]
  }
 ],
 "metadata": {
  "kernelspec": {
   "display_name": "Python 3",
   "language": "python",
   "name": "python3"
  },
  "language_info": {
   "codemirror_mode": {
    "name": "ipython",
    "version": 3
   },
   "file_extension": ".py",
   "mimetype": "text/x-python",
   "name": "python",
   "nbconvert_exporter": "python",
   "pygments_lexer": "ipython3",
   "version": "3.11.1"
  }
 },
 "nbformat": 4,
 "nbformat_minor": 2
}
