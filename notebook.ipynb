{
 "cells": [
  {
   "cell_type": "markdown",
   "metadata": {},
   "source": [
    "# Imports"
   ]
  },
  {
   "cell_type": "code",
   "execution_count": null,
   "metadata": {},
   "outputs": [],
   "source": [
    "from modules.data import  data_reader, data_loader\n",
    "from modules.sr import result_saver\n",
    "from modules.models import lag_llama\n",
    "from modules.experiment.tscv import get_tscv_results, get_summary, extract_metrics\n",
    "from modules.visualization import graphs\n",
    "from modules.fine_tuning import lag_llama_ft\n",
    "from modules.models import prpht\n"
   ]
  },
  {
   "cell_type": "markdown",
   "metadata": {},
   "source": [
    "# Notes"
   ]
  },
  {
   "cell_type": "markdown",
   "metadata": {},
   "source": [
    "Earliest monthly data for S&P500 is 1985\n",
    "FTSE 100 also 1985\n",
    "NASDAQ also 1985\n"
   ]
  },
  {
   "cell_type": "code",
   "execution_count": 13,
   "metadata": {},
   "outputs": [
    {
     "name": "stderr",
     "output_type": "stream",
     "text": [
      "c:\\Users\\topco\\Dokumenti\\MSc Banking and Digital Finance UCL\\Modules\\Dissertation\\MSc_dissertation\\modules\\data\\data_loader.py:123: FutureWarning: Series.fillna with 'method' is deprecated and will raise in a future version. Use obj.ffill() or obj.bfill() instead.\n",
      "  df['y'] = df['y'].fillna(method='bfill') # imputing the missing values\n"
     ]
    }
   ],
   "source": [
    "from modules.data import data_loader\n",
    "\n",
    "a = data_loader.get_data(type = \"commodity\",ticker=\"WTI\", frequency = \"weekly\", rtrn = False)"
   ]
  },
  {
   "cell_type": "code",
   "execution_count": 14,
   "metadata": {},
   "outputs": [
    {
     "data": {
      "text/html": [
       "<div>\n",
       "<style scoped>\n",
       "    .dataframe tbody tr th:only-of-type {\n",
       "        vertical-align: middle;\n",
       "    }\n",
       "\n",
       "    .dataframe tbody tr th {\n",
       "        vertical-align: top;\n",
       "    }\n",
       "\n",
       "    .dataframe thead th {\n",
       "        text-align: right;\n",
       "    }\n",
       "</style>\n",
       "<table border=\"1\" class=\"dataframe\">\n",
       "  <thead>\n",
       "    <tr style=\"text-align: right;\">\n",
       "      <th></th>\n",
       "      <th>ds</th>\n",
       "      <th>y</th>\n",
       "    </tr>\n",
       "  </thead>\n",
       "  <tbody>\n",
       "    <tr>\n",
       "      <th>0</th>\n",
       "      <td>2024-08-16</td>\n",
       "      <td>79.49</td>\n",
       "    </tr>\n",
       "    <tr>\n",
       "      <th>1</th>\n",
       "      <td>2024-08-09</td>\n",
       "      <td>76.33</td>\n",
       "    </tr>\n",
       "    <tr>\n",
       "      <th>2</th>\n",
       "      <td>2024-08-02</td>\n",
       "      <td>77.11</td>\n",
       "    </tr>\n",
       "    <tr>\n",
       "      <th>3</th>\n",
       "      <td>2024-07-26</td>\n",
       "      <td>79.26</td>\n",
       "    </tr>\n",
       "    <tr>\n",
       "      <th>4</th>\n",
       "      <td>2024-07-19</td>\n",
       "      <td>82.98</td>\n",
       "    </tr>\n",
       "    <tr>\n",
       "      <th>...</th>\n",
       "      <td>...</td>\n",
       "      <td>...</td>\n",
       "    </tr>\n",
       "    <tr>\n",
       "      <th>2011</th>\n",
       "      <td>1986-01-31</td>\n",
       "      <td>19.69</td>\n",
       "    </tr>\n",
       "    <tr>\n",
       "      <th>2012</th>\n",
       "      <td>1986-01-24</td>\n",
       "      <td>20.31</td>\n",
       "    </tr>\n",
       "    <tr>\n",
       "      <th>2013</th>\n",
       "      <td>1986-01-17</td>\n",
       "      <td>24.57</td>\n",
       "    </tr>\n",
       "    <tr>\n",
       "      <th>2014</th>\n",
       "      <td>1986-01-10</td>\n",
       "      <td>25.99</td>\n",
       "    </tr>\n",
       "    <tr>\n",
       "      <th>2015</th>\n",
       "      <td>1986-01-03</td>\n",
       "      <td>25.78</td>\n",
       "    </tr>\n",
       "  </tbody>\n",
       "</table>\n",
       "<p>2016 rows × 2 columns</p>\n",
       "</div>"
      ],
      "text/plain": [
       "             ds      y\n",
       "0    2024-08-16  79.49\n",
       "1    2024-08-09  76.33\n",
       "2    2024-08-02  77.11\n",
       "3    2024-07-26  79.26\n",
       "4    2024-07-19  82.98\n",
       "...         ...    ...\n",
       "2011 1986-01-31  19.69\n",
       "2012 1986-01-24  20.31\n",
       "2013 1986-01-17  24.57\n",
       "2014 1986-01-10  25.99\n",
       "2015 1986-01-03  25.78\n",
       "\n",
       "[2016 rows x 2 columns]"
      ]
     },
     "execution_count": 14,
     "metadata": {},
     "output_type": "execute_result"
    }
   ],
   "source": [
    "a"
   ]
  },
  {
   "cell_type": "code",
   "execution_count": 5,
   "metadata": {},
   "outputs": [
    {
     "name": "stdout",
     "output_type": "stream",
     "text": [
      "[*********************100%%**********************]  1 of 1 completed\n"
     ]
    }
   ],
   "source": [
    "from modules.data import data_loader\n",
    "\n",
    "a = data_loader.get_data(type = \"index\",ticker=\"NASDAQ\", frequency = \"daily\", start = \"2022-01-01\", end = \"2024-01-01\", rtrn = True)"
   ]
  },
  {
   "cell_type": "code",
   "execution_count": 6,
   "metadata": {},
   "outputs": [
    {
     "data": {
      "text/html": [
       "<div>\n",
       "<style scoped>\n",
       "    .dataframe tbody tr th:only-of-type {\n",
       "        vertical-align: middle;\n",
       "    }\n",
       "\n",
       "    .dataframe tbody tr th {\n",
       "        vertical-align: top;\n",
       "    }\n",
       "\n",
       "    .dataframe thead th {\n",
       "        text-align: right;\n",
       "    }\n",
       "</style>\n",
       "<table border=\"1\" class=\"dataframe\">\n",
       "  <thead>\n",
       "    <tr style=\"text-align: right;\">\n",
       "      <th></th>\n",
       "      <th>ds</th>\n",
       "      <th>y</th>\n",
       "    </tr>\n",
       "  </thead>\n",
       "  <tbody>\n",
       "    <tr>\n",
       "      <th>1</th>\n",
       "      <td>2022-01-04</td>\n",
       "      <td>-0.013269</td>\n",
       "    </tr>\n",
       "    <tr>\n",
       "      <th>2</th>\n",
       "      <td>2022-01-05</td>\n",
       "      <td>-0.033448</td>\n",
       "    </tr>\n",
       "    <tr>\n",
       "      <th>3</th>\n",
       "      <td>2022-01-06</td>\n",
       "      <td>-0.001279</td>\n",
       "    </tr>\n",
       "    <tr>\n",
       "      <th>4</th>\n",
       "      <td>2022-01-07</td>\n",
       "      <td>-0.009612</td>\n",
       "    </tr>\n",
       "    <tr>\n",
       "      <th>5</th>\n",
       "      <td>2022-01-10</td>\n",
       "      <td>0.000464</td>\n",
       "    </tr>\n",
       "    <tr>\n",
       "      <th>...</th>\n",
       "      <td>...</td>\n",
       "      <td>...</td>\n",
       "    </tr>\n",
       "    <tr>\n",
       "      <th>496</th>\n",
       "      <td>2023-12-22</td>\n",
       "      <td>0.001945</td>\n",
       "    </tr>\n",
       "    <tr>\n",
       "      <th>497</th>\n",
       "      <td>2023-12-26</td>\n",
       "      <td>0.005443</td>\n",
       "    </tr>\n",
       "    <tr>\n",
       "      <th>498</th>\n",
       "      <td>2023-12-27</td>\n",
       "      <td>0.001633</td>\n",
       "    </tr>\n",
       "    <tr>\n",
       "      <th>499</th>\n",
       "      <td>2023-12-28</td>\n",
       "      <td>-0.000268</td>\n",
       "    </tr>\n",
       "    <tr>\n",
       "      <th>500</th>\n",
       "      <td>2023-12-29</td>\n",
       "      <td>-0.005551</td>\n",
       "    </tr>\n",
       "  </tbody>\n",
       "</table>\n",
       "<p>500 rows × 2 columns</p>\n",
       "</div>"
      ],
      "text/plain": [
       "            ds         y\n",
       "1   2022-01-04 -0.013269\n",
       "2   2022-01-05 -0.033448\n",
       "3   2022-01-06 -0.001279\n",
       "4   2022-01-07 -0.009612\n",
       "5   2022-01-10  0.000464\n",
       "..         ...       ...\n",
       "496 2023-12-22  0.001945\n",
       "497 2023-12-26  0.005443\n",
       "498 2023-12-27  0.001633\n",
       "499 2023-12-28 -0.000268\n",
       "500 2023-12-29 -0.005551\n",
       "\n",
       "[500 rows x 2 columns]"
      ]
     },
     "execution_count": 6,
     "metadata": {},
     "output_type": "execute_result"
    }
   ],
   "source": [
    "a"
   ]
  },
  {
   "cell_type": "code",
   "execution_count": 12,
   "metadata": {},
   "outputs": [
    {
     "name": "stdout",
     "output_type": "stream",
     "text": [
      "[*********************100%%**********************]  1 of 1 completed\n"
     ]
    }
   ],
   "source": [
    "b = data_loader.get_data(type = \"index\",ticker=\"S&P 500\", frequency = \"daily\", start = \"2022-01-01\", end = \"2024-01-01\", rtrn = False)"
   ]
  },
  {
   "cell_type": "code",
   "execution_count": 13,
   "metadata": {},
   "outputs": [
    {
     "data": {
      "text/html": [
       "<div>\n",
       "<style scoped>\n",
       "    .dataframe tbody tr th:only-of-type {\n",
       "        vertical-align: middle;\n",
       "    }\n",
       "\n",
       "    .dataframe tbody tr th {\n",
       "        vertical-align: top;\n",
       "    }\n",
       "\n",
       "    .dataframe thead th {\n",
       "        text-align: right;\n",
       "    }\n",
       "</style>\n",
       "<table border=\"1\" class=\"dataframe\">\n",
       "  <thead>\n",
       "    <tr style=\"text-align: right;\">\n",
       "      <th></th>\n",
       "      <th>ds</th>\n",
       "      <th>y</th>\n",
       "    </tr>\n",
       "  </thead>\n",
       "  <tbody>\n",
       "    <tr>\n",
       "      <th>0</th>\n",
       "      <td>2022-01-03</td>\n",
       "      <td>4796.560059</td>\n",
       "    </tr>\n",
       "    <tr>\n",
       "      <th>1</th>\n",
       "      <td>2022-01-04</td>\n",
       "      <td>4793.540039</td>\n",
       "    </tr>\n",
       "    <tr>\n",
       "      <th>2</th>\n",
       "      <td>2022-01-05</td>\n",
       "      <td>4700.580078</td>\n",
       "    </tr>\n",
       "    <tr>\n",
       "      <th>3</th>\n",
       "      <td>2022-01-06</td>\n",
       "      <td>4696.049805</td>\n",
       "    </tr>\n",
       "    <tr>\n",
       "      <th>4</th>\n",
       "      <td>2022-01-07</td>\n",
       "      <td>4677.029785</td>\n",
       "    </tr>\n",
       "    <tr>\n",
       "      <th>...</th>\n",
       "      <td>...</td>\n",
       "      <td>...</td>\n",
       "    </tr>\n",
       "    <tr>\n",
       "      <th>496</th>\n",
       "      <td>2023-12-22</td>\n",
       "      <td>4754.629883</td>\n",
       "    </tr>\n",
       "    <tr>\n",
       "      <th>497</th>\n",
       "      <td>2023-12-26</td>\n",
       "      <td>4774.750000</td>\n",
       "    </tr>\n",
       "    <tr>\n",
       "      <th>498</th>\n",
       "      <td>2023-12-27</td>\n",
       "      <td>4781.580078</td>\n",
       "    </tr>\n",
       "    <tr>\n",
       "      <th>499</th>\n",
       "      <td>2023-12-28</td>\n",
       "      <td>4783.350098</td>\n",
       "    </tr>\n",
       "    <tr>\n",
       "      <th>500</th>\n",
       "      <td>2023-12-29</td>\n",
       "      <td>4769.830078</td>\n",
       "    </tr>\n",
       "  </tbody>\n",
       "</table>\n",
       "<p>501 rows × 2 columns</p>\n",
       "</div>"
      ],
      "text/plain": [
       "            ds            y\n",
       "0   2022-01-03  4796.560059\n",
       "1   2022-01-04  4793.540039\n",
       "2   2022-01-05  4700.580078\n",
       "3   2022-01-06  4696.049805\n",
       "4   2022-01-07  4677.029785\n",
       "..         ...          ...\n",
       "496 2023-12-22  4754.629883\n",
       "497 2023-12-26  4774.750000\n",
       "498 2023-12-27  4781.580078\n",
       "499 2023-12-28  4783.350098\n",
       "500 2023-12-29  4769.830078\n",
       "\n",
       "[501 rows x 2 columns]"
      ]
     },
     "execution_count": 13,
     "metadata": {},
     "output_type": "execute_result"
    }
   ],
   "source": [
    "b"
   ]
  },
  {
   "cell_type": "code",
   "execution_count": 20,
   "metadata": {},
   "outputs": [
    {
     "data": {
      "text/html": [
       "<div>\n",
       "<style scoped>\n",
       "    .dataframe tbody tr th:only-of-type {\n",
       "        vertical-align: middle;\n",
       "    }\n",
       "\n",
       "    .dataframe tbody tr th {\n",
       "        vertical-align: top;\n",
       "    }\n",
       "\n",
       "    .dataframe thead th {\n",
       "        text-align: right;\n",
       "    }\n",
       "</style>\n",
       "<table border=\"1\" class=\"dataframe\">\n",
       "  <thead>\n",
       "    <tr style=\"text-align: right;\">\n",
       "      <th></th>\n",
       "      <th>ds</th>\n",
       "      <th>y</th>\n",
       "    </tr>\n",
       "  </thead>\n",
       "  <tbody>\n",
       "    <tr>\n",
       "      <th>166</th>\n",
       "      <td>2023-12-29</td>\n",
       "      <td>71.89</td>\n",
       "    </tr>\n",
       "    <tr>\n",
       "      <th>167</th>\n",
       "      <td>2023-12-28</td>\n",
       "      <td>72.02</td>\n",
       "    </tr>\n",
       "    <tr>\n",
       "      <th>168</th>\n",
       "      <td>2023-12-27</td>\n",
       "      <td>74.31</td>\n",
       "    </tr>\n",
       "    <tr>\n",
       "      <th>169</th>\n",
       "      <td>2023-12-26</td>\n",
       "      <td>75.84</td>\n",
       "    </tr>\n",
       "    <tr>\n",
       "      <th>170</th>\n",
       "      <td>2023-12-25</td>\n",
       "      <td>73.29</td>\n",
       "    </tr>\n",
       "    <tr>\n",
       "      <th>...</th>\n",
       "      <td>...</td>\n",
       "      <td>...</td>\n",
       "    </tr>\n",
       "    <tr>\n",
       "      <th>289</th>\n",
       "      <td>2023-07-11</td>\n",
       "      <td>74.87</td>\n",
       "    </tr>\n",
       "    <tr>\n",
       "      <th>290</th>\n",
       "      <td>2023-07-10</td>\n",
       "      <td>73.05</td>\n",
       "    </tr>\n",
       "    <tr>\n",
       "      <th>291</th>\n",
       "      <td>2023-07-07</td>\n",
       "      <td>73.91</td>\n",
       "    </tr>\n",
       "    <tr>\n",
       "      <th>292</th>\n",
       "      <td>2023-07-06</td>\n",
       "      <td>71.76</td>\n",
       "    </tr>\n",
       "    <tr>\n",
       "      <th>293</th>\n",
       "      <td>2023-07-05</td>\n",
       "      <td>71.78</td>\n",
       "    </tr>\n",
       "  </tbody>\n",
       "</table>\n",
       "<p>128 rows × 2 columns</p>\n",
       "</div>"
      ],
      "text/plain": [
       "            ds      y\n",
       "166 2023-12-29  71.89\n",
       "167 2023-12-28  72.02\n",
       "168 2023-12-27  74.31\n",
       "169 2023-12-26  75.84\n",
       "170 2023-12-25  73.29\n",
       "..         ...    ...\n",
       "289 2023-07-11  74.87\n",
       "290 2023-07-10  73.05\n",
       "291 2023-07-07  73.91\n",
       "292 2023-07-06  71.76\n",
       "293 2023-07-05  71.78\n",
       "\n",
       "[128 rows x 2 columns]"
      ]
     },
     "execution_count": 20,
     "metadata": {},
     "output_type": "execute_result"
    }
   ],
   "source": [
    "a[:128]"
   ]
  },
  {
   "cell_type": "code",
   "execution_count": 5,
   "metadata": {},
   "outputs": [
    {
     "data": {
      "text/plain": [
       "2"
      ]
     },
     "execution_count": 5,
     "metadata": {},
     "output_type": "execute_result"
    }
   ],
   "source": [
    "min(2, 3)"
   ]
  },
  {
   "cell_type": "code",
   "execution_count": null,
   "metadata": {},
   "outputs": [],
   "source": [
    "from modules.models import arima_hybrid\n",
    "\n",
    "pr = arima_hybrid.get_arima_timegpt_predictions(data=a, prediction_horizon=1, frequency=\"daily\", error_train_size = 64)"
   ]
  },
  {
   "cell_type": "code",
   "execution_count": 4,
   "metadata": {},
   "outputs": [
    {
     "data": {
      "text/plain": [
       "[4871.379283940607]"
      ]
     },
     "execution_count": 4,
     "metadata": {},
     "output_type": "execute_result"
    }
   ],
   "source": [
    "pr"
   ]
  },
  {
   "cell_type": "code",
   "execution_count": 9,
   "metadata": {},
   "outputs": [
    {
     "data": {
      "text/plain": [
       "array([-3, -3, -3])"
      ]
     },
     "execution_count": 9,
     "metadata": {},
     "output_type": "execute_result"
    }
   ],
   "source": [
    "import numpy as np\n",
    "np.array([1, 2, 3]) - np.array([4, 5, 6])"
   ]
  },
  {
   "cell_type": "code",
   "execution_count": 15,
   "metadata": {},
   "outputs": [
    {
     "name": "stdout",
     "output_type": "stream",
     "text": [
      "[*********************100%%**********************]  1 of 1 completed\n"
     ]
    }
   ],
   "source": [
    "from modules.data import data_loader\n",
    "\n",
    "a = data_loader.get_data(type = \"index\", ticker = \"NASDAQ Composite\", frequency = \"monthly\", start = \"1920-01-01\", end = \"2024-01-01\", rtrn = False)\n",
    "#a = data_loader.get_data(type = \"stock\", ticker = \"IBM\", frequency = \"daily\", start = \"01-01-2023\", end = \"01-01-2024\")"
   ]
  },
  {
   "cell_type": "code",
   "execution_count": 17,
   "metadata": {},
   "outputs": [
    {
     "name": "stderr",
     "output_type": "stream",
     "text": [
      "c:\\Users\\topco\\Dokumenti\\MSc Banking and Digital Finance UCL\\Modules\\Dissertation\\MSc_dissertation\\modules\\data\\data_loader.py:123: FutureWarning: Series.fillna with 'method' is deprecated and will raise in a future version. Use obj.ffill() or obj.bfill() instead.\n",
      "  df['y'] = df['y'].fillna(method='bfill') # imputing the missing values\n"
     ]
    }
   ],
   "source": [
    "x = data_loader.get_exogenous_data(start_date=\"1920-01-01\", end_date=\"2024-01-01\")"
   ]
  },
  {
   "cell_type": "code",
   "execution_count": 18,
   "metadata": {},
   "outputs": [
    {
     "data": {
      "text/html": [
       "<div>\n",
       "<style scoped>\n",
       "    .dataframe tbody tr th:only-of-type {\n",
       "        vertical-align: middle;\n",
       "    }\n",
       "\n",
       "    .dataframe tbody tr th {\n",
       "        vertical-align: top;\n",
       "    }\n",
       "\n",
       "    .dataframe thead th {\n",
       "        text-align: right;\n",
       "    }\n",
       "</style>\n",
       "<table border=\"1\" class=\"dataframe\">\n",
       "  <thead>\n",
       "    <tr style=\"text-align: right;\">\n",
       "      <th></th>\n",
       "      <th>ds</th>\n",
       "      <th>x1</th>\n",
       "      <th>x2</th>\n",
       "      <th>x3</th>\n",
       "    </tr>\n",
       "  </thead>\n",
       "  <tbody>\n",
       "    <tr>\n",
       "      <th>0</th>\n",
       "      <td>1986-01-01</td>\n",
       "      <td>0.274474</td>\n",
       "      <td>7.82</td>\n",
       "      <td>22.93</td>\n",
       "    </tr>\n",
       "    <tr>\n",
       "      <th>1</th>\n",
       "      <td>1986-02-01</td>\n",
       "      <td>-0.273723</td>\n",
       "      <td>7.69</td>\n",
       "      <td>15.46</td>\n",
       "    </tr>\n",
       "    <tr>\n",
       "      <th>2</th>\n",
       "      <td>1986-03-01</td>\n",
       "      <td>-0.457457</td>\n",
       "      <td>7.24</td>\n",
       "      <td>12.61</td>\n",
       "    </tr>\n",
       "    <tr>\n",
       "      <th>3</th>\n",
       "      <td>1986-04-01</td>\n",
       "      <td>-0.183824</td>\n",
       "      <td>6.60</td>\n",
       "      <td>12.84</td>\n",
       "    </tr>\n",
       "    <tr>\n",
       "      <th>4</th>\n",
       "      <td>1986-05-01</td>\n",
       "      <td>0.276243</td>\n",
       "      <td>6.65</td>\n",
       "      <td>15.38</td>\n",
       "    </tr>\n",
       "    <tr>\n",
       "      <th>...</th>\n",
       "      <td>...</td>\n",
       "      <td>...</td>\n",
       "      <td>...</td>\n",
       "      <td>...</td>\n",
       "    </tr>\n",
       "    <tr>\n",
       "      <th>451</th>\n",
       "      <td>2023-08-01</td>\n",
       "      <td>0.436716</td>\n",
       "      <td>5.44</td>\n",
       "      <td>81.39</td>\n",
       "    </tr>\n",
       "    <tr>\n",
       "      <th>452</th>\n",
       "      <td>2023-09-01</td>\n",
       "      <td>0.248513</td>\n",
       "      <td>5.49</td>\n",
       "      <td>89.43</td>\n",
       "    </tr>\n",
       "    <tr>\n",
       "      <th>453</th>\n",
       "      <td>2023-10-01</td>\n",
       "      <td>-0.038338</td>\n",
       "      <td>5.46</td>\n",
       "      <td>85.64</td>\n",
       "    </tr>\n",
       "    <tr>\n",
       "      <th>454</th>\n",
       "      <td>2023-11-01</td>\n",
       "      <td>-0.201514</td>\n",
       "      <td>5.41</td>\n",
       "      <td>77.69</td>\n",
       "    </tr>\n",
       "    <tr>\n",
       "      <th>455</th>\n",
       "      <td>2023-12-01</td>\n",
       "      <td>-0.099332</td>\n",
       "      <td>5.32</td>\n",
       "      <td>71.90</td>\n",
       "    </tr>\n",
       "  </tbody>\n",
       "</table>\n",
       "<p>456 rows × 4 columns</p>\n",
       "</div>"
      ],
      "text/plain": [
       "            ds        x1    x2     x3\n",
       "0   1986-01-01  0.274474  7.82  22.93\n",
       "1   1986-02-01 -0.273723  7.69  15.46\n",
       "2   1986-03-01 -0.457457  7.24  12.61\n",
       "3   1986-04-01 -0.183824  6.60  12.84\n",
       "4   1986-05-01  0.276243  6.65  15.38\n",
       "..         ...       ...   ...    ...\n",
       "451 2023-08-01  0.436716  5.44  81.39\n",
       "452 2023-09-01  0.248513  5.49  89.43\n",
       "453 2023-10-01 -0.038338  5.46  85.64\n",
       "454 2023-11-01 -0.201514  5.41  77.69\n",
       "455 2023-12-01 -0.099332  5.32  71.90\n",
       "\n",
       "[456 rows x 4 columns]"
      ]
     },
     "execution_count": 18,
     "metadata": {},
     "output_type": "execute_result"
    }
   ],
   "source": [
    "x"
   ]
  },
  {
   "cell_type": "code",
   "execution_count": null,
   "metadata": {},
   "outputs": [],
   "source": [
    "import pandas as pd\n",
    "import os\n",
    "pd.read_csv(os.path.join(\"data\", \"credit_card\", \"uk_credit_card_data_monthly.csv\"))\n"
   ]
  },
  {
   "cell_type": "code",
   "execution_count": 18,
   "metadata": {},
   "outputs": [
    {
     "name": "stdout",
     "output_type": "stream",
     "text": [
      "Renamed: T=DOWJ_FR=daily_TOD=index_FO=5_CLTS=128_SD=2022-01-01_ED=2024-01-01_FTL=200_FTF=5_FTG=0_TSCVR=6__BS=5__ME=4.csv -> T=DOWJ_FR=daily_TOD=index_FO=5_CLTS=128_SD=2022-01-01_ED=2024-01-01_FTL=200_FTF=5_FTG=0_TSCVR=6_BS=5_ME=4.csv\n",
      "Renamed: T=DOWJ_FR=daily_TOD=index_FO=5_CLTS=32_SD=2022-01-01_ED=2024-01-01_FTL=200_FTF=5_FTG=0_TSCVR=6__BS=5__ME=4.csv -> T=DOWJ_FR=daily_TOD=index_FO=5_CLTS=32_SD=2022-01-01_ED=2024-01-01_FTL=200_FTF=5_FTG=0_TSCVR=6_BS=5_ME=4.csv\n",
      "Renamed: T=DOWJ_FR=daily_TOD=index_FO=5_CLTS=64_SD=2022-01-01_ED=2024-01-01_FTL=200_FTF=5_FTG=0_TSCVR=6__BS=5__ME=4.csv -> T=DOWJ_FR=daily_TOD=index_FO=5_CLTS=64_SD=2022-01-01_ED=2024-01-01_FTL=200_FTF=5_FTG=0_TSCVR=6_BS=5_ME=4.csv\n",
      "Renamed: T=DOWJ_FR=weekly_TOD=index_FO=5_CLTS=128_SD=2019-01-01_ED=2024-01-01_FTL=200_FTF=5_FTG=0_TSCVR=6__BS=5__ME=4.csv -> T=DOWJ_FR=weekly_TOD=index_FO=5_CLTS=128_SD=2019-01-01_ED=2024-01-01_FTL=200_FTF=5_FTG=0_TSCVR=6_BS=5_ME=4.csv\n",
      "Renamed: T=DOWJ_FR=weekly_TOD=index_FO=5_CLTS=32_SD=2019-01-01_ED=2024-01-01_FTL=200_FTF=5_FTG=0_TSCVR=6__BS=5__ME=4.csv -> T=DOWJ_FR=weekly_TOD=index_FO=5_CLTS=32_SD=2019-01-01_ED=2024-01-01_FTL=200_FTF=5_FTG=0_TSCVR=6_BS=5_ME=4.csv\n",
      "Renamed: T=DOWJ_FR=weekly_TOD=index_FO=5_CLTS=64_SD=2019-01-01_ED=2024-01-01_FTL=200_FTF=5_FTG=0_TSCVR=6__BS=5__ME=4.csv -> T=DOWJ_FR=weekly_TOD=index_FO=5_CLTS=64_SD=2019-01-01_ED=2024-01-01_FTL=200_FTF=5_FTG=0_TSCVR=6_BS=5_ME=4.csv\n",
      "Renamed: T=FTSE 100_FR=daily_TOD=index_FO=5_CLTS=128_SD=2022-01-01_ED=2024-01-01_FTL=200_FTF=5_FTG=0_TSCVR=6__BS=5__ME=4.csv -> T=FTSE 100_FR=daily_TOD=index_FO=5_CLTS=128_SD=2022-01-01_ED=2024-01-01_FTL=200_FTF=5_FTG=0_TSCVR=6_BS=5_ME=4.csv\n",
      "Renamed: T=FTSE 100_FR=daily_TOD=index_FO=5_CLTS=32_SD=2022-01-01_ED=2024-01-01_FTL=200_FTF=5_FTG=0_TSCVR=6__BS=5__ME=4.csv -> T=FTSE 100_FR=daily_TOD=index_FO=5_CLTS=32_SD=2022-01-01_ED=2024-01-01_FTL=200_FTF=5_FTG=0_TSCVR=6_BS=5_ME=4.csv\n",
      "Renamed: T=FTSE 100_FR=daily_TOD=index_FO=5_CLTS=64_SD=2022-01-01_ED=2024-01-01_FTL=200_FTF=5_FTG=0_TSCVR=6__BS=5__ME=4.csv -> T=FTSE 100_FR=daily_TOD=index_FO=5_CLTS=64_SD=2022-01-01_ED=2024-01-01_FTL=200_FTF=5_FTG=0_TSCVR=6_BS=5_ME=4.csv\n",
      "Renamed: T=FTSE 100_FR=weekly_TOD=index_FO=5_CLTS=128_SD=2019-01-01_ED=2024-01-01_FTL=200_FTF=5_FTG=0_TSCVR=6__BS=5__ME=4.csv -> T=FTSE 100_FR=weekly_TOD=index_FO=5_CLTS=128_SD=2019-01-01_ED=2024-01-01_FTL=200_FTF=5_FTG=0_TSCVR=6_BS=5_ME=4.csv\n",
      "Renamed: T=FTSE 100_FR=weekly_TOD=index_FO=5_CLTS=32_SD=2019-01-01_ED=2024-01-01_FTL=200_FTF=5_FTG=0_TSCVR=6__BS=5__ME=4.csv -> T=FTSE 100_FR=weekly_TOD=index_FO=5_CLTS=32_SD=2019-01-01_ED=2024-01-01_FTL=200_FTF=5_FTG=0_TSCVR=6_BS=5_ME=4.csv\n",
      "Renamed: T=FTSE 100_FR=weekly_TOD=index_FO=5_CLTS=64_SD=2019-01-01_ED=2024-01-01_FTL=200_FTF=5_FTG=0_TSCVR=6__BS=5__ME=4.csv -> T=FTSE 100_FR=weekly_TOD=index_FO=5_CLTS=64_SD=2019-01-01_ED=2024-01-01_FTL=200_FTF=5_FTG=0_TSCVR=6_BS=5_ME=4.csv\n",
      "Renamed: T=NASDAQ_FR=daily_TOD=index_FO=5_CLTS=128_SD=2022-01-01_ED=2024-01-01_FTL=200_FTF=5_FTG=0_TSCVR=6__BS=5__ME=4.csv -> T=NASDAQ_FR=daily_TOD=index_FO=5_CLTS=128_SD=2022-01-01_ED=2024-01-01_FTL=200_FTF=5_FTG=0_TSCVR=6_BS=5_ME=4.csv\n",
      "Renamed: T=NASDAQ_FR=daily_TOD=index_FO=5_CLTS=32_SD=2022-01-01_ED=2024-01-01_FTL=200_FTF=5_FTG=0_TSCVR=6__BS=5__ME=4.csv -> T=NASDAQ_FR=daily_TOD=index_FO=5_CLTS=32_SD=2022-01-01_ED=2024-01-01_FTL=200_FTF=5_FTG=0_TSCVR=6_BS=5_ME=4.csv\n",
      "Renamed: T=NASDAQ_FR=daily_TOD=index_FO=5_CLTS=64_SD=2022-01-01_ED=2024-01-01_FTL=200_FTF=5_FTG=0_TSCVR=6__BS=5__ME=4.csv -> T=NASDAQ_FR=daily_TOD=index_FO=5_CLTS=64_SD=2022-01-01_ED=2024-01-01_FTL=200_FTF=5_FTG=0_TSCVR=6_BS=5_ME=4.csv\n",
      "Renamed: T=NASDAQ_FR=weekly_TOD=index_FO=5_CLTS=128_SD=2019-01-01_ED=2024-01-01_FTL=200_FTF=5_FTG=0_TSCVR=6__BS=5__ME=4.csv -> T=NASDAQ_FR=weekly_TOD=index_FO=5_CLTS=128_SD=2019-01-01_ED=2024-01-01_FTL=200_FTF=5_FTG=0_TSCVR=6_BS=5_ME=4.csv\n",
      "Renamed: T=NASDAQ_FR=weekly_TOD=index_FO=5_CLTS=32_SD=2019-01-01_ED=2024-01-01_FTL=200_FTF=5_FTG=0_TSCVR=6__BS=5__ME=4.csv -> T=NASDAQ_FR=weekly_TOD=index_FO=5_CLTS=32_SD=2019-01-01_ED=2024-01-01_FTL=200_FTF=5_FTG=0_TSCVR=6_BS=5_ME=4.csv\n",
      "Renamed: T=NASDAQ_FR=weekly_TOD=index_FO=5_CLTS=64_SD=2019-01-01_ED=2024-01-01_FTL=200_FTF=5_FTG=0_TSCVR=6__BS=5__ME=4.csv -> T=NASDAQ_FR=weekly_TOD=index_FO=5_CLTS=64_SD=2019-01-01_ED=2024-01-01_FTL=200_FTF=5_FTG=0_TSCVR=6_BS=5_ME=4.csv\n",
      "Renamed: T=S&P 500_FR=daily_TOD=index_FO=5_CLTS=128_SD=2022-01-01_ED=2024-01-01_FTL=200_FTF=5_FTG=0_TSCVR=6__BS=5__ME=4.csv -> T=S&P 500_FR=daily_TOD=index_FO=5_CLTS=128_SD=2022-01-01_ED=2024-01-01_FTL=200_FTF=5_FTG=0_TSCVR=6_BS=5_ME=4.csv\n",
      "Renamed: T=S&P 500_FR=daily_TOD=index_FO=5_CLTS=32_SD=2022-01-01_ED=2024-01-01_FTL=200_FTF=5_FTG=0_TSCVR=6__BS=5__ME=4.csv -> T=S&P 500_FR=daily_TOD=index_FO=5_CLTS=32_SD=2022-01-01_ED=2024-01-01_FTL=200_FTF=5_FTG=0_TSCVR=6_BS=5_ME=4.csv\n",
      "Renamed: T=S&P 500_FR=daily_TOD=index_FO=5_CLTS=64_SD=2022-01-01_ED=2024-01-01_FTL=200_FTF=5_FTG=0_TSCVR=6__BS=5__ME=4.csv -> T=S&P 500_FR=daily_TOD=index_FO=5_CLTS=64_SD=2022-01-01_ED=2024-01-01_FTL=200_FTF=5_FTG=0_TSCVR=6_BS=5_ME=4.csv\n",
      "Renamed: T=S&P 500_FR=weekly_TOD=index_FO=5_CLTS=128_SD=2019-01-01_ED=2024-01-01_FTL=200_FTF=5_FTG=0_TSCVR=6__BS=5__ME=4.csv -> T=S&P 500_FR=weekly_TOD=index_FO=5_CLTS=128_SD=2019-01-01_ED=2024-01-01_FTL=200_FTF=5_FTG=0_TSCVR=6_BS=5_ME=4.csv\n",
      "Renamed: T=S&P 500_FR=weekly_TOD=index_FO=5_CLTS=32_SD=2019-01-01_ED=2024-01-01_FTL=200_FTF=5_FTG=0_TSCVR=6__BS=5__ME=4.csv -> T=S&P 500_FR=weekly_TOD=index_FO=5_CLTS=32_SD=2019-01-01_ED=2024-01-01_FTL=200_FTF=5_FTG=0_TSCVR=6_BS=5_ME=4.csv\n",
      "Renamed: T=S&P 500_FR=weekly_TOD=index_FO=5_CLTS=64_SD=2019-01-01_ED=2024-01-01_FTL=200_FTF=5_FTG=0_TSCVR=6__BS=5__ME=4.csv -> T=S&P 500_FR=weekly_TOD=index_FO=5_CLTS=64_SD=2019-01-01_ED=2024-01-01_FTL=200_FTF=5_FTG=0_TSCVR=6_BS=5_ME=4.csv\n",
      "Renaming process completed.\n",
      "Renamed: T=DOWJ_FR=daily_TOD=index_FO=5_CLTS=128_SD=2022-01-01_ED=2024-01-01_FTL=200_FTF=5_FTG=0_TSCVR=6__BS=5__ME=4.csv -> T=DOWJ_FR=daily_TOD=index_FO=5_CLTS=128_SD=2022-01-01_ED=2024-01-01_FTL=200_FTF=5_FTG=0_TSCVR=6_BS=5_ME=4.csv\n",
      "Renamed: T=DOWJ_FR=daily_TOD=index_FO=5_CLTS=32_SD=2022-01-01_ED=2024-01-01_FTL=200_FTF=5_FTG=0_TSCVR=6__BS=5__ME=4.csv -> T=DOWJ_FR=daily_TOD=index_FO=5_CLTS=32_SD=2022-01-01_ED=2024-01-01_FTL=200_FTF=5_FTG=0_TSCVR=6_BS=5_ME=4.csv\n",
      "Renamed: T=DOWJ_FR=daily_TOD=index_FO=5_CLTS=64_SD=2022-01-01_ED=2024-01-01_FTL=200_FTF=5_FTG=0_TSCVR=6__BS=5__ME=4.csv -> T=DOWJ_FR=daily_TOD=index_FO=5_CLTS=64_SD=2022-01-01_ED=2024-01-01_FTL=200_FTF=5_FTG=0_TSCVR=6_BS=5_ME=4.csv\n",
      "Renamed: T=DOWJ_FR=weekly_TOD=index_FO=5_CLTS=128_SD=2019-01-01_ED=2024-01-01_FTL=200_FTF=5_FTG=0_TSCVR=6__BS=5__ME=4.csv -> T=DOWJ_FR=weekly_TOD=index_FO=5_CLTS=128_SD=2019-01-01_ED=2024-01-01_FTL=200_FTF=5_FTG=0_TSCVR=6_BS=5_ME=4.csv\n",
      "Renamed: T=DOWJ_FR=weekly_TOD=index_FO=5_CLTS=32_SD=2019-01-01_ED=2024-01-01_FTL=200_FTF=5_FTG=0_TSCVR=6__BS=5__ME=4.csv -> T=DOWJ_FR=weekly_TOD=index_FO=5_CLTS=32_SD=2019-01-01_ED=2024-01-01_FTL=200_FTF=5_FTG=0_TSCVR=6_BS=5_ME=4.csv\n",
      "Renamed: T=DOWJ_FR=weekly_TOD=index_FO=5_CLTS=64_SD=2019-01-01_ED=2024-01-01_FTL=200_FTF=5_FTG=0_TSCVR=6__BS=5__ME=4.csv -> T=DOWJ_FR=weekly_TOD=index_FO=5_CLTS=64_SD=2019-01-01_ED=2024-01-01_FTL=200_FTF=5_FTG=0_TSCVR=6_BS=5_ME=4.csv\n",
      "Renamed: T=FTSE 100_FR=daily_TOD=index_FO=5_CLTS=128_SD=2022-01-01_ED=2024-01-01_FTL=200_FTF=5_FTG=0_TSCVR=6__BS=5__ME=4.csv -> T=FTSE 100_FR=daily_TOD=index_FO=5_CLTS=128_SD=2022-01-01_ED=2024-01-01_FTL=200_FTF=5_FTG=0_TSCVR=6_BS=5_ME=4.csv\n",
      "Renamed: T=FTSE 100_FR=daily_TOD=index_FO=5_CLTS=32_SD=2022-01-01_ED=2024-01-01_FTL=200_FTF=5_FTG=0_TSCVR=6__BS=5__ME=4.csv -> T=FTSE 100_FR=daily_TOD=index_FO=5_CLTS=32_SD=2022-01-01_ED=2024-01-01_FTL=200_FTF=5_FTG=0_TSCVR=6_BS=5_ME=4.csv\n",
      "Renamed: T=FTSE 100_FR=daily_TOD=index_FO=5_CLTS=64_SD=2022-01-01_ED=2024-01-01_FTL=200_FTF=5_FTG=0_TSCVR=6__BS=5__ME=4.csv -> T=FTSE 100_FR=daily_TOD=index_FO=5_CLTS=64_SD=2022-01-01_ED=2024-01-01_FTL=200_FTF=5_FTG=0_TSCVR=6_BS=5_ME=4.csv\n",
      "Renamed: T=FTSE 100_FR=weekly_TOD=index_FO=5_CLTS=128_SD=2019-01-01_ED=2024-01-01_FTL=200_FTF=5_FTG=0_TSCVR=6__BS=5__ME=4.csv -> T=FTSE 100_FR=weekly_TOD=index_FO=5_CLTS=128_SD=2019-01-01_ED=2024-01-01_FTL=200_FTF=5_FTG=0_TSCVR=6_BS=5_ME=4.csv\n",
      "Renamed: T=FTSE 100_FR=weekly_TOD=index_FO=5_CLTS=32_SD=2019-01-01_ED=2024-01-01_FTL=200_FTF=5_FTG=0_TSCVR=6__BS=5__ME=4.csv -> T=FTSE 100_FR=weekly_TOD=index_FO=5_CLTS=32_SD=2019-01-01_ED=2024-01-01_FTL=200_FTF=5_FTG=0_TSCVR=6_BS=5_ME=4.csv\n",
      "Renamed: T=FTSE 100_FR=weekly_TOD=index_FO=5_CLTS=64_SD=2019-01-01_ED=2024-01-01_FTL=200_FTF=5_FTG=0_TSCVR=6__BS=5__ME=4.csv -> T=FTSE 100_FR=weekly_TOD=index_FO=5_CLTS=64_SD=2019-01-01_ED=2024-01-01_FTL=200_FTF=5_FTG=0_TSCVR=6_BS=5_ME=4.csv\n",
      "Renamed: T=NASDAQ_FR=daily_TOD=index_FO=5_CLTS=128_SD=2022-01-01_ED=2024-01-01_FTL=200_FTF=5_FTG=0_TSCVR=6__BS=5__ME=4.csv -> T=NASDAQ_FR=daily_TOD=index_FO=5_CLTS=128_SD=2022-01-01_ED=2024-01-01_FTL=200_FTF=5_FTG=0_TSCVR=6_BS=5_ME=4.csv\n",
      "Renamed: T=NASDAQ_FR=daily_TOD=index_FO=5_CLTS=32_SD=2022-01-01_ED=2024-01-01_FTL=200_FTF=5_FTG=0_TSCVR=6__BS=5__ME=4.csv -> T=NASDAQ_FR=daily_TOD=index_FO=5_CLTS=32_SD=2022-01-01_ED=2024-01-01_FTL=200_FTF=5_FTG=0_TSCVR=6_BS=5_ME=4.csv\n",
      "Renamed: T=NASDAQ_FR=daily_TOD=index_FO=5_CLTS=64_SD=2022-01-01_ED=2024-01-01_FTL=200_FTF=5_FTG=0_TSCVR=6__BS=5__ME=4.csv -> T=NASDAQ_FR=daily_TOD=index_FO=5_CLTS=64_SD=2022-01-01_ED=2024-01-01_FTL=200_FTF=5_FTG=0_TSCVR=6_BS=5_ME=4.csv\n",
      "Renamed: T=NASDAQ_FR=weekly_TOD=index_FO=5_CLTS=128_SD=2019-01-01_ED=2024-01-01_FTL=200_FTF=5_FTG=0_TSCVR=6__BS=5__ME=4.csv -> T=NASDAQ_FR=weekly_TOD=index_FO=5_CLTS=128_SD=2019-01-01_ED=2024-01-01_FTL=200_FTF=5_FTG=0_TSCVR=6_BS=5_ME=4.csv\n",
      "Renamed: T=NASDAQ_FR=weekly_TOD=index_FO=5_CLTS=32_SD=2019-01-01_ED=2024-01-01_FTL=200_FTF=5_FTG=0_TSCVR=6__BS=5__ME=4.csv -> T=NASDAQ_FR=weekly_TOD=index_FO=5_CLTS=32_SD=2019-01-01_ED=2024-01-01_FTL=200_FTF=5_FTG=0_TSCVR=6_BS=5_ME=4.csv\n",
      "Renamed: T=NASDAQ_FR=weekly_TOD=index_FO=5_CLTS=64_SD=2019-01-01_ED=2024-01-01_FTL=200_FTF=5_FTG=0_TSCVR=6__BS=5__ME=4.csv -> T=NASDAQ_FR=weekly_TOD=index_FO=5_CLTS=64_SD=2019-01-01_ED=2024-01-01_FTL=200_FTF=5_FTG=0_TSCVR=6_BS=5_ME=4.csv\n",
      "Renamed: T=S&P 500_FR=daily_TOD=index_FO=5_CLTS=128_SD=2022-01-01_ED=2024-01-01_FTL=200_FTF=5_FTG=0_TSCVR=6__BS=5__ME=4.csv -> T=S&P 500_FR=daily_TOD=index_FO=5_CLTS=128_SD=2022-01-01_ED=2024-01-01_FTL=200_FTF=5_FTG=0_TSCVR=6_BS=5_ME=4.csv\n",
      "Renamed: T=S&P 500_FR=daily_TOD=index_FO=5_CLTS=32_SD=2022-01-01_ED=2024-01-01_FTL=200_FTF=5_FTG=0_TSCVR=6__BS=5__ME=4.csv -> T=S&P 500_FR=daily_TOD=index_FO=5_CLTS=32_SD=2022-01-01_ED=2024-01-01_FTL=200_FTF=5_FTG=0_TSCVR=6_BS=5_ME=4.csv\n",
      "Renamed: T=S&P 500_FR=daily_TOD=index_FO=5_CLTS=64_SD=2022-01-01_ED=2024-01-01_FTL=200_FTF=5_FTG=0_TSCVR=6__BS=5__ME=4.csv -> T=S&P 500_FR=daily_TOD=index_FO=5_CLTS=64_SD=2022-01-01_ED=2024-01-01_FTL=200_FTF=5_FTG=0_TSCVR=6_BS=5_ME=4.csv\n",
      "Renamed: T=S&P 500_FR=weekly_TOD=index_FO=5_CLTS=128_SD=2019-01-01_ED=2024-01-01_FTL=200_FTF=5_FTG=0_TSCVR=6__BS=5__ME=4.csv -> T=S&P 500_FR=weekly_TOD=index_FO=5_CLTS=128_SD=2019-01-01_ED=2024-01-01_FTL=200_FTF=5_FTG=0_TSCVR=6_BS=5_ME=4.csv\n",
      "Renamed: T=S&P 500_FR=weekly_TOD=index_FO=5_CLTS=32_SD=2019-01-01_ED=2024-01-01_FTL=200_FTF=5_FTG=0_TSCVR=6__BS=5__ME=4.csv -> T=S&P 500_FR=weekly_TOD=index_FO=5_CLTS=32_SD=2019-01-01_ED=2024-01-01_FTL=200_FTF=5_FTG=0_TSCVR=6_BS=5_ME=4.csv\n",
      "Renamed: T=S&P 500_FR=weekly_TOD=index_FO=5_CLTS=64_SD=2019-01-01_ED=2024-01-01_FTL=200_FTF=5_FTG=0_TSCVR=6__BS=5__ME=4.csv -> T=S&P 500_FR=weekly_TOD=index_FO=5_CLTS=64_SD=2019-01-01_ED=2024-01-01_FTL=200_FTF=5_FTG=0_TSCVR=6_BS=5_ME=4.csv\n",
      "Renaming process completed.\n"
     ]
    }
   ],
   "source": [
    "'''import os\n",
    "\n",
    "# this is for renaming files\n",
    "\n",
    "def rename_files_in_folder(folder_path, old_string, new_string):\n",
    "    try:\n",
    "        # Get the list of all files in the specified folder\n",
    "        files = os.listdir(folder_path)\n",
    "        \n",
    "        for filename in files:\n",
    "            # Check if the old string is in the filename\n",
    "            if old_string in filename:\n",
    "                # Create the new filename by replacing the old string with the new string\n",
    "                new_filename = filename.replace(old_string, new_string)\n",
    "                \n",
    "                # Construct the full file paths\n",
    "                old_file_path = os.path.join(folder_path, filename)\n",
    "                new_file_path = os.path.join(folder_path, new_filename)\n",
    "                \n",
    "                # Rename the file\n",
    "                os.rename(old_file_path, new_file_path)\n",
    "                \n",
    "                print(f\"Renamed: {filename} -> {new_filename}\")\n",
    "            else:\n",
    "                print(f\"No match found in: {filename}\")\n",
    "                \n",
    "        print(\"Renaming process completed.\")\n",
    "        \n",
    "    except Exception as e:\n",
    "        print(f\"An error occurred: {e}\")\n",
    "\n",
    "folder_path = os.path.abspath(os.path.join(os.getcwd(), \"results\", \"partial\", \"prediction\")) #\"/results/evaluation\"\n",
    "folder_path_2 = os.path.abspath(os.path.join(os.getcwd(), \"results\", \"partial\", \"evaluation\"))\n",
    "\n",
    "s1 = \"__\"\n",
    "s2 = \"_\"\n",
    "\n",
    "rename_files_in_folder(folder_path, s1, s2)\n",
    "rename_files_in_folder(folder_path_2, s1, s2)'''"
   ]
  },
  {
   "cell_type": "code",
   "execution_count": 9,
   "metadata": {},
   "outputs": [
    {
     "name": "stdout",
     "output_type": "stream",
     "text": [
      "Renaming process completed.\n",
      "Renaming process completed.\n"
     ]
    }
   ],
   "source": [
    "'''# this is for adding something at the end\n",
    "\n",
    "import os\n",
    "\n",
    "# this is for renaming files\n",
    "\n",
    "def rename_files_in_folder(folder_path):\n",
    "    try:\n",
    "        # Get the list of all files in the specified folder\n",
    "        files = os.listdir(folder_path)\n",
    "        \n",
    "        for filename in files:\n",
    "            # Check if the old string is in the filename\n",
    "            \n",
    "                old_file_path = os.path.join(folder_path, filename)\n",
    "                new_file_path = old_file_path[:-4] + \"__BS=5__ME=4.csv\"\n",
    "                \n",
    "                # Rename the file\n",
    "                os.rename(old_file_path, new_file_path)\n",
    "                \n",
    "                \n",
    "                \n",
    "        print(\"Renaming process completed.\")\n",
    "        \n",
    "    except Exception as e:\n",
    "        print(f\"An error occurred: {e}\")\n",
    "\n",
    "folder_path = os.path.abspath(os.path.join(os.getcwd(), \"results\", \"partial\", \"prediction\")) #\"/results/evaluation\"\n",
    "folder_path_2 = os.path.abspath(os.path.join(os.getcwd(), \"results\", \"partial\", \"evaluation\"))\n",
    "\n",
    "\n",
    "\n",
    "rename_files_in_folder(folder_path)\n",
    "rename_files_in_folder(folder_path_2)'''"
   ]
  },
  {
   "cell_type": "code",
   "execution_count": null,
   "metadata": {},
   "outputs": [],
   "source": [
    "# this combines ft_timeGPT evaluation with previous results\n",
    "\n",
    "import os\n",
    "import pandas as pd\n",
    "\n",
    "# Define the paths to the folders\n",
    "folder1 = \"results/evaluation\"\n",
    "folder2 = \"results/partial/evaluation\"\n",
    "\n",
    "# Get a list of all .csv files in both folders\n",
    "files1 = [f for f in os.listdir(folder1) if f.endswith('.csv')]\n",
    "files2 = [f for f in os.listdir(folder2) if f.endswith('.csv')]\n",
    "\n",
    "# Ensure that only matching files are processed\n",
    "matching_files = set(files1) & set(files2)\n",
    "\n",
    "# Loop through each matching file\n",
    "for filename in matching_files:\n",
    "    # Construct the full file paths\n",
    "    file1_path = os.path.join(folder1, filename)\n",
    "    file2_path = os.path.join(folder2, filename)\n",
    "    \n",
    "    # Read the dataframes from both files\n",
    "    df1 = pd.read_csv(file1_path, index_col=0)\n",
    "    df2 = pd.read_csv(file2_path, index_col=0)\n",
    "    \n",
    "    # Concatenate the dataframes, preserving the index\n",
    "    combined_df = pd.concat([df1, df2])\n",
    "    \n",
    "    # Save the combined dataframe back to the file in the first folder\n",
    "    combined_df.to_csv(file1_path)"
   ]
  },
  {
   "cell_type": "markdown",
   "metadata": {},
   "source": [
    "# Parameters"
   ]
  },
  {
   "cell_type": "code",
   "execution_count": null,
   "metadata": {},
   "outputs": [],
   "source": [
    "# experiment parameters\n",
    "#constraint: FOLDS x PREDICTION_LENGTH + TRAIN_SIZE !!must not!! be bigger than len(data)\n",
    "\n",
    "PREDICTION_LENGTH = 1 # currentlz only works for PREDICTION_LENGTH > 1\n",
    "TICKER = \"S&P 500\"\n",
    "FREQUENCY = \"minutely\" # currently we only have dailz frequency\n",
    "TYPE_OF_DATA = \"stock\" # currently we only have stock prices saved\n",
    "MODELS = [\"arima\", \"llama\", \"autoregressor\", \"fine-tuned Llama\"] # currentlz works onlz for these two\n",
    "FOLDS = 5 # for TSCV # reduced to two for testing purposes\n",
    "CONTEXT_LENGTH = 245 # set to 245 for testing purposes\n",
    "METRICS = ['r2', 'mse', 'mae', 'rmse', 'mda', \"mape\"]\n",
    "\n",
    "# fine-tuning parameters\n",
    "BATCH_SIZE = 10\n",
    "MAX_EPOCHS = 5\n",
    "\n",
    "# data parameters\n",
    "START_DATE = \"2024-07-22\"\n",
    "END_DATE = \"2024-07-23\"\n",
    "\n",
    "# want to add\n",
    "#TRAIN_PERIOD = # context lenghts. Should take a look into this\n",
    "TRAIN_SIZE = CONTEXT_LENGTH\n",
    "\n"
   ]
  },
  {
   "cell_type": "markdown",
   "metadata": {},
   "source": [
    "# Data"
   ]
  },
  {
   "cell_type": "code",
   "execution_count": null,
   "metadata": {},
   "outputs": [],
   "source": [
    "\"\"\"\n",
    "data = data_reader.read_data(type = TYPE_OF_DATA, frequency = FREQUENCY)\n",
    "# this is just in case there are more CSVs of the same type and frequency, the data should be the first in the list\n",
    "#if len(data) > 1:\n",
    "data = data[0]\n",
    "\n",
    "simple_data = data_reader.read_data(type = TYPE_OF_DATA, frequency = FREQUENCY, match = [\"simple\"])\n",
    "#if len(simple_data) > 1:\n",
    "simple_data = simple_data[0]\n",
    "\n",
    "train_data = data_reader.read_data(type = TYPE_OF_DATA, frequency = FREQUENCY, match = [\"train\"])\n",
    "train_data = train_data[0]\n",
    "\n",
    "test_data = data_reader.read_data(type = TYPE_OF_DATA, frequency = FREQUENCY, match = [\"test\"])\n",
    "test_data = test_data[0]\n",
    "\"\"\""
   ]
  },
  {
   "cell_type": "code",
   "execution_count": null,
   "metadata": {},
   "outputs": [],
   "source": [
    "DATA_CONFIG = {\"ticker\" : TICKER,\n",
    "               \"frequency\" : FREQUENCY,\n",
    "               \"start\" : START_DATE,\n",
    "               \"end\" : END_DATE}\n",
    "\n"
   ]
  },
  {
   "cell_type": "code",
   "execution_count": null,
   "metadata": {},
   "outputs": [],
   "source": [
    "data = data_loader.get_data(data_type=TYPE_OF_DATA, kwargs=DATA_CONFIG)"
   ]
  },
  {
   "cell_type": "code",
   "execution_count": null,
   "metadata": {},
   "outputs": [],
   "source": [
    "data"
   ]
  },
  {
   "cell_type": "code",
   "execution_count": null,
   "metadata": {},
   "outputs": [],
   "source": [
    "import "
   ]
  },
  {
   "cell_type": "markdown",
   "metadata": {},
   "source": [
    "# Additional parameters"
   ]
  },
  {
   "cell_type": "code",
   "execution_count": null,
   "metadata": {},
   "outputs": [],
   "source": [
    "DATA_LENGTH = len(data)\n",
    "FOLDS = int((DATA_LENGTH - TRAIN_SIZE) / PREDICTION_LENGTH) # this calculates max ammount of folds we can have given a set TRAIN_SIZE and PREDICTION_LENGTH\n",
    "FOLDS = 5\n"
   ]
  },
  {
   "cell_type": "code",
   "execution_count": null,
   "metadata": {},
   "outputs": [],
   "source": [
    "from modules.data import data_loader"
   ]
  },
  {
   "cell_type": "code",
   "execution_count": null,
   "metadata": {},
   "outputs": [],
   "source": [
    "config = {\"ticker\" : \"USD/GBP\",\n",
    "          \"frequency\" : \"daily\",\n",
    "          \"start\" : \"2024-07-01\",\n",
    "          \"end\" : \"2024-07-30\"}"
   ]
  },
  {
   "cell_type": "code",
   "execution_count": null,
   "metadata": {},
   "outputs": [],
   "source": [
    "import os\n",
    "print(os.getenv(\"ALPHAVANTAGE_API\"))"
   ]
  },
  {
   "cell_type": "code",
   "execution_count": null,
   "metadata": {},
   "outputs": [],
   "source": [
    "os.getenv(\"ALPHAVANTAGE_API\")"
   ]
  },
  {
   "cell_type": "code",
   "execution_count": null,
   "metadata": {},
   "outputs": [],
   "source": [
    "os.environ"
   ]
  },
  {
   "cell_type": "code",
   "execution_count": null,
   "metadata": {},
   "outputs": [],
   "source": [
    "for key, value in os.environ.items():\n",
    "    print(f'{key}: {value}')"
   ]
  },
  {
   "cell_type": "code",
   "execution_count": null,
   "metadata": {},
   "outputs": [],
   "source": [
    "h = data_loader.get_data(data_type=\"exchange_rate\", kwargs=config)"
   ]
  },
  {
   "cell_type": "code",
   "execution_count": null,
   "metadata": {},
   "outputs": [],
   "source": [
    "h"
   ]
  },
  {
   "cell_type": "markdown",
   "metadata": {},
   "source": [
    "# Fine tuning"
   ]
  },
  {
   "cell_type": "code",
   "execution_count": null,
   "metadata": {},
   "outputs": [],
   "source": [
    "#preparing the training data for lag llama fine tuning\n",
    "ft_train_data = lag_llama.prepare_data(data=ft_data, \n",
    "                                       prediction_length=0, \n",
    "                                       frequency=FREQUENCY)"
   ]
  },
  {
   "cell_type": "code",
   "execution_count": null,
   "metadata": {},
   "outputs": [],
   "source": [
    "# creating the lag llama predictor object \n",
    "predictor = lag_llama_ft.get_predictor(prediction_length=PREDICTION_LENGTH, \n",
    "                                       context_length=CONTEXT_LENGTH, \n",
    "                                       batch_size=BATCH_SIZE, \n",
    "                                       max_epochs=MAX_EPOCHS)"
   ]
  },
  {
   "cell_type": "code",
   "execution_count": null,
   "metadata": {},
   "outputs": [],
   "source": [
    "# fine-tuning the predictor object\n",
    "predictor = predictor.train(ft_train_data, \n",
    "                            cache_data = True, \n",
    "                            shuffle_buffer_length = 1000)"
   ]
  },
  {
   "cell_type": "code",
   "execution_count": null,
   "metadata": {},
   "outputs": [],
   "source": [
    "r, p = get_tscv_results(data = data,\n",
    "                           prediction_horizon=PREDICTION_LENGTH,\n",
    "                           context_length=CONTEXT_LENGTH, \n",
    "                           folds=FOLDS, \n",
    "                           frequency=FREQUENCY,\n",
    "                           predictor=predictor)"
   ]
  },
  {
   "cell_type": "markdown",
   "metadata": {},
   "source": [
    "# Saving results"
   ]
  },
  {
   "cell_type": "code",
   "execution_count": null,
   "metadata": {},
   "outputs": [],
   "source": [
    "r"
   ]
  },
  {
   "cell_type": "code",
   "execution_count": null,
   "metadata": {},
   "outputs": [],
   "source": [
    "p"
   ]
  },
  {
   "cell_type": "code",
   "execution_count": null,
   "metadata": {},
   "outputs": [],
   "source": [
    "experiment_name = f\"PREDICTION_LENGTH={PREDICTION_LENGTH}__TICKER={TICKER}__FREQUENCY={FREQUENCY}__TYPE_OF_DATA={TYPE_OF_DATA}__FOLDS={FOLDS}__CONTEXT_LENGTH/TRAIN_SIZE={CONTEXT_LENGTH}__FT_START_DATE={FT_START_DATE}__START_DATE={START_DATE}__END_DATE={END_DATE}__FT_LENGTH={FT_LENGTH}__DATA_LENGTH={DATA_LENGTH}\" "
   ]
  },
  {
   "cell_type": "code",
   "execution_count": null,
   "metadata": {},
   "outputs": [],
   "source": [
    "experiment_name = f\"P_L={PREDICTION_LENGTH}__T={TICKER}__FR={FREQUENCY}__T_O_D={TYPE_OF_DATA}__FO={FOLDS}__C_L_T_S={CONTEXT_LENGTH}__FT_S_D={FT_START_DATE}__S_D={START_DATE}__E_D={END_DATE}__FT_L={FT_LENGTH}__D_L={DATA_LENGTH}.csv\""
   ]
  },
  {
   "cell_type": "code",
   "execution_count": null,
   "metadata": {},
   "outputs": [],
   "source": [
    "experiment_name"
   ]
  },
  {
   "cell_type": "code",
   "execution_count": null,
   "metadata": {},
   "outputs": [],
   "source": [
    "result_saver.save_results(r, experiment_name, type=\"evaluation\")\n",
    "result_saver.save_results(p, experiment_name, type=\"prediction\")"
   ]
  },
  {
   "cell_type": "markdown",
   "metadata": {},
   "source": [
    "# Models"
   ]
  },
  {
   "cell_type": "code",
   "execution_count": null,
   "metadata": {},
   "outputs": [],
   "source": [
    "# arima\n"
   ]
  },
  {
   "cell_type": "code",
   "execution_count": null,
   "metadata": {},
   "outputs": [],
   "source": [
    "# lag llama"
   ]
  },
  {
   "cell_type": "markdown",
   "metadata": {},
   "source": [
    "# Fine tuning an estimator"
   ]
  },
  {
   "cell_type": "code",
   "execution_count": null,
   "metadata": {},
   "outputs": [],
   "source": [
    "PREDICTION_LENGTH = 5"
   ]
  },
  {
   "cell_type": "code",
   "execution_count": null,
   "metadata": {},
   "outputs": [],
   "source": [
    "#preparing the training data for lag llama fine tuning\n",
    "ft_train_data = lag_llama.prepare_data(data=ft_data, \n",
    "                                       prediction_length=0, \n",
    "                                       frequency=FREQUENCY)"
   ]
  },
  {
   "cell_type": "code",
   "execution_count": null,
   "metadata": {},
   "outputs": [],
   "source": [
    "# creating the lag llama predictor object \n",
    "predictor = lag_llama_ft.get_predictor(prediction_length=PREDICTION_LENGTH, \n",
    "                                       context_length=CONTEXT_LENGTH, \n",
    "                                       batch_size=BATCH_SIZE, \n",
    "                                       max_epochs=MAX_EPOCHS)"
   ]
  },
  {
   "cell_type": "code",
   "execution_count": null,
   "metadata": {},
   "outputs": [],
   "source": [
    "# fine-tuning the predictor object\n",
    "predictor = predictor.train(ft_train_data, \n",
    "                            cache_data = True, \n",
    "                            shuffle_buffer_length = 1000)"
   ]
  },
  {
   "cell_type": "markdown",
   "metadata": {},
   "source": [
    "# SKLearn TSCV"
   ]
  },
  {
   "cell_type": "code",
   "execution_count": null,
   "metadata": {},
   "outputs": [],
   "source": [
    "r, p, a = get_tscv_results(data = data,\n",
    "                           prediction_horizon=PREDICTION_LENGTH,\n",
    "                           context_length=CONTEXT_LENGTH, \n",
    "                           folds=FOLDS, \n",
    "                           frequency=FREQUENCY, \n",
    "                           predictor=predictor)"
   ]
  },
  {
   "cell_type": "code",
   "execution_count": null,
   "metadata": {},
   "outputs": [],
   "source": [
    "#creating the summary for each model\n",
    "s = [get_summary(r[i]) for i in range(len(r))]"
   ]
  },
  {
   "cell_type": "code",
   "execution_count": null,
   "metadata": {},
   "outputs": [],
   "source": [
    "means_df, medians_df, stds_df = extract_metrics(s, MODELS)"
   ]
  },
  {
   "cell_type": "code",
   "execution_count": null,
   "metadata": {},
   "outputs": [],
   "source": [
    "means_df"
   ]
  },
  {
   "cell_type": "markdown",
   "metadata": {},
   "source": [
    "# Visualisation"
   ]
  },
  {
   "cell_type": "code",
   "execution_count": null,
   "metadata": {},
   "outputs": [],
   "source": [
    "graphs.standard_visualisation(MODELS, METRICS, s)"
   ]
  },
  {
   "cell_type": "code",
   "execution_count": null,
   "metadata": {},
   "outputs": [],
   "source": [
    "graphs.interactive_visualisation(MODELS, METRICS, s)"
   ]
  },
  {
   "cell_type": "code",
   "execution_count": null,
   "metadata": {},
   "outputs": [],
   "source": [
    "graphs.prediction_visualisation(MODELS, p, a)"
   ]
  },
  {
   "cell_type": "markdown",
   "metadata": {},
   "source": [
    "LABEL the graph\n",
    "label the axes with timestamps\n",
    "show the history of the actual\n",
    "table of comparison, not just graph"
   ]
  }
 ],
 "metadata": {
  "kernelspec": {
   "display_name": "Python 3",
   "language": "python",
   "name": "python3"
  },
  "language_info": {
   "codemirror_mode": {
    "name": "ipython",
    "version": 3
   },
   "file_extension": ".py",
   "mimetype": "text/x-python",
   "name": "python",
   "nbconvert_exporter": "python",
   "pygments_lexer": "ipython3",
   "version": "3.11.1"
  }
 },
 "nbformat": 4,
 "nbformat_minor": 2
}
