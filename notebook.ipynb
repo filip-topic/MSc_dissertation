{
 "cells": [
  {
   "cell_type": "markdown",
   "metadata": {},
   "source": [
    "# Imports"
   ]
  },
  {
   "cell_type": "code",
   "execution_count": 1,
   "metadata": {},
   "outputs": [
    {
     "name": "stdout",
     "output_type": "stream",
     "text": [
      "Base dir: c:\\Users\\topco\\Dokumenti\\MSc Banking and Digital Finance UCL\\Modules\\Dissertation\\MSc_dissertation\n",
      "---------------\n",
      "sys.path: ['c:\\\\Users\\\\topco\\\\Dokumenti\\\\MSc Banking and Digital Finance UCL\\\\Modules\\\\Dissertation\\\\MSc_dissertation', 'c:\\\\Program Files\\\\Python311\\\\python311.zip', 'c:\\\\Program Files\\\\Python311\\\\Lib', 'c:\\\\Program Files\\\\Python311\\\\DLLs', '', 'C:\\\\Users\\\\topco\\\\AppData\\\\Roaming\\\\Python\\\\Python311\\\\site-packages', 'C:\\\\Users\\\\topco\\\\AppData\\\\Roaming\\\\Python\\\\Python311\\\\site-packages\\\\win32', 'C:\\\\Users\\\\topco\\\\AppData\\\\Roaming\\\\Python\\\\Python311\\\\site-packages\\\\win32\\\\lib', 'C:\\\\Users\\\\topco\\\\AppData\\\\Roaming\\\\Python\\\\Python311\\\\site-packages\\\\Pythonwin', 'c:\\\\Program Files\\\\Python311', 'c:\\\\Program Files\\\\Python311\\\\Lib\\\\site-packages']\n",
      "whatever: c:\\Users\\topco\\Dokumenti\\MSc Banking and Digital Finance UCL\\Modules\\Dissertation\\MSc_dissertation\\modules\n"
     ]
    }
   ],
   "source": [
    "from modules.data import data_loader, data_splitter, data_reader\n",
    "from modules.models import arima, lag_llama\n",
    "from modules.evaluation import evaluate\n",
    "from sklearn.metrics import mean_squared_error, mean_absolute_error, r2_score\n",
    "from modules.experiment.experiment import run_experiment\n",
    "import numpy as np\n",
    "\n",
    "import pandas as pd\n",
    "import matplotlib.pyplot as plt\n",
    "import matplotlib.dates as mdates\n",
    "from itertools import islice"
   ]
  },
  {
   "cell_type": "markdown",
   "metadata": {},
   "source": [
    "# Parameters"
   ]
  },
  {
   "cell_type": "code",
   "execution_count": 2,
   "metadata": {},
   "outputs": [],
   "source": [
    "PREDICTION_LENGTH = 10 # currentlz only works for PREDICTION_LENGTH > 1\n",
    "FREQUENCY = \"daily\" # currently we only have dailz frequency\n",
    "TYPE_OF_DATA = \"stock\" # currently we only have stock prices saved\n",
    "MODELS = [\"arima\", \"llama\"] # currentlz works onlz for these two\n",
    "\n",
    "# want to add\n",
    "PREDICTION_HORIZON = 10 # use anything above 2\n",
    "TRAIN_PERIOD = # context lenghts. Should take a look into this\n",
    "TRAIN_SIZE = \n",
    "FOLDS = # for TSCV\n",
    "\n"
   ]
  },
  {
   "cell_type": "markdown",
   "metadata": {},
   "source": [
    "# Notes"
   ]
  },
  {
   "cell_type": "markdown",
   "metadata": {},
   "source": [
    " - autoregressor\n",
    " - mean directional accuracy\n",
    " - ask\n",
    " - for each time-series create a whole dataframe for TSCV\n",
    "  - problem with this is with time horizon that is >1 \n",
    "  - prediction horizon is only for that value in the future"
   ]
  },
  {
   "cell_type": "markdown",
   "metadata": {},
   "source": [
    "# TO DO"
   ]
  },
  {
   "cell_type": "markdown",
   "metadata": {},
   "source": [
    " - create the TSCV experiment. It needs to create a table. Metrics for each fold\n",
    " - lit review\n",
    " - content for the presentation by monday!!\n",
    " - review data leakage risk\n",
    " - writing of the dissertation\n",
    " - autoregressor\n",
    " - MDA metric\n",
    " - frequency\n",
    "\n",
    " Writing\n",
    " - lit review\n",
    " - lit reading"
   ]
  },
  {
   "cell_type": "markdown",
   "metadata": {},
   "source": [
    "# Loading the data"
   ]
  },
  {
   "cell_type": "code",
   "execution_count": 3,
   "metadata": {},
   "outputs": [],
   "source": [
    "# loading the data for all 500 S&P500 stocks\n",
    "data = data_reader.read_data(TYPE_OF_DATA)[0]"
   ]
  },
  {
   "cell_type": "markdown",
   "metadata": {},
   "source": [
    "# Prepare the data"
   ]
  },
  {
   "cell_type": "code",
   "execution_count": null,
   "metadata": {},
   "outputs": [],
   "source": [
    "# pass full data at maximum granularity and produce according to frequency parameter"
   ]
  },
  {
   "cell_type": "markdown",
   "metadata": {},
   "source": [
    "# Models"
   ]
  },
  {
   "cell_type": "code",
   "execution_count": 4,
   "metadata": {},
   "outputs": [],
   "source": [
    "# arima\n"
   ]
  },
  {
   "cell_type": "code",
   "execution_count": 5,
   "metadata": {},
   "outputs": [],
   "source": [
    "# lag llama"
   ]
  },
  {
   "cell_type": "markdown",
   "metadata": {},
   "source": [
    "# Run experiment"
   ]
  },
  {
   "cell_type": "code",
   "execution_count": 6,
   "metadata": {},
   "outputs": [
    {
     "name": "stdout",
     "output_type": "stream",
     "text": [
      "A done  1\n",
      "------------\n",
      "AAL done  2\n",
      "------------\n",
      "AAPL done  3\n",
      "------------\n",
      "ABBV done  4\n",
      "------------\n",
      "ABNB done  5\n",
      "------------\n",
      "ABT done  6\n",
      "------------\n",
      "ACGL done  7\n",
      "------------\n",
      "ACN done  8\n",
      "------------\n",
      "ADBE done  9\n",
      "------------\n",
      "ADI done  10\n",
      "------------\n"
     ]
    }
   ],
   "source": [
    "results = run_experiment(data = data, prediction_length = PREDICTION_LENGTH)"
   ]
  },
  {
   "cell_type": "markdown",
   "metadata": {},
   "source": [
    "# Evaluation"
   ]
  },
  {
   "cell_type": "code",
   "execution_count": 7,
   "metadata": {},
   "outputs": [
    {
     "data": {
      "text/plain": [
       "{'r2': {'arima': [-0.10550431547189576,\n",
       "   -1.0699059026010245,\n",
       "   -1.4252419250300612,\n",
       "   -0.3750091437309546,\n",
       "   -0.15324388211633844,\n",
       "   -1.4416851466115124,\n",
       "   -2.473852658920534,\n",
       "   -8.367677116590578,\n",
       "   -1.379337301824191,\n",
       "   -3.0749547686345773],\n",
       "  'llama': [-1888.6247422125016,\n",
       "   -13933.81251389744,\n",
       "   -2967.7201195460293,\n",
       "   -8851.573226322293,\n",
       "   -5492.618541314765,\n",
       "   -9796.007329796836,\n",
       "   -12002.30873307625,\n",
       "   -2325.0810778338996,\n",
       "   -1098.8735896854712,\n",
       "   -7537.929310672023]},\n",
       " 'mse': {'arima': [10.120632674165174,\n",
       "   0.018506989526513855,\n",
       "   36.85006257701848,\n",
       "   4.516520731525314,\n",
       "   4.7431606304543115,\n",
       "   2.730708877762216,\n",
       "   2.9630755293935604,\n",
       "   370.4835412814629,\n",
       "   628.6272989137846,\n",
       "   28.366409193548293],\n",
       "  'llama': [17299.071238616947,\n",
       "   124.59089513420398,\n",
       "   45107.88018707409,\n",
       "   29078.228814930655,\n",
       "   22594.626850376313,\n",
       "   10956.684946912308,\n",
       "   10238.40498456439,\n",
       "   91994.49813417069,\n",
       "   290589.55336029705,\n",
       "   52479.687714279724]},\n",
       " 'mae': {'arima': [2.6888877964019615,\n",
       "   0.13133295606549478,\n",
       "   5.297079166797133,\n",
       "   1.5532176399230935,\n",
       "   1.8174145905712464,\n",
       "   1.3536565367380575,\n",
       "   1.400142720340361,\n",
       "   18.187454821268858,\n",
       "   19.375593058268272,\n",
       "   4.9054326566060045],\n",
       "  'llama': [131.49112697510813,\n",
       "   11.161628651429229,\n",
       "   212.3503845082465,\n",
       "   170.5137651170999,\n",
       "   150.30141038708217,\n",
       "   104.66884243324428,\n",
       "   101.1807887858931,\n",
       "   303.24074429014223,\n",
       "   538.8184765552464,\n",
       "   229.0692614800254]},\n",
       " 'rmse': {'arima': [3.181294182273179,\n",
       "   0.13604039667140733,\n",
       "   6.07042523856595,\n",
       "   2.125210749908186,\n",
       "   2.1778798475706393,\n",
       "   1.652485666431699,\n",
       "   1.7213586289305203,\n",
       "   19.24794901493307,\n",
       "   25.072441024235843,\n",
       "   5.326012504073596],\n",
       "  'llama': [131.52593371125312,\n",
       "   11.162029167414138,\n",
       "   212.38615818144575,\n",
       "   170.5233966789621,\n",
       "   150.31509189158723,\n",
       "   104.67418472055232,\n",
       "   101.18500375334474,\n",
       "   303.3059480692238,\n",
       "   539.0635893475807,\n",
       "   229.08445541825776]}}"
      ]
     },
     "execution_count": 7,
     "metadata": {},
     "output_type": "execute_result"
    }
   ],
   "source": [
    "results"
   ]
  }
 ],
 "metadata": {
  "kernelspec": {
   "display_name": "Python 3",
   "language": "python",
   "name": "python3"
  },
  "language_info": {
   "codemirror_mode": {
    "name": "ipython",
    "version": 3
   },
   "file_extension": ".py",
   "mimetype": "text/x-python",
   "name": "python",
   "nbconvert_exporter": "python",
   "pygments_lexer": "ipython3",
   "version": "3.11.1"
  }
 },
 "nbformat": 4,
 "nbformat_minor": 2
}
