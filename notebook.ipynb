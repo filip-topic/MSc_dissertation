{
 "cells": [
  {
   "cell_type": "markdown",
   "metadata": {},
   "source": [
    "# Imports"
   ]
  },
  {
   "cell_type": "code",
   "execution_count": 1,
   "metadata": {},
   "outputs": [],
   "source": [
    "from modules.data import data_loader, data_splitter, data_reader\n",
    "from modules.models import arima, lag_llama, autoregressor\n",
    "from modules.evaluation import evaluate\n",
    "from sklearn.metrics import mean_squared_error, mean_absolute_error, r2_score\n",
    "from modules.experiment.experiment import run_experiment\n",
    "from modules.data.tscv import create_tscv_dataset\n",
    "from modules.experiment.tscv import get_tscv_results, mean_directional_accuracy, get_summary\n",
    "\n",
    "\n",
    "import numpy as np\n",
    "import pandas as pd\n",
    "import matplotlib.pyplot as plt\n",
    "import matplotlib.dates as mdates\n",
    "from itertools import islice\n",
    "from sklearn.model_selection import TimeSeriesSplit"
   ]
  },
  {
   "cell_type": "markdown",
   "metadata": {},
   "source": [
    "# Parameters"
   ]
  },
  {
   "cell_type": "code",
   "execution_count": 2,
   "metadata": {},
   "outputs": [],
   "source": [
    "PREDICTION_LENGTH = 10 # currentlz only works for PREDICTION_LENGTH > 1\n",
    "FREQUENCY = \"daily\" # currently we only have dailz frequency\n",
    "TYPE_OF_DATA = \"stock\" # currently we only have stock prices saved\n",
    "MODELS = [\"arima\", \"llama\"] # currentlz works onlz for these two\n",
    "FOLDS = 10 # for TSCV\n",
    "CONTEXT_LENGTH = 64\n",
    "\n",
    "#START_DATE = \n",
    "#END_DATE\n",
    "# want to add\n",
    "#TRAIN_PERIOD = # context lenghts. Should take a look into this\n",
    "#TRAIN_SIZE = \n",
    "\n",
    "\n"
   ]
  },
  {
   "cell_type": "markdown",
   "metadata": {},
   "source": [
    "# Notes"
   ]
  },
  {
   "cell_type": "markdown",
   "metadata": {},
   "source": [
    " - autoregressor\n",
    " - mean directional accuracy\n",
    " - ask\n",
    " - for each time-series create a whole dataframe for TSCV\n",
    "  - problem with this is with time horizon that is >1 \n",
    "  - prediction horizon is only for that value in the future"
   ]
  },
  {
   "cell_type": "markdown",
   "metadata": {},
   "source": [
    "# TO DO"
   ]
  },
  {
   "cell_type": "markdown",
   "metadata": {},
   "source": [
    " - create the TSCV experiment. It needs to create a table. Metrics for each fold\n",
    " - lit review\n",
    " - content for the presentation by monday!!\n",
    " - review data leakage risk\n",
    " - writing of the dissertation\n",
    " - autoregressor\n",
    " - MDA metric\n",
    " - frequency\n",
    "\n",
    " Writing\n",
    " - lit review\n",
    " - lit reading"
   ]
  },
  {
   "cell_type": "markdown",
   "metadata": {},
   "source": [
    "# Loading the data"
   ]
  },
  {
   "cell_type": "code",
   "execution_count": 4,
   "metadata": {},
   "outputs": [
    {
     "name": "stdout",
     "output_type": "stream",
     "text": [
      "[*********************100%%**********************]  1 of 1 completed\n"
     ]
    }
   ],
   "source": [
    "data = data_reader.read_data(type = TYPE_OF_DATA, frequency = FREQUENCY)\n",
    "# this is just in case there are more CSVs of the same type and frequency, the data should be the first in the list\n",
    "if len(data) > 1:\n",
    "    data = data[0]\n",
    "\n",
    "simple_data = data_loader.get_simle_data()"
   ]
  },
  {
   "cell_type": "markdown",
   "metadata": {},
   "source": [
    "# Prepare the data"
   ]
  },
  {
   "cell_type": "code",
   "execution_count": 4,
   "metadata": {},
   "outputs": [],
   "source": [
    "# pass full data at maximum granularity and produce according to frequency parameter"
   ]
  },
  {
   "cell_type": "code",
   "execution_count": 6,
   "metadata": {},
   "outputs": [],
   "source": [
    "tscv_data = create_tscv_dataset(data = simple_data, context_length=CONTEXT_LENGTH, n_folds=FOLDS, prediction_horizon=PREDICTION_LENGTH, max_folds=False)"
   ]
  },
  {
   "cell_type": "markdown",
   "metadata": {},
   "source": [
    "# Models"
   ]
  },
  {
   "cell_type": "code",
   "execution_count": 7,
   "metadata": {},
   "outputs": [],
   "source": [
    "# arima\n"
   ]
  },
  {
   "cell_type": "code",
   "execution_count": 8,
   "metadata": {},
   "outputs": [],
   "source": [
    "# lag llama"
   ]
  },
  {
   "cell_type": "markdown",
   "metadata": {},
   "source": [
    "# Run regular experiment"
   ]
  },
  {
   "cell_type": "code",
   "execution_count": null,
   "metadata": {},
   "outputs": [],
   "source": [
    "results = run_experiment(data = data, prediction_length = PREDICTION_LENGTH)"
   ]
  },
  {
   "cell_type": "markdown",
   "metadata": {},
   "source": [
    "# Evaluation"
   ]
  },
  {
   "cell_type": "code",
   "execution_count": null,
   "metadata": {},
   "outputs": [],
   "source": [
    "results"
   ]
  },
  {
   "cell_type": "markdown",
   "metadata": {},
   "source": [
    "# Run TSCV experiment"
   ]
  },
  {
   "cell_type": "markdown",
   "metadata": {},
   "source": [
    "look up tzpes of TSCV"
   ]
  },
  {
   "cell_type": "code",
   "execution_count": 10,
   "metadata": {},
   "outputs": [
    {
     "name": "stdout",
     "output_type": "stream",
     "text": [
      "y0 done  1\n",
      "------------\n",
      "y1 done  2\n",
      "------------\n",
      "y2 done  3\n",
      "------------\n",
      "y3 done  4\n",
      "------------\n",
      "y4 done  5\n",
      "------------\n",
      "y5 done  6\n",
      "------------\n",
      "y6 done  7\n",
      "------------\n",
      "y7 done  8\n",
      "------------\n",
      "y8 done  9\n",
      "------------\n",
      "y9 done  10\n",
      "------------\n"
     ]
    }
   ],
   "source": [
    "tscv_results, prediction = run_experiment(data=tscv_data, tscv=True)"
   ]
  },
  {
   "cell_type": "code",
   "execution_count": 11,
   "metadata": {},
   "outputs": [
    {
     "data": {
      "text/plain": [
       "{'r2': {'arima': -0.8036159605688358, 'llama': -4.690321882253741},\n",
       " 'mse': {'arima': 9.014638013311012, 'llama': 28.440750730306206},\n",
       " 'mae': {'arima': 2.712121007999187, 'llama': 4.178632465124013},\n",
       " 'rmse': {'arima': 3.0024386776936867, 'llama': 5.332987036390226}}"
      ]
     },
     "execution_count": 11,
     "metadata": {},
     "output_type": "execute_result"
    }
   ],
   "source": [
    "tscv_results"
   ]
  },
  {
   "cell_type": "markdown",
   "metadata": {},
   "source": [
    "# SKLearn TSCV"
   ]
  },
  {
   "cell_type": "code",
   "execution_count": 3,
   "metadata": {},
   "outputs": [
    {
     "name": "stdout",
     "output_type": "stream",
     "text": [
      "[*********************100%%**********************]  1 of 1 completed\n"
     ]
    }
   ],
   "source": [
    "simple_data = data_loader.get_simle_data()"
   ]
  },
  {
   "cell_type": "code",
   "execution_count": 4,
   "metadata": {},
   "outputs": [],
   "source": [
    "# sklearn tscv object\n",
    "tscv = TimeSeriesSplit(n_splits=FOLDS, test_size=PREDICTION_LENGTH)\n"
   ]
  },
  {
   "cell_type": "markdown",
   "metadata": {},
   "source": [
    "expanding or rolling window?\n",
    "\n",
    "suggestion: do rolling window!"
   ]
  },
  {
   "cell_type": "code",
   "execution_count": 5,
   "metadata": {},
   "outputs": [],
   "source": [
    "# extracting the time-series data from original data\n",
    "series = simple_data[\"y\"]"
   ]
  },
  {
   "cell_type": "markdown",
   "metadata": {},
   "source": [
    "- put metrics in dataframe. one for arima, one for lag llama  DONE\n",
    "- each column metric, each row is a fold  DONE\n",
    "- create wrapper function get_metrics(predicted, actual) returns pd.DataFrame of description above\n",
    "- by end of day have a table   DONE\n",
    "- agenda of the presentation by 12   DONE\n",
    "- implement autoregressor forecast t1 = t0     DONE\n",
    "- implement frequency experimentation          DONE\n",
    "- start training date global parameter"
   ]
  },
  {
   "cell_type": "code",
   "execution_count": null,
   "metadata": {},
   "outputs": [],
   "source": [
    "# initializing the list of models, metrics and emptz result dict\n",
    "models=[\"arima\", \"llama\"]\n",
    "metrics=[\"r2\", \"mse\", \"mae\", \"rmse\", \"mda\"]\n",
    "results = {metric: {model: {f\"fold_{i}\": [] for i in range(FOLDS)} for model in models} for metric in metrics}\n",
    "\n",
    "arima_results = pd.DataFrame(columns=metrics)\n",
    "llama_results = pd.DataFrame(columns= metrics)\n",
    "autoregressor_results = pd.DataFrame(columns=metrics)\n",
    "\n",
    "\n",
    "\n",
    "\n",
    "i = 0\n",
    "# iterating over all the folds\n",
    "for train_index, test_index in tscv.split(series):\n",
    "    # subsetting the original data according to train/test split\n",
    "    train = simple_data.iloc[train_index]\n",
    "    valid = list(simple_data.iloc[test_index][\"y\"])\n",
    "\n",
    "    # for my testing purposes\n",
    "    #print(train[\"y\"])\n",
    "    #print(train[\"y\"].iloc[-1])\n",
    "\n",
    "\n",
    "    # inputting data into the models\n",
    "    arima_model = arima.get_autoarima(train)\n",
    "    autoarima_predictions = arima.autoarima_predictions(arima_model, PREDICTION_LENGTH)\n",
    "    lag_llama_predictions, tss = lag_llama.get_lam_llama_forecast(train, PREDICTION_LENGTH, context_length=CONTEXT_LENGTH)\n",
    "    lag_llama_predictions = list(lag_llama_predictions[0].samples.mean(axis = 0))\n",
    "    autoregressor_predictions = autoregressor.get_autoregressor_prediction(train, PREDICTION_LENGTH)\n",
    "\n",
    "    \"\"\"\n",
    "    print(i)\n",
    "    print(\"----------\")\n",
    "    print(len(lag_llama_predictions))\n",
    "    print(\"--------------\")\n",
    "    print(len(valid))\n",
    "    print(\"---------------\")\n",
    "    print(PREDICTION_LENGTH)\n",
    "    print(\"------------------\")\n",
    "    print(r2_score(valid, lag_llama_predictions))\n",
    "    \"\"\"\n",
    "\n",
    "    # for my own testing purposes\n",
    "    \"\"\"\n",
    "    print(autoarima_predictions)\n",
    "    print(lag_llama_predictions)\n",
    "    print(valid)\n",
    "    \"\"\"\n",
    "\n",
    "    # recording the metrics\n",
    "    \"\"\"\n",
    "    results[\"r2\"][\"arima\"][f\"fold_{i}\"].append(r2_score(valid, autoarima_predictions))\n",
    "    results[\"mse\"][\"arima\"][f\"fold_{i}\"].append(mean_squared_error(valid, autoarima_predictions))\n",
    "    results[\"mae\"][\"arima\"][f\"fold_{i}\"].append(mean_absolute_error(valid, autoarima_predictions))\n",
    "    results[\"rmse\"][\"arima\"][f\"fold_{i}\"].append(np.sqrt(mean_squared_error(valid, autoarima_predictions)))\n",
    "\n",
    "    results[\"r2\"][\"llama\"][f\"fold_{i}\"].append(r2_score(valid, lag_llama_predictions))\n",
    "    results[\"mse\"][\"llama\"][f\"fold_{i}\"].append(mean_squared_error(valid, lag_llama_predictions))\n",
    "    results[\"mae\"][\"llama\"][f\"fold_{i}\"].append(mean_absolute_error(valid, lag_llama_predictions))\n",
    "    results[\"rmse\"][\"llama\"][f\"fold_{i}\"].append(np.sqrt(mean_squared_error(valid, lag_llama_predictions)))\n",
    "    \"\"\"\n",
    "\n",
    "    arima_metrics = [r2_score(valid, autoarima_predictions), \n",
    "               mean_squared_error(valid, autoarima_predictions), \n",
    "               mean_absolute_error(valid, autoarima_predictions),\n",
    "               np.sqrt(mean_squared_error(valid, autoarima_predictions)),\n",
    "               mean_directional_accuracy(valid, autoarima_predictions, train[\"y\"].iloc[-1])]\n",
    "    \n",
    "    llama_metrics = [r2_score(valid, lag_llama_predictions), \n",
    "               mean_squared_error(valid, lag_llama_predictions), \n",
    "               mean_absolute_error(valid, lag_llama_predictions),\n",
    "               np.sqrt(mean_squared_error(valid, lag_llama_predictions)),\n",
    "               mean_directional_accuracy(valid, lag_llama_predictions, train[\"y\"].iloc[-1])]\n",
    "    \n",
    "    autoregressor_metrics = [r2_score(valid, autoregressor_predictions), \n",
    "               mean_squared_error(valid, autoregressor_predictions), \n",
    "               mean_absolute_error(valid, autoregressor_predictions),\n",
    "               np.sqrt(mean_squared_error(valid, autoregressor_predictions)),\n",
    "               mean_directional_accuracy(valid, autoregressor_predictions, train[\"y\"].iloc[-1])]\n",
    "\n",
    "    arima_results = pd.concat([arima_results, pd.DataFrame([arima_metrics], columns=metrics)], ignore_index=True)\n",
    "    llama_results = pd.concat([llama_results, pd.DataFrame([llama_metrics], columns=metrics)], ignore_index=True)\n",
    "    autoregressor_results = pd.concat([autoregressor_results, pd.DataFrame([autoregressor_metrics], columns=metrics)], ignore_index=True)\n",
    "\n",
    "\n",
    "    i += 1"
   ]
  },
  {
   "cell_type": "code",
   "execution_count": 18,
   "metadata": {},
   "outputs": [
    {
     "data": {
      "text/html": [
       "<div>\n",
       "<style scoped>\n",
       "    .dataframe tbody tr th:only-of-type {\n",
       "        vertical-align: middle;\n",
       "    }\n",
       "\n",
       "    .dataframe tbody tr th {\n",
       "        vertical-align: top;\n",
       "    }\n",
       "\n",
       "    .dataframe thead th {\n",
       "        text-align: right;\n",
       "    }\n",
       "</style>\n",
       "<table border=\"1\" class=\"dataframe\">\n",
       "  <thead>\n",
       "    <tr style=\"text-align: right;\">\n",
       "      <th></th>\n",
       "      <th>r2</th>\n",
       "      <th>mse</th>\n",
       "      <th>mae</th>\n",
       "      <th>rmse</th>\n",
       "      <th>mda</th>\n",
       "    </tr>\n",
       "  </thead>\n",
       "  <tbody>\n",
       "    <tr>\n",
       "      <th>0</th>\n",
       "      <td>-10.146053</td>\n",
       "      <td>33.415565</td>\n",
       "      <td>5.512960</td>\n",
       "      <td>5.780620</td>\n",
       "      <td>0.2</td>\n",
       "    </tr>\n",
       "    <tr>\n",
       "      <th>1</th>\n",
       "      <td>-1.069529</td>\n",
       "      <td>56.237796</td>\n",
       "      <td>5.979982</td>\n",
       "      <td>7.499186</td>\n",
       "      <td>0.8</td>\n",
       "    </tr>\n",
       "    <tr>\n",
       "      <th>2</th>\n",
       "      <td>-0.021127</td>\n",
       "      <td>5.389042</td>\n",
       "      <td>1.626925</td>\n",
       "      <td>2.321431</td>\n",
       "      <td>0.4</td>\n",
       "    </tr>\n",
       "    <tr>\n",
       "      <th>3</th>\n",
       "      <td>-0.130501</td>\n",
       "      <td>2.120663</td>\n",
       "      <td>1.296481</td>\n",
       "      <td>1.456249</td>\n",
       "      <td>0.6</td>\n",
       "    </tr>\n",
       "    <tr>\n",
       "      <th>4</th>\n",
       "      <td>0.009028</td>\n",
       "      <td>14.090569</td>\n",
       "      <td>3.312309</td>\n",
       "      <td>3.753741</td>\n",
       "      <td>0.5</td>\n",
       "    </tr>\n",
       "    <tr>\n",
       "      <th>5</th>\n",
       "      <td>-1.962910</td>\n",
       "      <td>94.272351</td>\n",
       "      <td>7.710001</td>\n",
       "      <td>9.709395</td>\n",
       "      <td>0.4</td>\n",
       "    </tr>\n",
       "    <tr>\n",
       "      <th>6</th>\n",
       "      <td>-2.799649</td>\n",
       "      <td>39.613602</td>\n",
       "      <td>5.353981</td>\n",
       "      <td>6.293934</td>\n",
       "      <td>0.1</td>\n",
       "    </tr>\n",
       "    <tr>\n",
       "      <th>7</th>\n",
       "      <td>-0.137856</td>\n",
       "      <td>7.045263</td>\n",
       "      <td>2.276720</td>\n",
       "      <td>2.654291</td>\n",
       "      <td>0.9</td>\n",
       "    </tr>\n",
       "    <tr>\n",
       "      <th>8</th>\n",
       "      <td>-1.762008</td>\n",
       "      <td>200.092281</td>\n",
       "      <td>12.148269</td>\n",
       "      <td>14.145398</td>\n",
       "      <td>0.4</td>\n",
       "    </tr>\n",
       "    <tr>\n",
       "      <th>9</th>\n",
       "      <td>-0.884450</td>\n",
       "      <td>68.486433</td>\n",
       "      <td>6.201827</td>\n",
       "      <td>8.275653</td>\n",
       "      <td>0.1</td>\n",
       "    </tr>\n",
       "  </tbody>\n",
       "</table>\n",
       "</div>"
      ],
      "text/plain": [
       "          r2         mse        mae       rmse  mda\n",
       "0 -10.146053   33.415565   5.512960   5.780620  0.2\n",
       "1  -1.069529   56.237796   5.979982   7.499186  0.8\n",
       "2  -0.021127    5.389042   1.626925   2.321431  0.4\n",
       "3  -0.130501    2.120663   1.296481   1.456249  0.6\n",
       "4   0.009028   14.090569   3.312309   3.753741  0.5\n",
       "5  -1.962910   94.272351   7.710001   9.709395  0.4\n",
       "6  -2.799649   39.613602   5.353981   6.293934  0.1\n",
       "7  -0.137856    7.045263   2.276720   2.654291  0.9\n",
       "8  -1.762008  200.092281  12.148269  14.145398  0.4\n",
       "9  -0.884450   68.486433   6.201827   8.275653  0.1"
      ]
     },
     "execution_count": 18,
     "metadata": {},
     "output_type": "execute_result"
    }
   ],
   "source": [
    "arima_results"
   ]
  },
  {
   "cell_type": "code",
   "execution_count": 19,
   "metadata": {},
   "outputs": [],
   "source": [
    "arima_summary = pd.DataFrame({\n",
    "    'r2': [arima_results['r2'].mean(), arima_results['r2'].median(), arima_results['r2'].std()],\n",
    "    'mse': [arima_results['mse'].mean(), arima_results['mse'].median(), arima_results['mse'].std()],\n",
    "    'mae': [arima_results['mae'].mean(), arima_results['mae'].median(), arima_results['mae'].std()],\n",
    "    'rmse': [arima_results['rmse'].mean(), arima_results['rmse'].median(), arima_results['rmse'].std()],\n",
    "    'mda': [arima_results['mda'].mean(), arima_results['mda'].median(), arima_results['mda'].std()]\n",
    "}, index=['mean', 'median', 'std'])"
   ]
  },
  {
   "cell_type": "code",
   "execution_count": 20,
   "metadata": {},
   "outputs": [
    {
     "data": {
      "text/html": [
       "<div>\n",
       "<style scoped>\n",
       "    .dataframe tbody tr th:only-of-type {\n",
       "        vertical-align: middle;\n",
       "    }\n",
       "\n",
       "    .dataframe tbody tr th {\n",
       "        vertical-align: top;\n",
       "    }\n",
       "\n",
       "    .dataframe thead th {\n",
       "        text-align: right;\n",
       "    }\n",
       "</style>\n",
       "<table border=\"1\" class=\"dataframe\">\n",
       "  <thead>\n",
       "    <tr style=\"text-align: right;\">\n",
       "      <th></th>\n",
       "      <th>r2</th>\n",
       "      <th>mse</th>\n",
       "      <th>mae</th>\n",
       "      <th>rmse</th>\n",
       "      <th>mda</th>\n",
       "    </tr>\n",
       "  </thead>\n",
       "  <tbody>\n",
       "    <tr>\n",
       "      <th>mean</th>\n",
       "      <td>-1.890506</td>\n",
       "      <td>52.076356</td>\n",
       "      <td>5.141945</td>\n",
       "      <td>6.188990</td>\n",
       "      <td>0.440000</td>\n",
       "    </tr>\n",
       "    <tr>\n",
       "      <th>median</th>\n",
       "      <td>-0.976990</td>\n",
       "      <td>36.514584</td>\n",
       "      <td>5.433470</td>\n",
       "      <td>6.037277</td>\n",
       "      <td>0.400000</td>\n",
       "    </tr>\n",
       "    <tr>\n",
       "      <th>std</th>\n",
       "      <td>3.054336</td>\n",
       "      <td>60.208310</td>\n",
       "      <td>3.272644</td>\n",
       "      <td>3.911914</td>\n",
       "      <td>0.271621</td>\n",
       "    </tr>\n",
       "  </tbody>\n",
       "</table>\n",
       "</div>"
      ],
      "text/plain": [
       "              r2        mse       mae      rmse       mda\n",
       "mean   -1.890506  52.076356  5.141945  6.188990  0.440000\n",
       "median -0.976990  36.514584  5.433470  6.037277  0.400000\n",
       "std     3.054336  60.208310  3.272644  3.911914  0.271621"
      ]
     },
     "execution_count": 20,
     "metadata": {},
     "output_type": "execute_result"
    }
   ],
   "source": [
    "arima_summary"
   ]
  },
  {
   "cell_type": "code",
   "execution_count": 21,
   "metadata": {},
   "outputs": [
    {
     "data": {
      "text/html": [
       "<div>\n",
       "<style scoped>\n",
       "    .dataframe tbody tr th:only-of-type {\n",
       "        vertical-align: middle;\n",
       "    }\n",
       "\n",
       "    .dataframe tbody tr th {\n",
       "        vertical-align: top;\n",
       "    }\n",
       "\n",
       "    .dataframe thead th {\n",
       "        text-align: right;\n",
       "    }\n",
       "</style>\n",
       "<table border=\"1\" class=\"dataframe\">\n",
       "  <thead>\n",
       "    <tr style=\"text-align: right;\">\n",
       "      <th></th>\n",
       "      <th>r2</th>\n",
       "      <th>mse</th>\n",
       "      <th>mae</th>\n",
       "      <th>rmse</th>\n",
       "      <th>mda</th>\n",
       "    </tr>\n",
       "  </thead>\n",
       "  <tbody>\n",
       "    <tr>\n",
       "      <th>0</th>\n",
       "      <td>-11.283636</td>\n",
       "      <td>36.826008</td>\n",
       "      <td>5.202384</td>\n",
       "      <td>6.068444</td>\n",
       "      <td>0.6</td>\n",
       "    </tr>\n",
       "    <tr>\n",
       "      <th>1</th>\n",
       "      <td>-6.114432</td>\n",
       "      <td>193.328999</td>\n",
       "      <td>12.492389</td>\n",
       "      <td>13.904280</td>\n",
       "      <td>0.3</td>\n",
       "    </tr>\n",
       "    <tr>\n",
       "      <th>2</th>\n",
       "      <td>-27.709435</td>\n",
       "      <td>151.515247</td>\n",
       "      <td>12.034618</td>\n",
       "      <td>12.309153</td>\n",
       "      <td>0.5</td>\n",
       "    </tr>\n",
       "    <tr>\n",
       "      <th>3</th>\n",
       "      <td>-117.051050</td>\n",
       "      <td>221.447375</td>\n",
       "      <td>14.750225</td>\n",
       "      <td>14.881108</td>\n",
       "      <td>0.5</td>\n",
       "    </tr>\n",
       "    <tr>\n",
       "      <th>4</th>\n",
       "      <td>-10.914719</td>\n",
       "      <td>169.414716</td>\n",
       "      <td>12.395660</td>\n",
       "      <td>13.015941</td>\n",
       "      <td>0.5</td>\n",
       "    </tr>\n",
       "    <tr>\n",
       "      <th>5</th>\n",
       "      <td>-2.360813</td>\n",
       "      <td>106.932600</td>\n",
       "      <td>9.050172</td>\n",
       "      <td>10.340822</td>\n",
       "      <td>0.6</td>\n",
       "    </tr>\n",
       "    <tr>\n",
       "      <th>6</th>\n",
       "      <td>-2.001025</td>\n",
       "      <td>31.287475</td>\n",
       "      <td>4.966641</td>\n",
       "      <td>5.593521</td>\n",
       "      <td>0.6</td>\n",
       "    </tr>\n",
       "    <tr>\n",
       "      <th>7</th>\n",
       "      <td>-10.787917</td>\n",
       "      <td>72.987215</td>\n",
       "      <td>7.751465</td>\n",
       "      <td>8.543256</td>\n",
       "      <td>0.4</td>\n",
       "    </tr>\n",
       "    <tr>\n",
       "      <th>8</th>\n",
       "      <td>-7.082025</td>\n",
       "      <td>585.498344</td>\n",
       "      <td>22.845116</td>\n",
       "      <td>24.197073</td>\n",
       "      <td>0.5</td>\n",
       "    </tr>\n",
       "    <tr>\n",
       "      <th>9</th>\n",
       "      <td>-26.135169</td>\n",
       "      <td>986.171396</td>\n",
       "      <td>30.635747</td>\n",
       "      <td>31.403366</td>\n",
       "      <td>0.4</td>\n",
       "    </tr>\n",
       "  </tbody>\n",
       "</table>\n",
       "</div>"
      ],
      "text/plain": [
       "           r2         mse        mae       rmse  mda\n",
       "0  -11.283636   36.826008   5.202384   6.068444  0.6\n",
       "1   -6.114432  193.328999  12.492389  13.904280  0.3\n",
       "2  -27.709435  151.515247  12.034618  12.309153  0.5\n",
       "3 -117.051050  221.447375  14.750225  14.881108  0.5\n",
       "4  -10.914719  169.414716  12.395660  13.015941  0.5\n",
       "5   -2.360813  106.932600   9.050172  10.340822  0.6\n",
       "6   -2.001025   31.287475   4.966641   5.593521  0.6\n",
       "7  -10.787917   72.987215   7.751465   8.543256  0.4\n",
       "8   -7.082025  585.498344  22.845116  24.197073  0.5\n",
       "9  -26.135169  986.171396  30.635747  31.403366  0.4"
      ]
     },
     "execution_count": 21,
     "metadata": {},
     "output_type": "execute_result"
    }
   ],
   "source": [
    "llama_results"
   ]
  },
  {
   "cell_type": "code",
   "execution_count": 22,
   "metadata": {},
   "outputs": [],
   "source": [
    "llama_summary = pd.DataFrame({\n",
    "    'r2': [llama_results['r2'].mean(), llama_results['r2'].median(), llama_results['r2'].std()],\n",
    "    'mse': [llama_results['mse'].mean(), llama_results['mse'].median(), llama_results['mse'].std()],\n",
    "    'mae': [llama_results['mae'].mean(), llama_results['mae'].median(), llama_results['mae'].std()],\n",
    "    'rmse': [llama_results['rmse'].mean(), llama_results['rmse'].median(), llama_results['rmse'].std()],\n",
    "    'mda': [llama_results['mda'].mean(), llama_results['mda'].median(), llama_results['mda'].std()]\n",
    "}, index=['mean', 'median', 'std'])"
   ]
  },
  {
   "cell_type": "code",
   "execution_count": 23,
   "metadata": {},
   "outputs": [
    {
     "data": {
      "text/html": [
       "<div>\n",
       "<style scoped>\n",
       "    .dataframe tbody tr th:only-of-type {\n",
       "        vertical-align: middle;\n",
       "    }\n",
       "\n",
       "    .dataframe tbody tr th {\n",
       "        vertical-align: top;\n",
       "    }\n",
       "\n",
       "    .dataframe thead th {\n",
       "        text-align: right;\n",
       "    }\n",
       "</style>\n",
       "<table border=\"1\" class=\"dataframe\">\n",
       "  <thead>\n",
       "    <tr style=\"text-align: right;\">\n",
       "      <th></th>\n",
       "      <th>r2</th>\n",
       "      <th>mse</th>\n",
       "      <th>mae</th>\n",
       "      <th>rmse</th>\n",
       "      <th>mda</th>\n",
       "    </tr>\n",
       "  </thead>\n",
       "  <tbody>\n",
       "    <tr>\n",
       "      <th>mean</th>\n",
       "      <td>-22.144022</td>\n",
       "      <td>255.540937</td>\n",
       "      <td>13.212442</td>\n",
       "      <td>14.025696</td>\n",
       "      <td>0.490000</td>\n",
       "    </tr>\n",
       "    <tr>\n",
       "      <th>median</th>\n",
       "      <td>-10.851318</td>\n",
       "      <td>160.464981</td>\n",
       "      <td>12.215139</td>\n",
       "      <td>12.662547</td>\n",
       "      <td>0.500000</td>\n",
       "    </tr>\n",
       "    <tr>\n",
       "      <th>std</th>\n",
       "      <td>34.493446</td>\n",
       "      <td>301.754252</td>\n",
       "      <td>8.031871</td>\n",
       "      <td>8.084332</td>\n",
       "      <td>0.099443</td>\n",
       "    </tr>\n",
       "  </tbody>\n",
       "</table>\n",
       "</div>"
      ],
      "text/plain": [
       "               r2         mse        mae       rmse       mda\n",
       "mean   -22.144022  255.540937  13.212442  14.025696  0.490000\n",
       "median -10.851318  160.464981  12.215139  12.662547  0.500000\n",
       "std     34.493446  301.754252   8.031871   8.084332  0.099443"
      ]
     },
     "execution_count": 23,
     "metadata": {},
     "output_type": "execute_result"
    }
   ],
   "source": [
    "llama_summary"
   ]
  },
  {
   "cell_type": "code",
   "execution_count": 25,
   "metadata": {},
   "outputs": [
    {
     "data": {
      "text/html": [
       "<div>\n",
       "<style scoped>\n",
       "    .dataframe tbody tr th:only-of-type {\n",
       "        vertical-align: middle;\n",
       "    }\n",
       "\n",
       "    .dataframe tbody tr th {\n",
       "        vertical-align: top;\n",
       "    }\n",
       "\n",
       "    .dataframe thead th {\n",
       "        text-align: right;\n",
       "    }\n",
       "</style>\n",
       "<table border=\"1\" class=\"dataframe\">\n",
       "  <thead>\n",
       "    <tr style=\"text-align: right;\">\n",
       "      <th></th>\n",
       "      <th>r2</th>\n",
       "      <th>mse</th>\n",
       "      <th>mae</th>\n",
       "      <th>rmse</th>\n",
       "      <th>mda</th>\n",
       "    </tr>\n",
       "  </thead>\n",
       "  <tbody>\n",
       "    <tr>\n",
       "      <th>0</th>\n",
       "      <td>-9.748225</td>\n",
       "      <td>32.222889</td>\n",
       "      <td>5.406007</td>\n",
       "      <td>5.676521</td>\n",
       "      <td>0.0</td>\n",
       "    </tr>\n",
       "    <tr>\n",
       "      <th>1</th>\n",
       "      <td>-1.338956</td>\n",
       "      <td>63.559268</td>\n",
       "      <td>6.378003</td>\n",
       "      <td>7.972407</td>\n",
       "      <td>0.0</td>\n",
       "    </tr>\n",
       "    <tr>\n",
       "      <th>2</th>\n",
       "      <td>-0.056281</td>\n",
       "      <td>5.574567</td>\n",
       "      <td>1.645000</td>\n",
       "      <td>2.361052</td>\n",
       "      <td>0.0</td>\n",
       "    </tr>\n",
       "    <tr>\n",
       "      <th>3</th>\n",
       "      <td>-0.427978</td>\n",
       "      <td>2.678689</td>\n",
       "      <td>1.514003</td>\n",
       "      <td>1.636670</td>\n",
       "      <td>0.0</td>\n",
       "    </tr>\n",
       "    <tr>\n",
       "      <th>4</th>\n",
       "      <td>-0.004325</td>\n",
       "      <td>14.280447</td>\n",
       "      <td>3.302000</td>\n",
       "      <td>3.778948</td>\n",
       "      <td>0.0</td>\n",
       "    </tr>\n",
       "    <tr>\n",
       "      <th>5</th>\n",
       "      <td>-1.668451</td>\n",
       "      <td>84.903390</td>\n",
       "      <td>7.286008</td>\n",
       "      <td>9.214304</td>\n",
       "      <td>0.0</td>\n",
       "    </tr>\n",
       "    <tr>\n",
       "      <th>6</th>\n",
       "      <td>-2.683164</td>\n",
       "      <td>38.399180</td>\n",
       "      <td>5.289006</td>\n",
       "      <td>6.196707</td>\n",
       "      <td>0.0</td>\n",
       "    </tr>\n",
       "    <tr>\n",
       "      <th>7</th>\n",
       "      <td>-0.095014</td>\n",
       "      <td>6.779998</td>\n",
       "      <td>2.207004</td>\n",
       "      <td>2.603843</td>\n",
       "      <td>0.0</td>\n",
       "    </tr>\n",
       "    <tr>\n",
       "      <th>8</th>\n",
       "      <td>-1.774466</td>\n",
       "      <td>200.994832</td>\n",
       "      <td>12.166003</td>\n",
       "      <td>14.177265</td>\n",
       "      <td>0.0</td>\n",
       "    </tr>\n",
       "    <tr>\n",
       "      <th>9</th>\n",
       "      <td>-0.709524</td>\n",
       "      <td>62.129100</td>\n",
       "      <td>5.946002</td>\n",
       "      <td>7.882201</td>\n",
       "      <td>0.0</td>\n",
       "    </tr>\n",
       "  </tbody>\n",
       "</table>\n",
       "</div>"
      ],
      "text/plain": [
       "         r2         mse        mae       rmse  mda\n",
       "0 -9.748225   32.222889   5.406007   5.676521  0.0\n",
       "1 -1.338956   63.559268   6.378003   7.972407  0.0\n",
       "2 -0.056281    5.574567   1.645000   2.361052  0.0\n",
       "3 -0.427978    2.678689   1.514003   1.636670  0.0\n",
       "4 -0.004325   14.280447   3.302000   3.778948  0.0\n",
       "5 -1.668451   84.903390   7.286008   9.214304  0.0\n",
       "6 -2.683164   38.399180   5.289006   6.196707  0.0\n",
       "7 -0.095014    6.779998   2.207004   2.603843  0.0\n",
       "8 -1.774466  200.994832  12.166003  14.177265  0.0\n",
       "9 -0.709524   62.129100   5.946002   7.882201  0.0"
      ]
     },
     "execution_count": 25,
     "metadata": {},
     "output_type": "execute_result"
    }
   ],
   "source": [
    "autoregressor_results"
   ]
  },
  {
   "cell_type": "code",
   "execution_count": 24,
   "metadata": {},
   "outputs": [
    {
     "data": {
      "text/html": [
       "<div>\n",
       "<style scoped>\n",
       "    .dataframe tbody tr th:only-of-type {\n",
       "        vertical-align: middle;\n",
       "    }\n",
       "\n",
       "    .dataframe tbody tr th {\n",
       "        vertical-align: top;\n",
       "    }\n",
       "\n",
       "    .dataframe thead th {\n",
       "        text-align: right;\n",
       "    }\n",
       "</style>\n",
       "<table border=\"1\" class=\"dataframe\">\n",
       "  <thead>\n",
       "    <tr style=\"text-align: right;\">\n",
       "      <th></th>\n",
       "      <th>r2</th>\n",
       "      <th>mse</th>\n",
       "      <th>mae</th>\n",
       "      <th>rmse</th>\n",
       "      <th>mda</th>\n",
       "    </tr>\n",
       "  </thead>\n",
       "  <tbody>\n",
       "    <tr>\n",
       "      <th>mean</th>\n",
       "      <td>-20.253517</td>\n",
       "      <td>203.464581</td>\n",
       "      <td>8.070496</td>\n",
       "      <td>7.836706</td>\n",
       "      <td>0.050000</td>\n",
       "    </tr>\n",
       "    <tr>\n",
       "      <th>median</th>\n",
       "      <td>-9.874328</td>\n",
       "      <td>123.950398</td>\n",
       "      <td>6.781669</td>\n",
       "      <td>6.625270</td>\n",
       "      <td>0.100000</td>\n",
       "    </tr>\n",
       "    <tr>\n",
       "      <th>std</th>\n",
       "      <td>31.439111</td>\n",
       "      <td>241.545942</td>\n",
       "      <td>4.759227</td>\n",
       "      <td>4.172418</td>\n",
       "      <td>-0.172178</td>\n",
       "    </tr>\n",
       "  </tbody>\n",
       "</table>\n",
       "</div>"
      ],
      "text/plain": [
       "               r2         mse       mae      rmse       mda\n",
       "mean   -20.253517  203.464581  8.070496  7.836706  0.050000\n",
       "median  -9.874328  123.950398  6.781669  6.625270  0.100000\n",
       "std     31.439111  241.545942  4.759227  4.172418 -0.172178"
      ]
     },
     "execution_count": 24,
     "metadata": {},
     "output_type": "execute_result"
    }
   ],
   "source": [
    "llama_summary - arima_summary"
   ]
  },
  {
   "cell_type": "markdown",
   "metadata": {},
   "source": [
    "- find a way to show difference between tables\n",
    "- different tables for different statistics !!! (mean, median, std)\n",
    "- visualize (plot the results) PLOTLY\n",
    "- a plot for each fold\n",
    "- implement frequency for simple data\n",
    "- enforce try\n",
    "- when running tscv print time for every fold, train size\n",
    "- start adding more models - fine tuned lag llama first, prophet, others\n",
    "- do we want any more metrics? Are we missing anything in order to be able to say which model is better\n",
    "- CLEAN UP THE CODE\n",
    "\n",
    "expanding or rolling window? - an idea for experiment\n",
    "Try using rolling for now\n",
    "\n",
    "suggestion: do rolling window!\n",
    "\n",
    "\n",
    "MAIN POINTS: VISUALIZATION, RESULTS REPRESENTATION, "
   ]
  },
  {
   "cell_type": "code",
   "execution_count": 5,
   "metadata": {},
   "outputs": [
    {
     "name": "stderr",
     "output_type": "stream",
     "text": [
      "c:\\Users\\topco\\Dokumenti\\MSc Banking and Digital Finance UCL\\Modules\\Dissertation\\MSc_dissertation\\modules\\experiment\\tscv.py:97: FutureWarning: The behavior of DataFrame concatenation with empty or all-NA entries is deprecated. In a future version, this will no longer exclude empty or all-NA columns when determining the result dtypes. To retain the old behavior, exclude the relevant entries before the concat operation.\n",
      "  arima_results = pd.concat([arima_results, pd.DataFrame([arima_metrics], columns=metrics)], ignore_index=True)\n",
      "c:\\Users\\topco\\Dokumenti\\MSc Banking and Digital Finance UCL\\Modules\\Dissertation\\MSc_dissertation\\modules\\experiment\\tscv.py:98: FutureWarning: The behavior of DataFrame concatenation with empty or all-NA entries is deprecated. In a future version, this will no longer exclude empty or all-NA columns when determining the result dtypes. To retain the old behavior, exclude the relevant entries before the concat operation.\n",
      "  llama_results = pd.concat([llama_results, pd.DataFrame([llama_metrics], columns=metrics)], ignore_index=True)\n",
      "c:\\Users\\topco\\Dokumenti\\MSc Banking and Digital Finance UCL\\Modules\\Dissertation\\MSc_dissertation\\modules\\experiment\\tscv.py:99: FutureWarning: The behavior of DataFrame concatenation with empty or all-NA entries is deprecated. In a future version, this will no longer exclude empty or all-NA columns when determining the result dtypes. To retain the old behavior, exclude the relevant entries before the concat operation.\n",
      "  autoregressor_results = pd.concat([autoregressor_results, pd.DataFrame([autoregressor_metrics], columns=metrics)], ignore_index=True)\n"
     ]
    }
   ],
   "source": [
    "r = get_tscv_results(simple_data, PREDICTION_LENGTH, CONTEXT_LENGTH, FOLDS)"
   ]
  },
  {
   "cell_type": "code",
   "execution_count": 6,
   "metadata": {},
   "outputs": [
    {
     "data": {
      "text/html": [
       "<div>\n",
       "<style scoped>\n",
       "    .dataframe tbody tr th:only-of-type {\n",
       "        vertical-align: middle;\n",
       "    }\n",
       "\n",
       "    .dataframe tbody tr th {\n",
       "        vertical-align: top;\n",
       "    }\n",
       "\n",
       "    .dataframe thead th {\n",
       "        text-align: right;\n",
       "    }\n",
       "</style>\n",
       "<table border=\"1\" class=\"dataframe\">\n",
       "  <thead>\n",
       "    <tr style=\"text-align: right;\">\n",
       "      <th></th>\n",
       "      <th>r2</th>\n",
       "      <th>mse</th>\n",
       "      <th>mae</th>\n",
       "      <th>rmse</th>\n",
       "      <th>mda</th>\n",
       "    </tr>\n",
       "  </thead>\n",
       "  <tbody>\n",
       "    <tr>\n",
       "      <th>0</th>\n",
       "      <td>-13.274006</td>\n",
       "      <td>21.218146</td>\n",
       "      <td>4.256425</td>\n",
       "      <td>4.606316</td>\n",
       "      <td>0.5</td>\n",
       "    </tr>\n",
       "    <tr>\n",
       "      <th>1</th>\n",
       "      <td>-9.038578</td>\n",
       "      <td>211.039324</td>\n",
       "      <td>13.815627</td>\n",
       "      <td>14.527193</td>\n",
       "      <td>0.6</td>\n",
       "    </tr>\n",
       "    <tr>\n",
       "      <th>2</th>\n",
       "      <td>-29.663061</td>\n",
       "      <td>197.422081</td>\n",
       "      <td>13.598468</td>\n",
       "      <td>14.050697</td>\n",
       "      <td>0.5</td>\n",
       "    </tr>\n",
       "    <tr>\n",
       "      <th>3</th>\n",
       "      <td>-86.839489</td>\n",
       "      <td>202.495180</td>\n",
       "      <td>13.579326</td>\n",
       "      <td>14.230080</td>\n",
       "      <td>0.3</td>\n",
       "    </tr>\n",
       "    <tr>\n",
       "      <th>4</th>\n",
       "      <td>-15.658197</td>\n",
       "      <td>232.383705</td>\n",
       "      <td>14.364067</td>\n",
       "      <td>15.244137</td>\n",
       "      <td>0.5</td>\n",
       "    </tr>\n",
       "    <tr>\n",
       "      <th>5</th>\n",
       "      <td>-1.011594</td>\n",
       "      <td>69.567857</td>\n",
       "      <td>6.912428</td>\n",
       "      <td>8.340735</td>\n",
       "      <td>0.6</td>\n",
       "    </tr>\n",
       "    <tr>\n",
       "      <th>6</th>\n",
       "      <td>-5.575005</td>\n",
       "      <td>54.845633</td>\n",
       "      <td>6.833412</td>\n",
       "      <td>7.405784</td>\n",
       "      <td>0.5</td>\n",
       "    </tr>\n",
       "    <tr>\n",
       "      <th>7</th>\n",
       "      <td>-10.396206</td>\n",
       "      <td>78.134016</td>\n",
       "      <td>8.484859</td>\n",
       "      <td>8.839345</td>\n",
       "      <td>0.6</td>\n",
       "    </tr>\n",
       "    <tr>\n",
       "      <th>8</th>\n",
       "      <td>-10.501955</td>\n",
       "      <td>627.542654</td>\n",
       "      <td>23.710963</td>\n",
       "      <td>25.050801</td>\n",
       "      <td>0.2</td>\n",
       "    </tr>\n",
       "    <tr>\n",
       "      <th>9</th>\n",
       "      <td>-24.231037</td>\n",
       "      <td>1109.889531</td>\n",
       "      <td>32.410317</td>\n",
       "      <td>33.315005</td>\n",
       "      <td>0.4</td>\n",
       "    </tr>\n",
       "  </tbody>\n",
       "</table>\n",
       "</div>"
      ],
      "text/plain": [
       "          r2          mse        mae       rmse  mda\n",
       "0 -13.274006    21.218146   4.256425   4.606316  0.5\n",
       "1  -9.038578   211.039324  13.815627  14.527193  0.6\n",
       "2 -29.663061   197.422081  13.598468  14.050697  0.5\n",
       "3 -86.839489   202.495180  13.579326  14.230080  0.3\n",
       "4 -15.658197   232.383705  14.364067  15.244137  0.5\n",
       "5  -1.011594    69.567857   6.912428   8.340735  0.6\n",
       "6  -5.575005    54.845633   6.833412   7.405784  0.5\n",
       "7 -10.396206    78.134016   8.484859   8.839345  0.6\n",
       "8 -10.501955   627.542654  23.710963  25.050801  0.2\n",
       "9 -24.231037  1109.889531  32.410317  33.315005  0.4"
      ]
     },
     "execution_count": 6,
     "metadata": {},
     "output_type": "execute_result"
    }
   ],
   "source": [
    "r[1] # 0 is arima, 1 is lag llama, 2 is autoregressor"
   ]
  },
  {
   "cell_type": "code",
   "execution_count": 7,
   "metadata": {},
   "outputs": [
    {
     "data": {
      "text/html": [
       "<div>\n",
       "<style scoped>\n",
       "    .dataframe tbody tr th:only-of-type {\n",
       "        vertical-align: middle;\n",
       "    }\n",
       "\n",
       "    .dataframe tbody tr th {\n",
       "        vertical-align: top;\n",
       "    }\n",
       "\n",
       "    .dataframe thead th {\n",
       "        text-align: right;\n",
       "    }\n",
       "</style>\n",
       "<table border=\"1\" class=\"dataframe\">\n",
       "  <thead>\n",
       "    <tr style=\"text-align: right;\">\n",
       "      <th></th>\n",
       "      <th>r2</th>\n",
       "      <th>mse</th>\n",
       "      <th>mae</th>\n",
       "      <th>rmse</th>\n",
       "      <th>mda</th>\n",
       "    </tr>\n",
       "  </thead>\n",
       "  <tbody>\n",
       "    <tr>\n",
       "      <th>mean</th>\n",
       "      <td>-20.618913</td>\n",
       "      <td>280.453813</td>\n",
       "      <td>13.796589</td>\n",
       "      <td>14.561009</td>\n",
       "      <td>0.470000</td>\n",
       "    </tr>\n",
       "    <tr>\n",
       "      <th>median</th>\n",
       "      <td>-11.887980</td>\n",
       "      <td>199.958631</td>\n",
       "      <td>13.588897</td>\n",
       "      <td>14.140388</td>\n",
       "      <td>0.500000</td>\n",
       "    </tr>\n",
       "    <tr>\n",
       "      <th>std</th>\n",
       "      <td>24.743780</td>\n",
       "      <td>338.631817</td>\n",
       "      <td>8.565313</td>\n",
       "      <td>8.719762</td>\n",
       "      <td>0.133749</td>\n",
       "    </tr>\n",
       "  </tbody>\n",
       "</table>\n",
       "</div>"
      ],
      "text/plain": [
       "               r2         mse        mae       rmse       mda\n",
       "mean   -20.618913  280.453813  13.796589  14.561009  0.470000\n",
       "median -11.887980  199.958631  13.588897  14.140388  0.500000\n",
       "std     24.743780  338.631817   8.565313   8.719762  0.133749"
      ]
     },
     "execution_count": 7,
     "metadata": {},
     "output_type": "execute_result"
    }
   ],
   "source": [
    "get_summary(r[1])"
   ]
  }
 ],
 "metadata": {
  "kernelspec": {
   "display_name": "Python 3",
   "language": "python",
   "name": "python3"
  },
  "language_info": {
   "codemirror_mode": {
    "name": "ipython",
    "version": 3
   },
   "file_extension": ".py",
   "mimetype": "text/x-python",
   "name": "python",
   "nbconvert_exporter": "python",
   "pygments_lexer": "ipython3",
   "version": "3.11.1"
  }
 },
 "nbformat": 4,
 "nbformat_minor": 2
}
