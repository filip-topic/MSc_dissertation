{
 "cells": [
  {
   "cell_type": "markdown",
   "metadata": {},
   "source": [
    "# Imports"
   ]
  },
  {
   "cell_type": "code",
   "execution_count": 1,
   "metadata": {},
   "outputs": [],
   "source": [
    "from modules.data import data_loader, data_splitter, data_reader\n",
    "from modules.models import arima, lag_llama, autoregressor\n",
    "from modules.evaluation import evaluate\n",
    "from sklearn.metrics import mean_squared_error, mean_absolute_error, r2_score\n",
    "from modules.experiment.experiment import run_experiment\n",
    "from modules.data.tscv import create_tscv_dataset\n",
    "from modules.experiment.tscv import get_tscv_results, mean_directional_accuracy, get_summary\n",
    "\n",
    "\n",
    "import numpy as np\n",
    "import pandas as pd\n",
    "import matplotlib.pyplot as plt\n",
    "import matplotlib.dates as mdates\n",
    "from itertools import islice\n",
    "from sklearn.model_selection import TimeSeriesSplit\n",
    "import plotly.graph_objs as go\n",
    "from plotly.subplots import make_subplots\n",
    "import dash\n",
    "from dash import dcc, html\n",
    "from dash.dependencies import Input, Output"
   ]
  },
  {
   "cell_type": "markdown",
   "metadata": {},
   "source": [
    "# Parameters"
   ]
  },
  {
   "cell_type": "code",
   "execution_count": 2,
   "metadata": {},
   "outputs": [],
   "source": [
    "PREDICTION_LENGTH = 10 # currentlz only works for PREDICTION_LENGTH > 1\n",
    "FREQUENCY = \"daily\" # currently we only have dailz frequency\n",
    "TYPE_OF_DATA = \"stock\" # currently we only have stock prices saved\n",
    "MODELS = [\"arima\", \"llama\"] # currentlz works onlz for these two\n",
    "FOLDS = 10 # for TSCV\n",
    "CONTEXT_LENGTH = 64\n",
    "\n",
    "#START_DATE = \n",
    "#END_DATE\n",
    "# want to add\n",
    "#TRAIN_PERIOD = # context lenghts. Should take a look into this\n",
    "#TRAIN_SIZE = \n",
    "\n",
    "\n"
   ]
  },
  {
   "cell_type": "markdown",
   "metadata": {},
   "source": [
    "# Notes"
   ]
  },
  {
   "cell_type": "markdown",
   "metadata": {},
   "source": [
    " - autoregressor\n",
    " - mean directional accuracy\n",
    " - ask\n",
    " - for each time-series create a whole dataframe for TSCV\n",
    "  - problem with this is with time horizon that is >1 \n",
    "  - prediction horizon is only for that value in the future"
   ]
  },
  {
   "cell_type": "markdown",
   "metadata": {},
   "source": [
    "# TO DO"
   ]
  },
  {
   "cell_type": "markdown",
   "metadata": {},
   "source": [
    " - create the TSCV experiment. It needs to create a table. Metrics for each fold\n",
    " - lit review\n",
    " - content for the presentation by monday!!\n",
    " - review data leakage risk\n",
    " - writing of the dissertation\n",
    " - autoregressor\n",
    " - MDA metric\n",
    " - frequency\n",
    "\n",
    " Writing\n",
    " - lit review\n",
    " - lit reading"
   ]
  },
  {
   "cell_type": "markdown",
   "metadata": {},
   "source": [
    "# Loading the data"
   ]
  },
  {
   "cell_type": "code",
   "execution_count": 3,
   "metadata": {},
   "outputs": [
    {
     "name": "stdout",
     "output_type": "stream",
     "text": [
      "[*********************100%%**********************]  1 of 1 completed\n"
     ]
    }
   ],
   "source": [
    "data = data_reader.read_data(type = TYPE_OF_DATA, frequency = FREQUENCY)\n",
    "# this is just in case there are more CSVs of the same type and frequency, the data should be the first in the list\n",
    "if len(data) > 1:\n",
    "    data = data[0]\n",
    "\n",
    "simple_data = data_loader.get_simle_data()"
   ]
  },
  {
   "cell_type": "markdown",
   "metadata": {},
   "source": [
    "# Prepare the data"
   ]
  },
  {
   "cell_type": "code",
   "execution_count": 4,
   "metadata": {},
   "outputs": [],
   "source": [
    "# pass full data at maximum granularity and produce according to frequency parameter"
   ]
  },
  {
   "cell_type": "code",
   "execution_count": 6,
   "metadata": {},
   "outputs": [],
   "source": [
    "tscv_data = create_tscv_dataset(data = simple_data, context_length=CONTEXT_LENGTH, n_folds=FOLDS, prediction_horizon=PREDICTION_LENGTH, max_folds=False)"
   ]
  },
  {
   "cell_type": "markdown",
   "metadata": {},
   "source": [
    "# Models"
   ]
  },
  {
   "cell_type": "code",
   "execution_count": 7,
   "metadata": {},
   "outputs": [],
   "source": [
    "# arima\n"
   ]
  },
  {
   "cell_type": "code",
   "execution_count": 8,
   "metadata": {},
   "outputs": [],
   "source": [
    "# lag llama"
   ]
  },
  {
   "cell_type": "markdown",
   "metadata": {},
   "source": [
    "# Run regular experiment"
   ]
  },
  {
   "cell_type": "code",
   "execution_count": null,
   "metadata": {},
   "outputs": [],
   "source": [
    "results = run_experiment(data = data, prediction_length = PREDICTION_LENGTH)"
   ]
  },
  {
   "cell_type": "markdown",
   "metadata": {},
   "source": [
    "# Evaluation"
   ]
  },
  {
   "cell_type": "code",
   "execution_count": null,
   "metadata": {},
   "outputs": [],
   "source": [
    "results"
   ]
  },
  {
   "cell_type": "markdown",
   "metadata": {},
   "source": [
    "# Run TSCV experiment"
   ]
  },
  {
   "cell_type": "markdown",
   "metadata": {},
   "source": [
    "look up tzpes of TSCV"
   ]
  },
  {
   "cell_type": "code",
   "execution_count": 10,
   "metadata": {},
   "outputs": [
    {
     "name": "stdout",
     "output_type": "stream",
     "text": [
      "y0 done  1\n",
      "------------\n",
      "y1 done  2\n",
      "------------\n",
      "y2 done  3\n",
      "------------\n",
      "y3 done  4\n",
      "------------\n",
      "y4 done  5\n",
      "------------\n",
      "y5 done  6\n",
      "------------\n",
      "y6 done  7\n",
      "------------\n",
      "y7 done  8\n",
      "------------\n",
      "y8 done  9\n",
      "------------\n",
      "y9 done  10\n",
      "------------\n"
     ]
    }
   ],
   "source": [
    "tscv_results, prediction = run_experiment(data=tscv_data, tscv=True)"
   ]
  },
  {
   "cell_type": "code",
   "execution_count": 11,
   "metadata": {},
   "outputs": [
    {
     "data": {
      "text/plain": [
       "{'r2': {'arima': -0.8036159605688358, 'llama': -4.690321882253741},\n",
       " 'mse': {'arima': 9.014638013311012, 'llama': 28.440750730306206},\n",
       " 'mae': {'arima': 2.712121007999187, 'llama': 4.178632465124013},\n",
       " 'rmse': {'arima': 3.0024386776936867, 'llama': 5.332987036390226}}"
      ]
     },
     "execution_count": 11,
     "metadata": {},
     "output_type": "execute_result"
    }
   ],
   "source": [
    "tscv_results"
   ]
  },
  {
   "cell_type": "markdown",
   "metadata": {},
   "source": [
    "# SKLearn TSCV"
   ]
  },
  {
   "cell_type": "code",
   "execution_count": 3,
   "metadata": {},
   "outputs": [
    {
     "name": "stdout",
     "output_type": "stream",
     "text": [
      "[*********************100%%**********************]  1 of 1 completed\n"
     ]
    }
   ],
   "source": [
    "simple_data = data_loader.get_simle_data()"
   ]
  },
  {
   "cell_type": "code",
   "execution_count": 4,
   "metadata": {},
   "outputs": [],
   "source": [
    "# sklearn tscv object\n",
    "tscv = TimeSeriesSplit(n_splits=FOLDS, test_size=PREDICTION_LENGTH)\n"
   ]
  },
  {
   "cell_type": "markdown",
   "metadata": {},
   "source": [
    "expanding or rolling window?\n",
    "\n",
    "suggestion: do rolling window!"
   ]
  },
  {
   "cell_type": "code",
   "execution_count": 5,
   "metadata": {},
   "outputs": [],
   "source": [
    "# extracting the time-series data from original data\n",
    "series = simple_data[\"y\"]"
   ]
  },
  {
   "cell_type": "markdown",
   "metadata": {},
   "source": [
    "- put metrics in dataframe. one for arima, one for lag llama  DONE\n",
    "- each column metric, each row is a fold  DONE\n",
    "- create wrapper function get_metrics(predicted, actual) returns pd.DataFrame of description above\n",
    "- by end of day have a table   DONE\n",
    "- agenda of the presentation by 12   DONE\n",
    "- implement autoregressor forecast t1 = t0     DONE\n",
    "- implement frequency experimentation          DONE\n",
    "- start training date global parameter"
   ]
  },
  {
   "cell_type": "code",
   "execution_count": null,
   "metadata": {},
   "outputs": [],
   "source": [
    "# initializing the list of models, metrics and emptz result dict\n",
    "models=[\"arima\", \"llama\"]\n",
    "metrics=[\"r2\", \"mse\", \"mae\", \"rmse\", \"mda\"]\n",
    "results = {metric: {model: {f\"fold_{i}\": [] for i in range(FOLDS)} for model in models} for metric in metrics}\n",
    "\n",
    "arima_results = pd.DataFrame(columns=metrics)\n",
    "llama_results = pd.DataFrame(columns= metrics)\n",
    "autoregressor_results = pd.DataFrame(columns=metrics)\n",
    "\n",
    "\n",
    "\n",
    "\n",
    "i = 0\n",
    "# iterating over all the folds\n",
    "for train_index, test_index in tscv.split(series):\n",
    "    # subsetting the original data according to train/test split\n",
    "    train = simple_data.iloc[train_index]\n",
    "    valid = list(simple_data.iloc[test_index][\"y\"])\n",
    "\n",
    "    # for my testing purposes\n",
    "    #print(train[\"y\"])\n",
    "    #print(train[\"y\"].iloc[-1])\n",
    "\n",
    "\n",
    "    # inputting data into the models\n",
    "    arima_model = arima.get_autoarima(train)\n",
    "    autoarima_predictions = arima.autoarima_predictions(arima_model, PREDICTION_LENGTH)\n",
    "    lag_llama_predictions, tss = lag_llama.get_lam_llama_forecast(train, PREDICTION_LENGTH, context_length=CONTEXT_LENGTH)\n",
    "    lag_llama_predictions = list(lag_llama_predictions[0].samples.mean(axis = 0))\n",
    "    autoregressor_predictions = autoregressor.get_autoregressor_prediction(train, PREDICTION_LENGTH)\n",
    "\n",
    "    \"\"\"\n",
    "    print(i)\n",
    "    print(\"----------\")\n",
    "    print(len(lag_llama_predictions))\n",
    "    print(\"--------------\")\n",
    "    print(len(valid))\n",
    "    print(\"---------------\")\n",
    "    print(PREDICTION_LENGTH)\n",
    "    print(\"------------------\")\n",
    "    print(r2_score(valid, lag_llama_predictions))\n",
    "    \"\"\"\n",
    "\n",
    "    # for my own testing purposes\n",
    "    \"\"\"\n",
    "    print(autoarima_predictions)\n",
    "    print(lag_llama_predictions)\n",
    "    print(valid)\n",
    "    \"\"\"\n",
    "\n",
    "    # recording the metrics\n",
    "    \"\"\"\n",
    "    results[\"r2\"][\"arima\"][f\"fold_{i}\"].append(r2_score(valid, autoarima_predictions))\n",
    "    results[\"mse\"][\"arima\"][f\"fold_{i}\"].append(mean_squared_error(valid, autoarima_predictions))\n",
    "    results[\"mae\"][\"arima\"][f\"fold_{i}\"].append(mean_absolute_error(valid, autoarima_predictions))\n",
    "    results[\"rmse\"][\"arima\"][f\"fold_{i}\"].append(np.sqrt(mean_squared_error(valid, autoarima_predictions)))\n",
    "\n",
    "    results[\"r2\"][\"llama\"][f\"fold_{i}\"].append(r2_score(valid, lag_llama_predictions))\n",
    "    results[\"mse\"][\"llama\"][f\"fold_{i}\"].append(mean_squared_error(valid, lag_llama_predictions))\n",
    "    results[\"mae\"][\"llama\"][f\"fold_{i}\"].append(mean_absolute_error(valid, lag_llama_predictions))\n",
    "    results[\"rmse\"][\"llama\"][f\"fold_{i}\"].append(np.sqrt(mean_squared_error(valid, lag_llama_predictions)))\n",
    "    \"\"\"\n",
    "\n",
    "    arima_metrics = [r2_score(valid, autoarima_predictions), \n",
    "               mean_squared_error(valid, autoarima_predictions), \n",
    "               mean_absolute_error(valid, autoarima_predictions),\n",
    "               np.sqrt(mean_squared_error(valid, autoarima_predictions)),\n",
    "               mean_directional_accuracy(valid, autoarima_predictions, train[\"y\"].iloc[-1])]\n",
    "    \n",
    "    llama_metrics = [r2_score(valid, lag_llama_predictions), \n",
    "               mean_squared_error(valid, lag_llama_predictions), \n",
    "               mean_absolute_error(valid, lag_llama_predictions),\n",
    "               np.sqrt(mean_squared_error(valid, lag_llama_predictions)),\n",
    "               mean_directional_accuracy(valid, lag_llama_predictions, train[\"y\"].iloc[-1])]\n",
    "    \n",
    "    autoregressor_metrics = [r2_score(valid, autoregressor_predictions), \n",
    "               mean_squared_error(valid, autoregressor_predictions), \n",
    "               mean_absolute_error(valid, autoregressor_predictions),\n",
    "               np.sqrt(mean_squared_error(valid, autoregressor_predictions)),\n",
    "               mean_directional_accuracy(valid, autoregressor_predictions, train[\"y\"].iloc[-1])]\n",
    "\n",
    "    arima_results = pd.concat([arima_results, pd.DataFrame([arima_metrics], columns=metrics)], ignore_index=True)\n",
    "    llama_results = pd.concat([llama_results, pd.DataFrame([llama_metrics], columns=metrics)], ignore_index=True)\n",
    "    autoregressor_results = pd.concat([autoregressor_results, pd.DataFrame([autoregressor_metrics], columns=metrics)], ignore_index=True)\n",
    "\n",
    "\n",
    "    i += 1"
   ]
  },
  {
   "cell_type": "code",
   "execution_count": 18,
   "metadata": {},
   "outputs": [
    {
     "data": {
      "text/html": [
       "<div>\n",
       "<style scoped>\n",
       "    .dataframe tbody tr th:only-of-type {\n",
       "        vertical-align: middle;\n",
       "    }\n",
       "\n",
       "    .dataframe tbody tr th {\n",
       "        vertical-align: top;\n",
       "    }\n",
       "\n",
       "    .dataframe thead th {\n",
       "        text-align: right;\n",
       "    }\n",
       "</style>\n",
       "<table border=\"1\" class=\"dataframe\">\n",
       "  <thead>\n",
       "    <tr style=\"text-align: right;\">\n",
       "      <th></th>\n",
       "      <th>r2</th>\n",
       "      <th>mse</th>\n",
       "      <th>mae</th>\n",
       "      <th>rmse</th>\n",
       "      <th>mda</th>\n",
       "    </tr>\n",
       "  </thead>\n",
       "  <tbody>\n",
       "    <tr>\n",
       "      <th>0</th>\n",
       "      <td>-10.146053</td>\n",
       "      <td>33.415565</td>\n",
       "      <td>5.512960</td>\n",
       "      <td>5.780620</td>\n",
       "      <td>0.2</td>\n",
       "    </tr>\n",
       "    <tr>\n",
       "      <th>1</th>\n",
       "      <td>-1.069529</td>\n",
       "      <td>56.237796</td>\n",
       "      <td>5.979982</td>\n",
       "      <td>7.499186</td>\n",
       "      <td>0.8</td>\n",
       "    </tr>\n",
       "    <tr>\n",
       "      <th>2</th>\n",
       "      <td>-0.021127</td>\n",
       "      <td>5.389042</td>\n",
       "      <td>1.626925</td>\n",
       "      <td>2.321431</td>\n",
       "      <td>0.4</td>\n",
       "    </tr>\n",
       "    <tr>\n",
       "      <th>3</th>\n",
       "      <td>-0.130501</td>\n",
       "      <td>2.120663</td>\n",
       "      <td>1.296481</td>\n",
       "      <td>1.456249</td>\n",
       "      <td>0.6</td>\n",
       "    </tr>\n",
       "    <tr>\n",
       "      <th>4</th>\n",
       "      <td>0.009028</td>\n",
       "      <td>14.090569</td>\n",
       "      <td>3.312309</td>\n",
       "      <td>3.753741</td>\n",
       "      <td>0.5</td>\n",
       "    </tr>\n",
       "    <tr>\n",
       "      <th>5</th>\n",
       "      <td>-1.962910</td>\n",
       "      <td>94.272351</td>\n",
       "      <td>7.710001</td>\n",
       "      <td>9.709395</td>\n",
       "      <td>0.4</td>\n",
       "    </tr>\n",
       "    <tr>\n",
       "      <th>6</th>\n",
       "      <td>-2.799649</td>\n",
       "      <td>39.613602</td>\n",
       "      <td>5.353981</td>\n",
       "      <td>6.293934</td>\n",
       "      <td>0.1</td>\n",
       "    </tr>\n",
       "    <tr>\n",
       "      <th>7</th>\n",
       "      <td>-0.137856</td>\n",
       "      <td>7.045263</td>\n",
       "      <td>2.276720</td>\n",
       "      <td>2.654291</td>\n",
       "      <td>0.9</td>\n",
       "    </tr>\n",
       "    <tr>\n",
       "      <th>8</th>\n",
       "      <td>-1.762008</td>\n",
       "      <td>200.092281</td>\n",
       "      <td>12.148269</td>\n",
       "      <td>14.145398</td>\n",
       "      <td>0.4</td>\n",
       "    </tr>\n",
       "    <tr>\n",
       "      <th>9</th>\n",
       "      <td>-0.884450</td>\n",
       "      <td>68.486433</td>\n",
       "      <td>6.201827</td>\n",
       "      <td>8.275653</td>\n",
       "      <td>0.1</td>\n",
       "    </tr>\n",
       "  </tbody>\n",
       "</table>\n",
       "</div>"
      ],
      "text/plain": [
       "          r2         mse        mae       rmse  mda\n",
       "0 -10.146053   33.415565   5.512960   5.780620  0.2\n",
       "1  -1.069529   56.237796   5.979982   7.499186  0.8\n",
       "2  -0.021127    5.389042   1.626925   2.321431  0.4\n",
       "3  -0.130501    2.120663   1.296481   1.456249  0.6\n",
       "4   0.009028   14.090569   3.312309   3.753741  0.5\n",
       "5  -1.962910   94.272351   7.710001   9.709395  0.4\n",
       "6  -2.799649   39.613602   5.353981   6.293934  0.1\n",
       "7  -0.137856    7.045263   2.276720   2.654291  0.9\n",
       "8  -1.762008  200.092281  12.148269  14.145398  0.4\n",
       "9  -0.884450   68.486433   6.201827   8.275653  0.1"
      ]
     },
     "execution_count": 18,
     "metadata": {},
     "output_type": "execute_result"
    }
   ],
   "source": [
    "arima_results"
   ]
  },
  {
   "cell_type": "code",
   "execution_count": 19,
   "metadata": {},
   "outputs": [],
   "source": [
    "arima_summary = pd.DataFrame({\n",
    "    'r2': [arima_results['r2'].mean(), arima_results['r2'].median(), arima_results['r2'].std()],\n",
    "    'mse': [arima_results['mse'].mean(), arima_results['mse'].median(), arima_results['mse'].std()],\n",
    "    'mae': [arima_results['mae'].mean(), arima_results['mae'].median(), arima_results['mae'].std()],\n",
    "    'rmse': [arima_results['rmse'].mean(), arima_results['rmse'].median(), arima_results['rmse'].std()],\n",
    "    'mda': [arima_results['mda'].mean(), arima_results['mda'].median(), arima_results['mda'].std()]\n",
    "}, index=['mean', 'median', 'std'])"
   ]
  },
  {
   "cell_type": "code",
   "execution_count": 20,
   "metadata": {},
   "outputs": [
    {
     "data": {
      "text/html": [
       "<div>\n",
       "<style scoped>\n",
       "    .dataframe tbody tr th:only-of-type {\n",
       "        vertical-align: middle;\n",
       "    }\n",
       "\n",
       "    .dataframe tbody tr th {\n",
       "        vertical-align: top;\n",
       "    }\n",
       "\n",
       "    .dataframe thead th {\n",
       "        text-align: right;\n",
       "    }\n",
       "</style>\n",
       "<table border=\"1\" class=\"dataframe\">\n",
       "  <thead>\n",
       "    <tr style=\"text-align: right;\">\n",
       "      <th></th>\n",
       "      <th>r2</th>\n",
       "      <th>mse</th>\n",
       "      <th>mae</th>\n",
       "      <th>rmse</th>\n",
       "      <th>mda</th>\n",
       "    </tr>\n",
       "  </thead>\n",
       "  <tbody>\n",
       "    <tr>\n",
       "      <th>mean</th>\n",
       "      <td>-1.890506</td>\n",
       "      <td>52.076356</td>\n",
       "      <td>5.141945</td>\n",
       "      <td>6.188990</td>\n",
       "      <td>0.440000</td>\n",
       "    </tr>\n",
       "    <tr>\n",
       "      <th>median</th>\n",
       "      <td>-0.976990</td>\n",
       "      <td>36.514584</td>\n",
       "      <td>5.433470</td>\n",
       "      <td>6.037277</td>\n",
       "      <td>0.400000</td>\n",
       "    </tr>\n",
       "    <tr>\n",
       "      <th>std</th>\n",
       "      <td>3.054336</td>\n",
       "      <td>60.208310</td>\n",
       "      <td>3.272644</td>\n",
       "      <td>3.911914</td>\n",
       "      <td>0.271621</td>\n",
       "    </tr>\n",
       "  </tbody>\n",
       "</table>\n",
       "</div>"
      ],
      "text/plain": [
       "              r2        mse       mae      rmse       mda\n",
       "mean   -1.890506  52.076356  5.141945  6.188990  0.440000\n",
       "median -0.976990  36.514584  5.433470  6.037277  0.400000\n",
       "std     3.054336  60.208310  3.272644  3.911914  0.271621"
      ]
     },
     "execution_count": 20,
     "metadata": {},
     "output_type": "execute_result"
    }
   ],
   "source": [
    "arima_summary"
   ]
  },
  {
   "cell_type": "code",
   "execution_count": 21,
   "metadata": {},
   "outputs": [
    {
     "data": {
      "text/html": [
       "<div>\n",
       "<style scoped>\n",
       "    .dataframe tbody tr th:only-of-type {\n",
       "        vertical-align: middle;\n",
       "    }\n",
       "\n",
       "    .dataframe tbody tr th {\n",
       "        vertical-align: top;\n",
       "    }\n",
       "\n",
       "    .dataframe thead th {\n",
       "        text-align: right;\n",
       "    }\n",
       "</style>\n",
       "<table border=\"1\" class=\"dataframe\">\n",
       "  <thead>\n",
       "    <tr style=\"text-align: right;\">\n",
       "      <th></th>\n",
       "      <th>r2</th>\n",
       "      <th>mse</th>\n",
       "      <th>mae</th>\n",
       "      <th>rmse</th>\n",
       "      <th>mda</th>\n",
       "    </tr>\n",
       "  </thead>\n",
       "  <tbody>\n",
       "    <tr>\n",
       "      <th>0</th>\n",
       "      <td>-11.283636</td>\n",
       "      <td>36.826008</td>\n",
       "      <td>5.202384</td>\n",
       "      <td>6.068444</td>\n",
       "      <td>0.6</td>\n",
       "    </tr>\n",
       "    <tr>\n",
       "      <th>1</th>\n",
       "      <td>-6.114432</td>\n",
       "      <td>193.328999</td>\n",
       "      <td>12.492389</td>\n",
       "      <td>13.904280</td>\n",
       "      <td>0.3</td>\n",
       "    </tr>\n",
       "    <tr>\n",
       "      <th>2</th>\n",
       "      <td>-27.709435</td>\n",
       "      <td>151.515247</td>\n",
       "      <td>12.034618</td>\n",
       "      <td>12.309153</td>\n",
       "      <td>0.5</td>\n",
       "    </tr>\n",
       "    <tr>\n",
       "      <th>3</th>\n",
       "      <td>-117.051050</td>\n",
       "      <td>221.447375</td>\n",
       "      <td>14.750225</td>\n",
       "      <td>14.881108</td>\n",
       "      <td>0.5</td>\n",
       "    </tr>\n",
       "    <tr>\n",
       "      <th>4</th>\n",
       "      <td>-10.914719</td>\n",
       "      <td>169.414716</td>\n",
       "      <td>12.395660</td>\n",
       "      <td>13.015941</td>\n",
       "      <td>0.5</td>\n",
       "    </tr>\n",
       "    <tr>\n",
       "      <th>5</th>\n",
       "      <td>-2.360813</td>\n",
       "      <td>106.932600</td>\n",
       "      <td>9.050172</td>\n",
       "      <td>10.340822</td>\n",
       "      <td>0.6</td>\n",
       "    </tr>\n",
       "    <tr>\n",
       "      <th>6</th>\n",
       "      <td>-2.001025</td>\n",
       "      <td>31.287475</td>\n",
       "      <td>4.966641</td>\n",
       "      <td>5.593521</td>\n",
       "      <td>0.6</td>\n",
       "    </tr>\n",
       "    <tr>\n",
       "      <th>7</th>\n",
       "      <td>-10.787917</td>\n",
       "      <td>72.987215</td>\n",
       "      <td>7.751465</td>\n",
       "      <td>8.543256</td>\n",
       "      <td>0.4</td>\n",
       "    </tr>\n",
       "    <tr>\n",
       "      <th>8</th>\n",
       "      <td>-7.082025</td>\n",
       "      <td>585.498344</td>\n",
       "      <td>22.845116</td>\n",
       "      <td>24.197073</td>\n",
       "      <td>0.5</td>\n",
       "    </tr>\n",
       "    <tr>\n",
       "      <th>9</th>\n",
       "      <td>-26.135169</td>\n",
       "      <td>986.171396</td>\n",
       "      <td>30.635747</td>\n",
       "      <td>31.403366</td>\n",
       "      <td>0.4</td>\n",
       "    </tr>\n",
       "  </tbody>\n",
       "</table>\n",
       "</div>"
      ],
      "text/plain": [
       "           r2         mse        mae       rmse  mda\n",
       "0  -11.283636   36.826008   5.202384   6.068444  0.6\n",
       "1   -6.114432  193.328999  12.492389  13.904280  0.3\n",
       "2  -27.709435  151.515247  12.034618  12.309153  0.5\n",
       "3 -117.051050  221.447375  14.750225  14.881108  0.5\n",
       "4  -10.914719  169.414716  12.395660  13.015941  0.5\n",
       "5   -2.360813  106.932600   9.050172  10.340822  0.6\n",
       "6   -2.001025   31.287475   4.966641   5.593521  0.6\n",
       "7  -10.787917   72.987215   7.751465   8.543256  0.4\n",
       "8   -7.082025  585.498344  22.845116  24.197073  0.5\n",
       "9  -26.135169  986.171396  30.635747  31.403366  0.4"
      ]
     },
     "execution_count": 21,
     "metadata": {},
     "output_type": "execute_result"
    }
   ],
   "source": [
    "llama_results"
   ]
  },
  {
   "cell_type": "code",
   "execution_count": 22,
   "metadata": {},
   "outputs": [],
   "source": [
    "llama_summary = pd.DataFrame({\n",
    "    'r2': [llama_results['r2'].mean(), llama_results['r2'].median(), llama_results['r2'].std()],\n",
    "    'mse': [llama_results['mse'].mean(), llama_results['mse'].median(), llama_results['mse'].std()],\n",
    "    'mae': [llama_results['mae'].mean(), llama_results['mae'].median(), llama_results['mae'].std()],\n",
    "    'rmse': [llama_results['rmse'].mean(), llama_results['rmse'].median(), llama_results['rmse'].std()],\n",
    "    'mda': [llama_results['mda'].mean(), llama_results['mda'].median(), llama_results['mda'].std()]\n",
    "}, index=['mean', 'median', 'std'])"
   ]
  },
  {
   "cell_type": "code",
   "execution_count": 23,
   "metadata": {},
   "outputs": [
    {
     "data": {
      "text/html": [
       "<div>\n",
       "<style scoped>\n",
       "    .dataframe tbody tr th:only-of-type {\n",
       "        vertical-align: middle;\n",
       "    }\n",
       "\n",
       "    .dataframe tbody tr th {\n",
       "        vertical-align: top;\n",
       "    }\n",
       "\n",
       "    .dataframe thead th {\n",
       "        text-align: right;\n",
       "    }\n",
       "</style>\n",
       "<table border=\"1\" class=\"dataframe\">\n",
       "  <thead>\n",
       "    <tr style=\"text-align: right;\">\n",
       "      <th></th>\n",
       "      <th>r2</th>\n",
       "      <th>mse</th>\n",
       "      <th>mae</th>\n",
       "      <th>rmse</th>\n",
       "      <th>mda</th>\n",
       "    </tr>\n",
       "  </thead>\n",
       "  <tbody>\n",
       "    <tr>\n",
       "      <th>mean</th>\n",
       "      <td>-22.144022</td>\n",
       "      <td>255.540937</td>\n",
       "      <td>13.212442</td>\n",
       "      <td>14.025696</td>\n",
       "      <td>0.490000</td>\n",
       "    </tr>\n",
       "    <tr>\n",
       "      <th>median</th>\n",
       "      <td>-10.851318</td>\n",
       "      <td>160.464981</td>\n",
       "      <td>12.215139</td>\n",
       "      <td>12.662547</td>\n",
       "      <td>0.500000</td>\n",
       "    </tr>\n",
       "    <tr>\n",
       "      <th>std</th>\n",
       "      <td>34.493446</td>\n",
       "      <td>301.754252</td>\n",
       "      <td>8.031871</td>\n",
       "      <td>8.084332</td>\n",
       "      <td>0.099443</td>\n",
       "    </tr>\n",
       "  </tbody>\n",
       "</table>\n",
       "</div>"
      ],
      "text/plain": [
       "               r2         mse        mae       rmse       mda\n",
       "mean   -22.144022  255.540937  13.212442  14.025696  0.490000\n",
       "median -10.851318  160.464981  12.215139  12.662547  0.500000\n",
       "std     34.493446  301.754252   8.031871   8.084332  0.099443"
      ]
     },
     "execution_count": 23,
     "metadata": {},
     "output_type": "execute_result"
    }
   ],
   "source": [
    "llama_summary"
   ]
  },
  {
   "cell_type": "code",
   "execution_count": 25,
   "metadata": {},
   "outputs": [
    {
     "data": {
      "text/html": [
       "<div>\n",
       "<style scoped>\n",
       "    .dataframe tbody tr th:only-of-type {\n",
       "        vertical-align: middle;\n",
       "    }\n",
       "\n",
       "    .dataframe tbody tr th {\n",
       "        vertical-align: top;\n",
       "    }\n",
       "\n",
       "    .dataframe thead th {\n",
       "        text-align: right;\n",
       "    }\n",
       "</style>\n",
       "<table border=\"1\" class=\"dataframe\">\n",
       "  <thead>\n",
       "    <tr style=\"text-align: right;\">\n",
       "      <th></th>\n",
       "      <th>r2</th>\n",
       "      <th>mse</th>\n",
       "      <th>mae</th>\n",
       "      <th>rmse</th>\n",
       "      <th>mda</th>\n",
       "    </tr>\n",
       "  </thead>\n",
       "  <tbody>\n",
       "    <tr>\n",
       "      <th>0</th>\n",
       "      <td>-9.748225</td>\n",
       "      <td>32.222889</td>\n",
       "      <td>5.406007</td>\n",
       "      <td>5.676521</td>\n",
       "      <td>0.0</td>\n",
       "    </tr>\n",
       "    <tr>\n",
       "      <th>1</th>\n",
       "      <td>-1.338956</td>\n",
       "      <td>63.559268</td>\n",
       "      <td>6.378003</td>\n",
       "      <td>7.972407</td>\n",
       "      <td>0.0</td>\n",
       "    </tr>\n",
       "    <tr>\n",
       "      <th>2</th>\n",
       "      <td>-0.056281</td>\n",
       "      <td>5.574567</td>\n",
       "      <td>1.645000</td>\n",
       "      <td>2.361052</td>\n",
       "      <td>0.0</td>\n",
       "    </tr>\n",
       "    <tr>\n",
       "      <th>3</th>\n",
       "      <td>-0.427978</td>\n",
       "      <td>2.678689</td>\n",
       "      <td>1.514003</td>\n",
       "      <td>1.636670</td>\n",
       "      <td>0.0</td>\n",
       "    </tr>\n",
       "    <tr>\n",
       "      <th>4</th>\n",
       "      <td>-0.004325</td>\n",
       "      <td>14.280447</td>\n",
       "      <td>3.302000</td>\n",
       "      <td>3.778948</td>\n",
       "      <td>0.0</td>\n",
       "    </tr>\n",
       "    <tr>\n",
       "      <th>5</th>\n",
       "      <td>-1.668451</td>\n",
       "      <td>84.903390</td>\n",
       "      <td>7.286008</td>\n",
       "      <td>9.214304</td>\n",
       "      <td>0.0</td>\n",
       "    </tr>\n",
       "    <tr>\n",
       "      <th>6</th>\n",
       "      <td>-2.683164</td>\n",
       "      <td>38.399180</td>\n",
       "      <td>5.289006</td>\n",
       "      <td>6.196707</td>\n",
       "      <td>0.0</td>\n",
       "    </tr>\n",
       "    <tr>\n",
       "      <th>7</th>\n",
       "      <td>-0.095014</td>\n",
       "      <td>6.779998</td>\n",
       "      <td>2.207004</td>\n",
       "      <td>2.603843</td>\n",
       "      <td>0.0</td>\n",
       "    </tr>\n",
       "    <tr>\n",
       "      <th>8</th>\n",
       "      <td>-1.774466</td>\n",
       "      <td>200.994832</td>\n",
       "      <td>12.166003</td>\n",
       "      <td>14.177265</td>\n",
       "      <td>0.0</td>\n",
       "    </tr>\n",
       "    <tr>\n",
       "      <th>9</th>\n",
       "      <td>-0.709524</td>\n",
       "      <td>62.129100</td>\n",
       "      <td>5.946002</td>\n",
       "      <td>7.882201</td>\n",
       "      <td>0.0</td>\n",
       "    </tr>\n",
       "  </tbody>\n",
       "</table>\n",
       "</div>"
      ],
      "text/plain": [
       "         r2         mse        mae       rmse  mda\n",
       "0 -9.748225   32.222889   5.406007   5.676521  0.0\n",
       "1 -1.338956   63.559268   6.378003   7.972407  0.0\n",
       "2 -0.056281    5.574567   1.645000   2.361052  0.0\n",
       "3 -0.427978    2.678689   1.514003   1.636670  0.0\n",
       "4 -0.004325   14.280447   3.302000   3.778948  0.0\n",
       "5 -1.668451   84.903390   7.286008   9.214304  0.0\n",
       "6 -2.683164   38.399180   5.289006   6.196707  0.0\n",
       "7 -0.095014    6.779998   2.207004   2.603843  0.0\n",
       "8 -1.774466  200.994832  12.166003  14.177265  0.0\n",
       "9 -0.709524   62.129100   5.946002   7.882201  0.0"
      ]
     },
     "execution_count": 25,
     "metadata": {},
     "output_type": "execute_result"
    }
   ],
   "source": [
    "autoregressor_results"
   ]
  },
  {
   "cell_type": "code",
   "execution_count": 24,
   "metadata": {},
   "outputs": [
    {
     "data": {
      "text/html": [
       "<div>\n",
       "<style scoped>\n",
       "    .dataframe tbody tr th:only-of-type {\n",
       "        vertical-align: middle;\n",
       "    }\n",
       "\n",
       "    .dataframe tbody tr th {\n",
       "        vertical-align: top;\n",
       "    }\n",
       "\n",
       "    .dataframe thead th {\n",
       "        text-align: right;\n",
       "    }\n",
       "</style>\n",
       "<table border=\"1\" class=\"dataframe\">\n",
       "  <thead>\n",
       "    <tr style=\"text-align: right;\">\n",
       "      <th></th>\n",
       "      <th>r2</th>\n",
       "      <th>mse</th>\n",
       "      <th>mae</th>\n",
       "      <th>rmse</th>\n",
       "      <th>mda</th>\n",
       "    </tr>\n",
       "  </thead>\n",
       "  <tbody>\n",
       "    <tr>\n",
       "      <th>mean</th>\n",
       "      <td>-20.253517</td>\n",
       "      <td>203.464581</td>\n",
       "      <td>8.070496</td>\n",
       "      <td>7.836706</td>\n",
       "      <td>0.050000</td>\n",
       "    </tr>\n",
       "    <tr>\n",
       "      <th>median</th>\n",
       "      <td>-9.874328</td>\n",
       "      <td>123.950398</td>\n",
       "      <td>6.781669</td>\n",
       "      <td>6.625270</td>\n",
       "      <td>0.100000</td>\n",
       "    </tr>\n",
       "    <tr>\n",
       "      <th>std</th>\n",
       "      <td>31.439111</td>\n",
       "      <td>241.545942</td>\n",
       "      <td>4.759227</td>\n",
       "      <td>4.172418</td>\n",
       "      <td>-0.172178</td>\n",
       "    </tr>\n",
       "  </tbody>\n",
       "</table>\n",
       "</div>"
      ],
      "text/plain": [
       "               r2         mse       mae      rmse       mda\n",
       "mean   -20.253517  203.464581  8.070496  7.836706  0.050000\n",
       "median  -9.874328  123.950398  6.781669  6.625270  0.100000\n",
       "std     31.439111  241.545942  4.759227  4.172418 -0.172178"
      ]
     },
     "execution_count": 24,
     "metadata": {},
     "output_type": "execute_result"
    }
   ],
   "source": [
    "llama_summary - arima_summary"
   ]
  },
  {
   "cell_type": "markdown",
   "metadata": {},
   "source": [
    "- find a way to show difference between tables       DONE??\n",
    "- different tables for different statistics !!! (mean, median, std)    DONE\n",
    "- visualize (plot the results) PLOTLY   DONE\n",
    "- a plot for each fold\n",
    "- implement frequency for simple data\n",
    "- enforce try\n",
    "- when running tscv print time for every fold, train size\n",
    "- start adding more models - fine tuned lag llama first, prophet, others\n",
    "- do we want any more metrics? Are we missing anything in order to be able to say which model is better\n",
    "- CLEAN UP THE CODE\n",
    "\n",
    "expanding or rolling window? - an idea for experiment\n",
    "Try using rolling for now\n",
    "\n",
    "suggestion: do rolling window!\n",
    "\n",
    "\n",
    "MAIN POINTS: VISUALIZATION, RESULTS REPRESENTATION, "
   ]
  },
  {
   "cell_type": "code",
   "execution_count": 4,
   "metadata": {},
   "outputs": [
    {
     "name": "stderr",
     "output_type": "stream",
     "text": [
      "c:\\Users\\topco\\Dokumenti\\MSc Banking and Digital Finance UCL\\Modules\\Dissertation\\MSc_dissertation\\modules\\experiment\\tscv.py:109: FutureWarning: The behavior of DataFrame concatenation with empty or all-NA entries is deprecated. In a future version, this will no longer exclude empty or all-NA columns when determining the result dtypes. To retain the old behavior, exclude the relevant entries before the concat operation.\n",
      "  arima_results = pd.concat([arima_results, pd.DataFrame([arima_metrics], columns=metrics)], ignore_index=True)\n",
      "c:\\Users\\topco\\Dokumenti\\MSc Banking and Digital Finance UCL\\Modules\\Dissertation\\MSc_dissertation\\modules\\experiment\\tscv.py:110: FutureWarning: The behavior of DataFrame concatenation with empty or all-NA entries is deprecated. In a future version, this will no longer exclude empty or all-NA columns when determining the result dtypes. To retain the old behavior, exclude the relevant entries before the concat operation.\n",
      "  llama_results = pd.concat([llama_results, pd.DataFrame([llama_metrics], columns=metrics)], ignore_index=True)\n",
      "c:\\Users\\topco\\Dokumenti\\MSc Banking and Digital Finance UCL\\Modules\\Dissertation\\MSc_dissertation\\modules\\experiment\\tscv.py:111: FutureWarning: The behavior of DataFrame concatenation with empty or all-NA entries is deprecated. In a future version, this will no longer exclude empty or all-NA columns when determining the result dtypes. To retain the old behavior, exclude the relevant entries before the concat operation.\n",
      "  autoregressor_results = pd.concat([autoregressor_results, pd.DataFrame([autoregressor_metrics], columns=metrics)], ignore_index=True)\n",
      "c:\\Users\\topco\\Dokumenti\\MSc Banking and Digital Finance UCL\\Modules\\Dissertation\\MSc_dissertation\\modules\\experiment\\tscv.py:114: FutureWarning: The behavior of DataFrame concatenation with empty or all-NA entries is deprecated. In a future version, this will no longer exclude empty or all-NA columns when determining the result dtypes. To retain the old behavior, exclude the relevant entries before the concat operation.\n",
      "  arima_preds = pd.concat([arima_preds, pd.DataFrame([autoarima_predictions], columns = prediction_cols)], ignore_index=True)\n",
      "c:\\Users\\topco\\Dokumenti\\MSc Banking and Digital Finance UCL\\Modules\\Dissertation\\MSc_dissertation\\modules\\experiment\\tscv.py:115: FutureWarning: The behavior of DataFrame concatenation with empty or all-NA entries is deprecated. In a future version, this will no longer exclude empty or all-NA columns when determining the result dtypes. To retain the old behavior, exclude the relevant entries before the concat operation.\n",
      "  llama_preds = pd.concat([llama_preds, pd.DataFrame([lag_llama_predictions], columns = prediction_cols)], ignore_index=True)\n",
      "c:\\Users\\topco\\Dokumenti\\MSc Banking and Digital Finance UCL\\Modules\\Dissertation\\MSc_dissertation\\modules\\experiment\\tscv.py:116: FutureWarning: The behavior of DataFrame concatenation with empty or all-NA entries is deprecated. In a future version, this will no longer exclude empty or all-NA columns when determining the result dtypes. To retain the old behavior, exclude the relevant entries before the concat operation.\n",
      "  autoregressor_preds = pd.concat([autoregressor_preds, pd.DataFrame([autoregressor_predictions], columns = prediction_cols)], ignore_index=True)\n",
      "c:\\Users\\topco\\Dokumenti\\MSc Banking and Digital Finance UCL\\Modules\\Dissertation\\MSc_dissertation\\modules\\experiment\\tscv.py:119: FutureWarning: The behavior of DataFrame concatenation with empty or all-NA entries is deprecated. In a future version, this will no longer exclude empty or all-NA columns when determining the result dtypes. To retain the old behavior, exclude the relevant entries before the concat operation.\n",
      "  actual = pd.concat([actual, pd.DataFrame([valid], columns = prediction_cols)], ignore_index=True)\n"
     ]
    }
   ],
   "source": [
    "r, p, a = get_tscv_results(simple_data, PREDICTION_LENGTH, CONTEXT_LENGTH, FOLDS)"
   ]
  },
  {
   "cell_type": "code",
   "execution_count": 10,
   "metadata": {},
   "outputs": [],
   "source": [
    "s = [get_summary(r[i]) for i in range(len(r))]"
   ]
  },
  {
   "cell_type": "code",
   "execution_count": 11,
   "metadata": {},
   "outputs": [
    {
     "data": {
      "text/html": [
       "<div>\n",
       "<style scoped>\n",
       "    .dataframe tbody tr th:only-of-type {\n",
       "        vertical-align: middle;\n",
       "    }\n",
       "\n",
       "    .dataframe tbody tr th {\n",
       "        vertical-align: top;\n",
       "    }\n",
       "\n",
       "    .dataframe thead th {\n",
       "        text-align: right;\n",
       "    }\n",
       "</style>\n",
       "<table border=\"1\" class=\"dataframe\">\n",
       "  <thead>\n",
       "    <tr style=\"text-align: right;\">\n",
       "      <th></th>\n",
       "      <th>r2</th>\n",
       "      <th>mse</th>\n",
       "      <th>mae</th>\n",
       "      <th>rmse</th>\n",
       "      <th>mda</th>\n",
       "    </tr>\n",
       "  </thead>\n",
       "  <tbody>\n",
       "    <tr>\n",
       "      <th>mean</th>\n",
       "      <td>-20.618913</td>\n",
       "      <td>280.453813</td>\n",
       "      <td>13.796589</td>\n",
       "      <td>14.561009</td>\n",
       "      <td>0.470000</td>\n",
       "    </tr>\n",
       "    <tr>\n",
       "      <th>median</th>\n",
       "      <td>-11.887980</td>\n",
       "      <td>199.958631</td>\n",
       "      <td>13.588897</td>\n",
       "      <td>14.140388</td>\n",
       "      <td>0.500000</td>\n",
       "    </tr>\n",
       "    <tr>\n",
       "      <th>std</th>\n",
       "      <td>24.743780</td>\n",
       "      <td>338.631817</td>\n",
       "      <td>8.565313</td>\n",
       "      <td>8.719762</td>\n",
       "      <td>0.133749</td>\n",
       "    </tr>\n",
       "  </tbody>\n",
       "</table>\n",
       "</div>"
      ],
      "text/plain": [
       "               r2         mse        mae       rmse       mda\n",
       "mean   -20.618913  280.453813  13.796589  14.561009  0.470000\n",
       "median -11.887980  199.958631  13.588897  14.140388  0.500000\n",
       "std     24.743780  338.631817   8.565313   8.719762  0.133749"
      ]
     },
     "execution_count": 11,
     "metadata": {},
     "output_type": "execute_result"
    }
   ],
   "source": [
    "s[1]"
   ]
  },
  {
   "cell_type": "code",
   "execution_count": 18,
   "metadata": {},
   "outputs": [
    {
     "data": {
      "image/png": "[encoded data removed]",
      "text/plain": [
       "<Figure size 1500x2500 with 5 Axes>"
      ]
     },
     "metadata": {},
     "output_type": "display_data"
    }
   ],
   "source": [
    "import pandas as pd\n",
    "import matplotlib.pyplot as plt\n",
    "\n",
    "# Assuming 'r' is your list of dataframes\n",
    "# Sample structure for 'r'\n",
    "# r = [df1, df2, df3, ...]\n",
    "\n",
    "# Model names\n",
    "model_names = ['Arima', 'Lag LLama', 'Autoregressor']\n",
    "\n",
    "# Extracting summary statistics for each model\n",
    "summary_stats = {'model': [], 'metric': [], 'mean': [], 'median': [], 'std': []}\n",
    "metrics = ['r2', 'mse', 'mae', 'rmse', 'mda']\n",
    "\n",
    "for i, df in enumerate(s):\n",
    "    for metric in metrics:\n",
    "        summary_stats['model'].append(model_names[i])\n",
    "        summary_stats['metric'].append(metric)\n",
    "        summary_stats['mean'].append(df.loc['mean', metric])\n",
    "        summary_stats['median'].append(df.loc['median', metric])\n",
    "        summary_stats['std'].append(df.loc['std', metric])\n",
    "\n",
    "summary_df = pd.DataFrame(summary_stats)\n",
    "\n",
    "# Plotting\n",
    "fig, axes = plt.subplots(len(metrics), 1, figsize=(15, len(metrics) * 5))\n",
    "\n",
    "for idx, metric in enumerate(metrics):\n",
    "    metric_data = summary_df[summary_df['metric'] == metric]\n",
    "    \n",
    "    # Plotting mean with error bars representing standard deviation\n",
    "    axes[idx].bar(metric_data['model'], metric_data['mean'], yerr=metric_data['std'], capsize=5, label='Mean')\n",
    "    \n",
    "    # Plotting median as a thick black line\n",
    "    for i, model in enumerate(metric_data['model']):\n",
    "        median_value = metric_data[metric_data['model'] == model]['median'].values[0]\n",
    "        axes[idx].plot([i - 0.2, i + 0.2], [median_value, median_value], color='black', linewidth=4, label='Median' if i == 0 else \"\")\n",
    "\n",
    "    axes[idx].set_title(f'{metric.upper()} Comparison')\n",
    "    axes[idx].set_ylabel(metric.upper())\n",
    "    axes[idx].legend()\n",
    "\n",
    "plt.xticks(rotation=45)\n",
    "plt.tight_layout()\n",
    "plt.show()\n"
   ]
  },
  {
   "cell_type": "code",
   "execution_count": 21,
   "metadata": {},
   "outputs": [
    {
     "data": {
      "application/vnd.plotly.v1+json": {
       "config": {
        "plotlyServerURL": "https://plot.ly"
       },
       "data": [
        {
         "error_y": {
          "array": [
           2.977286596695222
          ],
          "type": "data",
          "visible": true
         },
         "hoverinfo": "text+y",
         "hovertext": "Arima",
         "legendgroup": "Arima",
         "name": "Arima Mean of R2",
         "type": "bar",
         "x": [
          "r2"
         ],
         "y": [
          -2.4645784470091625
         ]
        },
        {
         "hoverinfo": "skip",
         "legendgroup": "Arima",
         "marker": {
          "color": "black",
          "size": 10,
          "symbol": "line-ns-open"
         },
         "mode": "markers",
         "name": "Arima Median of R2",
         "showlegend": false,
         "type": "scatter",
         "x": [
          "r2"
         ],
         "y": [
          -1.6302968911049651
         ]
        },
        {
         "error_y": {
          "array": [
           4.1947153991840755
          ],
          "type": "data",
          "visible": true
         },
         "hoverinfo": "text+y",
         "hovertext": "Arima",
         "legendgroup": "Arima",
         "name": "Arima Mean of MAE",
         "type": "bar",
         "x": [
          "mae"
         ],
         "y": [
          5.71301733475711
         ]
        },
        {
         "hoverinfo": "skip",
         "legendgroup": "Arima",
         "marker": {
          "color": "black",
          "size": 10,
          "symbol": "line-ns-open"
         },
         "mode": "markers",
         "name": "Arima Median of MAE",
         "showlegend": false,
         "type": "scatter",
         "x": [
          "mae"
         ],
         "y": [
          4.823894950216038
         ]
        },
        {
         "error_y": {
          "array": [
           4.693880261811067
          ],
          "type": "data",
          "visible": true
         },
         "hoverinfo": "text+y",
         "hovertext": "Arima",
         "legendgroup": "Arima",
         "name": "Arima Mean of RMSE",
         "type": "bar",
         "x": [
          "rmse"
         ],
         "y": [
          6.775884035070862
         ]
        },
        {
         "hoverinfo": "skip",
         "legendgroup": "Arima",
         "marker": {
          "color": "black",
          "size": 10,
          "symbol": "line-ns-open"
         },
         "mode": "markers",
         "name": "Arima Median of RMSE",
         "showlegend": false,
         "type": "scatter",
         "x": [
          "rmse"
         ],
         "y": [
          5.415760852997746
         ]
        },
        {
         "error_y": {
          "array": [
           0.22632326929023935
          ],
          "type": "data",
          "visible": true
         },
         "hoverinfo": "text+y",
         "hovertext": "Arima",
         "legendgroup": "Arima",
         "name": "Arima Mean of MDA",
         "type": "bar",
         "x": [
          "mda"
         ],
         "y": [
          0.4699999999999999
         ]
        },
        {
         "hoverinfo": "skip",
         "legendgroup": "Arima",
         "marker": {
          "color": "black",
          "size": 10,
          "symbol": "line-ns-open"
         },
         "mode": "markers",
         "name": "Arima Median of MDA",
         "showlegend": false,
         "type": "scatter",
         "x": [
          "mda"
         ],
         "y": [
          0.5
         ]
        },
        {
         "error_y": {
          "array": [
           24.743780143741574
          ],
          "type": "data",
          "visible": true
         },
         "hoverinfo": "text+y",
         "hovertext": "Lag LLama",
         "legendgroup": "Lag LLama",
         "name": "Lag LLama Mean of R2",
         "type": "bar",
         "x": [
          "r2"
         ],
         "y": [
          -20.61891278901417
         ]
        },
        {
         "hoverinfo": "skip",
         "legendgroup": "Lag LLama",
         "marker": {
          "color": "black",
          "size": 10,
          "symbol": "line-ns-open"
         },
         "mode": "markers",
         "name": "Lag LLama Median of R2",
         "showlegend": false,
         "type": "scatter",
         "x": [
          "r2"
         ],
         "y": [
          -11.8879803678646
         ]
        },
        {
         "error_y": {
          "array": [
           8.565312658639876
          ],
          "type": "data",
          "visible": true
         },
         "hoverinfo": "text+y",
         "hovertext": "Lag LLama",
         "legendgroup": "Lag LLama",
         "name": "Lag LLama Mean of MAE",
         "type": "bar",
         "x": [
          "mae"
         ],
         "y": [
          13.796589374861327
         ]
        },
        {
         "hoverinfo": "skip",
         "legendgroup": "Lag LLama",
         "marker": {
          "color": "black",
          "size": 10,
          "symbol": "line-ns-open"
         },
         "mode": "markers",
         "name": "Lag LLama Median of MAE",
         "showlegend": false,
         "type": "scatter",
         "x": [
          "mae"
         ],
         "y": [
          13.588897166793142
         ]
        },
        {
         "error_y": {
          "array": [
           8.719762054038915
          ],
          "type": "data",
          "visible": true
         },
         "hoverinfo": "text+y",
         "hovertext": "Lag LLama",
         "legendgroup": "Lag LLama",
         "name": "Lag LLama Mean of RMSE",
         "type": "bar",
         "x": [
          "rmse"
         ],
         "y": [
          14.561009150318224
         ]
        },
        {
         "hoverinfo": "skip",
         "legendgroup": "Lag LLama",
         "marker": {
          "color": "black",
          "size": 10,
          "symbol": "line-ns-open"
         },
         "mode": "markers",
         "name": "Lag LLama Median of RMSE",
         "showlegend": false,
         "type": "scatter",
         "x": [
          "rmse"
         ],
         "y": [
          14.14038846535485
         ]
        },
        {
         "error_y": {
          "array": [
           0.13374935098492585
          ],
          "type": "data",
          "visible": true
         },
         "hoverinfo": "text+y",
         "hovertext": "Lag LLama",
         "legendgroup": "Lag LLama",
         "name": "Lag LLama Mean of MDA",
         "type": "bar",
         "x": [
          "mda"
         ],
         "y": [
          0.4700000000000001
         ]
        },
        {
         "hoverinfo": "skip",
         "legendgroup": "Lag LLama",
         "marker": {
          "color": "black",
          "size": 10,
          "symbol": "line-ns-open"
         },
         "mode": "markers",
         "name": "Lag LLama Median of MDA",
         "showlegend": false,
         "type": "scatter",
         "x": [
          "mda"
         ],
         "y": [
          0.5
         ]
        },
        {
         "error_y": {
          "array": [
           3.534343584522127
          ],
          "type": "data",
          "visible": true
         },
         "hoverinfo": "text+y",
         "hovertext": "Autoregressor",
         "legendgroup": "Autoregressor",
         "name": "Autoregressor Mean of R2",
         "type": "bar",
         "x": [
          "r2"
         ],
         "y": [
          -2.6210454064536592
         ]
        },
        {
         "hoverinfo": "skip",
         "legendgroup": "Autoregressor",
         "marker": {
          "color": "black",
          "size": 10,
          "symbol": "line-ns-open"
         },
         "mode": "markers",
         "name": "Autoregressor Median of R2",
         "showlegend": false,
         "type": "scatter",
         "x": [
          "r2"
         ],
         "y": [
          -1.6013000551111052
         ]
        },
        {
         "error_y": {
          "array": [
           4.091249847523647
          ],
          "type": "data",
          "visible": true
         },
         "hoverinfo": "text+y",
         "hovertext": "Autoregressor",
         "legendgroup": "Autoregressor",
         "name": "Autoregressor Mean of MAE",
         "type": "bar",
         "x": [
          "mae"
         ],
         "y": [
          5.700199432373047
         ]
        },
        {
         "hoverinfo": "skip",
         "legendgroup": "Autoregressor",
         "marker": {
          "color": "black",
          "size": 10,
          "symbol": "line-ns-open"
         },
         "mode": "markers",
         "name": "Autoregressor Median of MAE",
         "showlegend": false,
         "type": "scatter",
         "x": [
          "mae"
         ],
         "y": [
          4.961493682861327
         ]
        },
        {
         "error_y": {
          "array": [
           4.598304056691035
          ],
          "type": "data",
          "visible": true
         },
         "hoverinfo": "text+y",
         "hovertext": "Autoregressor",
         "legendgroup": "Autoregressor",
         "name": "Autoregressor Mean of RMSE",
         "type": "bar",
         "x": [
          "rmse"
         ],
         "y": [
          6.748179112870145
         ]
        },
        {
         "hoverinfo": "skip",
         "legendgroup": "Autoregressor",
         "marker": {
          "color": "black",
          "size": 10,
          "symbol": "line-ns-open"
         },
         "mode": "markers",
         "name": "Autoregressor Median of RMSE",
         "showlegend": false,
         "type": "scatter",
         "x": [
          "rmse"
         ],
         "y": [
          5.39052881959633
         ]
        },
        {
         "error_y": {
          "array": [
           0
          ],
          "type": "data",
          "visible": true
         },
         "hoverinfo": "text+y",
         "hovertext": "Autoregressor",
         "legendgroup": "Autoregressor",
         "name": "Autoregressor Mean of MDA",
         "type": "bar",
         "x": [
          "mda"
         ],
         "y": [
          0
         ]
        },
        {
         "hoverinfo": "skip",
         "legendgroup": "Autoregressor",
         "marker": {
          "color": "black",
          "size": 10,
          "symbol": "line-ns-open"
         },
         "mode": "markers",
         "name": "Autoregressor Median of MDA",
         "showlegend": false,
         "type": "scatter",
         "x": [
          "mda"
         ],
         "y": [
          0
         ]
        }
       ],
       "layout": {
        "barmode": "group",
        "height": 800,
        "legend": {
         "orientation": "h",
         "y": -0.2
        },
        "template": {
         "data": {
          "bar": [
           {
            "error_x": {
             "color": "#2a3f5f"
            },
            "error_y": {
             "color": "#2a3f5f"
            },
            "marker": {
             "line": {
              "color": "#E5ECF6",
              "width": 0.5
             },
             "pattern": {
              "fillmode": "overlay",
              "size": 10,
              "solidity": 0.2
             }
            },
            "type": "bar"
           }
          ],
          "barpolar": [
           {
            "marker": {
             "line": {
              "color": "#E5ECF6",
              "width": 0.5
             },
             "pattern": {
              "fillmode": "overlay",
              "size": 10,
              "solidity": 0.2
             }
            },
            "type": "barpolar"
           }
          ],
          "carpet": [
           {
            "aaxis": {
             "endlinecolor": "#2a3f5f",
             "gridcolor": "white",
             "linecolor": "white",
             "minorgridcolor": "white",
             "startlinecolor": "#2a3f5f"
            },
            "baxis": {
             "endlinecolor": "#2a3f5f",
             "gridcolor": "white",
             "linecolor": "white",
             "minorgridcolor": "white",
             "startlinecolor": "#2a3f5f"
            },
            "type": "carpet"
           }
          ],
          "choropleth": [
           {
            "colorbar": {
             "outlinewidth": 0,
             "ticks": ""
            },
            "type": "choropleth"
           }
          ],
          "contour": [
           {
            "colorbar": {
             "outlinewidth": 0,
             "ticks": ""
            },
            "colorscale": [
             [
              0,
              "#0d0887"
             ],
             [
              0.1111111111111111,
              "#46039f"
             ],
             [
              0.2222222222222222,
              "#7201a8"
             ],
             [
              0.3333333333333333,
              "#9c179e"
             ],
             [
              0.4444444444444444,
              "#bd3786"
             ],
             [
              0.5555555555555556,
              "#d8576b"
             ],
             [
              0.6666666666666666,
              "#ed7953"
             ],
             [
              0.7777777777777778,
              "#fb9f3a"
             ],
             [
              0.8888888888888888,
              "#fdca26"
             ],
             [
              1,
              "#f0f921"
             ]
            ],
            "type": "contour"
           }
          ],
          "contourcarpet": [
           {
            "colorbar": {
             "outlinewidth": 0,
             "ticks": ""
            },
            "type": "contourcarpet"
           }
          ],
          "heatmap": [
           {
            "colorbar": {
             "outlinewidth": 0,
             "ticks": ""
            },
            "colorscale": [
             [
              0,
              "#0d0887"
             ],
             [
              0.1111111111111111,
              "#46039f"
             ],
             [
              0.2222222222222222,
              "#7201a8"
             ],
             [
              0.3333333333333333,
              "#9c179e"
             ],
             [
              0.4444444444444444,
              "#bd3786"
             ],
             [
              0.5555555555555556,
              "#d8576b"
             ],
             [
              0.6666666666666666,
              "#ed7953"
             ],
             [
              0.7777777777777778,
              "#fb9f3a"
             ],
             [
              0.8888888888888888,
              "#fdca26"
             ],
             [
              1,
              "#f0f921"
             ]
            ],
            "type": "heatmap"
           }
          ],
          "heatmapgl": [
           {
            "colorbar": {
             "outlinewidth": 0,
             "ticks": ""
            },
            "colorscale": [
             [
              0,
              "#0d0887"
             ],
             [
              0.1111111111111111,
              "#46039f"
             ],
             [
              0.2222222222222222,
              "#7201a8"
             ],
             [
              0.3333333333333333,
              "#9c179e"
             ],
             [
              0.4444444444444444,
              "#bd3786"
             ],
             [
              0.5555555555555556,
              "#d8576b"
             ],
             [
              0.6666666666666666,
              "#ed7953"
             ],
             [
              0.7777777777777778,
              "#fb9f3a"
             ],
             [
              0.8888888888888888,
              "#fdca26"
             ],
             [
              1,
              "#f0f921"
             ]
            ],
            "type": "heatmapgl"
           }
          ],
          "histogram": [
           {
            "marker": {
             "pattern": {
              "fillmode": "overlay",
              "size": 10,
              "solidity": 0.2
             }
            },
            "type": "histogram"
           }
          ],
          "histogram2d": [
           {
            "colorbar": {
             "outlinewidth": 0,
             "ticks": ""
            },
            "colorscale": [
             [
              0,
              "#0d0887"
             ],
             [
              0.1111111111111111,
              "#46039f"
             ],
             [
              0.2222222222222222,
              "#7201a8"
             ],
             [
              0.3333333333333333,
              "#9c179e"
             ],
             [
              0.4444444444444444,
              "#bd3786"
             ],
             [
              0.5555555555555556,
              "#d8576b"
             ],
             [
              0.6666666666666666,
              "#ed7953"
             ],
             [
              0.7777777777777778,
              "#fb9f3a"
             ],
             [
              0.8888888888888888,
              "#fdca26"
             ],
             [
              1,
              "#f0f921"
             ]
            ],
            "type": "histogram2d"
           }
          ],
          "histogram2dcontour": [
           {
            "colorbar": {
             "outlinewidth": 0,
             "ticks": ""
            },
            "colorscale": [
             [
              0,
              "#0d0887"
             ],
             [
              0.1111111111111111,
              "#46039f"
             ],
             [
              0.2222222222222222,
              "#7201a8"
             ],
             [
              0.3333333333333333,
              "#9c179e"
             ],
             [
              0.4444444444444444,
              "#bd3786"
             ],
             [
              0.5555555555555556,
              "#d8576b"
             ],
             [
              0.6666666666666666,
              "#ed7953"
             ],
             [
              0.7777777777777778,
              "#fb9f3a"
             ],
             [
              0.8888888888888888,
              "#fdca26"
             ],
             [
              1,
              "#f0f921"
             ]
            ],
            "type": "histogram2dcontour"
           }
          ],
          "mesh3d": [
           {
            "colorbar": {
             "outlinewidth": 0,
             "ticks": ""
            },
            "type": "mesh3d"
           }
          ],
          "parcoords": [
           {
            "line": {
             "colorbar": {
              "outlinewidth": 0,
              "ticks": ""
             }
            },
            "type": "parcoords"
           }
          ],
          "pie": [
           {
            "automargin": true,
            "type": "pie"
           }
          ],
          "scatter": [
           {
            "fillpattern": {
             "fillmode": "overlay",
             "size": 10,
             "solidity": 0.2
            },
            "type": "scatter"
           }
          ],
          "scatter3d": [
           {
            "line": {
             "colorbar": {
              "outlinewidth": 0,
              "ticks": ""
             }
            },
            "marker": {
             "colorbar": {
              "outlinewidth": 0,
              "ticks": ""
             }
            },
            "type": "scatter3d"
           }
          ],
          "scattercarpet": [
           {
            "marker": {
             "colorbar": {
              "outlinewidth": 0,
              "ticks": ""
             }
            },
            "type": "scattercarpet"
           }
          ],
          "scattergeo": [
           {
            "marker": {
             "colorbar": {
              "outlinewidth": 0,
              "ticks": ""
             }
            },
            "type": "scattergeo"
           }
          ],
          "scattergl": [
           {
            "marker": {
             "colorbar": {
              "outlinewidth": 0,
              "ticks": ""
             }
            },
            "type": "scattergl"
           }
          ],
          "scattermapbox": [
           {
            "marker": {
             "colorbar": {
              "outlinewidth": 0,
              "ticks": ""
             }
            },
            "type": "scattermapbox"
           }
          ],
          "scatterpolar": [
           {
            "marker": {
             "colorbar": {
              "outlinewidth": 0,
              "ticks": ""
             }
            },
            "type": "scatterpolar"
           }
          ],
          "scatterpolargl": [
           {
            "marker": {
             "colorbar": {
              "outlinewidth": 0,
              "ticks": ""
             }
            },
            "type": "scatterpolargl"
           }
          ],
          "scatterternary": [
           {
            "marker": {
             "colorbar": {
              "outlinewidth": 0,
              "ticks": ""
             }
            },
            "type": "scatterternary"
           }
          ],
          "surface": [
           {
            "colorbar": {
             "outlinewidth": 0,
             "ticks": ""
            },
            "colorscale": [
             [
              0,
              "#0d0887"
             ],
             [
              0.1111111111111111,
              "#46039f"
             ],
             [
              0.2222222222222222,
              "#7201a8"
             ],
             [
              0.3333333333333333,
              "#9c179e"
             ],
             [
              0.4444444444444444,
              "#bd3786"
             ],
             [
              0.5555555555555556,
              "#d8576b"
             ],
             [
              0.6666666666666666,
              "#ed7953"
             ],
             [
              0.7777777777777778,
              "#fb9f3a"
             ],
             [
              0.8888888888888888,
              "#fdca26"
             ],
             [
              1,
              "#f0f921"
             ]
            ],
            "type": "surface"
           }
          ],
          "table": [
           {
            "cells": {
             "fill": {
              "color": "#EBF0F8"
             },
             "line": {
              "color": "white"
             }
            },
            "header": {
             "fill": {
              "color": "#C8D4E3"
             },
             "line": {
              "color": "white"
             }
            },
            "type": "table"
           }
          ]
         },
         "layout": {
          "annotationdefaults": {
           "arrowcolor": "#2a3f5f",
           "arrowhead": 0,
           "arrowwidth": 1
          },
          "autotypenumbers": "strict",
          "coloraxis": {
           "colorbar": {
            "outlinewidth": 0,
            "ticks": ""
           }
          },
          "colorscale": {
           "diverging": [
            [
             0,
             "#8e0152"
            ],
            [
             0.1,
             "#c51b7d"
            ],
            [
             0.2,
             "#de77ae"
            ],
            [
             0.3,
             "#f1b6da"
            ],
            [
             0.4,
             "#fde0ef"
            ],
            [
             0.5,
             "#f7f7f7"
            ],
            [
             0.6,
             "#e6f5d0"
            ],
            [
             0.7,
             "#b8e186"
            ],
            [
             0.8,
             "#7fbc41"
            ],
            [
             0.9,
             "#4d9221"
            ],
            [
             1,
             "#276419"
            ]
           ],
           "sequential": [
            [
             0,
             "#0d0887"
            ],
            [
             0.1111111111111111,
             "#46039f"
            ],
            [
             0.2222222222222222,
             "#7201a8"
            ],
            [
             0.3333333333333333,
             "#9c179e"
            ],
            [
             0.4444444444444444,
             "#bd3786"
            ],
            [
             0.5555555555555556,
             "#d8576b"
            ],
            [
             0.6666666666666666,
             "#ed7953"
            ],
            [
             0.7777777777777778,
             "#fb9f3a"
            ],
            [
             0.8888888888888888,
             "#fdca26"
            ],
            [
             1,
             "#f0f921"
            ]
           ],
           "sequentialminus": [
            [
             0,
             "#0d0887"
            ],
            [
             0.1111111111111111,
             "#46039f"
            ],
            [
             0.2222222222222222,
             "#7201a8"
            ],
            [
             0.3333333333333333,
             "#9c179e"
            ],
            [
             0.4444444444444444,
             "#bd3786"
            ],
            [
             0.5555555555555556,
             "#d8576b"
            ],
            [
             0.6666666666666666,
             "#ed7953"
            ],
            [
             0.7777777777777778,
             "#fb9f3a"
            ],
            [
             0.8888888888888888,
             "#fdca26"
            ],
            [
             1,
             "#f0f921"
            ]
           ]
          },
          "colorway": [
           "#636efa",
           "#EF553B",
           "#00cc96",
           "#ab63fa",
           "#FFA15A",
           "#19d3f3",
           "#FF6692",
           "#B6E880",
           "#FF97FF",
           "#FECB52"
          ],
          "font": {
           "color": "#2a3f5f"
          },
          "geo": {
           "bgcolor": "white",
           "lakecolor": "white",
           "landcolor": "#E5ECF6",
           "showlakes": true,
           "showland": true,
           "subunitcolor": "white"
          },
          "hoverlabel": {
           "align": "left"
          },
          "hovermode": "closest",
          "mapbox": {
           "style": "light"
          },
          "paper_bgcolor": "white",
          "plot_bgcolor": "#E5ECF6",
          "polar": {
           "angularaxis": {
            "gridcolor": "white",
            "linecolor": "white",
            "ticks": ""
           },
           "bgcolor": "#E5ECF6",
           "radialaxis": {
            "gridcolor": "white",
            "linecolor": "white",
            "ticks": ""
           }
          },
          "scene": {
           "xaxis": {
            "backgroundcolor": "#E5ECF6",
            "gridcolor": "white",
            "gridwidth": 2,
            "linecolor": "white",
            "showbackground": true,
            "ticks": "",
            "zerolinecolor": "white"
           },
           "yaxis": {
            "backgroundcolor": "#E5ECF6",
            "gridcolor": "white",
            "gridwidth": 2,
            "linecolor": "white",
            "showbackground": true,
            "ticks": "",
            "zerolinecolor": "white"
           },
           "zaxis": {
            "backgroundcolor": "#E5ECF6",
            "gridcolor": "white",
            "gridwidth": 2,
            "linecolor": "white",
            "showbackground": true,
            "ticks": "",
            "zerolinecolor": "white"
           }
          },
          "shapedefaults": {
           "line": {
            "color": "#2a3f5f"
           }
          },
          "ternary": {
           "aaxis": {
            "gridcolor": "white",
            "linecolor": "white",
            "ticks": ""
           },
           "baxis": {
            "gridcolor": "white",
            "linecolor": "white",
            "ticks": ""
           },
           "bgcolor": "#E5ECF6",
           "caxis": {
            "gridcolor": "white",
            "linecolor": "white",
            "ticks": ""
           }
          },
          "title": {
           "x": 0.05
          },
          "xaxis": {
           "automargin": true,
           "gridcolor": "white",
           "linecolor": "white",
           "ticks": "",
           "title": {
            "standoff": 15
           },
           "zerolinecolor": "white",
           "zerolinewidth": 2
          },
          "yaxis": {
           "automargin": true,
           "gridcolor": "white",
           "linecolor": "white",
           "ticks": "",
           "title": {
            "standoff": 15
           },
           "zerolinecolor": "white",
           "zerolinewidth": 2
          }
         }
        },
        "title": {
         "text": "Model Metrics Comparison"
        },
        "width": 1200,
        "xaxis": {
         "title": {
          "text": "Metrics"
         }
        },
        "yaxis": {
         "title": {
          "text": "Metric Value"
         }
        }
       }
      }
     },
     "metadata": {},
     "output_type": "display_data"
    }
   ],
   "source": [
    "# Assuming 'r' is your list of dataframes\n",
    "# Sample structure for 'r'\n",
    "# r = [df1, df2, df3, ...]\n",
    "\n",
    "# Model names\n",
    "model_names = ['Arima', 'Lag LLama', 'Autoregressor']\n",
    "\n",
    "# Extracting summary statistics for each model\n",
    "summary_stats = {'model': [], 'metric': [], 'mean': [], 'median': [], 'std': []}\n",
    "metrics = ['r2', 'mse', 'mae', 'rmse', 'mda']\n",
    "\n",
    "for i, df in enumerate(s):\n",
    "    for metric in metrics:\n",
    "        summary_stats['model'].append(model_names[i])\n",
    "        summary_stats['metric'].append(metric)\n",
    "        summary_stats['mean'].append(df.loc['mean', metric])\n",
    "        summary_stats['median'].append(df.loc['median', metric])\n",
    "        summary_stats['std'].append(df.loc['std', metric])\n",
    "\n",
    "summary_df = pd.DataFrame(summary_stats)\n",
    "\n",
    "# Plotting\n",
    "fig = go.Figure()\n",
    "\n",
    "for model in model_names:\n",
    "    for metric in metrics:\n",
    "        # mse is too large for every model, so it hinders visualization\n",
    "        if metric == \"mse\":\n",
    "            continue\n",
    "\n",
    "        metric_data = summary_df[(summary_df['model'] == model) & (summary_df['metric'] == metric)]\n",
    "        fig.add_trace(go.Bar(\n",
    "            x=[metric],\n",
    "            y=metric_data['mean'],\n",
    "            error_y=dict(type='data', array=metric_data['std'], visible=True),\n",
    "            name=f'{model} Mean of {metric.upper()}',\n",
    "            hovertext=f'{model}',\n",
    "            hoverinfo='text+y',\n",
    "            legendgroup=model\n",
    "        ))\n",
    "\n",
    "        # Adding median as a thick black line\n",
    "        fig.add_trace(go.Scatter(\n",
    "            x=[metric],\n",
    "            y=metric_data['median'],\n",
    "            mode='markers',\n",
    "            marker=dict(color='black', size=10, symbol='line-ns-open'),\n",
    "            name=f'{model} Median of {metric.upper()}',\n",
    "            hoverinfo='skip',\n",
    "            legendgroup=model,\n",
    "            showlegend=False\n",
    "        ))\n",
    "\n",
    "# Updating layout\n",
    "fig.update_layout(\n",
    "    title='Model Metrics Comparison',\n",
    "    barmode='group',\n",
    "    xaxis=dict(title='Metrics'),\n",
    "    yaxis=dict(title='Metric Value'),\n",
    "    legend=dict(orientation='h', y=-0.2),\n",
    "    height=800,\n",
    "    width=1200\n",
    ")\n",
    "\n",
    "fig.show()\n"
   ]
  },
  {
   "cell_type": "code",
   "execution_count": 32,
   "metadata": {},
   "outputs": [
    {
     "data": {
      "text/html": [
       "\n",
       "        <iframe\n",
       "            width=\"100%\"\n",
       "            height=\"650\"\n",
       "            src=\"http://127.0.0.1:8050/\"\n",
       "            frameborder=\"0\"\n",
       "            allowfullscreen\n",
       "            \n",
       "        ></iframe>\n",
       "        "
      ],
      "text/plain": [
       "<IPython.lib.display.IFrame at 0x1c4d26d8c50>"
      ]
     },
     "metadata": {},
     "output_type": "display_data"
    }
   ],
   "source": [
    "# Model names\n",
    "model_names = ['Arima', 'Lag LLama', 'Autoregressor']\n",
    "\n",
    "# Extracting summary statistics for each model\n",
    "summary_stats = {'model': [], 'metric': [], 'mean': [], 'median': [], 'std': []}\n",
    "metrics = ['r2', 'mse', 'mae', 'rmse', 'mda']\n",
    "\n",
    "for i, df in enumerate(s):\n",
    "    for metric in metrics:\n",
    "        summary_stats['model'].append(model_names[i])\n",
    "        summary_stats['metric'].append(metric)\n",
    "        summary_stats['mean'].append(df.loc['mean', metric])\n",
    "        summary_stats['median'].append(df.loc['median', metric])\n",
    "        summary_stats['std'].append(df.loc['std', metric])\n",
    "\n",
    "summary_df = pd.DataFrame(summary_stats)\n",
    "\n",
    "app = dash.Dash(__name__)\n",
    "\n",
    "app.layout = html.Div([\n",
    "    html.H1(\"Model Metrics Comparison\"),\n",
    "    html.Div([\n",
    "        html.Label('Select Metrics:'),\n",
    "        dcc.Dropdown(\n",
    "            id='metric-selector',\n",
    "            options=[{'label': metric.upper(), 'value': metric} for metric in metrics],\n",
    "            value=metrics,\n",
    "            multi=True\n",
    "        ),\n",
    "        html.Label('Select Models:'),\n",
    "        dcc.Dropdown(\n",
    "            id='model-selector',\n",
    "            options=[{'label': model, 'value': model} for model in model_names],\n",
    "            value=model_names,\n",
    "            multi=True\n",
    "        )\n",
    "    ], style={'width': '50%', 'display': 'inline-block'}),\n",
    "    dcc.Graph(id='metric-graph')\n",
    "])\n",
    "\n",
    "@app.callback(\n",
    "    Output('metric-graph', 'figure'),\n",
    "    [Input('metric-selector', 'value'),\n",
    "     Input('model-selector', 'value')]\n",
    ")\n",
    "def update_graph(selected_metrics, selected_models):\n",
    "    fig = go.Figure()\n",
    "\n",
    "    model_color_map = {\n",
    "        'Arima': 'red',\n",
    "        'Lag LLama': 'green',\n",
    "        'Autoregressor': 'blue'\n",
    "    }\n",
    "\n",
    "    for metric in selected_metrics:\n",
    "        for model in selected_models:\n",
    "            metric_data = summary_df[(summary_df['model'] == model) & (summary_df['metric'] == metric)]\n",
    "            color = model_color_map[model]\n",
    "\n",
    "            fig.add_trace(go.Bar(\n",
    "                x=[metric.upper()],\n",
    "                y=metric_data['mean'],\n",
    "                error_y=dict(type='data', array=metric_data['std'], visible=True),\n",
    "                name=f'{model} Mean',\n",
    "                hovertext=f'{model} - {metric.upper()}',\n",
    "                hoverinfo='text+y',\n",
    "                legendgroup=model,\n",
    "                marker_color=color,\n",
    "                offsetgroup=model\n",
    "            ))\n",
    "\n",
    "            # Adding median as a thick black line\n",
    "            fig.add_trace(go.Scatter(\n",
    "                x=[metric.upper()],\n",
    "                y=metric_data['median'],\n",
    "                mode='markers',\n",
    "                marker=dict(color='black', size=10, symbol='line-ns-open'),\n",
    "                name=f'{model} Median',\n",
    "                hoverinfo='skip',\n",
    "                legendgroup=model,\n",
    "                showlegend=False,\n",
    "                offsetgroup=model\n",
    "            ))\n",
    "\n",
    "    # Updating layout\n",
    "    fig.update_layout(\n",
    "        title='Model Metrics Comparison',\n",
    "        barmode='group',\n",
    "        xaxis=dict(title='Metrics', categoryorder='array', categoryarray=[metric.upper() for metric in selected_metrics]),\n",
    "        yaxis=dict(title='Metric Value'),\n",
    "        legend=dict(orientation='h', y=-0.2),\n",
    "        height=800,\n",
    "        width=1200\n",
    "    )\n",
    "\n",
    "    return fig\n",
    "\n",
    "if __name__ == '__main__':\n",
    "    app.run_server(debug=True)\n"
   ]
  },
  {
   "cell_type": "code",
   "execution_count": 10,
   "metadata": {},
   "outputs": [
    {
     "data": {
      "application/vnd.plotly.v1+json": {
       "config": {
        "plotlyServerURL": "https://plot.ly"
       },
       "data": [
        {
         "mode": "lines+markers",
         "name": "Arima Fold 0",
         "type": "scatter",
         "visible": true,
         "x": [
          1,
          2,
          3,
          4,
          5,
          6,
          7,
          8,
          9,
          10
         ],
         "y": [
          186.8709074451296,
          186.81629394636113,
          186.7971419108264,
          186.7835919550086,
          186.77092699643268,
          186.7584018466702,
          186.74589878342212,
          186.73339920932546,
          186.72090018643289,
          186.70840125061764
         ]
        },
        {
         "mode": "lines+markers",
         "name": "Arima Fold 1",
         "type": "scatter",
         "visible": false,
         "x": [
          1,
          2,
          3,
          4,
          5,
          6,
          7,
          8,
          9,
          10
         ],
         "y": [
          182.83465839309588,
          182.83698813684182,
          182.8069671629401,
          182.77177344561716,
          182.73575262841982,
          182.6995995614381,
          182.66342534827317,
          182.62724775392266,
          182.59106961893482,
          182.55489139750136
         ]
        },
        {
         "mode": "lines+markers",
         "name": "Arima Fold 2",
         "type": "scatter",
         "visible": false,
         "x": [
          1,
          2,
          3,
          4,
          5,
          6,
          7,
          8,
          9,
          10
         ],
         "y": [
          173.24633956082494,
          173.22887418865568,
          173.2114105772118,
          173.1939487263158,
          173.17648863579015,
          173.15903030545743,
          173.14157373514018,
          173.12411892466096,
          173.10666587384236,
          173.08921458250697
         ]
        },
        {
         "mode": "lines+markers",
         "name": "Arima Fold 3",
         "type": "scatter",
         "visible": false,
         "x": [
          1,
          2,
          3,
          4,
          5,
          6,
          7,
          8,
          9,
          10
         ],
         "y": [
          169.56845953951492,
          169.5513879145164,
          169.53431800823597,
          169.5172498205006,
          169.50018335113728,
          169.48311859997298,
          169.46605556683477,
          169.44899425154964,
          169.43193465394467,
          169.4148767738469
         ]
        },
        {
         "mode": "lines+markers",
         "name": "Arima Fold 4",
         "type": "scatter",
         "visible": false,
         "x": [
          1,
          2,
          3,
          4,
          5,
          6,
          7,
          8,
          9,
          10
         ],
         "y": [
          167.50982218884263,
          167.49357864869307,
          167.47733668369054,
          167.46109629368226,
          167.44485747851553,
          167.42862023803764,
          167.41238457209587,
          167.39615048053756,
          167.37991796321003,
          167.36368701996062
         ]
        },
        {
         "mode": "lines+markers",
         "name": "Arima Fold 5",
         "type": "scatter",
         "visible": false,
         "x": [
          1,
          2,
          3,
          4,
          5,
          6,
          7,
          8,
          9,
          10
         ],
         "y": [
          170.1554483403048,
          170.09594335226365,
          169.3773050434956,
          169.79534406640107,
          169.98215136681785,
          169.19861878499265,
          169.3026860834605,
          169.74489360322391,
          169.0882122249238,
          168.85494395800941
         ]
        },
        {
         "mode": "lines+markers",
         "name": "Arima Fold 6",
         "type": "scatter",
         "visible": false,
         "x": [
          1,
          2,
          3,
          4,
          5,
          6,
          7,
          8,
          9,
          10
         ],
         "y": [
          182.75655673173677,
          182.733913904829,
          182.70652188770245,
          182.67855440570747,
          182.65051719396922,
          182.62247153299737,
          182.59442484822213,
          182.56637803939145,
          182.5383312155288,
          182.51028438984474
         ]
        },
        {
         "mode": "lines+markers",
         "name": "Arima Fold 7",
         "type": "scatter",
         "visible": false,
         "x": [
          1,
          2,
          3,
          4,
          5,
          6,
          7,
          8,
          9,
          10
         ],
         "y": [
          190.73688147968457,
          190.72572322013156,
          190.73250735677743,
          190.74141009015793,
          190.75056298255143,
          190.75974541314386,
          190.76893133153865,
          190.7781176617651,
          190.78730404061966,
          190.79649042521612
         ]
        },
        {
         "mode": "lines+markers",
         "name": "Arima Fold 8",
         "type": "scatter",
         "visible": false,
         "x": [
          1,
          2,
          3,
          4,
          5,
          6,
          7,
          8,
          9,
          10
         ],
         "y": [
          194.29508105416866,
          194.2774765461374,
          194.25987363319902,
          194.242272315209,
          194.22467259202284,
          194.20707446349604,
          194.1894779294841,
          194.17188298984254,
          194.1542896444269,
          194.13669789309276
         ]
        },
        {
         "mode": "lines+markers",
         "name": "Arima Fold 9",
         "type": "scatter",
         "visible": false,
         "x": [
          1,
          2,
          3,
          4,
          5,
          6,
          7,
          8,
          9,
          10
         ],
         "y": [
          207.29387622190893,
          207.27320855285518,
          207.25254294441484,
          207.23187939638248,
          207.21121790855267,
          207.19055848072,
          207.1699011126791,
          207.14924580422456,
          207.12859255515107,
          207.1079413652533
         ]
        },
        {
         "mode": "lines+markers",
         "name": "Lag llama Fold 0",
         "type": "scatter",
         "visible": true,
         "x": [
          1,
          2,
          3,
          4,
          5,
          6,
          7,
          8,
          9,
          10
         ],
         "y": [
          188.80318456262412,
          186.0928970452577,
          190.12281640478926,
          190.459569782555,
          188.32555165115033,
          187.58875588738644,
          187.12846746374487,
          184.53755606443602,
          185.73289467143553,
          184.4319711407186
         ]
        },
        {
         "mode": "lines+markers",
         "name": "Lag llama Fold 1",
         "type": "scatter",
         "visible": false,
         "x": [
          1,
          2,
          3,
          4,
          5,
          6,
          7,
          8,
          9,
          10
         ],
         "y": [
          191.8910312412983,
          188.78204168470234,
          189.83569708565457,
          186.63286939199065,
          182.8636041673034,
          187.21448774868873,
          192.4845890104502,
          190.5771573563191,
          185.6757019461282,
          189.0769759440593
         ]
        },
        {
         "mode": "lines+markers",
         "name": "Lag llama Fold 2",
         "type": "scatter",
         "visible": false,
         "x": [
          1,
          2,
          3,
          4,
          5,
          6,
          7,
          8,
          9,
          10
         ],
         "y": [
          187.24614521651344,
          180.93775288160995,
          185.66446300591807,
          190.25871288352533,
          191.332544599985,
          188.4987782343287,
          185.97516649030274,
          182.0685687654828,
          189.28153395325344,
          186.89295631938197
         ]
        },
        {
         "mode": "lines+markers",
         "name": "Lag llama Fold 3",
         "type": "scatter",
         "visible": false,
         "x": [
          1,
          2,
          3,
          4,
          5,
          6,
          7,
          8,
          9,
          10
         ],
         "y": [
          180.94950601261257,
          186.30541130087045,
          186.88384536933722,
          184.72780132009638,
          184.49674701669494,
          182.59289819138058,
          185.78463313263646,
          184.07236977107914,
          187.30644459067764,
          186.23266282916435
         ]
        },
        {
         "mode": "lines+markers",
         "name": "Lag llama Fold 4",
         "type": "scatter",
         "visible": false,
         "x": [
          1,
          2,
          3,
          4,
          5,
          6,
          7,
          8,
          9,
          10
         ],
         "y": [
          184.82367082916892,
          183.50097794965447,
          183.0783316598411,
          180.84273660756503,
          179.64402918829654,
          181.95997296400722,
          182.63349491728752,
          182.6640356128187,
          182.7940328280049,
          182.77316806967735
         ]
        },
        {
         "mode": "lines+markers",
         "name": "Lag llama Fold 5",
         "type": "scatter",
         "visible": false,
         "x": [
          1,
          2,
          3,
          4,
          5,
          6,
          7,
          8,
          9,
          10
         ],
         "y": [
          182.81632942717624,
          183.85001469828654,
          181.46862568147546,
          180.90205123918614,
          182.38855787612604,
          182.32129646526525,
          185.32501935417793,
          184.1735064209305,
          182.09984038205053,
          180.4659864867771
         ]
        },
        {
         "mode": "lines+markers",
         "name": "Lag llama Fold 6",
         "type": "scatter",
         "visible": false,
         "x": [
          1,
          2,
          3,
          4,
          5,
          6,
          7,
          8,
          9,
          10
         ],
         "y": [
          182.23663632607762,
          184.4591885591668,
          181.76188963792148,
          180.7085093685786,
          183.07456846137904,
          179.3363801521019,
          183.34563185094262,
          180.04522145207332,
          181.5467628078692,
          184.03575122900685
         ]
        },
        {
         "mode": "lines+markers",
         "name": "Lag llama Fold 7",
         "type": "scatter",
         "visible": false,
         "x": [
          1,
          2,
          3,
          4,
          5,
          6,
          7,
          8,
          9,
          10
         ],
         "y": [
          181.15758120776417,
          184.22530648168544,
          183.05557800630038,
          181.84079809596238,
          180.76321439015305,
          182.25389914892597,
          184.17505467699772,
          182.22391320399126,
          182.83081692998726,
          187.09100365195977
         ]
        },
        {
         "mode": "lines+markers",
         "name": "Lag llama Fold 8",
         "type": "scatter",
         "visible": false,
         "x": [
          1,
          2,
          3,
          4,
          5,
          6,
          7,
          8,
          9,
          10
         ],
         "y": [
          183.9299318717093,
          184.17915043306638,
          184.1689068689928,
          182.49785938811482,
          185.9643612515252,
          185.27501824977847,
          184.0763084688589,
          187.63289951686681,
          184.94978896454396,
          183.6837186425915
         ]
        },
        {
         "mode": "lines+markers",
         "name": "Lag llama Fold 9",
         "type": "scatter",
         "visible": false,
         "x": [
          1,
          2,
          3,
          4,
          5,
          6,
          7,
          8,
          9,
          10
         ],
         "y": [
          185.84179755933582,
          183.13273543411066,
          182.3164644907574,
          182.51427801728758,
          184.1827022699912,
          183.4474095856338,
          181.51032364912925,
          182.13886372312547,
          182.91428171791011,
          182.18736232868648
         ]
        },
        {
         "mode": "lines+markers",
         "name": "Autoregressor Fold 0",
         "type": "scatter",
         "visible": true,
         "x": [
          1,
          2,
          3,
          4,
          5,
          6,
          7,
          8,
          9,
          10
         ],
         "y": [
          187.14999389648438,
          187.14999389648438,
          187.14999389648438,
          187.14999389648438,
          187.14999389648438,
          187.14999389648438,
          187.14999389648438,
          187.14999389648438,
          187.14999389648438,
          187.14999389648438
         ]
        },
        {
         "mode": "lines+markers",
         "name": "Autoregressor Fold 1",
         "type": "scatter",
         "visible": false,
         "x": [
          1,
          2,
          3,
          4,
          5,
          6,
          7,
          8,
          9,
          10
         ],
         "y": [
          182.6300048828125,
          182.6300048828125,
          182.6300048828125,
          182.6300048828125,
          182.6300048828125,
          182.6300048828125,
          182.6300048828125,
          182.6300048828125,
          182.6300048828125,
          182.6300048828125
         ]
        },
        {
         "mode": "lines+markers",
         "name": "Autoregressor Fold 2",
         "type": "scatter",
         "visible": false,
         "x": [
          1,
          2,
          3,
          4,
          5,
          6,
          7,
          8,
          9,
          10
         ],
         "y": [
          173.22999572753906,
          173.22999572753906,
          173.22999572753906,
          173.22999572753906,
          173.22999572753906,
          173.22999572753906,
          173.22999572753906,
          173.22999572753906,
          173.22999572753906,
          173.22999572753906
         ]
        },
        {
         "mode": "lines+markers",
         "name": "Autoregressor Fold 3",
         "type": "scatter",
         "visible": false,
         "x": [
          1,
          2,
          3,
          4,
          5,
          6,
          7,
          8,
          9,
          10
         ],
         "y": [
          169.7100067138672,
          169.7100067138672,
          169.7100067138672,
          169.7100067138672,
          169.7100067138672,
          169.7100067138672,
          169.7100067138672,
          169.7100067138672,
          169.7100067138672,
          169.7100067138672
         ]
        },
        {
         "mode": "lines+markers",
         "name": "Autoregressor Fold 4",
         "type": "scatter",
         "visible": false,
         "x": [
          1,
          2,
          3,
          4,
          5,
          6,
          7,
          8,
          9,
          10
         ],
         "y": [
          167.77999877929688,
          167.77999877929688,
          167.77999877929688,
          167.77999877929688,
          167.77999877929688,
          167.77999877929688,
          167.77999877929688,
          167.77999877929688,
          167.77999877929688,
          167.77999877929688
         ]
        },
        {
         "mode": "lines+markers",
         "name": "Autoregressor Fold 5",
         "type": "scatter",
         "visible": false,
         "x": [
          1,
          2,
          3,
          4,
          5,
          6,
          7,
          8,
          9,
          10
         ],
         "y": [
          169.02000427246094,
          169.02000427246094,
          169.02000427246094,
          169.02000427246094,
          169.02000427246094,
          169.02000427246094,
          169.02000427246094,
          169.02000427246094,
          169.02000427246094,
          169.02000427246094
         ]
        },
        {
         "mode": "lines+markers",
         "name": "Autoregressor Fold 6",
         "type": "scatter",
         "visible": false,
         "x": [
          1,
          2,
          3,
          4,
          5,
          6,
          7,
          8,
          9,
          10
         ],
         "y": [
          182.74000549316406,
          182.74000549316406,
          182.74000549316406,
          182.74000549316406,
          182.74000549316406,
          182.74000549316406,
          182.74000549316406,
          182.74000549316406,
          182.74000549316406,
          182.74000549316406
         ]
        },
        {
         "mode": "lines+markers",
         "name": "Autoregressor Fold 7",
         "type": "scatter",
         "visible": false,
         "x": [
          1,
          2,
          3,
          4,
          5,
          6,
          7,
          8,
          9,
          10
         ],
         "y": [
          190.89999389648438,
          190.89999389648438,
          190.89999389648438,
          190.89999389648438,
          190.89999389648438,
          190.89999389648438,
          190.89999389648438,
          190.89999389648438,
          190.89999389648438,
          190.89999389648438
         ]
        },
        {
         "mode": "lines+markers",
         "name": "Autoregressor Fold 8",
         "type": "scatter",
         "visible": false,
         "x": [
          1,
          2,
          3,
          4,
          5,
          6,
          7,
          8,
          9,
          10
         ],
         "y": [
          194.47999572753906,
          194.47999572753906,
          194.47999572753906,
          194.47999572753906,
          194.47999572753906,
          194.47999572753906,
          194.47999572753906,
          194.47999572753906,
          194.47999572753906,
          194.47999572753906
         ]
        },
        {
         "mode": "lines+markers",
         "name": "Autoregressor Fold 9",
         "type": "scatter",
         "visible": false,
         "x": [
          1,
          2,
          3,
          4,
          5,
          6,
          7,
          8,
          9,
          10
         ],
         "y": [
          207.49000549316406,
          207.49000549316406,
          207.49000549316406,
          207.49000549316406,
          207.49000549316406,
          207.49000549316406,
          207.49000549316406,
          207.49000549316406,
          207.49000549316406,
          207.49000549316406
         ]
        },
        {
         "mode": "lines+markers",
         "name": "Actual Fold 0",
         "type": "scatter",
         "visible": true,
         "x": [
          1,
          2,
          3,
          4,
          5,
          6,
          7,
          8,
          9,
          10
         ],
         "y": [
          185.0399932861328,
          184.14999389648438,
          183.86000061035156,
          182.30999755859375,
          181.55999755859375,
          182.32000732421875,
          184.3699951171875,
          182.52000427246094,
          181.16000366210938,
          182.6300048828125
         ]
        },
        {
         "mode": "lines+markers",
         "name": "Actual Fold 1",
         "type": "scatter",
         "visible": false,
         "x": [
          1,
          2,
          3,
          4,
          5,
          6,
          7,
          8,
          9,
          10
         ],
         "y": [
          181.4199981689453,
          180.75,
          179.66000366210938,
          175.10000610351562,
          170.1199951171875,
          169.1199951171875,
          169,
          170.72999572753906,
          172.75,
          173.22999572753906
         ]
        },
        {
         "mode": "lines+markers",
         "name": "Actual Fold 2",
         "type": "scatter",
         "visible": false,
         "x": [
          1,
          2,
          3,
          4,
          5,
          6,
          7,
          8,
          9,
          10
         ],
         "y": [
          171.1300048828125,
          173,
          172.6199951171875,
          173.72000122070312,
          176.0800018310547,
          178.6699981689453,
          171.3699951171875,
          172.27999877929688,
          170.85000610351562,
          169.7100067138672
         ]
        },
        {
         "mode": "lines+markers",
         "name": "Actual Fold 3",
         "type": "scatter",
         "visible": false,
         "x": [
          1,
          2,
          3,
          4,
          5,
          6,
          7,
          8,
          9,
          10
         ],
         "y": [
          173.30999755859375,
          171.47999572753906,
          170.02999877929688,
          168.83999633789062,
          169.64999389648438,
          168.82000732421875,
          169.5800018310547,
          168.4499969482422,
          169.6699981689453,
          167.77999877929688
         ]
        },
        {
         "mode": "lines+markers",
         "name": "Actual Fold 4",
         "type": "scatter",
         "visible": false,
         "x": [
          1,
          2,
          3,
          4,
          5,
          6,
          7,
          8,
          9,
          10
         ],
         "y": [
          175.0399932861328,
          176.5500030517578,
          172.69000244140625,
          169.3800048828125,
          168,
          167.0399932861328,
          165,
          165.83999633789062,
          166.89999389648438,
          169.02000427246094
         ]
        },
        {
         "mode": "lines+markers",
         "name": "Actual Fold 5",
         "type": "scatter",
         "visible": false,
         "x": [
          1,
          2,
          3,
          4,
          5,
          6,
          7,
          8,
          9,
          10
         ],
         "y": [
          169.88999938964844,
          169.3000030517578,
          173.5,
          170.3300018310547,
          169.3000030517578,
          173.02999877929688,
          183.3800048828125,
          181.7100067138672,
          182.39999389648438,
          182.74000549316406
         ]
        },
        {
         "mode": "lines+markers",
         "name": "Actual Fold 6",
         "type": "scatter",
         "visible": false,
         "x": [
          1,
          2,
          3,
          4,
          5,
          6,
          7,
          8,
          9,
          10
         ],
         "y": [
          184.57000732421875,
          183.0500030517578,
          186.27999877929688,
          187.42999267578125,
          189.72000122070312,
          189.83999633789062,
          189.8699951171875,
          191.0399932861328,
          192.35000610351562,
          190.89999389648438
         ]
        },
        {
         "mode": "lines+markers",
         "name": "Actual Fold 7",
         "type": "scatter",
         "visible": false,
         "x": [
          1,
          2,
          3,
          4,
          5,
          6,
          7,
          8,
          9,
          10
         ],
         "y": [
          186.8800048828125,
          189.97999572753906,
          189.99000549316406,
          190.2899932861328,
          191.2899932861328,
          192.25,
          194.02999877929688,
          194.35000610351562,
          195.8699951171875,
          194.47999572753906
         ]
        },
        {
         "mode": "lines+markers",
         "name": "Actual Fold 8",
         "type": "scatter",
         "visible": false,
         "x": [
          1,
          2,
          3,
          4,
          5,
          6,
          7,
          8,
          9,
          10
         ],
         "y": [
          196.88999938964844,
          193.1199951171875,
          207.14999389648438,
          213.07000732421875,
          214.24000549316406,
          212.49000549316406,
          216.6699981689453,
          214.2899932861328,
          209.67999267578125,
          207.49000549316406
         ]
        },
        {
         "mode": "lines+markers",
         "name": "Actual Fold 9",
         "type": "scatter",
         "visible": false,
         "x": [
          1,
          2,
          3,
          4,
          5,
          6,
          7,
          8,
          9,
          10
         ],
         "y": [
          208.13999938964844,
          209.07000732421875,
          213.25,
          214.10000610351562,
          210.6199951171875,
          216.75,
          220.27000427246094,
          221.5500030517578,
          226.33999633789062,
          227.82000732421875
         ]
        }
       ],
       "layout": {
        "height": 600,
        "template": {
         "data": {
          "bar": [
           {
            "error_x": {
             "color": "#2a3f5f"
            },
            "error_y": {
             "color": "#2a3f5f"
            },
            "marker": {
             "line": {
              "color": "#E5ECF6",
              "width": 0.5
             },
             "pattern": {
              "fillmode": "overlay",
              "size": 10,
              "solidity": 0.2
             }
            },
            "type": "bar"
           }
          ],
          "barpolar": [
           {
            "marker": {
             "line": {
              "color": "#E5ECF6",
              "width": 0.5
             },
             "pattern": {
              "fillmode": "overlay",
              "size": 10,
              "solidity": 0.2
             }
            },
            "type": "barpolar"
           }
          ],
          "carpet": [
           {
            "aaxis": {
             "endlinecolor": "#2a3f5f",
             "gridcolor": "white",
             "linecolor": "white",
             "minorgridcolor": "white",
             "startlinecolor": "#2a3f5f"
            },
            "baxis": {
             "endlinecolor": "#2a3f5f",
             "gridcolor": "white",
             "linecolor": "white",
             "minorgridcolor": "white",
             "startlinecolor": "#2a3f5f"
            },
            "type": "carpet"
           }
          ],
          "choropleth": [
           {
            "colorbar": {
             "outlinewidth": 0,
             "ticks": ""
            },
            "type": "choropleth"
           }
          ],
          "contour": [
           {
            "colorbar": {
             "outlinewidth": 0,
             "ticks": ""
            },
            "colorscale": [
             [
              0,
              "#0d0887"
             ],
             [
              0.1111111111111111,
              "#46039f"
             ],
             [
              0.2222222222222222,
              "#7201a8"
             ],
             [
              0.3333333333333333,
              "#9c179e"
             ],
             [
              0.4444444444444444,
              "#bd3786"
             ],
             [
              0.5555555555555556,
              "#d8576b"
             ],
             [
              0.6666666666666666,
              "#ed7953"
             ],
             [
              0.7777777777777778,
              "#fb9f3a"
             ],
             [
              0.8888888888888888,
              "#fdca26"
             ],
             [
              1,
              "#f0f921"
             ]
            ],
            "type": "contour"
           }
          ],
          "contourcarpet": [
           {
            "colorbar": {
             "outlinewidth": 0,
             "ticks": ""
            },
            "type": "contourcarpet"
           }
          ],
          "heatmap": [
           {
            "colorbar": {
             "outlinewidth": 0,
             "ticks": ""
            },
            "colorscale": [
             [
              0,
              "#0d0887"
             ],
             [
              0.1111111111111111,
              "#46039f"
             ],
             [
              0.2222222222222222,
              "#7201a8"
             ],
             [
              0.3333333333333333,
              "#9c179e"
             ],
             [
              0.4444444444444444,
              "#bd3786"
             ],
             [
              0.5555555555555556,
              "#d8576b"
             ],
             [
              0.6666666666666666,
              "#ed7953"
             ],
             [
              0.7777777777777778,
              "#fb9f3a"
             ],
             [
              0.8888888888888888,
              "#fdca26"
             ],
             [
              1,
              "#f0f921"
             ]
            ],
            "type": "heatmap"
           }
          ],
          "heatmapgl": [
           {
            "colorbar": {
             "outlinewidth": 0,
             "ticks": ""
            },
            "colorscale": [
             [
              0,
              "#0d0887"
             ],
             [
              0.1111111111111111,
              "#46039f"
             ],
             [
              0.2222222222222222,
              "#7201a8"
             ],
             [
              0.3333333333333333,
              "#9c179e"
             ],
             [
              0.4444444444444444,
              "#bd3786"
             ],
             [
              0.5555555555555556,
              "#d8576b"
             ],
             [
              0.6666666666666666,
              "#ed7953"
             ],
             [
              0.7777777777777778,
              "#fb9f3a"
             ],
             [
              0.8888888888888888,
              "#fdca26"
             ],
             [
              1,
              "#f0f921"
             ]
            ],
            "type": "heatmapgl"
           }
          ],
          "histogram": [
           {
            "marker": {
             "pattern": {
              "fillmode": "overlay",
              "size": 10,
              "solidity": 0.2
             }
            },
            "type": "histogram"
           }
          ],
          "histogram2d": [
           {
            "colorbar": {
             "outlinewidth": 0,
             "ticks": ""
            },
            "colorscale": [
             [
              0,
              "#0d0887"
             ],
             [
              0.1111111111111111,
              "#46039f"
             ],
             [
              0.2222222222222222,
              "#7201a8"
             ],
             [
              0.3333333333333333,
              "#9c179e"
             ],
             [
              0.4444444444444444,
              "#bd3786"
             ],
             [
              0.5555555555555556,
              "#d8576b"
             ],
             [
              0.6666666666666666,
              "#ed7953"
             ],
             [
              0.7777777777777778,
              "#fb9f3a"
             ],
             [
              0.8888888888888888,
              "#fdca26"
             ],
             [
              1,
              "#f0f921"
             ]
            ],
            "type": "histogram2d"
           }
          ],
          "histogram2dcontour": [
           {
            "colorbar": {
             "outlinewidth": 0,
             "ticks": ""
            },
            "colorscale": [
             [
              0,
              "#0d0887"
             ],
             [
              0.1111111111111111,
              "#46039f"
             ],
             [
              0.2222222222222222,
              "#7201a8"
             ],
             [
              0.3333333333333333,
              "#9c179e"
             ],
             [
              0.4444444444444444,
              "#bd3786"
             ],
             [
              0.5555555555555556,
              "#d8576b"
             ],
             [
              0.6666666666666666,
              "#ed7953"
             ],
             [
              0.7777777777777778,
              "#fb9f3a"
             ],
             [
              0.8888888888888888,
              "#fdca26"
             ],
             [
              1,
              "#f0f921"
             ]
            ],
            "type": "histogram2dcontour"
           }
          ],
          "mesh3d": [
           {
            "colorbar": {
             "outlinewidth": 0,
             "ticks": ""
            },
            "type": "mesh3d"
           }
          ],
          "parcoords": [
           {
            "line": {
             "colorbar": {
              "outlinewidth": 0,
              "ticks": ""
             }
            },
            "type": "parcoords"
           }
          ],
          "pie": [
           {
            "automargin": true,
            "type": "pie"
           }
          ],
          "scatter": [
           {
            "fillpattern": {
             "fillmode": "overlay",
             "size": 10,
             "solidity": 0.2
            },
            "type": "scatter"
           }
          ],
          "scatter3d": [
           {
            "line": {
             "colorbar": {
              "outlinewidth": 0,
              "ticks": ""
             }
            },
            "marker": {
             "colorbar": {
              "outlinewidth": 0,
              "ticks": ""
             }
            },
            "type": "scatter3d"
           }
          ],
          "scattercarpet": [
           {
            "marker": {
             "colorbar": {
              "outlinewidth": 0,
              "ticks": ""
             }
            },
            "type": "scattercarpet"
           }
          ],
          "scattergeo": [
           {
            "marker": {
             "colorbar": {
              "outlinewidth": 0,
              "ticks": ""
             }
            },
            "type": "scattergeo"
           }
          ],
          "scattergl": [
           {
            "marker": {
             "colorbar": {
              "outlinewidth": 0,
              "ticks": ""
             }
            },
            "type": "scattergl"
           }
          ],
          "scattermapbox": [
           {
            "marker": {
             "colorbar": {
              "outlinewidth": 0,
              "ticks": ""
             }
            },
            "type": "scattermapbox"
           }
          ],
          "scatterpolar": [
           {
            "marker": {
             "colorbar": {
              "outlinewidth": 0,
              "ticks": ""
             }
            },
            "type": "scatterpolar"
           }
          ],
          "scatterpolargl": [
           {
            "marker": {
             "colorbar": {
              "outlinewidth": 0,
              "ticks": ""
             }
            },
            "type": "scatterpolargl"
           }
          ],
          "scatterternary": [
           {
            "marker": {
             "colorbar": {
              "outlinewidth": 0,
              "ticks": ""
             }
            },
            "type": "scatterternary"
           }
          ],
          "surface": [
           {
            "colorbar": {
             "outlinewidth": 0,
             "ticks": ""
            },
            "colorscale": [
             [
              0,
              "#0d0887"
             ],
             [
              0.1111111111111111,
              "#46039f"
             ],
             [
              0.2222222222222222,
              "#7201a8"
             ],
             [
              0.3333333333333333,
              "#9c179e"
             ],
             [
              0.4444444444444444,
              "#bd3786"
             ],
             [
              0.5555555555555556,
              "#d8576b"
             ],
             [
              0.6666666666666666,
              "#ed7953"
             ],
             [
              0.7777777777777778,
              "#fb9f3a"
             ],
             [
              0.8888888888888888,
              "#fdca26"
             ],
             [
              1,
              "#f0f921"
             ]
            ],
            "type": "surface"
           }
          ],
          "table": [
           {
            "cells": {
             "fill": {
              "color": "#EBF0F8"
             },
             "line": {
              "color": "white"
             }
            },
            "header": {
             "fill": {
              "color": "#C8D4E3"
             },
             "line": {
              "color": "white"
             }
            },
            "type": "table"
           }
          ]
         },
         "layout": {
          "annotationdefaults": {
           "arrowcolor": "#2a3f5f",
           "arrowhead": 0,
           "arrowwidth": 1
          },
          "autotypenumbers": "strict",
          "coloraxis": {
           "colorbar": {
            "outlinewidth": 0,
            "ticks": ""
           }
          },
          "colorscale": {
           "diverging": [
            [
             0,
             "#8e0152"
            ],
            [
             0.1,
             "#c51b7d"
            ],
            [
             0.2,
             "#de77ae"
            ],
            [
             0.3,
             "#f1b6da"
            ],
            [
             0.4,
             "#fde0ef"
            ],
            [
             0.5,
             "#f7f7f7"
            ],
            [
             0.6,
             "#e6f5d0"
            ],
            [
             0.7,
             "#b8e186"
            ],
            [
             0.8,
             "#7fbc41"
            ],
            [
             0.9,
             "#4d9221"
            ],
            [
             1,
             "#276419"
            ]
           ],
           "sequential": [
            [
             0,
             "#0d0887"
            ],
            [
             0.1111111111111111,
             "#46039f"
            ],
            [
             0.2222222222222222,
             "#7201a8"
            ],
            [
             0.3333333333333333,
             "#9c179e"
            ],
            [
             0.4444444444444444,
             "#bd3786"
            ],
            [
             0.5555555555555556,
             "#d8576b"
            ],
            [
             0.6666666666666666,
             "#ed7953"
            ],
            [
             0.7777777777777778,
             "#fb9f3a"
            ],
            [
             0.8888888888888888,
             "#fdca26"
            ],
            [
             1,
             "#f0f921"
            ]
           ],
           "sequentialminus": [
            [
             0,
             "#0d0887"
            ],
            [
             0.1111111111111111,
             "#46039f"
            ],
            [
             0.2222222222222222,
             "#7201a8"
            ],
            [
             0.3333333333333333,
             "#9c179e"
            ],
            [
             0.4444444444444444,
             "#bd3786"
            ],
            [
             0.5555555555555556,
             "#d8576b"
            ],
            [
             0.6666666666666666,
             "#ed7953"
            ],
            [
             0.7777777777777778,
             "#fb9f3a"
            ],
            [
             0.8888888888888888,
             "#fdca26"
            ],
            [
             1,
             "#f0f921"
            ]
           ]
          },
          "colorway": [
           "#636efa",
           "#EF553B",
           "#00cc96",
           "#ab63fa",
           "#FFA15A",
           "#19d3f3",
           "#FF6692",
           "#B6E880",
           "#FF97FF",
           "#FECB52"
          ],
          "font": {
           "color": "#2a3f5f"
          },
          "geo": {
           "bgcolor": "white",
           "lakecolor": "white",
           "landcolor": "#E5ECF6",
           "showlakes": true,
           "showland": true,
           "subunitcolor": "white"
          },
          "hoverlabel": {
           "align": "left"
          },
          "hovermode": "closest",
          "mapbox": {
           "style": "light"
          },
          "paper_bgcolor": "white",
          "plot_bgcolor": "#E5ECF6",
          "polar": {
           "angularaxis": {
            "gridcolor": "white",
            "linecolor": "white",
            "ticks": ""
           },
           "bgcolor": "#E5ECF6",
           "radialaxis": {
            "gridcolor": "white",
            "linecolor": "white",
            "ticks": ""
           }
          },
          "scene": {
           "xaxis": {
            "backgroundcolor": "#E5ECF6",
            "gridcolor": "white",
            "gridwidth": 2,
            "linecolor": "white",
            "showbackground": true,
            "ticks": "",
            "zerolinecolor": "white"
           },
           "yaxis": {
            "backgroundcolor": "#E5ECF6",
            "gridcolor": "white",
            "gridwidth": 2,
            "linecolor": "white",
            "showbackground": true,
            "ticks": "",
            "zerolinecolor": "white"
           },
           "zaxis": {
            "backgroundcolor": "#E5ECF6",
            "gridcolor": "white",
            "gridwidth": 2,
            "linecolor": "white",
            "showbackground": true,
            "ticks": "",
            "zerolinecolor": "white"
           }
          },
          "shapedefaults": {
           "line": {
            "color": "#2a3f5f"
           }
          },
          "ternary": {
           "aaxis": {
            "gridcolor": "white",
            "linecolor": "white",
            "ticks": ""
           },
           "baxis": {
            "gridcolor": "white",
            "linecolor": "white",
            "ticks": ""
           },
           "bgcolor": "#E5ECF6",
           "caxis": {
            "gridcolor": "white",
            "linecolor": "white",
            "ticks": ""
           }
          },
          "title": {
           "x": 0.05
          },
          "xaxis": {
           "automargin": true,
           "gridcolor": "white",
           "linecolor": "white",
           "ticks": "",
           "title": {
            "standoff": 15
           },
           "zerolinecolor": "white",
           "zerolinewidth": 2
          },
          "yaxis": {
           "automargin": true,
           "gridcolor": "white",
           "linecolor": "white",
           "ticks": "",
           "title": {
            "standoff": 15
           },
           "zerolinecolor": "white",
           "zerolinewidth": 2
          }
         }
        },
        "title": {
         "text": "Predictions"
        },
        "updatemenus": [
         {
          "active": 0,
          "buttons": [
           {
            "args": [
             {
              "visible": [
               true,
               false,
               false,
               false,
               false,
               false,
               false,
               false,
               false,
               false,
               true,
               false,
               false,
               false,
               false,
               false,
               false,
               false,
               false,
               false,
               true,
               false,
               false,
               false,
               false,
               false,
               false,
               false,
               false,
               false,
               true,
               false,
               false,
               false,
               false,
               false,
               false,
               false,
               false,
               false
              ]
             },
             {
              "title": "Predictions for Fold 0"
             }
            ],
            "label": "Fold 0",
            "method": "update"
           },
           {
            "args": [
             {
              "visible": [
               false,
               true,
               false,
               false,
               false,
               false,
               false,
               false,
               false,
               false,
               false,
               true,
               false,
               false,
               false,
               false,
               false,
               false,
               false,
               false,
               false,
               true,
               false,
               false,
               false,
               false,
               false,
               false,
               false,
               false,
               false,
               true,
               false,
               false,
               false,
               false,
               false,
               false,
               false,
               false
              ]
             },
             {
              "title": "Predictions for Fold 1"
             }
            ],
            "label": "Fold 1",
            "method": "update"
           },
           {
            "args": [
             {
              "visible": [
               false,
               false,
               true,
               false,
               false,
               false,
               false,
               false,
               false,
               false,
               false,
               false,
               true,
               false,
               false,
               false,
               false,
               false,
               false,
               false,
               false,
               false,
               true,
               false,
               false,
               false,
               false,
               false,
               false,
               false,
               false,
               false,
               true,
               false,
               false,
               false,
               false,
               false,
               false,
               false
              ]
             },
             {
              "title": "Predictions for Fold 2"
             }
            ],
            "label": "Fold 2",
            "method": "update"
           },
           {
            "args": [
             {
              "visible": [
               false,
               false,
               false,
               true,
               false,
               false,
               false,
               false,
               false,
               false,
               false,
               false,
               false,
               true,
               false,
               false,
               false,
               false,
               false,
               false,
               false,
               false,
               false,
               true,
               false,
               false,
               false,
               false,
               false,
               false,
               false,
               false,
               false,
               true,
               false,
               false,
               false,
               false,
               false,
               false
              ]
             },
             {
              "title": "Predictions for Fold 3"
             }
            ],
            "label": "Fold 3",
            "method": "update"
           },
           {
            "args": [
             {
              "visible": [
               false,
               false,
               false,
               false,
               true,
               false,
               false,
               false,
               false,
               false,
               false,
               false,
               false,
               false,
               true,
               false,
               false,
               false,
               false,
               false,
               false,
               false,
               false,
               false,
               true,
               false,
               false,
               false,
               false,
               false,
               false,
               false,
               false,
               false,
               true,
               false,
               false,
               false,
               false,
               false
              ]
             },
             {
              "title": "Predictions for Fold 4"
             }
            ],
            "label": "Fold 4",
            "method": "update"
           },
           {
            "args": [
             {
              "visible": [
               false,
               false,
               false,
               false,
               false,
               true,
               false,
               false,
               false,
               false,
               false,
               false,
               false,
               false,
               false,
               true,
               false,
               false,
               false,
               false,
               false,
               false,
               false,
               false,
               false,
               true,
               false,
               false,
               false,
               false,
               false,
               false,
               false,
               false,
               false,
               true,
               false,
               false,
               false,
               false
              ]
             },
             {
              "title": "Predictions for Fold 5"
             }
            ],
            "label": "Fold 5",
            "method": "update"
           },
           {
            "args": [
             {
              "visible": [
               false,
               false,
               false,
               false,
               false,
               false,
               true,
               false,
               false,
               false,
               false,
               false,
               false,
               false,
               false,
               false,
               true,
               false,
               false,
               false,
               false,
               false,
               false,
               false,
               false,
               false,
               true,
               false,
               false,
               false,
               false,
               false,
               false,
               false,
               false,
               false,
               true,
               false,
               false,
               false
              ]
             },
             {
              "title": "Predictions for Fold 6"
             }
            ],
            "label": "Fold 6",
            "method": "update"
           },
           {
            "args": [
             {
              "visible": [
               false,
               false,
               false,
               false,
               false,
               false,
               false,
               true,
               false,
               false,
               false,
               false,
               false,
               false,
               false,
               false,
               false,
               true,
               false,
               false,
               false,
               false,
               false,
               false,
               false,
               false,
               false,
               true,
               false,
               false,
               false,
               false,
               false,
               false,
               false,
               false,
               false,
               true,
               false,
               false
              ]
             },
             {
              "title": "Predictions for Fold 7"
             }
            ],
            "label": "Fold 7",
            "method": "update"
           },
           {
            "args": [
             {
              "visible": [
               false,
               false,
               false,
               false,
               false,
               false,
               false,
               false,
               true,
               false,
               false,
               false,
               false,
               false,
               false,
               false,
               false,
               false,
               true,
               false,
               false,
               false,
               false,
               false,
               false,
               false,
               false,
               false,
               true,
               false,
               false,
               false,
               false,
               false,
               false,
               false,
               false,
               false,
               true,
               false
              ]
             },
             {
              "title": "Predictions for Fold 8"
             }
            ],
            "label": "Fold 8",
            "method": "update"
           },
           {
            "args": [
             {
              "visible": [
               false,
               false,
               false,
               false,
               false,
               false,
               false,
               false,
               false,
               true,
               false,
               false,
               false,
               false,
               false,
               false,
               false,
               false,
               false,
               true,
               false,
               false,
               false,
               false,
               false,
               false,
               false,
               false,
               false,
               true,
               false,
               false,
               false,
               false,
               false,
               false,
               false,
               false,
               false,
               true
              ]
             },
             {
              "title": "Predictions for Fold 9"
             }
            ],
            "label": "Fold 9",
            "method": "update"
           }
          ],
          "direction": "down",
          "showactive": true,
          "x": 0.17,
          "xanchor": "left",
          "y": 1.15,
          "yanchor": "top"
         }
        ],
        "width": 800,
        "xaxis": {
         "anchor": "y",
         "domain": [
          0,
          1
         ]
        },
        "yaxis": {
         "anchor": "x",
         "domain": [
          0,
          1
         ]
        }
       }
      }
     },
     "metadata": {},
     "output_type": "display_data"
    }
   ],
   "source": [
    "def visualize_predictions(p, a):\n",
    "    \"\"\"\n",
    "    Visualizes the predictions and actual values of the time series.\n",
    "\n",
    "    Parameters:\n",
    "    p (list of pd.DataFrame): List containing the dataframes for the models.\n",
    "    a (pd.DataFrame): DataFrame containing the actual values.\n",
    "\n",
    "    Returns:\n",
    "    fig: Plotly figure object.\n",
    "    \"\"\"\n",
    "    model_mapping = {\n",
    "        \"Arima\": p[0],\n",
    "        \"Lag llama\": p[1],\n",
    "        \"Autoregressor\": p[2]\n",
    "    }\n",
    "\n",
    "    models = list(model_mapping.keys())\n",
    "    folds = list(range(len(a)))\n",
    "\n",
    "    fig = make_subplots(rows=1, cols=1)\n",
    "    \n",
    "    # Add traces for all models and folds, but make them invisible initially\n",
    "    for model in models:\n",
    "        for fold in folds:\n",
    "            predicted_values = model_mapping[model].iloc[fold].values\n",
    "            fig.add_trace(go.Scatter(x=list(range(1, len(predicted_values)+1)), \n",
    "                                     y=predicted_values, \n",
    "                                     mode='lines+markers', \n",
    "                                     name=f'{model} Fold {fold}',\n",
    "                                     visible=False))\n",
    "            \n",
    "    for fold in folds:\n",
    "        actual_values = a.iloc[fold].values\n",
    "        fig.add_trace(go.Scatter(x=list(range(1, len(actual_values)+1)), \n",
    "                                 y=actual_values, \n",
    "                                 mode='lines+markers', \n",
    "                                 name=f'Actual Fold {fold}',\n",
    "                                 visible=False))\n",
    "\n",
    "    # Create buttons for folds\n",
    "    fold_buttons = []\n",
    "    for fold in folds:\n",
    "        visibility = []\n",
    "        for trace in fig.data:\n",
    "            if f'Fold {fold}' in trace.name:\n",
    "                visibility.append(True)\n",
    "            else:\n",
    "                visibility.append(False)\n",
    "        button = dict(\n",
    "            label=f'Fold {fold}',\n",
    "            method='update',\n",
    "            args=[{'visible': visibility},\n",
    "                  {'title': f'Predictions for Fold {fold}'}]\n",
    "        )\n",
    "        fold_buttons.append(button)\n",
    "\n",
    "    fig.update_layout(\n",
    "        updatemenus=[\n",
    "            dict(active=0,\n",
    "                 buttons=fold_buttons,\n",
    "                 direction='down',\n",
    "                 showactive=True,\n",
    "                 x=0.17,\n",
    "                 xanchor=\"left\",\n",
    "                 y=1.15,\n",
    "                 yanchor=\"top\")\n",
    "        ],\n",
    "        title=f'Predictions',\n",
    "        height=600,\n",
    "        width=800\n",
    "    )\n",
    "    \n",
    "    # Initially show the first fold\n",
    "    fig.update_traces(visible=True, selector=dict(name=f'Arima Fold 0'))\n",
    "    fig.update_traces(visible=True, selector=dict(name=f'Lag llama Fold 0'))\n",
    "    fig.update_traces(visible=True, selector=dict(name=f'Autoregressor Fold 0'))\n",
    "    fig.update_traces(visible=True, selector=dict(name=f'Actual Fold 0'))\n",
    "\n",
    "    return fig\n",
    "\n",
    "# Example usage\n",
    "fig = visualize_predictions(p, a)\n",
    "fig.show()\n"
   ]
  }
 ],
 "metadata": {
  "kernelspec": {
   "display_name": "Python 3",
   "language": "python",
   "name": "python3"
  },
  "language_info": {
   "codemirror_mode": {
    "name": "ipython",
    "version": 3
   },
   "file_extension": ".py",
   "mimetype": "text/x-python",
   "name": "python",
   "nbconvert_exporter": "python",
   "pygments_lexer": "ipython3",
   "version": "3.11.1"
  }
 },
 "nbformat": 4,
 "nbformat_minor": 2
}
