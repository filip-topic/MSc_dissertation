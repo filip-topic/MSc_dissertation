{
 "cells": [
  {
   "cell_type": "markdown",
   "metadata": {},
   "source": [
    "# Imports"
   ]
  },
  {
   "cell_type": "code",
   "execution_count": 1,
   "metadata": {},
   "outputs": [],
   "source": [
    "from modules.data import  data_reader, data_loader\n",
    "from modules.sr import result_saver\n",
    "from modules.models import lag_llama\n",
    "from modules.experiment.tscv import get_tscv_results, get_summary, extract_metrics\n",
    "from modules.visualization import graphs\n",
    "from modules.fine_tuning import lag_llama_ft\n",
    "from modules.models import prophet\n"
   ]
  },
  {
   "cell_type": "code",
   "execution_count": 2,
   "metadata": {},
   "outputs": [
    {
     "data": {
      "text/plain": [
       "'\\nimport os\\nprint(os.getcwd())\\n'"
      ]
     },
     "execution_count": 2,
     "metadata": {},
     "output_type": "execute_result"
    }
   ],
   "source": [
    "\"\"\"\n",
    "import os\n",
    "print(os.getcwd())\n",
    "\"\"\""
   ]
  },
  {
   "cell_type": "code",
   "execution_count": 3,
   "metadata": {},
   "outputs": [
    {
     "data": {
      "text/plain": [
       "'\\nfrom datetime import datetime\\n\\n# Get the current date and time\\ncurrent_datetime = datetime.now()\\n\\n# Format the date and time as a string\\ndatetime_str = current_datetime.strftime(\"%Y-%d-%m %H:%M:%S\")\\n\\n# Return the date and time as a string\\nNOW = datetime_str\\n'"
      ]
     },
     "execution_count": 3,
     "metadata": {},
     "output_type": "execute_result"
    }
   ],
   "source": [
    "\"\"\"\n",
    "from datetime import datetime\n",
    "\n",
    "# Get the current date and time\n",
    "current_datetime = datetime.now()\n",
    "\n",
    "# Format the date and time as a string\n",
    "datetime_str = current_datetime.strftime(\"%Y-%d-%m %H:%M:%S\")\n",
    "\n",
    "# Return the date and time as a string\n",
    "NOW = datetime_str\n",
    "\"\"\""
   ]
  },
  {
   "cell_type": "markdown",
   "metadata": {},
   "source": [
    "# Parameters"
   ]
  },
  {
   "cell_type": "code",
   "execution_count": 4,
   "metadata": {},
   "outputs": [],
   "source": [
    "# experiment parameters\n",
    "#constraint: FOLDS x PREDICTION_LENGTH + TRAIN_SIZE !!must not!! be bigger than len(data)\n",
    "\n",
    "PREDICTION_LENGTH = 1 # currentlz only works for PREDICTION_LENGTH > 1\n",
    "TICKER = \"S&P 500\"\n",
    "FREQUENCY = \"minutely\" # currently we only have dailz frequency\n",
    "TYPE_OF_DATA = \"stock\" # currently we only have stock prices saved\n",
    "MODELS = [\"arima\", \"llama\", \"autoregressor\", \"fine-tuned Llama\"] # currentlz works onlz for these two\n",
    "FOLDS = 5 # for TSCV # reduced to two for testing purposes\n",
    "CONTEXT_LENGTH = 245 # set to 245 for testing purposes\n",
    "METRICS = ['r2', 'mse', 'mae', 'rmse', 'mda', \"mape\"]\n",
    "\n",
    "# fine-tuning parameters\n",
    "BATCH_SIZE = 10\n",
    "MAX_EPOCHS = 5\n",
    "\n",
    "# data parameters\n",
    "START_DATE = \"2024-07-22\"\n",
    "END_DATE = \"2024-07-27\"\n",
    "\n",
    "# want to add\n",
    "#TRAIN_PERIOD = # context lenghts. Should take a look into this\n",
    "TRAIN_SIZE = CONTEXT_LENGTH\n",
    "\n"
   ]
  },
  {
   "cell_type": "markdown",
   "metadata": {},
   "source": [
    "# Data"
   ]
  },
  {
   "cell_type": "code",
   "execution_count": 5,
   "metadata": {},
   "outputs": [
    {
     "data": {
      "text/plain": [
       "'\\ndata = data_reader.read_data(type = TYPE_OF_DATA, frequency = FREQUENCY)\\n# this is just in case there are more CSVs of the same type and frequency, the data should be the first in the list\\n#if len(data) > 1:\\ndata = data[0]\\n\\nsimple_data = data_reader.read_data(type = TYPE_OF_DATA, frequency = FREQUENCY, match = [\"simple\"])\\n#if len(simple_data) > 1:\\nsimple_data = simple_data[0]\\n\\ntrain_data = data_reader.read_data(type = TYPE_OF_DATA, frequency = FREQUENCY, match = [\"train\"])\\ntrain_data = train_data[0]\\n\\ntest_data = data_reader.read_data(type = TYPE_OF_DATA, frequency = FREQUENCY, match = [\"test\"])\\ntest_data = test_data[0]\\n'"
      ]
     },
     "execution_count": 5,
     "metadata": {},
     "output_type": "execute_result"
    }
   ],
   "source": [
    "\"\"\"\n",
    "data = data_reader.read_data(type = TYPE_OF_DATA, frequency = FREQUENCY)\n",
    "# this is just in case there are more CSVs of the same type and frequency, the data should be the first in the list\n",
    "#if len(data) > 1:\n",
    "data = data[0]\n",
    "\n",
    "simple_data = data_reader.read_data(type = TYPE_OF_DATA, frequency = FREQUENCY, match = [\"simple\"])\n",
    "#if len(simple_data) > 1:\n",
    "simple_data = simple_data[0]\n",
    "\n",
    "train_data = data_reader.read_data(type = TYPE_OF_DATA, frequency = FREQUENCY, match = [\"train\"])\n",
    "train_data = train_data[0]\n",
    "\n",
    "test_data = data_reader.read_data(type = TYPE_OF_DATA, frequency = FREQUENCY, match = [\"test\"])\n",
    "test_data = test_data[0]\n",
    "\"\"\""
   ]
  },
  {
   "cell_type": "code",
   "execution_count": 6,
   "metadata": {},
   "outputs": [],
   "source": [
    "DATA_CONFIG = {\"ticker\" : TICKER,\n",
    "               \"frequency\" : FREQUENCY,\n",
    "               \"start\" : START_DATE,\n",
    "               \"end\" : END_DATE}\n",
    "\n"
   ]
  },
  {
   "cell_type": "code",
   "execution_count": 7,
   "metadata": {},
   "outputs": [
    {
     "name": "stdout",
     "output_type": "stream",
     "text": [
      "[*********************100%%**********************]  1 of 1 completed\n"
     ]
    }
   ],
   "source": [
    "data = data_loader.get_data(data_type=TYPE_OF_DATA, kwargs=DATA_CONFIG)"
   ]
  },
  {
   "cell_type": "markdown",
   "metadata": {},
   "source": [
    "# Additional parameters"
   ]
  },
  {
   "cell_type": "code",
   "execution_count": 8,
   "metadata": {},
   "outputs": [],
   "source": [
    "DATA_LENGTH = len(data)\n",
    "FOLDS = int((DATA_LENGTH - TRAIN_SIZE) / PREDICTION_LENGTH) # this calculates max ammount of folds we can have given a set TRAIN_SIZE and PREDICTION_LENGTH\n",
    "FOLDS = 5\n"
   ]
  },
  {
   "cell_type": "markdown",
   "metadata": {},
   "source": [
    "# Fine tuning"
   ]
  },
  {
   "cell_type": "code",
   "execution_count": 9,
   "metadata": {},
   "outputs": [],
   "source": [
    "#preparing the training data for lag llama fine tuning\n",
    "ft_train_data = lag_llama.prepare_data(data=ft_data, \n",
    "                                       prediction_length=0, \n",
    "                                       frequency=FREQUENCY)"
   ]
  },
  {
   "cell_type": "code",
   "execution_count": 10,
   "metadata": {},
   "outputs": [],
   "source": [
    "# creating the lag llama predictor object \n",
    "predictor = lag_llama_ft.get_predictor(prediction_length=PREDICTION_LENGTH, \n",
    "                                       context_length=CONTEXT_LENGTH, \n",
    "                                       batch_size=BATCH_SIZE, \n",
    "                                       max_epochs=MAX_EPOCHS)"
   ]
  },
  {
   "cell_type": "code",
   "execution_count": null,
   "metadata": {},
   "outputs": [],
   "source": [
    "# fine-tuning the predictor object\n",
    "predictor = predictor.train(ft_train_data, \n",
    "                            cache_data = True, \n",
    "                            shuffle_buffer_length = 1000)"
   ]
  },
  {
   "cell_type": "code",
   "execution_count": null,
   "metadata": {},
   "outputs": [],
   "source": [
    "r, p = get_tscv_results(data = data,\n",
    "                           prediction_horizon=PREDICTION_LENGTH,\n",
    "                           context_length=CONTEXT_LENGTH, \n",
    "                           folds=FOLDS, \n",
    "                           frequency=FREQUENCY,\n",
    "                           predictor=predictor)"
   ]
  },
  {
   "cell_type": "markdown",
   "metadata": {},
   "source": [
    "# Saving results"
   ]
  },
  {
   "cell_type": "code",
   "execution_count": 34,
   "metadata": {},
   "outputs": [
    {
     "data": {
      "text/html": [
       "<div>\n",
       "<style scoped>\n",
       "    .dataframe tbody tr th:only-of-type {\n",
       "        vertical-align: middle;\n",
       "    }\n",
       "\n",
       "    .dataframe tbody tr th {\n",
       "        vertical-align: top;\n",
       "    }\n",
       "\n",
       "    .dataframe thead th {\n",
       "        text-align: right;\n",
       "    }\n",
       "</style>\n",
       "<table border=\"1\" class=\"dataframe\">\n",
       "  <thead>\n",
       "    <tr style=\"text-align: right;\">\n",
       "      <th></th>\n",
       "      <th>r2</th>\n",
       "      <th>mse</th>\n",
       "      <th>mae</th>\n",
       "      <th>rmse</th>\n",
       "      <th>mda</th>\n",
       "      <th>mape</th>\n",
       "    </tr>\n",
       "  </thead>\n",
       "  <tbody>\n",
       "    <tr>\n",
       "      <th>arima</th>\n",
       "      <td>0.450407</td>\n",
       "      <td>14.482253</td>\n",
       "      <td>3.190176</td>\n",
       "      <td>3.805556</td>\n",
       "      <td>0.6</td>\n",
       "      <td>0.014594</td>\n",
       "    </tr>\n",
       "    <tr>\n",
       "      <th>lag_llama</th>\n",
       "      <td>-58.940031</td>\n",
       "      <td>1579.470616</td>\n",
       "      <td>38.714596</td>\n",
       "      <td>39.742554</td>\n",
       "      <td>0.2</td>\n",
       "      <td>0.176560</td>\n",
       "    </tr>\n",
       "    <tr>\n",
       "      <th>autoregressor</th>\n",
       "      <td>0.447312</td>\n",
       "      <td>14.563802</td>\n",
       "      <td>3.341670</td>\n",
       "      <td>3.816255</td>\n",
       "      <td>0.6</td>\n",
       "      <td>0.015282</td>\n",
       "    </tr>\n",
       "    <tr>\n",
       "      <th>ft_lag_llama</th>\n",
       "      <td>-0.700098</td>\n",
       "      <td>44.799023</td>\n",
       "      <td>5.472705</td>\n",
       "      <td>6.693207</td>\n",
       "      <td>0.6</td>\n",
       "      <td>0.025150</td>\n",
       "    </tr>\n",
       "  </tbody>\n",
       "</table>\n",
       "</div>"
      ],
      "text/plain": [
       "                      r2          mse        mae       rmse  mda      mape\n",
       "arima           0.450407    14.482253   3.190176   3.805556  0.6  0.014594\n",
       "lag_llama     -58.940031  1579.470616  38.714596  39.742554  0.2  0.176560\n",
       "autoregressor   0.447312    14.563802   3.341670   3.816255  0.6  0.015282\n",
       "ft_lag_llama   -0.700098    44.799023   5.472705   6.693207  0.6  0.025150"
      ]
     },
     "execution_count": 34,
     "metadata": {},
     "output_type": "execute_result"
    }
   ],
   "source": [
    "r"
   ]
  },
  {
   "cell_type": "code",
   "execution_count": 35,
   "metadata": {},
   "outputs": [
    {
     "data": {
      "text/html": [
       "<div>\n",
       "<style scoped>\n",
       "    .dataframe tbody tr th:only-of-type {\n",
       "        vertical-align: middle;\n",
       "    }\n",
       "\n",
       "    .dataframe tbody tr th {\n",
       "        vertical-align: top;\n",
       "    }\n",
       "\n",
       "    .dataframe thead th {\n",
       "        text-align: right;\n",
       "    }\n",
       "</style>\n",
       "<table border=\"1\" class=\"dataframe\">\n",
       "  <thead>\n",
       "    <tr style=\"text-align: right;\">\n",
       "      <th></th>\n",
       "      <th>arima</th>\n",
       "      <th>lag_llama</th>\n",
       "      <th>autoregressor</th>\n",
       "      <th>ft_lag_llama</th>\n",
       "      <th>actual</th>\n",
       "    </tr>\n",
       "  </thead>\n",
       "  <tbody>\n",
       "    <tr>\n",
       "      <th>0</th>\n",
       "      <td>213.656341</td>\n",
       "      <td>178.009499</td>\n",
       "      <td>213.250000</td>\n",
       "      <td>218.587265</td>\n",
       "      <td>214.100006</td>\n",
       "    </tr>\n",
       "    <tr>\n",
       "      <th>1</th>\n",
       "      <td>214.125477</td>\n",
       "      <td>188.782514</td>\n",
       "      <td>214.100006</td>\n",
       "      <td>215.746447</td>\n",
       "      <td>210.619995</td>\n",
       "    </tr>\n",
       "    <tr>\n",
       "      <th>2</th>\n",
       "      <td>210.232611</td>\n",
       "      <td>177.785137</td>\n",
       "      <td>210.619995</td>\n",
       "      <td>203.581973</td>\n",
       "      <td>216.750000</td>\n",
       "    </tr>\n",
       "    <tr>\n",
       "      <th>3</th>\n",
       "      <td>217.310340</td>\n",
       "      <td>176.589256</td>\n",
       "      <td>216.750000</td>\n",
       "      <td>217.426447</td>\n",
       "      <td>220.270004</td>\n",
       "    </tr>\n",
       "    <tr>\n",
       "      <th>4</th>\n",
       "      <td>220.542241</td>\n",
       "      <td>181.412634</td>\n",
       "      <td>220.270004</td>\n",
       "      <td>220.673695</td>\n",
       "      <td>221.550003</td>\n",
       "    </tr>\n",
       "    <tr>\n",
       "      <th>5</th>\n",
       "      <td>221.632904</td>\n",
       "      <td>174.763386</td>\n",
       "      <td>221.550003</td>\n",
       "      <td>220.005372</td>\n",
       "      <td>226.339996</td>\n",
       "    </tr>\n",
       "  </tbody>\n",
       "</table>\n",
       "</div>"
      ],
      "text/plain": [
       "        arima   lag_llama  autoregressor  ft_lag_llama      actual\n",
       "0  213.656341  178.009499     213.250000    218.587265  214.100006\n",
       "1  214.125477  188.782514     214.100006    215.746447  210.619995\n",
       "2  210.232611  177.785137     210.619995    203.581973  216.750000\n",
       "3  217.310340  176.589256     216.750000    217.426447  220.270004\n",
       "4  220.542241  181.412634     220.270004    220.673695  221.550003\n",
       "5  221.632904  174.763386     221.550003    220.005372  226.339996"
      ]
     },
     "execution_count": 35,
     "metadata": {},
     "output_type": "execute_result"
    }
   ],
   "source": [
    "p"
   ]
  },
  {
   "cell_type": "code",
   "execution_count": 18,
   "metadata": {},
   "outputs": [],
   "source": [
    "experiment_name = f\"PREDICTION_LENGTH={PREDICTION_LENGTH}__TICKER={TICKER}__FREQUENCY={FREQUENCY}__TYPE_OF_DATA={TYPE_OF_DATA}__FOLDS={FOLDS}__CONTEXT_LENGTH/TRAIN_SIZE={CONTEXT_LENGTH}__FT_START_DATE={FT_START_DATE}__START_DATE={START_DATE}__END_DATE={END_DATE}__FT_LENGTH={FT_LENGTH}__DATA_LENGTH={DATA_LENGTH}\" "
   ]
  },
  {
   "cell_type": "code",
   "execution_count": 27,
   "metadata": {},
   "outputs": [],
   "source": [
    "experiment_name = f\"P_L={PREDICTION_LENGTH}__T={TICKER}__FR={FREQUENCY}__T_O_D={TYPE_OF_DATA}__FO={FOLDS}__C_L_T_S={CONTEXT_LENGTH}__FT_S_D={FT_START_DATE}__S_D={START_DATE}__E_D={END_DATE}__FT_L={FT_LENGTH}__D_L={DATA_LENGTH}.csv\""
   ]
  },
  {
   "cell_type": "code",
   "execution_count": 28,
   "metadata": {},
   "outputs": [
    {
     "data": {
      "text/plain": [
       "'P_L=1__T=AAPL__FR=daily__T_O_D=stock__FO=6__C_L_T_S=245__FT_S_D=2022-07-07__S_D=2023-07-07__E_D=2024-07-07__FT_L=251__D_L=251.csv'"
      ]
     },
     "execution_count": 28,
     "metadata": {},
     "output_type": "execute_result"
    }
   ],
   "source": [
    "experiment_name"
   ]
  },
  {
   "cell_type": "code",
   "execution_count": 29,
   "metadata": {},
   "outputs": [
    {
     "name": "stdout",
     "output_type": "stream",
     "text": [
      "Data has been written to 'c:\\Users\\topco\\Dokumenti\\MSc Banking and Digital Finance UCL\\Modules\\Dissertation\\MSc_dissertation\\results\\evaluation\\P_L=1__T=AAPL__FR=daily__T_O_D=stock__FO=6__C_L_T_S=245__FT_S_D=2022-07-07__S_D=2023-07-07__E_D=2024-07-07__FT_L=251__D_L=251.csv'.\n",
      "Data has been written to 'c:\\Users\\topco\\Dokumenti\\MSc Banking and Digital Finance UCL\\Modules\\Dissertation\\MSc_dissertation\\results\\prediction\\P_L=1__T=AAPL__FR=daily__T_O_D=stock__FO=6__C_L_T_S=245__FT_S_D=2022-07-07__S_D=2023-07-07__E_D=2024-07-07__FT_L=251__D_L=251.csv'.\n"
     ]
    }
   ],
   "source": [
    "result_saver.save_results(r, experiment_name, type=\"evaluation\")\n",
    "result_saver.save_results(p, experiment_name, type=\"prediction\")"
   ]
  },
  {
   "cell_type": "markdown",
   "metadata": {},
   "source": [
    "# Models"
   ]
  },
  {
   "cell_type": "code",
   "execution_count": null,
   "metadata": {},
   "outputs": [],
   "source": [
    "# arima\n"
   ]
  },
  {
   "cell_type": "code",
   "execution_count": null,
   "metadata": {},
   "outputs": [],
   "source": [
    "# lag llama"
   ]
  },
  {
   "cell_type": "markdown",
   "metadata": {},
   "source": [
    "# Fine tuning an estimator"
   ]
  },
  {
   "cell_type": "code",
   "execution_count": 12,
   "metadata": {},
   "outputs": [],
   "source": [
    "PREDICTION_LENGTH = 5"
   ]
  },
  {
   "cell_type": "code",
   "execution_count": 13,
   "metadata": {},
   "outputs": [],
   "source": [
    "#preparing the training data for lag llama fine tuning\n",
    "ft_train_data = lag_llama.prepare_data(data=ft_data, \n",
    "                                       prediction_length=0, \n",
    "                                       frequency=FREQUENCY)"
   ]
  },
  {
   "cell_type": "code",
   "execution_count": 14,
   "metadata": {},
   "outputs": [],
   "source": [
    "# creating the lag llama predictor object \n",
    "predictor = lag_llama_ft.get_predictor(prediction_length=PREDICTION_LENGTH, \n",
    "                                       context_length=CONTEXT_LENGTH, \n",
    "                                       batch_size=BATCH_SIZE, \n",
    "                                       max_epochs=MAX_EPOCHS)"
   ]
  },
  {
   "cell_type": "code",
   "execution_count": 15,
   "metadata": {},
   "outputs": [
    {
     "name": "stderr",
     "output_type": "stream",
     "text": [
      "GPU available: False, used: False\n",
      "TPU available: False, using: 0 TPU cores\n",
      "IPU available: False, using: 0 IPUs\n",
      "HPU available: False, using: 0 HPUs\n",
      "C:\\Users\\topco\\AppData\\Roaming\\Python\\Python311\\site-packages\\lightning\\pytorch\\trainer\\configuration_validator.py:74: You defined a `validation_step` but have no `val_dataloader`. Skipping val loop.\n",
      "\n",
      "  | Name          | Type               | Params\n",
      "-----------------------------------------------------\n",
      "0 | model         | LagLlamaModel      | 2.4 M \n",
      "1 | augmentations | ApplyAugmentations | 0     \n",
      "-----------------------------------------------------\n",
      "2.4 M     Trainable params\n",
      "0         Non-trainable params\n",
      "2.4 M     Total params\n",
      "9.797     Total estimated model params size (MB)\n"
     ]
    },
    {
     "data": {
      "application/vnd.jupyter.widget-view+json": {
       "model_id": "d423c3043d1b4c99a50f91bb0f5314fb",
       "version_major": 2,
       "version_minor": 0
      },
      "text/plain": [
       "Training: |          | 0/? [00:00<?, ?it/s]"
      ]
     },
     "metadata": {},
     "output_type": "display_data"
    },
    {
     "name": "stderr",
     "output_type": "stream",
     "text": [
      "Epoch 0, global step 50: 'train_loss' reached 4.13630 (best 4.13630), saving model to 'c:\\\\Users\\\\topco\\\\Dokumenti\\\\MSc Banking and Digital Finance UCL\\\\Modules\\\\Dissertation\\\\MSc_dissertation\\\\lightning_logs\\\\version_31\\\\checkpoints\\\\epoch=0-step=50.ckpt' as top 1\n",
      "Epoch 1, global step 100: 'train_loss' reached 3.42045 (best 3.42045), saving model to 'c:\\\\Users\\\\topco\\\\Dokumenti\\\\MSc Banking and Digital Finance UCL\\\\Modules\\\\Dissertation\\\\MSc_dissertation\\\\lightning_logs\\\\version_31\\\\checkpoints\\\\epoch=1-step=100.ckpt' as top 1\n",
      "Epoch 2, global step 150: 'train_loss' reached 2.96029 (best 2.96029), saving model to 'c:\\\\Users\\\\topco\\\\Dokumenti\\\\MSc Banking and Digital Finance UCL\\\\Modules\\\\Dissertation\\\\MSc_dissertation\\\\lightning_logs\\\\version_31\\\\checkpoints\\\\epoch=2-step=150.ckpt' as top 1\n",
      "Epoch 3, global step 200: 'train_loss' reached 2.73350 (best 2.73350), saving model to 'c:\\\\Users\\\\topco\\\\Dokumenti\\\\MSc Banking and Digital Finance UCL\\\\Modules\\\\Dissertation\\\\MSc_dissertation\\\\lightning_logs\\\\version_31\\\\checkpoints\\\\epoch=3-step=200.ckpt' as top 1\n",
      "Epoch 4, global step 250: 'train_loss' was not in top 1\n",
      "`Trainer.fit` stopped: `max_epochs=5` reached.\n"
     ]
    }
   ],
   "source": [
    "# fine-tuning the predictor object\n",
    "predictor = predictor.train(ft_train_data, \n",
    "                            cache_data = True, \n",
    "                            shuffle_buffer_length = 1000)"
   ]
  },
  {
   "cell_type": "markdown",
   "metadata": {},
   "source": [
    "# SKLearn TSCV"
   ]
  },
  {
   "cell_type": "code",
   "execution_count": 16,
   "metadata": {},
   "outputs": [
    {
     "data": {
      "application/vnd.jupyter.widget-view+json": {
       "model_id": "3636727c8124472da137f502d6464d49",
       "version_major": 2,
       "version_minor": 0
      },
      "text/plain": [
       "Forecasting batches:   0%|          | 0/1 [00:00<?, ?it/s]"
      ]
     },
     "metadata": {},
     "output_type": "display_data"
    },
    {
     "name": "stdout",
     "output_type": "stream",
     "text": [
      "Fold 1/5 finished in: 33.59 seconds\n",
      "Prediction from   2024-05-30 00:00:00   until   2024-06-05 00:00:00\n",
      "----------------------\n"
     ]
    },
    {
     "data": {
      "application/vnd.jupyter.widget-view+json": {
       "model_id": "1666836690734219b86c9bc57b689a3e",
       "version_major": 2,
       "version_minor": 0
      },
      "text/plain": [
       "Forecasting batches:   0%|          | 0/1 [00:00<?, ?it/s]"
      ]
     },
     "metadata": {},
     "output_type": "display_data"
    },
    {
     "name": "stdout",
     "output_type": "stream",
     "text": [
      "Fold 2/5 finished in: 36.37 seconds\n",
      "Prediction from   2024-06-06 00:00:00   until   2024-06-12 00:00:00\n",
      "----------------------\n"
     ]
    },
    {
     "data": {
      "application/vnd.jupyter.widget-view+json": {
       "model_id": "4e26d9427550402eae9cbf215de493ff",
       "version_major": 2,
       "version_minor": 0
      },
      "text/plain": [
       "Forecasting batches:   0%|          | 0/1 [00:00<?, ?it/s]"
      ]
     },
     "metadata": {},
     "output_type": "display_data"
    },
    {
     "name": "stdout",
     "output_type": "stream",
     "text": [
      "Fold 3/5 finished in: 37.23 seconds\n",
      "Prediction from   2024-06-13 00:00:00   until   2024-06-20 00:00:00\n",
      "----------------------\n"
     ]
    },
    {
     "data": {
      "application/vnd.jupyter.widget-view+json": {
       "model_id": "afb9171874744976a4e4f8c1d98cd2d2",
       "version_major": 2,
       "version_minor": 0
      },
      "text/plain": [
       "Forecasting batches:   0%|          | 0/1 [00:00<?, ?it/s]"
      ]
     },
     "metadata": {},
     "output_type": "display_data"
    },
    {
     "name": "stdout",
     "output_type": "stream",
     "text": [
      "Fold 4/5 finished in: 42.99 seconds\n",
      "Prediction from   2024-06-21 00:00:00   until   2024-06-27 00:00:00\n",
      "----------------------\n"
     ]
    },
    {
     "name": "stderr",
     "output_type": "stream",
     "text": [
      "C:\\Users\\topco\\AppData\\Roaming\\Python\\Python311\\site-packages\\statsmodels\\tsa\\base\\tsa_model.py:834: ValueWarning: No supported index is available. Prediction results will be given with an integer index beginning at `start`.\n",
      "  return get_prediction_index(\n"
     ]
    },
    {
     "data": {
      "application/vnd.jupyter.widget-view+json": {
       "model_id": "6abd94ae31a542d9bce01976f6173046",
       "version_major": 2,
       "version_minor": 0
      },
      "text/plain": [
       "Forecasting batches:   0%|          | 0/1 [00:00<?, ?it/s]"
      ]
     },
     "metadata": {},
     "output_type": "display_data"
    },
    {
     "name": "stdout",
     "output_type": "stream",
     "text": [
      "Fold 5/5 finished in: 39.96 seconds\n",
      "Prediction from   2024-06-28 00:00:00   until   2024-07-05 00:00:00\n",
      "----------------------\n"
     ]
    }
   ],
   "source": [
    "r, p, a = get_tscv_results(data = data,\n",
    "                           prediction_horizon=PREDICTION_LENGTH,\n",
    "                           context_length=CONTEXT_LENGTH, \n",
    "                           folds=FOLDS, \n",
    "                           frequency=FREQUENCY, \n",
    "                           predictor=predictor)"
   ]
  },
  {
   "cell_type": "code",
   "execution_count": 17,
   "metadata": {},
   "outputs": [],
   "source": [
    "#creating the summary for each model\n",
    "s = [get_summary(r[i]) for i in range(len(r))]"
   ]
  },
  {
   "cell_type": "code",
   "execution_count": 18,
   "metadata": {},
   "outputs": [],
   "source": [
    "means_df, medians_df, stds_df = extract_metrics(s, MODELS)"
   ]
  },
  {
   "cell_type": "code",
   "execution_count": 22,
   "metadata": {},
   "outputs": [
    {
     "data": {
      "text/html": [
       "<div>\n",
       "<style scoped>\n",
       "    .dataframe tbody tr th:only-of-type {\n",
       "        vertical-align: middle;\n",
       "    }\n",
       "\n",
       "    .dataframe tbody tr th {\n",
       "        vertical-align: top;\n",
       "    }\n",
       "\n",
       "    .dataframe thead th {\n",
       "        text-align: right;\n",
       "    }\n",
       "</style>\n",
       "<table border=\"1\" class=\"dataframe\">\n",
       "  <thead>\n",
       "    <tr style=\"text-align: right;\">\n",
       "      <th></th>\n",
       "      <th>r2</th>\n",
       "      <th>mse</th>\n",
       "      <th>mae</th>\n",
       "      <th>rmse</th>\n",
       "      <th>mda</th>\n",
       "      <th>mape</th>\n",
       "    </tr>\n",
       "  </thead>\n",
       "  <tbody>\n",
       "    <tr>\n",
       "      <th>arima</th>\n",
       "      <td>-1.124579</td>\n",
       "      <td>33.290683</td>\n",
       "      <td>4.139551</td>\n",
       "      <td>5.099569</td>\n",
       "      <td>0.20</td>\n",
       "      <td>0.019661</td>\n",
       "    </tr>\n",
       "    <tr>\n",
       "      <th>llama</th>\n",
       "      <td>-130.505382</td>\n",
       "      <td>1141.032279</td>\n",
       "      <td>30.978688</td>\n",
       "      <td>32.462579</td>\n",
       "      <td>0.48</td>\n",
       "      <td>0.146769</td>\n",
       "    </tr>\n",
       "    <tr>\n",
       "      <th>autoregressor</th>\n",
       "      <td>-1.105772</td>\n",
       "      <td>33.202072</td>\n",
       "      <td>4.170400</td>\n",
       "      <td>5.075507</td>\n",
       "      <td>0.00</td>\n",
       "      <td>0.019808</td>\n",
       "    </tr>\n",
       "    <tr>\n",
       "      <th>fine-tuned Llama</th>\n",
       "      <td>-3.717170</td>\n",
       "      <td>59.233437</td>\n",
       "      <td>5.947423</td>\n",
       "      <td>7.108499</td>\n",
       "      <td>0.52</td>\n",
       "      <td>0.028609</td>\n",
       "    </tr>\n",
       "  </tbody>\n",
       "</table>\n",
       "</div>"
      ],
      "text/plain": [
       "                          r2          mse        mae       rmse   mda  \\\n",
       "arima              -1.124579    33.290683   4.139551   5.099569  0.20   \n",
       "llama            -130.505382  1141.032279  30.978688  32.462579  0.48   \n",
       "autoregressor      -1.105772    33.202072   4.170400   5.075507  0.00   \n",
       "fine-tuned Llama   -3.717170    59.233437   5.947423   7.108499  0.52   \n",
       "\n",
       "                      mape  \n",
       "arima             0.019661  \n",
       "llama             0.146769  \n",
       "autoregressor     0.019808  \n",
       "fine-tuned Llama  0.028609  "
      ]
     },
     "execution_count": 22,
     "metadata": {},
     "output_type": "execute_result"
    }
   ],
   "source": [
    "means_df"
   ]
  },
  {
   "cell_type": "markdown",
   "metadata": {},
   "source": [
    "# Visualisation"
   ]
  },
  {
   "cell_type": "code",
   "execution_count": 19,
   "metadata": {},
   "outputs": [
    {
     "data": {
      "image/png": "[encoded data removed]",
      "text/plain": [
       "<Figure size 1500x3000 with 6 Axes>"
      ]
     },
     "metadata": {},
     "output_type": "display_data"
    }
   ],
   "source": [
    "graphs.standard_visualisation(MODELS, METRICS, s)"
   ]
  },
  {
   "cell_type": "code",
   "execution_count": 20,
   "metadata": {},
   "outputs": [
    {
     "data": {
      "text/html": [
       "\n",
       "        <iframe\n",
       "            width=\"100%\"\n",
       "            height=\"650\"\n",
       "            src=\"http://127.0.0.1:8050/\"\n",
       "            frameborder=\"0\"\n",
       "            allowfullscreen\n",
       "            \n",
       "        ></iframe>\n",
       "        "
      ],
      "text/plain": [
       "<IPython.lib.display.IFrame at 0x1a1de40ffd0>"
      ]
     },
     "metadata": {},
     "output_type": "display_data"
    }
   ],
   "source": [
    "graphs.interactive_visualisation(MODELS, METRICS, s)"
   ]
  },
  {
   "cell_type": "code",
   "execution_count": 21,
   "metadata": {},
   "outputs": [
    {
     "data": {
      "application/vnd.plotly.v1+json": {
       "config": {
        "plotlyServerURL": "https://plot.ly"
       },
       "data": [
        {
         "mode": "lines+markers",
         "name": "arima Fold 0",
         "type": "scatter",
         "visible": false,
         "x": [
          1,
          2,
          3,
          4,
          5
         ],
         "y": [
          190.3188804566763,
          190.31027155425446,
          190.3016630412485,
          190.29305491764086,
          190.2844471834139
         ]
        },
        {
         "mode": "lines+markers",
         "name": "arima Fold 1",
         "type": "scatter",
         "visible": false,
         "x": [
          1,
          2,
          3,
          4,
          5
         ],
         "y": [
          196.0226849130694,
          196.00515575806094,
          195.98762817058164,
          195.97010215049133,
          195.95257769764984
         ]
        },
        {
         "mode": "lines+markers",
         "name": "arima Fold 2",
         "type": "scatter",
         "visible": false,
         "x": [
          1,
          2,
          3,
          4,
          5
         ],
         "y": [
          213.50305199017222,
          213.48286252743796,
          213.46267497387737,
          213.44248932930992,
          213.42230559355508
         ]
        },
        {
         "mode": "lines+markers",
         "name": "arima Fold 3",
         "type": "scatter",
         "visible": false,
         "x": [
          1,
          2,
          3,
          4,
          5
         ],
         "y": [
          209.23673157920345,
          209.2163957778499,
          209.19606195294097,
          209.17573010428458,
          209.15540023168867
         ]
        },
        {
         "mode": "lines+markers",
         "name": "arima Fold 4",
         "type": "scatter",
         "visible": false,
         "x": [
          1,
          2,
          3,
          4,
          5
         ],
         "y": [
          214.1254769451266,
          214.10487279404862,
          214.08427062559804,
          214.06367043958412,
          214.04307223581608
         ]
        },
        {
         "mode": "lines+markers",
         "name": "llama Fold 0",
         "type": "scatter",
         "visible": false,
         "x": [
          1,
          2,
          3,
          4,
          5
         ],
         "y": [
          178.22963544321973,
          172.1210506557837,
          181.96224178595656,
          183.29504974236312,
          170.52630933562162
         ]
        },
        {
         "mode": "lines+markers",
         "name": "llama Fold 1",
         "type": "scatter",
         "visible": false,
         "x": [
          1,
          2,
          3,
          4,
          5
         ],
         "y": [
          182.88016981303684,
          191.52510460115872,
          177.92875684659862,
          179.78495273690328,
          164.7879886060683
         ]
        },
        {
         "mode": "lines+markers",
         "name": "llama Fold 2",
         "type": "scatter",
         "visible": false,
         "x": [
          1,
          2,
          3,
          4,
          5
         ],
         "y": [
          176.1135788520227,
          174.66459717737416,
          178.0265397421538,
          182.70298833437636,
          164.25137007798315
         ]
        },
        {
         "mode": "lines+markers",
         "name": "llama Fold 3",
         "type": "scatter",
         "visible": false,
         "x": [
          1,
          2,
          3,
          4,
          5
         ],
         "y": [
          185.4026114749642,
          172.22560327275573,
          169.35711601353404,
          173.18524222854322,
          168.87768184760367
         ]
        },
        {
         "mode": "lines+markers",
         "name": "llama Fold 4",
         "type": "scatter",
         "visible": false,
         "x": [
          1,
          2,
          3,
          4,
          5
         ],
         "y": [
          182.67386659849558,
          174.8134489967936,
          173.3465914553535,
          175.28662908319023,
          179.01366821764086
         ]
        },
        {
         "mode": "lines+markers",
         "name": "autoregressor Fold 0",
         "type": "scatter",
         "visible": false,
         "x": [
          1,
          2,
          3,
          4,
          5
         ],
         "y": [
          190.2899932861328,
          190.2899932861328,
          190.2899932861328,
          190.2899932861328,
          190.2899932861328
         ]
        },
        {
         "mode": "lines+markers",
         "name": "autoregressor Fold 1",
         "type": "scatter",
         "visible": false,
         "x": [
          1,
          2,
          3,
          4,
          5
         ],
         "y": [
          195.8699951171875,
          195.8699951171875,
          195.8699951171875,
          195.8699951171875,
          195.8699951171875
         ]
        },
        {
         "mode": "lines+markers",
         "name": "autoregressor Fold 2",
         "type": "scatter",
         "visible": false,
         "x": [
          1,
          2,
          3,
          4,
          5
         ],
         "y": [
          213.07000732421875,
          213.07000732421875,
          213.07000732421875,
          213.07000732421875,
          213.07000732421875
         ]
        },
        {
         "mode": "lines+markers",
         "name": "autoregressor Fold 3",
         "type": "scatter",
         "visible": false,
         "x": [
          1,
          2,
          3,
          4,
          5
         ],
         "y": [
          209.67999267578125,
          209.67999267578125,
          209.67999267578125,
          209.67999267578125,
          209.67999267578125
         ]
        },
        {
         "mode": "lines+markers",
         "name": "autoregressor Fold 4",
         "type": "scatter",
         "visible": false,
         "x": [
          1,
          2,
          3,
          4,
          5
         ],
         "y": [
          214.10000610351562,
          214.10000610351562,
          214.10000610351562,
          214.10000610351562,
          214.10000610351562
         ]
        },
        {
         "mode": "lines+markers",
         "name": "fine-tuned Llama Fold 0",
         "type": "scatter",
         "visible": false,
         "x": [
          1,
          2,
          3,
          4,
          5
         ],
         "y": [
          198.8133377317937,
          198.2208258991989,
          194.79241924320866,
          195.37724037580287,
          198.54176888826302
         ]
        },
        {
         "mode": "lines+markers",
         "name": "fine-tuned Llama Fold 1",
         "type": "scatter",
         "visible": false,
         "x": [
          1,
          2,
          3,
          4,
          5
         ],
         "y": [
          206.21677847072115,
          206.12980665857623,
          208.16818640130091,
          206.18514150342315,
          212.30579820539853
         ]
        },
        {
         "mode": "lines+markers",
         "name": "fine-tuned Llama Fold 2",
         "type": "scatter",
         "visible": false,
         "x": [
          1,
          2,
          3,
          4,
          5
         ],
         "y": [
          215.41301688425185,
          213.23934586640777,
          206.71958558422276,
          204.9932781104964,
          214.41423673457462
         ]
        },
        {
         "mode": "lines+markers",
         "name": "fine-tuned Llama Fold 3",
         "type": "scatter",
         "visible": false,
         "x": [
          1,
          2,
          3,
          4,
          5
         ],
         "y": [
          213.67050645306279,
          206.26031189705776,
          204.64501226186042,
          211.53943096355604,
          215.63373568023948
         ]
        },
        {
         "mode": "lines+markers",
         "name": "fine-tuned Llama Fold 4",
         "type": "scatter",
         "visible": false,
         "x": [
          1,
          2,
          3,
          4,
          5
         ],
         "y": [
          209.46998708786478,
          204.95976289755475,
          203.89964956121375,
          211.34229718998176,
          214.51538011915625
         ]
        },
        {
         "mode": "lines+markers",
         "name": "Actual Fold 0",
         "type": "scatter",
         "visible": true,
         "x": [
          1,
          2,
          3,
          4,
          5
         ],
         "y": [
          191.2899932861328,
          192.25,
          194.02999877929688,
          194.35000610351562,
          195.8699951171875
         ]
        },
        {
         "mode": "lines+markers",
         "name": "Actual Fold 1",
         "type": "scatter",
         "visible": false,
         "x": [
          1,
          2,
          3,
          4,
          5
         ],
         "y": [
          194.47999572753906,
          196.88999938964844,
          193.1199951171875,
          207.14999389648438,
          213.07000732421875
         ]
        },
        {
         "mode": "lines+markers",
         "name": "Actual Fold 2",
         "type": "scatter",
         "visible": false,
         "x": [
          1,
          2,
          3,
          4,
          5
         ],
         "y": [
          214.24000549316406,
          212.49000549316406,
          216.6699981689453,
          214.2899932861328,
          209.67999267578125
         ]
        },
        {
         "mode": "lines+markers",
         "name": "Actual Fold 3",
         "type": "scatter",
         "visible": false,
         "x": [
          1,
          2,
          3,
          4,
          5
         ],
         "y": [
          207.49000549316406,
          208.13999938964844,
          209.07000732421875,
          213.25,
          214.10000610351562
         ]
        },
        {
         "mode": "lines+markers",
         "name": "Actual Fold 4",
         "type": "scatter",
         "visible": false,
         "x": [
          1,
          2,
          3,
          4,
          5
         ],
         "y": [
          210.6199951171875,
          216.75,
          220.27000427246094,
          221.5500030517578,
          226.33999633789062
         ]
        }
       ],
       "layout": {
        "height": 600,
        "template": {
         "data": {
          "bar": [
           {
            "error_x": {
             "color": "#2a3f5f"
            },
            "error_y": {
             "color": "#2a3f5f"
            },
            "marker": {
             "line": {
              "color": "#E5ECF6",
              "width": 0.5
             },
             "pattern": {
              "fillmode": "overlay",
              "size": 10,
              "solidity": 0.2
             }
            },
            "type": "bar"
           }
          ],
          "barpolar": [
           {
            "marker": {
             "line": {
              "color": "#E5ECF6",
              "width": 0.5
             },
             "pattern": {
              "fillmode": "overlay",
              "size": 10,
              "solidity": 0.2
             }
            },
            "type": "barpolar"
           }
          ],
          "carpet": [
           {
            "aaxis": {
             "endlinecolor": "#2a3f5f",
             "gridcolor": "white",
             "linecolor": "white",
             "minorgridcolor": "white",
             "startlinecolor": "#2a3f5f"
            },
            "baxis": {
             "endlinecolor": "#2a3f5f",
             "gridcolor": "white",
             "linecolor": "white",
             "minorgridcolor": "white",
             "startlinecolor": "#2a3f5f"
            },
            "type": "carpet"
           }
          ],
          "choropleth": [
           {
            "colorbar": {
             "outlinewidth": 0,
             "ticks": ""
            },
            "type": "choropleth"
           }
          ],
          "contour": [
           {
            "colorbar": {
             "outlinewidth": 0,
             "ticks": ""
            },
            "colorscale": [
             [
              0,
              "#0d0887"
             ],
             [
              0.1111111111111111,
              "#46039f"
             ],
             [
              0.2222222222222222,
              "#7201a8"
             ],
             [
              0.3333333333333333,
              "#9c179e"
             ],
             [
              0.4444444444444444,
              "#bd3786"
             ],
             [
              0.5555555555555556,
              "#d8576b"
             ],
             [
              0.6666666666666666,
              "#ed7953"
             ],
             [
              0.7777777777777778,
              "#fb9f3a"
             ],
             [
              0.8888888888888888,
              "#fdca26"
             ],
             [
              1,
              "#f0f921"
             ]
            ],
            "type": "contour"
           }
          ],
          "contourcarpet": [
           {
            "colorbar": {
             "outlinewidth": 0,
             "ticks": ""
            },
            "type": "contourcarpet"
           }
          ],
          "heatmap": [
           {
            "colorbar": {
             "outlinewidth": 0,
             "ticks": ""
            },
            "colorscale": [
             [
              0,
              "#0d0887"
             ],
             [
              0.1111111111111111,
              "#46039f"
             ],
             [
              0.2222222222222222,
              "#7201a8"
             ],
             [
              0.3333333333333333,
              "#9c179e"
             ],
             [
              0.4444444444444444,
              "#bd3786"
             ],
             [
              0.5555555555555556,
              "#d8576b"
             ],
             [
              0.6666666666666666,
              "#ed7953"
             ],
             [
              0.7777777777777778,
              "#fb9f3a"
             ],
             [
              0.8888888888888888,
              "#fdca26"
             ],
             [
              1,
              "#f0f921"
             ]
            ],
            "type": "heatmap"
           }
          ],
          "heatmapgl": [
           {
            "colorbar": {
             "outlinewidth": 0,
             "ticks": ""
            },
            "colorscale": [
             [
              0,
              "#0d0887"
             ],
             [
              0.1111111111111111,
              "#46039f"
             ],
             [
              0.2222222222222222,
              "#7201a8"
             ],
             [
              0.3333333333333333,
              "#9c179e"
             ],
             [
              0.4444444444444444,
              "#bd3786"
             ],
             [
              0.5555555555555556,
              "#d8576b"
             ],
             [
              0.6666666666666666,
              "#ed7953"
             ],
             [
              0.7777777777777778,
              "#fb9f3a"
             ],
             [
              0.8888888888888888,
              "#fdca26"
             ],
             [
              1,
              "#f0f921"
             ]
            ],
            "type": "heatmapgl"
           }
          ],
          "histogram": [
           {
            "marker": {
             "pattern": {
              "fillmode": "overlay",
              "size": 10,
              "solidity": 0.2
             }
            },
            "type": "histogram"
           }
          ],
          "histogram2d": [
           {
            "colorbar": {
             "outlinewidth": 0,
             "ticks": ""
            },
            "colorscale": [
             [
              0,
              "#0d0887"
             ],
             [
              0.1111111111111111,
              "#46039f"
             ],
             [
              0.2222222222222222,
              "#7201a8"
             ],
             [
              0.3333333333333333,
              "#9c179e"
             ],
             [
              0.4444444444444444,
              "#bd3786"
             ],
             [
              0.5555555555555556,
              "#d8576b"
             ],
             [
              0.6666666666666666,
              "#ed7953"
             ],
             [
              0.7777777777777778,
              "#fb9f3a"
             ],
             [
              0.8888888888888888,
              "#fdca26"
             ],
             [
              1,
              "#f0f921"
             ]
            ],
            "type": "histogram2d"
           }
          ],
          "histogram2dcontour": [
           {
            "colorbar": {
             "outlinewidth": 0,
             "ticks": ""
            },
            "colorscale": [
             [
              0,
              "#0d0887"
             ],
             [
              0.1111111111111111,
              "#46039f"
             ],
             [
              0.2222222222222222,
              "#7201a8"
             ],
             [
              0.3333333333333333,
              "#9c179e"
             ],
             [
              0.4444444444444444,
              "#bd3786"
             ],
             [
              0.5555555555555556,
              "#d8576b"
             ],
             [
              0.6666666666666666,
              "#ed7953"
             ],
             [
              0.7777777777777778,
              "#fb9f3a"
             ],
             [
              0.8888888888888888,
              "#fdca26"
             ],
             [
              1,
              "#f0f921"
             ]
            ],
            "type": "histogram2dcontour"
           }
          ],
          "mesh3d": [
           {
            "colorbar": {
             "outlinewidth": 0,
             "ticks": ""
            },
            "type": "mesh3d"
           }
          ],
          "parcoords": [
           {
            "line": {
             "colorbar": {
              "outlinewidth": 0,
              "ticks": ""
             }
            },
            "type": "parcoords"
           }
          ],
          "pie": [
           {
            "automargin": true,
            "type": "pie"
           }
          ],
          "scatter": [
           {
            "fillpattern": {
             "fillmode": "overlay",
             "size": 10,
             "solidity": 0.2
            },
            "type": "scatter"
           }
          ],
          "scatter3d": [
           {
            "line": {
             "colorbar": {
              "outlinewidth": 0,
              "ticks": ""
             }
            },
            "marker": {
             "colorbar": {
              "outlinewidth": 0,
              "ticks": ""
             }
            },
            "type": "scatter3d"
           }
          ],
          "scattercarpet": [
           {
            "marker": {
             "colorbar": {
              "outlinewidth": 0,
              "ticks": ""
             }
            },
            "type": "scattercarpet"
           }
          ],
          "scattergeo": [
           {
            "marker": {
             "colorbar": {
              "outlinewidth": 0,
              "ticks": ""
             }
            },
            "type": "scattergeo"
           }
          ],
          "scattergl": [
           {
            "marker": {
             "colorbar": {
              "outlinewidth": 0,
              "ticks": ""
             }
            },
            "type": "scattergl"
           }
          ],
          "scattermapbox": [
           {
            "marker": {
             "colorbar": {
              "outlinewidth": 0,
              "ticks": ""
             }
            },
            "type": "scattermapbox"
           }
          ],
          "scatterpolar": [
           {
            "marker": {
             "colorbar": {
              "outlinewidth": 0,
              "ticks": ""
             }
            },
            "type": "scatterpolar"
           }
          ],
          "scatterpolargl": [
           {
            "marker": {
             "colorbar": {
              "outlinewidth": 0,
              "ticks": ""
             }
            },
            "type": "scatterpolargl"
           }
          ],
          "scatterternary": [
           {
            "marker": {
             "colorbar": {
              "outlinewidth": 0,
              "ticks": ""
             }
            },
            "type": "scatterternary"
           }
          ],
          "surface": [
           {
            "colorbar": {
             "outlinewidth": 0,
             "ticks": ""
            },
            "colorscale": [
             [
              0,
              "#0d0887"
             ],
             [
              0.1111111111111111,
              "#46039f"
             ],
             [
              0.2222222222222222,
              "#7201a8"
             ],
             [
              0.3333333333333333,
              "#9c179e"
             ],
             [
              0.4444444444444444,
              "#bd3786"
             ],
             [
              0.5555555555555556,
              "#d8576b"
             ],
             [
              0.6666666666666666,
              "#ed7953"
             ],
             [
              0.7777777777777778,
              "#fb9f3a"
             ],
             [
              0.8888888888888888,
              "#fdca26"
             ],
             [
              1,
              "#f0f921"
             ]
            ],
            "type": "surface"
           }
          ],
          "table": [
           {
            "cells": {
             "fill": {
              "color": "#EBF0F8"
             },
             "line": {
              "color": "white"
             }
            },
            "header": {
             "fill": {
              "color": "#C8D4E3"
             },
             "line": {
              "color": "white"
             }
            },
            "type": "table"
           }
          ]
         },
         "layout": {
          "annotationdefaults": {
           "arrowcolor": "#2a3f5f",
           "arrowhead": 0,
           "arrowwidth": 1
          },
          "autotypenumbers": "strict",
          "coloraxis": {
           "colorbar": {
            "outlinewidth": 0,
            "ticks": ""
           }
          },
          "colorscale": {
           "diverging": [
            [
             0,
             "#8e0152"
            ],
            [
             0.1,
             "#c51b7d"
            ],
            [
             0.2,
             "#de77ae"
            ],
            [
             0.3,
             "#f1b6da"
            ],
            [
             0.4,
             "#fde0ef"
            ],
            [
             0.5,
             "#f7f7f7"
            ],
            [
             0.6,
             "#e6f5d0"
            ],
            [
             0.7,
             "#b8e186"
            ],
            [
             0.8,
             "#7fbc41"
            ],
            [
             0.9,
             "#4d9221"
            ],
            [
             1,
             "#276419"
            ]
           ],
           "sequential": [
            [
             0,
             "#0d0887"
            ],
            [
             0.1111111111111111,
             "#46039f"
            ],
            [
             0.2222222222222222,
             "#7201a8"
            ],
            [
             0.3333333333333333,
             "#9c179e"
            ],
            [
             0.4444444444444444,
             "#bd3786"
            ],
            [
             0.5555555555555556,
             "#d8576b"
            ],
            [
             0.6666666666666666,
             "#ed7953"
            ],
            [
             0.7777777777777778,
             "#fb9f3a"
            ],
            [
             0.8888888888888888,
             "#fdca26"
            ],
            [
             1,
             "#f0f921"
            ]
           ],
           "sequentialminus": [
            [
             0,
             "#0d0887"
            ],
            [
             0.1111111111111111,
             "#46039f"
            ],
            [
             0.2222222222222222,
             "#7201a8"
            ],
            [
             0.3333333333333333,
             "#9c179e"
            ],
            [
             0.4444444444444444,
             "#bd3786"
            ],
            [
             0.5555555555555556,
             "#d8576b"
            ],
            [
             0.6666666666666666,
             "#ed7953"
            ],
            [
             0.7777777777777778,
             "#fb9f3a"
            ],
            [
             0.8888888888888888,
             "#fdca26"
            ],
            [
             1,
             "#f0f921"
            ]
           ]
          },
          "colorway": [
           "#636efa",
           "#EF553B",
           "#00cc96",
           "#ab63fa",
           "#FFA15A",
           "#19d3f3",
           "#FF6692",
           "#B6E880",
           "#FF97FF",
           "#FECB52"
          ],
          "font": {
           "color": "#2a3f5f"
          },
          "geo": {
           "bgcolor": "white",
           "lakecolor": "white",
           "landcolor": "#E5ECF6",
           "showlakes": true,
           "showland": true,
           "subunitcolor": "white"
          },
          "hoverlabel": {
           "align": "left"
          },
          "hovermode": "closest",
          "mapbox": {
           "style": "light"
          },
          "paper_bgcolor": "white",
          "plot_bgcolor": "#E5ECF6",
          "polar": {
           "angularaxis": {
            "gridcolor": "white",
            "linecolor": "white",
            "ticks": ""
           },
           "bgcolor": "#E5ECF6",
           "radialaxis": {
            "gridcolor": "white",
            "linecolor": "white",
            "ticks": ""
           }
          },
          "scene": {
           "xaxis": {
            "backgroundcolor": "#E5ECF6",
            "gridcolor": "white",
            "gridwidth": 2,
            "linecolor": "white",
            "showbackground": true,
            "ticks": "",
            "zerolinecolor": "white"
           },
           "yaxis": {
            "backgroundcolor": "#E5ECF6",
            "gridcolor": "white",
            "gridwidth": 2,
            "linecolor": "white",
            "showbackground": true,
            "ticks": "",
            "zerolinecolor": "white"
           },
           "zaxis": {
            "backgroundcolor": "#E5ECF6",
            "gridcolor": "white",
            "gridwidth": 2,
            "linecolor": "white",
            "showbackground": true,
            "ticks": "",
            "zerolinecolor": "white"
           }
          },
          "shapedefaults": {
           "line": {
            "color": "#2a3f5f"
           }
          },
          "ternary": {
           "aaxis": {
            "gridcolor": "white",
            "linecolor": "white",
            "ticks": ""
           },
           "baxis": {
            "gridcolor": "white",
            "linecolor": "white",
            "ticks": ""
           },
           "bgcolor": "#E5ECF6",
           "caxis": {
            "gridcolor": "white",
            "linecolor": "white",
            "ticks": ""
           }
          },
          "title": {
           "x": 0.05
          },
          "xaxis": {
           "automargin": true,
           "gridcolor": "white",
           "linecolor": "white",
           "ticks": "",
           "title": {
            "standoff": 15
           },
           "zerolinecolor": "white",
           "zerolinewidth": 2
          },
          "yaxis": {
           "automargin": true,
           "gridcolor": "white",
           "linecolor": "white",
           "ticks": "",
           "title": {
            "standoff": 15
           },
           "zerolinecolor": "white",
           "zerolinewidth": 2
          }
         }
        },
        "title": {
         "text": "Actual values and Model predictions for "
        },
        "updatemenus": [
         {
          "active": 0,
          "buttons": [
           {
            "args": [
             {
              "visible": [
               true,
               false,
               false,
               false,
               false,
               true,
               false,
               false,
               false,
               false,
               true,
               false,
               false,
               false,
               false,
               true,
               false,
               false,
               false,
               false,
               true,
               false,
               false,
               false,
               false
              ]
             },
             {
              "title": "Actual values and Model predictions for Fold 0"
             }
            ],
            "label": "Fold 0",
            "method": "update"
           },
           {
            "args": [
             {
              "visible": [
               false,
               true,
               false,
               false,
               false,
               false,
               true,
               false,
               false,
               false,
               false,
               true,
               false,
               false,
               false,
               false,
               true,
               false,
               false,
               false,
               false,
               true,
               false,
               false,
               false
              ]
             },
             {
              "title": "Actual values and Model predictions for Fold 1"
             }
            ],
            "label": "Fold 1",
            "method": "update"
           },
           {
            "args": [
             {
              "visible": [
               false,
               false,
               true,
               false,
               false,
               false,
               false,
               true,
               false,
               false,
               false,
               false,
               true,
               false,
               false,
               false,
               false,
               true,
               false,
               false,
               false,
               false,
               true,
               false,
               false
              ]
             },
             {
              "title": "Actual values and Model predictions for Fold 2"
             }
            ],
            "label": "Fold 2",
            "method": "update"
           },
           {
            "args": [
             {
              "visible": [
               false,
               false,
               false,
               true,
               false,
               false,
               false,
               false,
               true,
               false,
               false,
               false,
               false,
               true,
               false,
               false,
               false,
               false,
               true,
               false,
               false,
               false,
               false,
               true,
               false
              ]
             },
             {
              "title": "Actual values and Model predictions for Fold 3"
             }
            ],
            "label": "Fold 3",
            "method": "update"
           },
           {
            "args": [
             {
              "visible": [
               false,
               false,
               false,
               false,
               true,
               false,
               false,
               false,
               false,
               true,
               false,
               false,
               false,
               false,
               true,
               false,
               false,
               false,
               false,
               true,
               false,
               false,
               false,
               false,
               true
              ]
             },
             {
              "title": "Actual values and Model predictions for Fold 4"
             }
            ],
            "label": "Fold 4",
            "method": "update"
           }
          ],
          "direction": "down",
          "showactive": true,
          "x": 0.57,
          "xanchor": "left",
          "y": 1.17,
          "yanchor": "top"
         }
        ],
        "width": 800,
        "xaxis": {
         "anchor": "y",
         "domain": [
          0,
          1
         ],
         "title": {
          "text": "Prediction Horizon"
         }
        },
        "yaxis": {
         "anchor": "x",
         "domain": [
          0,
          1
         ],
         "title": {
          "text": "target variable value"
         }
        }
       }
      }
     },
     "metadata": {},
     "output_type": "display_data"
    }
   ],
   "source": [
    "graphs.prediction_visualisation(MODELS, p, a)"
   ]
  },
  {
   "cell_type": "markdown",
   "metadata": {},
   "source": [
    "LABEL the graph\n",
    "label the axes with timestamps\n",
    "show the history of the actual\n",
    "table of comparison, not just graph"
   ]
  }
 ],
 "metadata": {
  "kernelspec": {
   "display_name": "Python 3",
   "language": "python",
   "name": "python3"
  },
  "language_info": {
   "codemirror_mode": {
    "name": "ipython",
    "version": 3
   },
   "file_extension": ".py",
   "mimetype": "text/x-python",
   "name": "python",
   "nbconvert_exporter": "python",
   "pygments_lexer": "ipython3",
   "version": "3.11.1"
  }
 },
 "nbformat": 4,
 "nbformat_minor": 2
}
