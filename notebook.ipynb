{
 "cells": [
  {
   "cell_type": "markdown",
   "metadata": {},
   "source": [
    "# Imports"
   ]
  },
  {
   "cell_type": "code",
   "execution_count": 2,
   "metadata": {},
   "outputs": [],
   "source": [
    "from modules.data import data_loader, data_splitter, data_reader\n",
    "from modules.models import arima, lag_llama\n",
    "from modules.evaluation import evaluate\n",
    "from sklearn.metrics import mean_squared_error, mean_absolute_error, r2_score\n",
    "from modules.experiment.experiment import run_experiment\n",
    "from modules.data.tscv import create_tscv_dataset\n",
    "\n",
    "\n",
    "import numpy as np\n",
    "import pandas as pd\n",
    "import matplotlib.pyplot as plt\n",
    "import matplotlib.dates as mdates\n",
    "from itertools import islice\n",
    "from sklearn.model_selection import TimeSeriesSplit"
   ]
  },
  {
   "cell_type": "markdown",
   "metadata": {},
   "source": [
    "# Parameters"
   ]
  },
  {
   "cell_type": "code",
   "execution_count": 4,
   "metadata": {},
   "outputs": [],
   "source": [
    "PREDICTION_LENGTH = 10 # currentlz only works for PREDICTION_LENGTH > 1\n",
    "FREQUENCY = \"daily\" # currently we only have dailz frequency\n",
    "TYPE_OF_DATA = \"stock\" # currently we only have stock prices saved\n",
    "MODELS = [\"arima\", \"llama\"] # currentlz works onlz for these two\n",
    "\n",
    "# want to add\n",
    "PREDICTION_HORIZON = 3 # can use anything as long as it complies with data length\n",
    "#TRAIN_PERIOD = # context lenghts. Should take a look into this\n",
    "#TRAIN_SIZE = \n",
    "FOLDS = 10# for TSCV\n",
    "CONTEXT_LENGTH = 64\n",
    "\n"
   ]
  },
  {
   "cell_type": "markdown",
   "metadata": {},
   "source": [
    "# Notes"
   ]
  },
  {
   "cell_type": "markdown",
   "metadata": {},
   "source": [
    " - autoregressor\n",
    " - mean directional accuracy\n",
    " - ask\n",
    " - for each time-series create a whole dataframe for TSCV\n",
    "  - problem with this is with time horizon that is >1 \n",
    "  - prediction horizon is only for that value in the future"
   ]
  },
  {
   "cell_type": "markdown",
   "metadata": {},
   "source": [
    "# TO DO"
   ]
  },
  {
   "cell_type": "markdown",
   "metadata": {},
   "source": [
    " - create the TSCV experiment. It needs to create a table. Metrics for each fold\n",
    " - lit review\n",
    " - content for the presentation by monday!!\n",
    " - review data leakage risk\n",
    " - writing of the dissertation\n",
    " - autoregressor\n",
    " - MDA metric\n",
    " - frequency\n",
    "\n",
    " Writing\n",
    " - lit review\n",
    " - lit reading"
   ]
  },
  {
   "cell_type": "markdown",
   "metadata": {},
   "source": [
    "# Loading the data"
   ]
  },
  {
   "cell_type": "code",
   "execution_count": 3,
   "metadata": {},
   "outputs": [
    {
     "name": "stdout",
     "output_type": "stream",
     "text": [
      "[*********************100%%**********************]  1 of 1 completed\n"
     ]
    }
   ],
   "source": [
    "# loading the data for all 500 S&P500 stocks\n",
    "data = data_reader.read_data(TYPE_OF_DATA)[0]\n",
    "simple_data = data_loader.get_simle_data()"
   ]
  },
  {
   "cell_type": "markdown",
   "metadata": {},
   "source": [
    "# Prepare the data"
   ]
  },
  {
   "cell_type": "code",
   "execution_count": 4,
   "metadata": {},
   "outputs": [],
   "source": [
    "# pass full data at maximum granularity and produce according to frequency parameter"
   ]
  },
  {
   "cell_type": "code",
   "execution_count": 6,
   "metadata": {},
   "outputs": [],
   "source": [
    "tscv_data = create_tscv_dataset(data = simple_data, context_length=CONTEXT_LENGTH, n_folds=FOLDS, prediction_horizon=PREDICTION_HORIZON, max_folds=False)"
   ]
  },
  {
   "cell_type": "markdown",
   "metadata": {},
   "source": [
    "# Models"
   ]
  },
  {
   "cell_type": "code",
   "execution_count": 7,
   "metadata": {},
   "outputs": [],
   "source": [
    "# arima\n"
   ]
  },
  {
   "cell_type": "code",
   "execution_count": 8,
   "metadata": {},
   "outputs": [],
   "source": [
    "# lag llama"
   ]
  },
  {
   "cell_type": "markdown",
   "metadata": {},
   "source": [
    "# Run regular experiment"
   ]
  },
  {
   "cell_type": "code",
   "execution_count": null,
   "metadata": {},
   "outputs": [],
   "source": [
    "results = run_experiment(data = data, prediction_length = PREDICTION_LENGTH)"
   ]
  },
  {
   "cell_type": "markdown",
   "metadata": {},
   "source": [
    "# Evaluation"
   ]
  },
  {
   "cell_type": "code",
   "execution_count": null,
   "metadata": {},
   "outputs": [],
   "source": [
    "results"
   ]
  },
  {
   "cell_type": "markdown",
   "metadata": {},
   "source": [
    "# Run TSCV experiment"
   ]
  },
  {
   "cell_type": "markdown",
   "metadata": {},
   "source": [
    "look up tzpes of TSCV"
   ]
  },
  {
   "cell_type": "code",
   "execution_count": 10,
   "metadata": {},
   "outputs": [
    {
     "name": "stdout",
     "output_type": "stream",
     "text": [
      "y0 done  1\n",
      "------------\n",
      "y1 done  2\n",
      "------------\n",
      "y2 done  3\n",
      "------------\n",
      "y3 done  4\n",
      "------------\n",
      "y4 done  5\n",
      "------------\n",
      "y5 done  6\n",
      "------------\n",
      "y6 done  7\n",
      "------------\n",
      "y7 done  8\n",
      "------------\n",
      "y8 done  9\n",
      "------------\n",
      "y9 done  10\n",
      "------------\n"
     ]
    }
   ],
   "source": [
    "tscv_results, prediction = run_experiment(data=tscv_data, tscv=True)"
   ]
  },
  {
   "cell_type": "code",
   "execution_count": 11,
   "metadata": {},
   "outputs": [
    {
     "data": {
      "text/plain": [
       "{'r2': {'arima': -0.8036159605688358, 'llama': -4.690321882253741},\n",
       " 'mse': {'arima': 9.014638013311012, 'llama': 28.440750730306206},\n",
       " 'mae': {'arima': 2.712121007999187, 'llama': 4.178632465124013},\n",
       " 'rmse': {'arima': 3.0024386776936867, 'llama': 5.332987036390226}}"
      ]
     },
     "execution_count": 11,
     "metadata": {},
     "output_type": "execute_result"
    }
   ],
   "source": [
    "tscv_results"
   ]
  },
  {
   "cell_type": "markdown",
   "metadata": {},
   "source": [
    "# SKLearn TSCV"
   ]
  },
  {
   "cell_type": "code",
   "execution_count": 12,
   "metadata": {},
   "outputs": [
    {
     "name": "stdout",
     "output_type": "stream",
     "text": [
      "[*********************100%%**********************]  1 of 1 completed\n"
     ]
    }
   ],
   "source": [
    "simple_data = data_loader.get_simle_data()"
   ]
  },
  {
   "cell_type": "code",
   "execution_count": 13,
   "metadata": {},
   "outputs": [],
   "source": [
    "# sklearn tscv object\n",
    "tscv = TimeSeriesSplit(n_splits=FOLDS, test_size=PREDICTION_LENGTH)\n"
   ]
  },
  {
   "cell_type": "code",
   "execution_count": 14,
   "metadata": {},
   "outputs": [],
   "source": [
    "# extracting the time-series data from original data\n",
    "series = simple_data[\"y\"]"
   ]
  },
  {
   "cell_type": "code",
   "execution_count": 15,
   "metadata": {},
   "outputs": [],
   "source": [
    "models=[\"arima\", \"llama\"]\n",
    "metrics=[\"r2\", \"mse\", \"mae\", \"rmse\"]\n",
    "\n",
    "results = {metric: {model: {f\"fold_{i}\": [] for i in range(FOLDS)} for model in models} for metric in metrics}\n",
    "\n",
    "\n",
    "i = 0\n",
    "# iterating over all the folds\n",
    "for train_index, test_index in tscv.split(series):\n",
    "    train = simple_data.iloc[train_index]\n",
    "    valid = list(simple_data.iloc[test_index][\"y\"])\n",
    "\n",
    "\n",
    "\n",
    "    arima_model = arima.get_autoarima(train)\n",
    "    autoarima_predictions = arima.autoarima_predictions(arima_model, PREDICTION_LENGTH)\n",
    "    lag_llama_predictions, tss = lag_llama.get_lam_llama_forecast(train, PREDICTION_LENGTH, context_length=CONTEXT_LENGTH)\n",
    "    lag_llama_predictions = list(lag_llama_predictions[0].samples.mean(axis = 0))\n",
    "\n",
    "    \"\"\"\n",
    "    print(autoarima_predictions)\n",
    "    print(lag_llama_predictions)\n",
    "    print(valid)\n",
    "    \"\"\"\n",
    "\n",
    "    results[\"r2\"][\"arima\"][f\"fold_{i}\"].append(r2_score(valid, autoarima_predictions))\n",
    "    results[\"mse\"][\"arima\"][f\"fold_{i}\"].append(mean_squared_error(valid, autoarima_predictions))\n",
    "    results[\"mae\"][\"arima\"][f\"fold_{i}\"].append(mean_absolute_error(valid, autoarima_predictions))\n",
    "    results[\"rmse\"][\"arima\"][f\"fold_{i}\"].append(np.sqrt(mean_squared_error(valid, autoarima_predictions)))\n",
    "\n",
    "    results[\"r2\"][\"llama\"][f\"fold_{i}\"].append(r2_score(valid, lag_llama_predictions))\n",
    "    results[\"mse\"][\"llama\"][f\"fold_{i}\"].append(mean_squared_error(valid, lag_llama_predictions))\n",
    "    results[\"mae\"][\"llama\"][f\"fold_{i}\"].append(mean_absolute_error(valid, lag_llama_predictions))\n",
    "    results[\"rmse\"][\"llama\"][f\"fold_{i}\"].append(np.sqrt(mean_squared_error(valid, lag_llama_predictions)))\n",
    "\n",
    "    i += 1"
   ]
  },
  {
   "cell_type": "code",
   "execution_count": 16,
   "metadata": {},
   "outputs": [
    {
     "data": {
      "text/plain": [
       "{'r2': {'arima': {'fold_0': [-9.677372264227262],\n",
       "   'fold_1': [-1.006276091511804],\n",
       "   'fold_2': [-0.020242335135516543],\n",
       "   'fold_3': [-0.12762961417397567],\n",
       "   'fold_4': [0.008398586301453292],\n",
       "   'fold_5': [-1.959846458898328],\n",
       "   'fold_6': [-2.909197686058263],\n",
       "   'fold_7': [-0.14294706692623627],\n",
       "   'fold_8': [-1.7601258200238474],\n",
       "   'fold_9': [-0.9361515709652608]},\n",
       "  'llama': {'fold_0': [-10.837290524964514],\n",
       "   'fold_1': [-6.125358839740125],\n",
       "   'fold_2': [-38.72554293881068],\n",
       "   'fold_3': [-122.4641564866312],\n",
       "   'fold_4': [-11.523098893452007],\n",
       "   'fold_5': [-2.3367277496852545],\n",
       "   'fold_6': [-3.4099310559360942],\n",
       "   'fold_7': [-12.530495957756186],\n",
       "   'fold_8': [-7.237419849315307],\n",
       "   'fold_9': [-30.352568376275634]}},\n",
       " 'mse': {'arima': {'fold_0': [32.010473571653826],\n",
       "   'fold_1': [54.518945404598],\n",
       "   'fold_2': [5.38437167062488],\n",
       "   'fold_3': [2.115276553345149],\n",
       "   'fold_4': [14.099524637632047],\n",
       "   'fold_5': [94.17486163763454],\n",
       "   'fold_6': [40.755711328309566],\n",
       "   'fold_7': [7.0767825929371195],\n",
       "   'fold_8': [199.95595562526324],\n",
       "   'fold_9': [61.790702869794586]},\n",
       "  'llama': {'fold_0': [35.487877179187926],\n",
       "   'fold_1': [193.62591779640715],\n",
       "   'fold_2': [209.6532173128387],\n",
       "   'fold_3': [231.60161112478045],\n",
       "   'fold_4': [178.06523765345048],\n",
       "   'fold_5': [106.16627534998045],\n",
       "   'fold_6': [45.97615457884525],\n",
       "   'fold_7': [83.77673913207978],\n",
       "   'fold_8': [596.7558239218686],\n",
       "   'fold_9': [1000.5917231870095]}},\n",
       " 'mae': {'arima': {'fold_0': [5.399046414430865],\n",
       "   'fold_1': [5.891296533060469],\n",
       "   'fold_2': [1.6285137333275457],\n",
       "   'fold_3': [1.2932934142649686],\n",
       "   'fold_4': [3.3155424916539973],\n",
       "   'fold_5': [7.60864125244814],\n",
       "   'fold_6': [5.433775261211997],\n",
       "   'fold_7': [2.2775184261585535],\n",
       "   'fold_8': [12.144544660253654],\n",
       "   'fold_9': [5.995797362832684]},\n",
       "  'llama': {'fold_0': [5.480826148450231],\n",
       "   'fold_1': [13.136644880912801],\n",
       "   'fold_2': [14.016534113960697],\n",
       "   'fold_3': [14.952091793703847],\n",
       "   'fold_4': [12.91852080979638],\n",
       "   'fold_5': [9.054094411291478],\n",
       "   'fold_6': [6.0237244446258185],\n",
       "   'fold_7': [8.69747176349627],\n",
       "   'fold_8': [23.169466307598853],\n",
       "   'fold_9': [31.16549428081343]}},\n",
       " 'rmse': {'arima': {'fold_0': [5.657779915448623],\n",
       "   'fold_1': [7.383694563333318],\n",
       "   'fold_2': [2.3204248901063096],\n",
       "   'fold_3': [1.4543990351155864],\n",
       "   'fold_4': [3.754933373261375],\n",
       "   'fold_5': [9.704373325343298],\n",
       "   'fold_6': [6.384019997486659],\n",
       "   'fold_7': [2.660222282617962],\n",
       "   'fold_8': [14.14057833418645],\n",
       "   'fold_9': [7.860706257696861]},\n",
       "  'llama': {'fold_0': [5.957170232517107],\n",
       "   'fold_1': [13.914953028896905],\n",
       "   'fold_2': [14.479406663010701],\n",
       "   'fold_3': [15.218462837119274],\n",
       "   'fold_4': [13.344108724581439],\n",
       "   'fold_5': [10.303702021602742],\n",
       "   'fold_6': [6.780571847480509],\n",
       "   'fold_7': [9.15296340712011],\n",
       "   'fold_8': [24.428586203910136],\n",
       "   'fold_9': [31.632131183134177]}}}"
      ]
     },
     "execution_count": 16,
     "metadata": {},
     "output_type": "execute_result"
    }
   ],
   "source": [
    "results"
   ]
  }
 ],
 "metadata": {
  "kernelspec": {
   "display_name": "Python 3",
   "language": "python",
   "name": "python3"
  },
  "language_info": {
   "codemirror_mode": {
    "name": "ipython",
    "version": 3
   },
   "file_extension": ".py",
   "mimetype": "text/x-python",
   "name": "python",
   "nbconvert_exporter": "python",
   "pygments_lexer": "ipython3",
   "version": "3.11.1"
  }
 },
 "nbformat": 4,
 "nbformat_minor": 2
}
