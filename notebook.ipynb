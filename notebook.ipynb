{
 "cells": [
  {
   "cell_type": "markdown",
   "metadata": {},
   "source": [
    "# Imports"
   ]
  },
  {
   "cell_type": "code",
   "execution_count": 1,
   "metadata": {},
   "outputs": [],
   "source": [
    "from modules.data import data_loader, data_splitter, data_reader\n",
    "from modules.models import arima, lag_llama, autoregressor\n",
    "from modules.evaluation import evaluate\n",
    "from sklearn.metrics import mean_squared_error, mean_absolute_error, r2_score\n",
    "from modules.experiment.experiment import run_experiment\n",
    "from modules.data.tscv import create_tscv_dataset\n",
    "from modules.experiment.tscv import get_tscv_results, mean_directional_accuracy, get_summary\n",
    "\n",
    "\n",
    "import numpy as np\n",
    "import pandas as pd\n",
    "import matplotlib.pyplot as plt\n",
    "import matplotlib.dates as mdates\n",
    "from itertools import islice\n",
    "from sklearn.model_selection import TimeSeriesSplit\n",
    "import plotly.graph_objs as go\n",
    "from plotly.subplots import make_subplots\n",
    "import dash\n",
    "from dash import dcc, html\n",
    "from dash.dependencies import Input, Output"
   ]
  },
  {
   "cell_type": "markdown",
   "metadata": {},
   "source": [
    "# Parameters"
   ]
  },
  {
   "cell_type": "code",
   "execution_count": 12,
   "metadata": {},
   "outputs": [],
   "source": [
    "PREDICTION_LENGTH = 5 # currentlz only works for PREDICTION_LENGTH > 1\n",
    "FREQUENCY = \"hourly\" # currently we only have dailz frequency\n",
    "TYPE_OF_DATA = \"return\" # currently we only have stock prices saved\n",
    "MODELS = [\"arima\", \"llama\"] # currentlz works onlz for these two\n",
    "FOLDS = 20 # for TSCV\n",
    "CONTEXT_LENGTH = 64\n",
    "\n",
    "#START_DATE = \n",
    "#END_DATE\n",
    "# want to add\n",
    "#TRAIN_PERIOD = # context lenghts. Should take a look into this\n",
    "#TRAIN_SIZE = \n",
    "\n",
    "\n"
   ]
  },
  {
   "cell_type": "markdown",
   "metadata": {},
   "source": [
    "# Notes"
   ]
  },
  {
   "cell_type": "markdown",
   "metadata": {},
   "source": [
    " - autoregressor\n",
    " - mean directional accuracy\n",
    " - ask\n",
    " - for each time-series create a whole dataframe for TSCV\n",
    "  - problem with this is with time horizon that is >1 \n",
    "  - prediction horizon is only for that value in the future"
   ]
  },
  {
   "cell_type": "markdown",
   "metadata": {},
   "source": [
    "# TO DO"
   ]
  },
  {
   "cell_type": "markdown",
   "metadata": {},
   "source": [
    " - create the TSCV experiment. It needs to create a table. Metrics for each fold\n",
    " - lit review\n",
    " - content for the presentation by monday!!\n",
    " - review data leakage risk\n",
    " - writing of the dissertation\n",
    " - autoregressor\n",
    " - MDA metric\n",
    " - frequency\n",
    "\n",
    " Writing\n",
    " - lit review\n",
    " - lit reading"
   ]
  },
  {
   "cell_type": "markdown",
   "metadata": {},
   "source": [
    "# Loading the data"
   ]
  },
  {
   "cell_type": "code",
   "execution_count": 3,
   "metadata": {},
   "outputs": [],
   "source": [
    "data = data_reader.read_data(type = TYPE_OF_DATA, frequency = FREQUENCY)\n",
    "# this is just in case there are more CSVs of the same type and frequency, the data should be the first in the list\n",
    "#if len(data) > 1:\n",
    "data = data[0]\n",
    "\n",
    "simple_data = data_reader.read_data(type = TYPE_OF_DATA, frequency = FREQUENCY, simple = True)\n",
    "#if len(simple_data) > 1:\n",
    "simple_data = simple_data[0]"
   ]
  },
  {
   "cell_type": "markdown",
   "metadata": {},
   "source": [
    "# Prepare the data"
   ]
  },
  {
   "cell_type": "code",
   "execution_count": 4,
   "metadata": {},
   "outputs": [],
   "source": [
    "# pass full data at maximum granularity and produce according to frequency parameter"
   ]
  },
  {
   "cell_type": "code",
   "execution_count": 6,
   "metadata": {},
   "outputs": [],
   "source": [
    "tscv_data = create_tscv_dataset(data = simple_data, context_length=CONTEXT_LENGTH, n_folds=FOLDS, prediction_horizon=PREDICTION_LENGTH, max_folds=False)"
   ]
  },
  {
   "cell_type": "markdown",
   "metadata": {},
   "source": [
    "# Models"
   ]
  },
  {
   "cell_type": "code",
   "execution_count": 7,
   "metadata": {},
   "outputs": [],
   "source": [
    "# arima\n"
   ]
  },
  {
   "cell_type": "code",
   "execution_count": 8,
   "metadata": {},
   "outputs": [],
   "source": [
    "# lag llama"
   ]
  },
  {
   "cell_type": "markdown",
   "metadata": {},
   "source": [
    "# Run regular experiment"
   ]
  },
  {
   "cell_type": "code",
   "execution_count": null,
   "metadata": {},
   "outputs": [],
   "source": [
    "results = run_experiment(data = data, prediction_length = PREDICTION_LENGTH)"
   ]
  },
  {
   "cell_type": "markdown",
   "metadata": {},
   "source": [
    "# Evaluation"
   ]
  },
  {
   "cell_type": "code",
   "execution_count": null,
   "metadata": {},
   "outputs": [],
   "source": [
    "results"
   ]
  },
  {
   "cell_type": "markdown",
   "metadata": {},
   "source": [
    "# Run TSCV experiment"
   ]
  },
  {
   "cell_type": "markdown",
   "metadata": {},
   "source": [
    "look up tzpes of TSCV"
   ]
  },
  {
   "cell_type": "code",
   "execution_count": 10,
   "metadata": {},
   "outputs": [
    {
     "name": "stdout",
     "output_type": "stream",
     "text": [
      "y0 done  1\n",
      "------------\n",
      "y1 done  2\n",
      "------------\n",
      "y2 done  3\n",
      "------------\n",
      "y3 done  4\n",
      "------------\n",
      "y4 done  5\n",
      "------------\n",
      "y5 done  6\n",
      "------------\n",
      "y6 done  7\n",
      "------------\n",
      "y7 done  8\n",
      "------------\n",
      "y8 done  9\n",
      "------------\n",
      "y9 done  10\n",
      "------------\n"
     ]
    }
   ],
   "source": [
    "tscv_results, prediction = run_experiment(data=tscv_data, tscv=True)"
   ]
  },
  {
   "cell_type": "code",
   "execution_count": 11,
   "metadata": {},
   "outputs": [
    {
     "data": {
      "text/plain": [
       "{'r2': {'arima': -0.8036159605688358, 'llama': -4.690321882253741},\n",
       " 'mse': {'arima': 9.014638013311012, 'llama': 28.440750730306206},\n",
       " 'mae': {'arima': 2.712121007999187, 'llama': 4.178632465124013},\n",
       " 'rmse': {'arima': 3.0024386776936867, 'llama': 5.332987036390226}}"
      ]
     },
     "execution_count": 11,
     "metadata": {},
     "output_type": "execute_result"
    }
   ],
   "source": [
    "tscv_results"
   ]
  },
  {
   "cell_type": "markdown",
   "metadata": {},
   "source": [
    "# SKLearn TSCV"
   ]
  },
  {
   "cell_type": "code",
   "execution_count": 3,
   "metadata": {},
   "outputs": [
    {
     "name": "stdout",
     "output_type": "stream",
     "text": [
      "[*********************100%%**********************]  1 of 1 completed\n"
     ]
    }
   ],
   "source": [
    "simple_data = data_loader.get_simle_data()"
   ]
  },
  {
   "cell_type": "code",
   "execution_count": 4,
   "metadata": {},
   "outputs": [],
   "source": [
    "# sklearn tscv object\n",
    "tscv = TimeSeriesSplit(n_splits=FOLDS, test_size=PREDICTION_LENGTH)\n"
   ]
  },
  {
   "cell_type": "markdown",
   "metadata": {},
   "source": [
    "expanding or rolling window?\n",
    "\n",
    "suggestion: do rolling window!"
   ]
  },
  {
   "cell_type": "code",
   "execution_count": 5,
   "metadata": {},
   "outputs": [],
   "source": [
    "# extracting the time-series data from original data\n",
    "series = simple_data[\"y\"]"
   ]
  },
  {
   "cell_type": "markdown",
   "metadata": {},
   "source": [
    "- put metrics in dataframe. one for arima, one for lag llama  DONE\n",
    "- each column metric, each row is a fold  DONE\n",
    "- create wrapper function get_metrics(predicted, actual) returns pd.DataFrame of description above\n",
    "- by end of day have a table   DONE\n",
    "- agenda of the presentation by 12   DONE\n",
    "- implement autoregressor forecast t1 = t0     DONE\n",
    "- implement frequency experimentation          DONE\n",
    "- start training date global parameter"
   ]
  },
  {
   "cell_type": "code",
   "execution_count": null,
   "metadata": {},
   "outputs": [],
   "source": [
    "# initializing the list of models, metrics and emptz result dict\n",
    "models=[\"arima\", \"llama\"]\n",
    "metrics=[\"r2\", \"mse\", \"mae\", \"rmse\", \"mda\"]\n",
    "results = {metric: {model: {f\"fold_{i}\": [] for i in range(FOLDS)} for model in models} for metric in metrics}\n",
    "\n",
    "arima_results = pd.DataFrame(columns=metrics)\n",
    "llama_results = pd.DataFrame(columns= metrics)\n",
    "autoregressor_results = pd.DataFrame(columns=metrics)\n",
    "\n",
    "\n",
    "\n",
    "\n",
    "i = 0\n",
    "# iterating over all the folds\n",
    "for train_index, test_index in tscv.split(series):\n",
    "    # subsetting the original data according to train/test split\n",
    "    train = simple_data.iloc[train_index]\n",
    "    valid = list(simple_data.iloc[test_index][\"y\"])\n",
    "\n",
    "    # for my testing purposes\n",
    "    #print(train[\"y\"])\n",
    "    #print(train[\"y\"].iloc[-1])\n",
    "\n",
    "\n",
    "    # inputting data into the models\n",
    "    arima_model = arima.get_autoarima(train)\n",
    "    autoarima_predictions = arima.autoarima_predictions(arima_model, PREDICTION_LENGTH)\n",
    "    lag_llama_predictions, tss = lag_llama.get_lam_llama_forecast(train, PREDICTION_LENGTH, context_length=CONTEXT_LENGTH)\n",
    "    lag_llama_predictions = list(lag_llama_predictions[0].samples.mean(axis = 0))\n",
    "    autoregressor_predictions = autoregressor.get_autoregressor_prediction(train, PREDICTION_LENGTH)\n",
    "\n",
    "    \"\"\"\n",
    "    print(i)\n",
    "    print(\"----------\")\n",
    "    print(len(lag_llama_predictions))\n",
    "    print(\"--------------\")\n",
    "    print(len(valid))\n",
    "    print(\"---------------\")\n",
    "    print(PREDICTION_LENGTH)\n",
    "    print(\"------------------\")\n",
    "    print(r2_score(valid, lag_llama_predictions))\n",
    "    \"\"\"\n",
    "\n",
    "    # for my own testing purposes\n",
    "    \"\"\"\n",
    "    print(autoarima_predictions)\n",
    "    print(lag_llama_predictions)\n",
    "    print(valid)\n",
    "    \"\"\"\n",
    "\n",
    "    # recording the metrics\n",
    "    \"\"\"\n",
    "    results[\"r2\"][\"arima\"][f\"fold_{i}\"].append(r2_score(valid, autoarima_predictions))\n",
    "    results[\"mse\"][\"arima\"][f\"fold_{i}\"].append(mean_squared_error(valid, autoarima_predictions))\n",
    "    results[\"mae\"][\"arima\"][f\"fold_{i}\"].append(mean_absolute_error(valid, autoarima_predictions))\n",
    "    results[\"rmse\"][\"arima\"][f\"fold_{i}\"].append(np.sqrt(mean_squared_error(valid, autoarima_predictions)))\n",
    "\n",
    "    results[\"r2\"][\"llama\"][f\"fold_{i}\"].append(r2_score(valid, lag_llama_predictions))\n",
    "    results[\"mse\"][\"llama\"][f\"fold_{i}\"].append(mean_squared_error(valid, lag_llama_predictions))\n",
    "    results[\"mae\"][\"llama\"][f\"fold_{i}\"].append(mean_absolute_error(valid, lag_llama_predictions))\n",
    "    results[\"rmse\"][\"llama\"][f\"fold_{i}\"].append(np.sqrt(mean_squared_error(valid, lag_llama_predictions)))\n",
    "    \"\"\"\n",
    "\n",
    "    arima_metrics = [r2_score(valid, autoarima_predictions), \n",
    "               mean_squared_error(valid, autoarima_predictions), \n",
    "               mean_absolute_error(valid, autoarima_predictions),\n",
    "               np.sqrt(mean_squared_error(valid, autoarima_predictions)),\n",
    "               mean_directional_accuracy(valid, autoarima_predictions, train[\"y\"].iloc[-1])]\n",
    "    \n",
    "    llama_metrics = [r2_score(valid, lag_llama_predictions), \n",
    "               mean_squared_error(valid, lag_llama_predictions), \n",
    "               mean_absolute_error(valid, lag_llama_predictions),\n",
    "               np.sqrt(mean_squared_error(valid, lag_llama_predictions)),\n",
    "               mean_directional_accuracy(valid, lag_llama_predictions, train[\"y\"].iloc[-1])]\n",
    "    \n",
    "    autoregressor_metrics = [r2_score(valid, autoregressor_predictions), \n",
    "               mean_squared_error(valid, autoregressor_predictions), \n",
    "               mean_absolute_error(valid, autoregressor_predictions),\n",
    "               np.sqrt(mean_squared_error(valid, autoregressor_predictions)),\n",
    "               mean_directional_accuracy(valid, autoregressor_predictions, train[\"y\"].iloc[-1])]\n",
    "\n",
    "    arima_results = pd.concat([arima_results, pd.DataFrame([arima_metrics], columns=metrics)], ignore_index=True)\n",
    "    llama_results = pd.concat([llama_results, pd.DataFrame([llama_metrics], columns=metrics)], ignore_index=True)\n",
    "    autoregressor_results = pd.concat([autoregressor_results, pd.DataFrame([autoregressor_metrics], columns=metrics)], ignore_index=True)\n",
    "\n",
    "\n",
    "    i += 1"
   ]
  },
  {
   "cell_type": "code",
   "execution_count": 18,
   "metadata": {},
   "outputs": [
    {
     "data": {
      "text/html": [
       "<div>\n",
       "<style scoped>\n",
       "    .dataframe tbody tr th:only-of-type {\n",
       "        vertical-align: middle;\n",
       "    }\n",
       "\n",
       "    .dataframe tbody tr th {\n",
       "        vertical-align: top;\n",
       "    }\n",
       "\n",
       "    .dataframe thead th {\n",
       "        text-align: right;\n",
       "    }\n",
       "</style>\n",
       "<table border=\"1\" class=\"dataframe\">\n",
       "  <thead>\n",
       "    <tr style=\"text-align: right;\">\n",
       "      <th></th>\n",
       "      <th>r2</th>\n",
       "      <th>mse</th>\n",
       "      <th>mae</th>\n",
       "      <th>rmse</th>\n",
       "      <th>mda</th>\n",
       "    </tr>\n",
       "  </thead>\n",
       "  <tbody>\n",
       "    <tr>\n",
       "      <th>0</th>\n",
       "      <td>-10.146053</td>\n",
       "      <td>33.415565</td>\n",
       "      <td>5.512960</td>\n",
       "      <td>5.780620</td>\n",
       "      <td>0.2</td>\n",
       "    </tr>\n",
       "    <tr>\n",
       "      <th>1</th>\n",
       "      <td>-1.069529</td>\n",
       "      <td>56.237796</td>\n",
       "      <td>5.979982</td>\n",
       "      <td>7.499186</td>\n",
       "      <td>0.8</td>\n",
       "    </tr>\n",
       "    <tr>\n",
       "      <th>2</th>\n",
       "      <td>-0.021127</td>\n",
       "      <td>5.389042</td>\n",
       "      <td>1.626925</td>\n",
       "      <td>2.321431</td>\n",
       "      <td>0.4</td>\n",
       "    </tr>\n",
       "    <tr>\n",
       "      <th>3</th>\n",
       "      <td>-0.130501</td>\n",
       "      <td>2.120663</td>\n",
       "      <td>1.296481</td>\n",
       "      <td>1.456249</td>\n",
       "      <td>0.6</td>\n",
       "    </tr>\n",
       "    <tr>\n",
       "      <th>4</th>\n",
       "      <td>0.009028</td>\n",
       "      <td>14.090569</td>\n",
       "      <td>3.312309</td>\n",
       "      <td>3.753741</td>\n",
       "      <td>0.5</td>\n",
       "    </tr>\n",
       "    <tr>\n",
       "      <th>5</th>\n",
       "      <td>-1.962910</td>\n",
       "      <td>94.272351</td>\n",
       "      <td>7.710001</td>\n",
       "      <td>9.709395</td>\n",
       "      <td>0.4</td>\n",
       "    </tr>\n",
       "    <tr>\n",
       "      <th>6</th>\n",
       "      <td>-2.799649</td>\n",
       "      <td>39.613602</td>\n",
       "      <td>5.353981</td>\n",
       "      <td>6.293934</td>\n",
       "      <td>0.1</td>\n",
       "    </tr>\n",
       "    <tr>\n",
       "      <th>7</th>\n",
       "      <td>-0.137856</td>\n",
       "      <td>7.045263</td>\n",
       "      <td>2.276720</td>\n",
       "      <td>2.654291</td>\n",
       "      <td>0.9</td>\n",
       "    </tr>\n",
       "    <tr>\n",
       "      <th>8</th>\n",
       "      <td>-1.762008</td>\n",
       "      <td>200.092281</td>\n",
       "      <td>12.148269</td>\n",
       "      <td>14.145398</td>\n",
       "      <td>0.4</td>\n",
       "    </tr>\n",
       "    <tr>\n",
       "      <th>9</th>\n",
       "      <td>-0.884450</td>\n",
       "      <td>68.486433</td>\n",
       "      <td>6.201827</td>\n",
       "      <td>8.275653</td>\n",
       "      <td>0.1</td>\n",
       "    </tr>\n",
       "  </tbody>\n",
       "</table>\n",
       "</div>"
      ],
      "text/plain": [
       "          r2         mse        mae       rmse  mda\n",
       "0 -10.146053   33.415565   5.512960   5.780620  0.2\n",
       "1  -1.069529   56.237796   5.979982   7.499186  0.8\n",
       "2  -0.021127    5.389042   1.626925   2.321431  0.4\n",
       "3  -0.130501    2.120663   1.296481   1.456249  0.6\n",
       "4   0.009028   14.090569   3.312309   3.753741  0.5\n",
       "5  -1.962910   94.272351   7.710001   9.709395  0.4\n",
       "6  -2.799649   39.613602   5.353981   6.293934  0.1\n",
       "7  -0.137856    7.045263   2.276720   2.654291  0.9\n",
       "8  -1.762008  200.092281  12.148269  14.145398  0.4\n",
       "9  -0.884450   68.486433   6.201827   8.275653  0.1"
      ]
     },
     "execution_count": 18,
     "metadata": {},
     "output_type": "execute_result"
    }
   ],
   "source": [
    "arima_results"
   ]
  },
  {
   "cell_type": "code",
   "execution_count": 19,
   "metadata": {},
   "outputs": [],
   "source": [
    "arima_summary = pd.DataFrame({\n",
    "    'r2': [arima_results['r2'].mean(), arima_results['r2'].median(), arima_results['r2'].std()],\n",
    "    'mse': [arima_results['mse'].mean(), arima_results['mse'].median(), arima_results['mse'].std()],\n",
    "    'mae': [arima_results['mae'].mean(), arima_results['mae'].median(), arima_results['mae'].std()],\n",
    "    'rmse': [arima_results['rmse'].mean(), arima_results['rmse'].median(), arima_results['rmse'].std()],\n",
    "    'mda': [arima_results['mda'].mean(), arima_results['mda'].median(), arima_results['mda'].std()]\n",
    "}, index=['mean', 'median', 'std'])"
   ]
  },
  {
   "cell_type": "code",
   "execution_count": 20,
   "metadata": {},
   "outputs": [
    {
     "data": {
      "text/html": [
       "<div>\n",
       "<style scoped>\n",
       "    .dataframe tbody tr th:only-of-type {\n",
       "        vertical-align: middle;\n",
       "    }\n",
       "\n",
       "    .dataframe tbody tr th {\n",
       "        vertical-align: top;\n",
       "    }\n",
       "\n",
       "    .dataframe thead th {\n",
       "        text-align: right;\n",
       "    }\n",
       "</style>\n",
       "<table border=\"1\" class=\"dataframe\">\n",
       "  <thead>\n",
       "    <tr style=\"text-align: right;\">\n",
       "      <th></th>\n",
       "      <th>r2</th>\n",
       "      <th>mse</th>\n",
       "      <th>mae</th>\n",
       "      <th>rmse</th>\n",
       "      <th>mda</th>\n",
       "    </tr>\n",
       "  </thead>\n",
       "  <tbody>\n",
       "    <tr>\n",
       "      <th>mean</th>\n",
       "      <td>-1.890506</td>\n",
       "      <td>52.076356</td>\n",
       "      <td>5.141945</td>\n",
       "      <td>6.188990</td>\n",
       "      <td>0.440000</td>\n",
       "    </tr>\n",
       "    <tr>\n",
       "      <th>median</th>\n",
       "      <td>-0.976990</td>\n",
       "      <td>36.514584</td>\n",
       "      <td>5.433470</td>\n",
       "      <td>6.037277</td>\n",
       "      <td>0.400000</td>\n",
       "    </tr>\n",
       "    <tr>\n",
       "      <th>std</th>\n",
       "      <td>3.054336</td>\n",
       "      <td>60.208310</td>\n",
       "      <td>3.272644</td>\n",
       "      <td>3.911914</td>\n",
       "      <td>0.271621</td>\n",
       "    </tr>\n",
       "  </tbody>\n",
       "</table>\n",
       "</div>"
      ],
      "text/plain": [
       "              r2        mse       mae      rmse       mda\n",
       "mean   -1.890506  52.076356  5.141945  6.188990  0.440000\n",
       "median -0.976990  36.514584  5.433470  6.037277  0.400000\n",
       "std     3.054336  60.208310  3.272644  3.911914  0.271621"
      ]
     },
     "execution_count": 20,
     "metadata": {},
     "output_type": "execute_result"
    }
   ],
   "source": [
    "arima_summary"
   ]
  },
  {
   "cell_type": "code",
   "execution_count": 21,
   "metadata": {},
   "outputs": [
    {
     "data": {
      "text/html": [
       "<div>\n",
       "<style scoped>\n",
       "    .dataframe tbody tr th:only-of-type {\n",
       "        vertical-align: middle;\n",
       "    }\n",
       "\n",
       "    .dataframe tbody tr th {\n",
       "        vertical-align: top;\n",
       "    }\n",
       "\n",
       "    .dataframe thead th {\n",
       "        text-align: right;\n",
       "    }\n",
       "</style>\n",
       "<table border=\"1\" class=\"dataframe\">\n",
       "  <thead>\n",
       "    <tr style=\"text-align: right;\">\n",
       "      <th></th>\n",
       "      <th>r2</th>\n",
       "      <th>mse</th>\n",
       "      <th>mae</th>\n",
       "      <th>rmse</th>\n",
       "      <th>mda</th>\n",
       "    </tr>\n",
       "  </thead>\n",
       "  <tbody>\n",
       "    <tr>\n",
       "      <th>0</th>\n",
       "      <td>-11.283636</td>\n",
       "      <td>36.826008</td>\n",
       "      <td>5.202384</td>\n",
       "      <td>6.068444</td>\n",
       "      <td>0.6</td>\n",
       "    </tr>\n",
       "    <tr>\n",
       "      <th>1</th>\n",
       "      <td>-6.114432</td>\n",
       "      <td>193.328999</td>\n",
       "      <td>12.492389</td>\n",
       "      <td>13.904280</td>\n",
       "      <td>0.3</td>\n",
       "    </tr>\n",
       "    <tr>\n",
       "      <th>2</th>\n",
       "      <td>-27.709435</td>\n",
       "      <td>151.515247</td>\n",
       "      <td>12.034618</td>\n",
       "      <td>12.309153</td>\n",
       "      <td>0.5</td>\n",
       "    </tr>\n",
       "    <tr>\n",
       "      <th>3</th>\n",
       "      <td>-117.051050</td>\n",
       "      <td>221.447375</td>\n",
       "      <td>14.750225</td>\n",
       "      <td>14.881108</td>\n",
       "      <td>0.5</td>\n",
       "    </tr>\n",
       "    <tr>\n",
       "      <th>4</th>\n",
       "      <td>-10.914719</td>\n",
       "      <td>169.414716</td>\n",
       "      <td>12.395660</td>\n",
       "      <td>13.015941</td>\n",
       "      <td>0.5</td>\n",
       "    </tr>\n",
       "    <tr>\n",
       "      <th>5</th>\n",
       "      <td>-2.360813</td>\n",
       "      <td>106.932600</td>\n",
       "      <td>9.050172</td>\n",
       "      <td>10.340822</td>\n",
       "      <td>0.6</td>\n",
       "    </tr>\n",
       "    <tr>\n",
       "      <th>6</th>\n",
       "      <td>-2.001025</td>\n",
       "      <td>31.287475</td>\n",
       "      <td>4.966641</td>\n",
       "      <td>5.593521</td>\n",
       "      <td>0.6</td>\n",
       "    </tr>\n",
       "    <tr>\n",
       "      <th>7</th>\n",
       "      <td>-10.787917</td>\n",
       "      <td>72.987215</td>\n",
       "      <td>7.751465</td>\n",
       "      <td>8.543256</td>\n",
       "      <td>0.4</td>\n",
       "    </tr>\n",
       "    <tr>\n",
       "      <th>8</th>\n",
       "      <td>-7.082025</td>\n",
       "      <td>585.498344</td>\n",
       "      <td>22.845116</td>\n",
       "      <td>24.197073</td>\n",
       "      <td>0.5</td>\n",
       "    </tr>\n",
       "    <tr>\n",
       "      <th>9</th>\n",
       "      <td>-26.135169</td>\n",
       "      <td>986.171396</td>\n",
       "      <td>30.635747</td>\n",
       "      <td>31.403366</td>\n",
       "      <td>0.4</td>\n",
       "    </tr>\n",
       "  </tbody>\n",
       "</table>\n",
       "</div>"
      ],
      "text/plain": [
       "           r2         mse        mae       rmse  mda\n",
       "0  -11.283636   36.826008   5.202384   6.068444  0.6\n",
       "1   -6.114432  193.328999  12.492389  13.904280  0.3\n",
       "2  -27.709435  151.515247  12.034618  12.309153  0.5\n",
       "3 -117.051050  221.447375  14.750225  14.881108  0.5\n",
       "4  -10.914719  169.414716  12.395660  13.015941  0.5\n",
       "5   -2.360813  106.932600   9.050172  10.340822  0.6\n",
       "6   -2.001025   31.287475   4.966641   5.593521  0.6\n",
       "7  -10.787917   72.987215   7.751465   8.543256  0.4\n",
       "8   -7.082025  585.498344  22.845116  24.197073  0.5\n",
       "9  -26.135169  986.171396  30.635747  31.403366  0.4"
      ]
     },
     "execution_count": 21,
     "metadata": {},
     "output_type": "execute_result"
    }
   ],
   "source": [
    "llama_results"
   ]
  },
  {
   "cell_type": "code",
   "execution_count": 22,
   "metadata": {},
   "outputs": [],
   "source": [
    "llama_summary = pd.DataFrame({\n",
    "    'r2': [llama_results['r2'].mean(), llama_results['r2'].median(), llama_results['r2'].std()],\n",
    "    'mse': [llama_results['mse'].mean(), llama_results['mse'].median(), llama_results['mse'].std()],\n",
    "    'mae': [llama_results['mae'].mean(), llama_results['mae'].median(), llama_results['mae'].std()],\n",
    "    'rmse': [llama_results['rmse'].mean(), llama_results['rmse'].median(), llama_results['rmse'].std()],\n",
    "    'mda': [llama_results['mda'].mean(), llama_results['mda'].median(), llama_results['mda'].std()]\n",
    "}, index=['mean', 'median', 'std'])"
   ]
  },
  {
   "cell_type": "code",
   "execution_count": 23,
   "metadata": {},
   "outputs": [
    {
     "data": {
      "text/html": [
       "<div>\n",
       "<style scoped>\n",
       "    .dataframe tbody tr th:only-of-type {\n",
       "        vertical-align: middle;\n",
       "    }\n",
       "\n",
       "    .dataframe tbody tr th {\n",
       "        vertical-align: top;\n",
       "    }\n",
       "\n",
       "    .dataframe thead th {\n",
       "        text-align: right;\n",
       "    }\n",
       "</style>\n",
       "<table border=\"1\" class=\"dataframe\">\n",
       "  <thead>\n",
       "    <tr style=\"text-align: right;\">\n",
       "      <th></th>\n",
       "      <th>r2</th>\n",
       "      <th>mse</th>\n",
       "      <th>mae</th>\n",
       "      <th>rmse</th>\n",
       "      <th>mda</th>\n",
       "    </tr>\n",
       "  </thead>\n",
       "  <tbody>\n",
       "    <tr>\n",
       "      <th>mean</th>\n",
       "      <td>-22.144022</td>\n",
       "      <td>255.540937</td>\n",
       "      <td>13.212442</td>\n",
       "      <td>14.025696</td>\n",
       "      <td>0.490000</td>\n",
       "    </tr>\n",
       "    <tr>\n",
       "      <th>median</th>\n",
       "      <td>-10.851318</td>\n",
       "      <td>160.464981</td>\n",
       "      <td>12.215139</td>\n",
       "      <td>12.662547</td>\n",
       "      <td>0.500000</td>\n",
       "    </tr>\n",
       "    <tr>\n",
       "      <th>std</th>\n",
       "      <td>34.493446</td>\n",
       "      <td>301.754252</td>\n",
       "      <td>8.031871</td>\n",
       "      <td>8.084332</td>\n",
       "      <td>0.099443</td>\n",
       "    </tr>\n",
       "  </tbody>\n",
       "</table>\n",
       "</div>"
      ],
      "text/plain": [
       "               r2         mse        mae       rmse       mda\n",
       "mean   -22.144022  255.540937  13.212442  14.025696  0.490000\n",
       "median -10.851318  160.464981  12.215139  12.662547  0.500000\n",
       "std     34.493446  301.754252   8.031871   8.084332  0.099443"
      ]
     },
     "execution_count": 23,
     "metadata": {},
     "output_type": "execute_result"
    }
   ],
   "source": [
    "llama_summary"
   ]
  },
  {
   "cell_type": "code",
   "execution_count": 25,
   "metadata": {},
   "outputs": [
    {
     "data": {
      "text/html": [
       "<div>\n",
       "<style scoped>\n",
       "    .dataframe tbody tr th:only-of-type {\n",
       "        vertical-align: middle;\n",
       "    }\n",
       "\n",
       "    .dataframe tbody tr th {\n",
       "        vertical-align: top;\n",
       "    }\n",
       "\n",
       "    .dataframe thead th {\n",
       "        text-align: right;\n",
       "    }\n",
       "</style>\n",
       "<table border=\"1\" class=\"dataframe\">\n",
       "  <thead>\n",
       "    <tr style=\"text-align: right;\">\n",
       "      <th></th>\n",
       "      <th>r2</th>\n",
       "      <th>mse</th>\n",
       "      <th>mae</th>\n",
       "      <th>rmse</th>\n",
       "      <th>mda</th>\n",
       "    </tr>\n",
       "  </thead>\n",
       "  <tbody>\n",
       "    <tr>\n",
       "      <th>0</th>\n",
       "      <td>-9.748225</td>\n",
       "      <td>32.222889</td>\n",
       "      <td>5.406007</td>\n",
       "      <td>5.676521</td>\n",
       "      <td>0.0</td>\n",
       "    </tr>\n",
       "    <tr>\n",
       "      <th>1</th>\n",
       "      <td>-1.338956</td>\n",
       "      <td>63.559268</td>\n",
       "      <td>6.378003</td>\n",
       "      <td>7.972407</td>\n",
       "      <td>0.0</td>\n",
       "    </tr>\n",
       "    <tr>\n",
       "      <th>2</th>\n",
       "      <td>-0.056281</td>\n",
       "      <td>5.574567</td>\n",
       "      <td>1.645000</td>\n",
       "      <td>2.361052</td>\n",
       "      <td>0.0</td>\n",
       "    </tr>\n",
       "    <tr>\n",
       "      <th>3</th>\n",
       "      <td>-0.427978</td>\n",
       "      <td>2.678689</td>\n",
       "      <td>1.514003</td>\n",
       "      <td>1.636670</td>\n",
       "      <td>0.0</td>\n",
       "    </tr>\n",
       "    <tr>\n",
       "      <th>4</th>\n",
       "      <td>-0.004325</td>\n",
       "      <td>14.280447</td>\n",
       "      <td>3.302000</td>\n",
       "      <td>3.778948</td>\n",
       "      <td>0.0</td>\n",
       "    </tr>\n",
       "    <tr>\n",
       "      <th>5</th>\n",
       "      <td>-1.668451</td>\n",
       "      <td>84.903390</td>\n",
       "      <td>7.286008</td>\n",
       "      <td>9.214304</td>\n",
       "      <td>0.0</td>\n",
       "    </tr>\n",
       "    <tr>\n",
       "      <th>6</th>\n",
       "      <td>-2.683164</td>\n",
       "      <td>38.399180</td>\n",
       "      <td>5.289006</td>\n",
       "      <td>6.196707</td>\n",
       "      <td>0.0</td>\n",
       "    </tr>\n",
       "    <tr>\n",
       "      <th>7</th>\n",
       "      <td>-0.095014</td>\n",
       "      <td>6.779998</td>\n",
       "      <td>2.207004</td>\n",
       "      <td>2.603843</td>\n",
       "      <td>0.0</td>\n",
       "    </tr>\n",
       "    <tr>\n",
       "      <th>8</th>\n",
       "      <td>-1.774466</td>\n",
       "      <td>200.994832</td>\n",
       "      <td>12.166003</td>\n",
       "      <td>14.177265</td>\n",
       "      <td>0.0</td>\n",
       "    </tr>\n",
       "    <tr>\n",
       "      <th>9</th>\n",
       "      <td>-0.709524</td>\n",
       "      <td>62.129100</td>\n",
       "      <td>5.946002</td>\n",
       "      <td>7.882201</td>\n",
       "      <td>0.0</td>\n",
       "    </tr>\n",
       "  </tbody>\n",
       "</table>\n",
       "</div>"
      ],
      "text/plain": [
       "         r2         mse        mae       rmse  mda\n",
       "0 -9.748225   32.222889   5.406007   5.676521  0.0\n",
       "1 -1.338956   63.559268   6.378003   7.972407  0.0\n",
       "2 -0.056281    5.574567   1.645000   2.361052  0.0\n",
       "3 -0.427978    2.678689   1.514003   1.636670  0.0\n",
       "4 -0.004325   14.280447   3.302000   3.778948  0.0\n",
       "5 -1.668451   84.903390   7.286008   9.214304  0.0\n",
       "6 -2.683164   38.399180   5.289006   6.196707  0.0\n",
       "7 -0.095014    6.779998   2.207004   2.603843  0.0\n",
       "8 -1.774466  200.994832  12.166003  14.177265  0.0\n",
       "9 -0.709524   62.129100   5.946002   7.882201  0.0"
      ]
     },
     "execution_count": 25,
     "metadata": {},
     "output_type": "execute_result"
    }
   ],
   "source": [
    "autoregressor_results"
   ]
  },
  {
   "cell_type": "code",
   "execution_count": 24,
   "metadata": {},
   "outputs": [
    {
     "data": {
      "text/html": [
       "<div>\n",
       "<style scoped>\n",
       "    .dataframe tbody tr th:only-of-type {\n",
       "        vertical-align: middle;\n",
       "    }\n",
       "\n",
       "    .dataframe tbody tr th {\n",
       "        vertical-align: top;\n",
       "    }\n",
       "\n",
       "    .dataframe thead th {\n",
       "        text-align: right;\n",
       "    }\n",
       "</style>\n",
       "<table border=\"1\" class=\"dataframe\">\n",
       "  <thead>\n",
       "    <tr style=\"text-align: right;\">\n",
       "      <th></th>\n",
       "      <th>r2</th>\n",
       "      <th>mse</th>\n",
       "      <th>mae</th>\n",
       "      <th>rmse</th>\n",
       "      <th>mda</th>\n",
       "    </tr>\n",
       "  </thead>\n",
       "  <tbody>\n",
       "    <tr>\n",
       "      <th>mean</th>\n",
       "      <td>-20.253517</td>\n",
       "      <td>203.464581</td>\n",
       "      <td>8.070496</td>\n",
       "      <td>7.836706</td>\n",
       "      <td>0.050000</td>\n",
       "    </tr>\n",
       "    <tr>\n",
       "      <th>median</th>\n",
       "      <td>-9.874328</td>\n",
       "      <td>123.950398</td>\n",
       "      <td>6.781669</td>\n",
       "      <td>6.625270</td>\n",
       "      <td>0.100000</td>\n",
       "    </tr>\n",
       "    <tr>\n",
       "      <th>std</th>\n",
       "      <td>31.439111</td>\n",
       "      <td>241.545942</td>\n",
       "      <td>4.759227</td>\n",
       "      <td>4.172418</td>\n",
       "      <td>-0.172178</td>\n",
       "    </tr>\n",
       "  </tbody>\n",
       "</table>\n",
       "</div>"
      ],
      "text/plain": [
       "               r2         mse       mae      rmse       mda\n",
       "mean   -20.253517  203.464581  8.070496  7.836706  0.050000\n",
       "median  -9.874328  123.950398  6.781669  6.625270  0.100000\n",
       "std     31.439111  241.545942  4.759227  4.172418 -0.172178"
      ]
     },
     "execution_count": 24,
     "metadata": {},
     "output_type": "execute_result"
    }
   ],
   "source": [
    "llama_summary - arima_summary"
   ]
  },
  {
   "cell_type": "markdown",
   "metadata": {},
   "source": [
    "- find a way to show difference between tables       DONE??\n",
    "- different tables for different statistics !!! (mean, median, std)    DONE\n",
    "- visualize (plot the results) PLOTLY   DONE\n",
    "- a plot for each fold   DONE\n",
    "- implement frequency for simple data\n",
    "- enforce try\n",
    "- when running tscv print time for every fold, train size\n",
    "- start adding more models - fine tuned lag llama first, prophet, others\n",
    "- do we want any more metrics? Are we missing anything in order to be able to say which model is better\n",
    "- CLEAN UP THE CODE\n",
    "\n",
    "expanding or rolling window? - an idea for experiment\n",
    "Try using rolling for now\n",
    "\n",
    "suggestion: do rolling window!\n",
    "\n",
    "\n",
    "MAIN POINTS: VISUALIZATION, RESULTS REPRESENTATION, "
   ]
  },
  {
   "cell_type": "code",
   "execution_count": 13,
   "metadata": {},
   "outputs": [
    {
     "name": "stderr",
     "output_type": "stream",
     "text": [
      "c:\\Users\\topco\\Dokumenti\\MSc Banking and Digital Finance UCL\\Modules\\Dissertation\\MSc_dissertation\\modules\\experiment\\tscv.py:109: FutureWarning:\n",
      "\n",
      "The behavior of DataFrame concatenation with empty or all-NA entries is deprecated. In a future version, this will no longer exclude empty or all-NA columns when determining the result dtypes. To retain the old behavior, exclude the relevant entries before the concat operation.\n",
      "\n",
      "c:\\Users\\topco\\Dokumenti\\MSc Banking and Digital Finance UCL\\Modules\\Dissertation\\MSc_dissertation\\modules\\experiment\\tscv.py:110: FutureWarning:\n",
      "\n",
      "The behavior of DataFrame concatenation with empty or all-NA entries is deprecated. In a future version, this will no longer exclude empty or all-NA columns when determining the result dtypes. To retain the old behavior, exclude the relevant entries before the concat operation.\n",
      "\n",
      "c:\\Users\\topco\\Dokumenti\\MSc Banking and Digital Finance UCL\\Modules\\Dissertation\\MSc_dissertation\\modules\\experiment\\tscv.py:111: FutureWarning:\n",
      "\n",
      "The behavior of DataFrame concatenation with empty or all-NA entries is deprecated. In a future version, this will no longer exclude empty or all-NA columns when determining the result dtypes. To retain the old behavior, exclude the relevant entries before the concat operation.\n",
      "\n",
      "c:\\Users\\topco\\Dokumenti\\MSc Banking and Digital Finance UCL\\Modules\\Dissertation\\MSc_dissertation\\modules\\experiment\\tscv.py:114: FutureWarning:\n",
      "\n",
      "The behavior of DataFrame concatenation with empty or all-NA entries is deprecated. In a future version, this will no longer exclude empty or all-NA columns when determining the result dtypes. To retain the old behavior, exclude the relevant entries before the concat operation.\n",
      "\n",
      "c:\\Users\\topco\\Dokumenti\\MSc Banking and Digital Finance UCL\\Modules\\Dissertation\\MSc_dissertation\\modules\\experiment\\tscv.py:115: FutureWarning:\n",
      "\n",
      "The behavior of DataFrame concatenation with empty or all-NA entries is deprecated. In a future version, this will no longer exclude empty or all-NA columns when determining the result dtypes. To retain the old behavior, exclude the relevant entries before the concat operation.\n",
      "\n",
      "c:\\Users\\topco\\Dokumenti\\MSc Banking and Digital Finance UCL\\Modules\\Dissertation\\MSc_dissertation\\modules\\experiment\\tscv.py:116: FutureWarning:\n",
      "\n",
      "The behavior of DataFrame concatenation with empty or all-NA entries is deprecated. In a future version, this will no longer exclude empty or all-NA columns when determining the result dtypes. To retain the old behavior, exclude the relevant entries before the concat operation.\n",
      "\n",
      "c:\\Users\\topco\\Dokumenti\\MSc Banking and Digital Finance UCL\\Modules\\Dissertation\\MSc_dissertation\\modules\\experiment\\tscv.py:119: FutureWarning:\n",
      "\n",
      "The behavior of DataFrame concatenation with empty or all-NA entries is deprecated. In a future version, this will no longer exclude empty or all-NA columns when determining the result dtypes. To retain the old behavior, exclude the relevant entries before the concat operation.\n",
      "\n"
     ]
    }
   ],
   "source": [
    "r, p, a = get_tscv_results(simple_data, PREDICTION_LENGTH, CONTEXT_LENGTH, FOLDS)"
   ]
  },
  {
   "cell_type": "code",
   "execution_count": 14,
   "metadata": {},
   "outputs": [],
   "source": [
    "s = [get_summary(r[i]) for i in range(len(r))]"
   ]
  },
  {
   "cell_type": "code",
   "execution_count": 15,
   "metadata": {},
   "outputs": [
    {
     "data": {
      "text/html": [
       "<div>\n",
       "<style scoped>\n",
       "    .dataframe tbody tr th:only-of-type {\n",
       "        vertical-align: middle;\n",
       "    }\n",
       "\n",
       "    .dataframe tbody tr th {\n",
       "        vertical-align: top;\n",
       "    }\n",
       "\n",
       "    .dataframe thead th {\n",
       "        text-align: right;\n",
       "    }\n",
       "</style>\n",
       "<table border=\"1\" class=\"dataframe\">\n",
       "  <thead>\n",
       "    <tr style=\"text-align: right;\">\n",
       "      <th></th>\n",
       "      <th>r2</th>\n",
       "      <th>mse</th>\n",
       "      <th>mae</th>\n",
       "      <th>rmse</th>\n",
       "      <th>mda</th>\n",
       "    </tr>\n",
       "  </thead>\n",
       "  <tbody>\n",
       "    <tr>\n",
       "      <th>mean</th>\n",
       "      <td>-93.618492</td>\n",
       "      <td>0.000619</td>\n",
       "      <td>0.023937</td>\n",
       "      <td>0.024482</td>\n",
       "      <td>0.500000</td>\n",
       "    </tr>\n",
       "    <tr>\n",
       "      <th>median</th>\n",
       "      <td>-55.788711</td>\n",
       "      <td>0.000582</td>\n",
       "      <td>0.023681</td>\n",
       "      <td>0.024127</td>\n",
       "      <td>0.600000</td>\n",
       "    </tr>\n",
       "    <tr>\n",
       "      <th>std</th>\n",
       "      <td>95.099748</td>\n",
       "      <td>0.000234</td>\n",
       "      <td>0.004460</td>\n",
       "      <td>0.004499</td>\n",
       "      <td>0.152177</td>\n",
       "    </tr>\n",
       "  </tbody>\n",
       "</table>\n",
       "</div>"
      ],
      "text/plain": [
       "               r2       mse       mae      rmse       mda\n",
       "mean   -93.618492  0.000619  0.023937  0.024482  0.500000\n",
       "median -55.788711  0.000582  0.023681  0.024127  0.600000\n",
       "std     95.099748  0.000234  0.004460  0.004499  0.152177"
      ]
     },
     "execution_count": 15,
     "metadata": {},
     "output_type": "execute_result"
    }
   ],
   "source": [
    "s[1]"
   ]
  },
  {
   "cell_type": "code",
   "execution_count": 16,
   "metadata": {},
   "outputs": [
    {
     "data": {
      "image/png": "[encoded data removed]",
      "text/plain": [
       "<Figure size 1500x2500 with 5 Axes>"
      ]
     },
     "metadata": {},
     "output_type": "display_data"
    }
   ],
   "source": [
    "import pandas as pd\n",
    "import matplotlib.pyplot as plt\n",
    "\n",
    "# Assuming 'r' is your list of dataframes\n",
    "# Sample structure for 'r'\n",
    "# r = [df1, df2, df3, ...]\n",
    "\n",
    "# Model names\n",
    "model_names = ['Arima', 'Lag LLama', 'Autoregressor']\n",
    "\n",
    "# Extracting summary statistics for each model\n",
    "summary_stats = {'model': [], 'metric': [], 'mean': [], 'median': [], 'std': []}\n",
    "metrics = ['r2', 'mse', 'mae', 'rmse', 'mda']\n",
    "\n",
    "for i, df in enumerate(s):\n",
    "    for metric in metrics:\n",
    "        summary_stats['model'].append(model_names[i])\n",
    "        summary_stats['metric'].append(metric)\n",
    "        summary_stats['mean'].append(df.loc['mean', metric])\n",
    "        summary_stats['median'].append(df.loc['median', metric])\n",
    "        summary_stats['std'].append(df.loc['std', metric])\n",
    "\n",
    "summary_df = pd.DataFrame(summary_stats)\n",
    "\n",
    "# Plotting\n",
    "fig, axes = plt.subplots(len(metrics), 1, figsize=(15, len(metrics) * 5))\n",
    "\n",
    "for idx, metric in enumerate(metrics):\n",
    "    metric_data = summary_df[summary_df['metric'] == metric]\n",
    "    \n",
    "    # Plotting mean with error bars representing standard deviation\n",
    "    axes[idx].bar(metric_data['model'], metric_data['mean'], yerr=metric_data['std'], capsize=5, label='Mean')\n",
    "    \n",
    "    # Plotting median as a thick black line\n",
    "    for i, model in enumerate(metric_data['model']):\n",
    "        median_value = metric_data[metric_data['model'] == model]['median'].values[0]\n",
    "        axes[idx].plot([i - 0.2, i + 0.2], [median_value, median_value], color='black', linewidth=4, label='Median' if i == 0 else \"\")\n",
    "\n",
    "    axes[idx].set_title(f'{metric.upper()} Comparison')\n",
    "    axes[idx].set_ylabel(metric.upper())\n",
    "    axes[idx].legend()\n",
    "\n",
    "plt.xticks(rotation=45)\n",
    "plt.tight_layout()\n",
    "plt.show()\n"
   ]
  },
  {
   "cell_type": "code",
   "execution_count": 9,
   "metadata": {},
   "outputs": [
    {
     "data": {
      "application/vnd.plotly.v1+json": {
       "config": {
        "plotlyServerURL": "https://plot.ly"
       },
       "data": [
        {
         "error_y": {
          "array": [
           0.1307456179264679
          ],
          "type": "data",
          "visible": true
         },
         "hoverinfo": "text+y",
         "hovertext": "Arima",
         "legendgroup": "Arima",
         "name": "Arima Mean of R2",
         "type": "bar",
         "x": [
          "r2"
         ],
         "y": [
          -0.10683368261570678
         ]
        },
        {
         "hoverinfo": "skip",
         "legendgroup": "Arima",
         "marker": {
          "color": "black",
          "size": 10,
          "symbol": "line-ns-open"
         },
         "mode": "markers",
         "name": "Arima Median of R2",
         "showlegend": false,
         "type": "scatter",
         "x": [
          "r2"
         ],
         "y": [
          -0.126447331386066
         ]
        },
        {
         "error_y": {
          "array": [
           0.0017285818359692028
          ],
          "type": "data",
          "visible": true
         },
         "hoverinfo": "text+y",
         "hovertext": "Arima",
         "legendgroup": "Arima",
         "name": "Arima Mean of MAE",
         "type": "bar",
         "x": [
          "mae"
         ],
         "y": [
          0.003911544900143514
         ]
        },
        {
         "hoverinfo": "skip",
         "legendgroup": "Arima",
         "marker": {
          "color": "black",
          "size": 10,
          "symbol": "line-ns-open"
         },
         "mode": "markers",
         "name": "Arima Median of MAE",
         "showlegend": false,
         "type": "scatter",
         "x": [
          "mae"
         ],
         "y": [
          0.003740620286214186
         ]
        },
        {
         "error_y": {
          "array": [
           0.0023910194816552876
          ],
          "type": "data",
          "visible": true
         },
         "hoverinfo": "text+y",
         "hovertext": "Arima",
         "legendgroup": "Arima",
         "name": "Arima Mean of RMSE",
         "type": "bar",
         "x": [
          "rmse"
         ],
         "y": [
          0.00511331582204566
         ]
        },
        {
         "hoverinfo": "skip",
         "legendgroup": "Arima",
         "marker": {
          "color": "black",
          "size": 10,
          "symbol": "line-ns-open"
         },
         "mode": "markers",
         "name": "Arima Median of RMSE",
         "showlegend": false,
         "type": "scatter",
         "x": [
          "rmse"
         ],
         "y": [
          0.004959160345892525
         ]
        },
        {
         "error_y": {
          "array": [
           0.22705848487901867
          ],
          "type": "data",
          "visible": true
         },
         "hoverinfo": "text+y",
         "hovertext": "Arima",
         "legendgroup": "Arima",
         "name": "Arima Mean of MDA",
         "type": "bar",
         "x": [
          "mda"
         ],
         "y": [
          0.26
         ]
        },
        {
         "hoverinfo": "skip",
         "legendgroup": "Arima",
         "marker": {
          "color": "black",
          "size": 10,
          "symbol": "line-ns-open"
         },
         "mode": "markers",
         "name": "Arima Median of MDA",
         "showlegend": false,
         "type": "scatter",
         "x": [
          "mda"
         ],
         "y": [
          0.15000000000000002
         ]
        },
        {
         "error_y": {
          "array": [
           28.976521445496807
          ],
          "type": "data",
          "visible": true
         },
         "hoverinfo": "text+y",
         "hovertext": "Lag LLama",
         "legendgroup": "Lag LLama",
         "name": "Lag LLama Mean of R2",
         "type": "bar",
         "x": [
          "r2"
         ],
         "y": [
          -34.22961320260326
         ]
        },
        {
         "hoverinfo": "skip",
         "legendgroup": "Lag LLama",
         "marker": {
          "color": "black",
          "size": 10,
          "symbol": "line-ns-open"
         },
         "mode": "markers",
         "name": "Lag LLama Median of R2",
         "showlegend": false,
         "type": "scatter",
         "x": [
          "r2"
         ],
         "y": [
          -32.69341371596113
         ]
        },
        {
         "error_y": {
          "array": [
           0.003942207815622799
          ],
          "type": "data",
          "visible": true
         },
         "hoverinfo": "text+y",
         "hovertext": "Lag LLama",
         "legendgroup": "Lag LLama",
         "name": "Lag LLama Mean of MAE",
         "type": "bar",
         "x": [
          "mae"
         ],
         "y": [
          0.021895536729983327
         ]
        },
        {
         "hoverinfo": "skip",
         "legendgroup": "Lag LLama",
         "marker": {
          "color": "black",
          "size": 10,
          "symbol": "line-ns-open"
         },
         "mode": "markers",
         "name": "Lag LLama Median of MAE",
         "showlegend": false,
         "type": "scatter",
         "x": [
          "mae"
         ],
         "y": [
          0.02157416466378021
         ]
        },
        {
         "error_y": {
          "array": [
           0.0040006849717493685
          ],
          "type": "data",
          "visible": true
         },
         "hoverinfo": "text+y",
         "hovertext": "Lag LLama",
         "legendgroup": "Lag LLama",
         "name": "Lag LLama Mean of RMSE",
         "type": "bar",
         "x": [
          "rmse"
         ],
         "y": [
          0.022539989874209056
         ]
        },
        {
         "hoverinfo": "skip",
         "legendgroup": "Lag LLama",
         "marker": {
          "color": "black",
          "size": 10,
          "symbol": "line-ns-open"
         },
         "mode": "markers",
         "name": "Lag LLama Median of RMSE",
         "showlegend": false,
         "type": "scatter",
         "x": [
          "rmse"
         ],
         "y": [
          0.022517161504781943
         ]
        },
        {
         "error_y": {
          "array": [
           0.13498971154211056
          ],
          "type": "data",
          "visible": true
         },
         "hoverinfo": "text+y",
         "hovertext": "Lag LLama",
         "legendgroup": "Lag LLama",
         "name": "Lag LLama Mean of MDA",
         "type": "bar",
         "x": [
          "mda"
         ],
         "y": [
          0.43999999999999995
         ]
        },
        {
         "hoverinfo": "skip",
         "legendgroup": "Lag LLama",
         "marker": {
          "color": "black",
          "size": 10,
          "symbol": "line-ns-open"
         },
         "mode": "markers",
         "name": "Lag LLama Median of MDA",
         "showlegend": false,
         "type": "scatter",
         "x": [
          "mda"
         ],
         "y": [
          0.4
         ]
        },
        {
         "error_y": {
          "array": [
           11.785379961422835
          ],
          "type": "data",
          "visible": true
         },
         "hoverinfo": "text+y",
         "hovertext": "Autoregressor",
         "legendgroup": "Autoregressor",
         "name": "Autoregressor Mean of R2",
         "type": "bar",
         "x": [
          "r2"
         ],
         "y": [
          -6.397559134663768
         ]
        },
        {
         "hoverinfo": "skip",
         "legendgroup": "Autoregressor",
         "marker": {
          "color": "black",
          "size": 10,
          "symbol": "line-ns-open"
         },
         "mode": "markers",
         "name": "Autoregressor Median of R2",
         "showlegend": false,
         "type": "scatter",
         "x": [
          "r2"
         ],
         "y": [
          -0.9059654402255676
         ]
        },
        {
         "error_y": {
          "array": [
           0.005270611216885157
          ],
          "type": "data",
          "visible": true
         },
         "hoverinfo": "text+y",
         "hovertext": "Autoregressor",
         "legendgroup": "Autoregressor",
         "name": "Autoregressor Mean of MAE",
         "type": "bar",
         "x": [
          "mae"
         ],
         "y": [
          0.007982453926217957
         ]
        },
        {
         "hoverinfo": "skip",
         "legendgroup": "Autoregressor",
         "marker": {
          "color": "black",
          "size": 10,
          "symbol": "line-ns-open"
         },
         "mode": "markers",
         "name": "Autoregressor Median of MAE",
         "showlegend": false,
         "type": "scatter",
         "x": [
          "mae"
         ],
         "y": [
          0.006592697349271431
         ]
        },
        {
         "error_y": {
          "array": [
           0.005073958365304342
          ],
          "type": "data",
          "visible": true
         },
         "hoverinfo": "text+y",
         "hovertext": "Autoregressor",
         "legendgroup": "Autoregressor",
         "name": "Autoregressor Mean of RMSE",
         "type": "bar",
         "x": [
          "rmse"
         ],
         "y": [
          0.009076023221498756
         ]
        },
        {
         "hoverinfo": "skip",
         "legendgroup": "Autoregressor",
         "marker": {
          "color": "black",
          "size": 10,
          "symbol": "line-ns-open"
         },
         "mode": "markers",
         "name": "Autoregressor Median of RMSE",
         "showlegend": false,
         "type": "scatter",
         "x": [
          "rmse"
         ],
         "y": [
          0.007887428362892164
         ]
        },
        {
         "error_y": {
          "array": [
           0
          ],
          "type": "data",
          "visible": true
         },
         "hoverinfo": "text+y",
         "hovertext": "Autoregressor",
         "legendgroup": "Autoregressor",
         "name": "Autoregressor Mean of MDA",
         "type": "bar",
         "x": [
          "mda"
         ],
         "y": [
          0
         ]
        },
        {
         "hoverinfo": "skip",
         "legendgroup": "Autoregressor",
         "marker": {
          "color": "black",
          "size": 10,
          "symbol": "line-ns-open"
         },
         "mode": "markers",
         "name": "Autoregressor Median of MDA",
         "showlegend": false,
         "type": "scatter",
         "x": [
          "mda"
         ],
         "y": [
          0
         ]
        }
       ],
       "layout": {
        "barmode": "group",
        "height": 800,
        "legend": {
         "orientation": "h",
         "y": -0.2
        },
        "template": {
         "data": {
          "bar": [
           {
            "error_x": {
             "color": "#2a3f5f"
            },
            "error_y": {
             "color": "#2a3f5f"
            },
            "marker": {
             "line": {
              "color": "#E5ECF6",
              "width": 0.5
             },
             "pattern": {
              "fillmode": "overlay",
              "size": 10,
              "solidity": 0.2
             }
            },
            "type": "bar"
           }
          ],
          "barpolar": [
           {
            "marker": {
             "line": {
              "color": "#E5ECF6",
              "width": 0.5
             },
             "pattern": {
              "fillmode": "overlay",
              "size": 10,
              "solidity": 0.2
             }
            },
            "type": "barpolar"
           }
          ],
          "carpet": [
           {
            "aaxis": {
             "endlinecolor": "#2a3f5f",
             "gridcolor": "white",
             "linecolor": "white",
             "minorgridcolor": "white",
             "startlinecolor": "#2a3f5f"
            },
            "baxis": {
             "endlinecolor": "#2a3f5f",
             "gridcolor": "white",
             "linecolor": "white",
             "minorgridcolor": "white",
             "startlinecolor": "#2a3f5f"
            },
            "type": "carpet"
           }
          ],
          "choropleth": [
           {
            "colorbar": {
             "outlinewidth": 0,
             "ticks": ""
            },
            "type": "choropleth"
           }
          ],
          "contour": [
           {
            "colorbar": {
             "outlinewidth": 0,
             "ticks": ""
            },
            "colorscale": [
             [
              0,
              "#0d0887"
             ],
             [
              0.1111111111111111,
              "#46039f"
             ],
             [
              0.2222222222222222,
              "#7201a8"
             ],
             [
              0.3333333333333333,
              "#9c179e"
             ],
             [
              0.4444444444444444,
              "#bd3786"
             ],
             [
              0.5555555555555556,
              "#d8576b"
             ],
             [
              0.6666666666666666,
              "#ed7953"
             ],
             [
              0.7777777777777778,
              "#fb9f3a"
             ],
             [
              0.8888888888888888,
              "#fdca26"
             ],
             [
              1,
              "#f0f921"
             ]
            ],
            "type": "contour"
           }
          ],
          "contourcarpet": [
           {
            "colorbar": {
             "outlinewidth": 0,
             "ticks": ""
            },
            "type": "contourcarpet"
           }
          ],
          "heatmap": [
           {
            "colorbar": {
             "outlinewidth": 0,
             "ticks": ""
            },
            "colorscale": [
             [
              0,
              "#0d0887"
             ],
             [
              0.1111111111111111,
              "#46039f"
             ],
             [
              0.2222222222222222,
              "#7201a8"
             ],
             [
              0.3333333333333333,
              "#9c179e"
             ],
             [
              0.4444444444444444,
              "#bd3786"
             ],
             [
              0.5555555555555556,
              "#d8576b"
             ],
             [
              0.6666666666666666,
              "#ed7953"
             ],
             [
              0.7777777777777778,
              "#fb9f3a"
             ],
             [
              0.8888888888888888,
              "#fdca26"
             ],
             [
              1,
              "#f0f921"
             ]
            ],
            "type": "heatmap"
           }
          ],
          "heatmapgl": [
           {
            "colorbar": {
             "outlinewidth": 0,
             "ticks": ""
            },
            "colorscale": [
             [
              0,
              "#0d0887"
             ],
             [
              0.1111111111111111,
              "#46039f"
             ],
             [
              0.2222222222222222,
              "#7201a8"
             ],
             [
              0.3333333333333333,
              "#9c179e"
             ],
             [
              0.4444444444444444,
              "#bd3786"
             ],
             [
              0.5555555555555556,
              "#d8576b"
             ],
             [
              0.6666666666666666,
              "#ed7953"
             ],
             [
              0.7777777777777778,
              "#fb9f3a"
             ],
             [
              0.8888888888888888,
              "#fdca26"
             ],
             [
              1,
              "#f0f921"
             ]
            ],
            "type": "heatmapgl"
           }
          ],
          "histogram": [
           {
            "marker": {
             "pattern": {
              "fillmode": "overlay",
              "size": 10,
              "solidity": 0.2
             }
            },
            "type": "histogram"
           }
          ],
          "histogram2d": [
           {
            "colorbar": {
             "outlinewidth": 0,
             "ticks": ""
            },
            "colorscale": [
             [
              0,
              "#0d0887"
             ],
             [
              0.1111111111111111,
              "#46039f"
             ],
             [
              0.2222222222222222,
              "#7201a8"
             ],
             [
              0.3333333333333333,
              "#9c179e"
             ],
             [
              0.4444444444444444,
              "#bd3786"
             ],
             [
              0.5555555555555556,
              "#d8576b"
             ],
             [
              0.6666666666666666,
              "#ed7953"
             ],
             [
              0.7777777777777778,
              "#fb9f3a"
             ],
             [
              0.8888888888888888,
              "#fdca26"
             ],
             [
              1,
              "#f0f921"
             ]
            ],
            "type": "histogram2d"
           }
          ],
          "histogram2dcontour": [
           {
            "colorbar": {
             "outlinewidth": 0,
             "ticks": ""
            },
            "colorscale": [
             [
              0,
              "#0d0887"
             ],
             [
              0.1111111111111111,
              "#46039f"
             ],
             [
              0.2222222222222222,
              "#7201a8"
             ],
             [
              0.3333333333333333,
              "#9c179e"
             ],
             [
              0.4444444444444444,
              "#bd3786"
             ],
             [
              0.5555555555555556,
              "#d8576b"
             ],
             [
              0.6666666666666666,
              "#ed7953"
             ],
             [
              0.7777777777777778,
              "#fb9f3a"
             ],
             [
              0.8888888888888888,
              "#fdca26"
             ],
             [
              1,
              "#f0f921"
             ]
            ],
            "type": "histogram2dcontour"
           }
          ],
          "mesh3d": [
           {
            "colorbar": {
             "outlinewidth": 0,
             "ticks": ""
            },
            "type": "mesh3d"
           }
          ],
          "parcoords": [
           {
            "line": {
             "colorbar": {
              "outlinewidth": 0,
              "ticks": ""
             }
            },
            "type": "parcoords"
           }
          ],
          "pie": [
           {
            "automargin": true,
            "type": "pie"
           }
          ],
          "scatter": [
           {
            "fillpattern": {
             "fillmode": "overlay",
             "size": 10,
             "solidity": 0.2
            },
            "type": "scatter"
           }
          ],
          "scatter3d": [
           {
            "line": {
             "colorbar": {
              "outlinewidth": 0,
              "ticks": ""
             }
            },
            "marker": {
             "colorbar": {
              "outlinewidth": 0,
              "ticks": ""
             }
            },
            "type": "scatter3d"
           }
          ],
          "scattercarpet": [
           {
            "marker": {
             "colorbar": {
              "outlinewidth": 0,
              "ticks": ""
             }
            },
            "type": "scattercarpet"
           }
          ],
          "scattergeo": [
           {
            "marker": {
             "colorbar": {
              "outlinewidth": 0,
              "ticks": ""
             }
            },
            "type": "scattergeo"
           }
          ],
          "scattergl": [
           {
            "marker": {
             "colorbar": {
              "outlinewidth": 0,
              "ticks": ""
             }
            },
            "type": "scattergl"
           }
          ],
          "scattermapbox": [
           {
            "marker": {
             "colorbar": {
              "outlinewidth": 0,
              "ticks": ""
             }
            },
            "type": "scattermapbox"
           }
          ],
          "scatterpolar": [
           {
            "marker": {
             "colorbar": {
              "outlinewidth": 0,
              "ticks": ""
             }
            },
            "type": "scatterpolar"
           }
          ],
          "scatterpolargl": [
           {
            "marker": {
             "colorbar": {
              "outlinewidth": 0,
              "ticks": ""
             }
            },
            "type": "scatterpolargl"
           }
          ],
          "scatterternary": [
           {
            "marker": {
             "colorbar": {
              "outlinewidth": 0,
              "ticks": ""
             }
            },
            "type": "scatterternary"
           }
          ],
          "surface": [
           {
            "colorbar": {
             "outlinewidth": 0,
             "ticks": ""
            },
            "colorscale": [
             [
              0,
              "#0d0887"
             ],
             [
              0.1111111111111111,
              "#46039f"
             ],
             [
              0.2222222222222222,
              "#7201a8"
             ],
             [
              0.3333333333333333,
              "#9c179e"
             ],
             [
              0.4444444444444444,
              "#bd3786"
             ],
             [
              0.5555555555555556,
              "#d8576b"
             ],
             [
              0.6666666666666666,
              "#ed7953"
             ],
             [
              0.7777777777777778,
              "#fb9f3a"
             ],
             [
              0.8888888888888888,
              "#fdca26"
             ],
             [
              1,
              "#f0f921"
             ]
            ],
            "type": "surface"
           }
          ],
          "table": [
           {
            "cells": {
             "fill": {
              "color": "#EBF0F8"
             },
             "line": {
              "color": "white"
             }
            },
            "header": {
             "fill": {
              "color": "#C8D4E3"
             },
             "line": {
              "color": "white"
             }
            },
            "type": "table"
           }
          ]
         },
         "layout": {
          "annotationdefaults": {
           "arrowcolor": "#2a3f5f",
           "arrowhead": 0,
           "arrowwidth": 1
          },
          "autotypenumbers": "strict",
          "coloraxis": {
           "colorbar": {
            "outlinewidth": 0,
            "ticks": ""
           }
          },
          "colorscale": {
           "diverging": [
            [
             0,
             "#8e0152"
            ],
            [
             0.1,
             "#c51b7d"
            ],
            [
             0.2,
             "#de77ae"
            ],
            [
             0.3,
             "#f1b6da"
            ],
            [
             0.4,
             "#fde0ef"
            ],
            [
             0.5,
             "#f7f7f7"
            ],
            [
             0.6,
             "#e6f5d0"
            ],
            [
             0.7,
             "#b8e186"
            ],
            [
             0.8,
             "#7fbc41"
            ],
            [
             0.9,
             "#4d9221"
            ],
            [
             1,
             "#276419"
            ]
           ],
           "sequential": [
            [
             0,
             "#0d0887"
            ],
            [
             0.1111111111111111,
             "#46039f"
            ],
            [
             0.2222222222222222,
             "#7201a8"
            ],
            [
             0.3333333333333333,
             "#9c179e"
            ],
            [
             0.4444444444444444,
             "#bd3786"
            ],
            [
             0.5555555555555556,
             "#d8576b"
            ],
            [
             0.6666666666666666,
             "#ed7953"
            ],
            [
             0.7777777777777778,
             "#fb9f3a"
            ],
            [
             0.8888888888888888,
             "#fdca26"
            ],
            [
             1,
             "#f0f921"
            ]
           ],
           "sequentialminus": [
            [
             0,
             "#0d0887"
            ],
            [
             0.1111111111111111,
             "#46039f"
            ],
            [
             0.2222222222222222,
             "#7201a8"
            ],
            [
             0.3333333333333333,
             "#9c179e"
            ],
            [
             0.4444444444444444,
             "#bd3786"
            ],
            [
             0.5555555555555556,
             "#d8576b"
            ],
            [
             0.6666666666666666,
             "#ed7953"
            ],
            [
             0.7777777777777778,
             "#fb9f3a"
            ],
            [
             0.8888888888888888,
             "#fdca26"
            ],
            [
             1,
             "#f0f921"
            ]
           ]
          },
          "colorway": [
           "#636efa",
           "#EF553B",
           "#00cc96",
           "#ab63fa",
           "#FFA15A",
           "#19d3f3",
           "#FF6692",
           "#B6E880",
           "#FF97FF",
           "#FECB52"
          ],
          "font": {
           "color": "#2a3f5f"
          },
          "geo": {
           "bgcolor": "white",
           "lakecolor": "white",
           "landcolor": "#E5ECF6",
           "showlakes": true,
           "showland": true,
           "subunitcolor": "white"
          },
          "hoverlabel": {
           "align": "left"
          },
          "hovermode": "closest",
          "mapbox": {
           "style": "light"
          },
          "paper_bgcolor": "white",
          "plot_bgcolor": "#E5ECF6",
          "polar": {
           "angularaxis": {
            "gridcolor": "white",
            "linecolor": "white",
            "ticks": ""
           },
           "bgcolor": "#E5ECF6",
           "radialaxis": {
            "gridcolor": "white",
            "linecolor": "white",
            "ticks": ""
           }
          },
          "scene": {
           "xaxis": {
            "backgroundcolor": "#E5ECF6",
            "gridcolor": "white",
            "gridwidth": 2,
            "linecolor": "white",
            "showbackground": true,
            "ticks": "",
            "zerolinecolor": "white"
           },
           "yaxis": {
            "backgroundcolor": "#E5ECF6",
            "gridcolor": "white",
            "gridwidth": 2,
            "linecolor": "white",
            "showbackground": true,
            "ticks": "",
            "zerolinecolor": "white"
           },
           "zaxis": {
            "backgroundcolor": "#E5ECF6",
            "gridcolor": "white",
            "gridwidth": 2,
            "linecolor": "white",
            "showbackground": true,
            "ticks": "",
            "zerolinecolor": "white"
           }
          },
          "shapedefaults": {
           "line": {
            "color": "#2a3f5f"
           }
          },
          "ternary": {
           "aaxis": {
            "gridcolor": "white",
            "linecolor": "white",
            "ticks": ""
           },
           "baxis": {
            "gridcolor": "white",
            "linecolor": "white",
            "ticks": ""
           },
           "bgcolor": "#E5ECF6",
           "caxis": {
            "gridcolor": "white",
            "linecolor": "white",
            "ticks": ""
           }
          },
          "title": {
           "x": 0.05
          },
          "xaxis": {
           "automargin": true,
           "gridcolor": "white",
           "linecolor": "white",
           "ticks": "",
           "title": {
            "standoff": 15
           },
           "zerolinecolor": "white",
           "zerolinewidth": 2
          },
          "yaxis": {
           "automargin": true,
           "gridcolor": "white",
           "linecolor": "white",
           "ticks": "",
           "title": {
            "standoff": 15
           },
           "zerolinecolor": "white",
           "zerolinewidth": 2
          }
         }
        },
        "title": {
         "text": "Model Metrics Comparison"
        },
        "width": 1200,
        "xaxis": {
         "title": {
          "text": "Metrics"
         }
        },
        "yaxis": {
         "title": {
          "text": "Metric Value"
         }
        }
       }
      }
     },
     "metadata": {},
     "output_type": "display_data"
    }
   ],
   "source": [
    "# Assuming 'r' is your list of dataframes\n",
    "# Sample structure for 'r'\n",
    "# r = [df1, df2, df3, ...]\n",
    "\n",
    "# Model names\n",
    "model_names = ['Arima', 'Lag LLama', 'Autoregressor']\n",
    "\n",
    "# Extracting summary statistics for each model\n",
    "summary_stats = {'model': [], 'metric': [], 'mean': [], 'median': [], 'std': []}\n",
    "metrics = ['r2', 'mse', 'mae', 'rmse', 'mda']\n",
    "\n",
    "for i, df in enumerate(s):\n",
    "    for metric in metrics:\n",
    "        summary_stats['model'].append(model_names[i])\n",
    "        summary_stats['metric'].append(metric)\n",
    "        summary_stats['mean'].append(df.loc['mean', metric])\n",
    "        summary_stats['median'].append(df.loc['median', metric])\n",
    "        summary_stats['std'].append(df.loc['std', metric])\n",
    "\n",
    "summary_df = pd.DataFrame(summary_stats)\n",
    "\n",
    "# Plotting\n",
    "fig = go.Figure()\n",
    "\n",
    "for model in model_names:\n",
    "    for metric in metrics:\n",
    "        # mse is too large for every model, so it hinders visualization\n",
    "        if metric == \"mse\":\n",
    "            continue\n",
    "\n",
    "        metric_data = summary_df[(summary_df['model'] == model) & (summary_df['metric'] == metric)]\n",
    "        fig.add_trace(go.Bar(\n",
    "            x=[metric],\n",
    "            y=metric_data['mean'],\n",
    "            error_y=dict(type='data', array=metric_data['std'], visible=True),\n",
    "            name=f'{model} Mean of {metric.upper()}',\n",
    "            hovertext=f'{model}',\n",
    "            hoverinfo='text+y',\n",
    "            legendgroup=model\n",
    "        ))\n",
    "\n",
    "        # Adding median as a thick black line\n",
    "        fig.add_trace(go.Scatter(\n",
    "            x=[metric],\n",
    "            y=metric_data['median'],\n",
    "            mode='markers',\n",
    "            marker=dict(color='black', size=10, symbol='line-ns-open'),\n",
    "            name=f'{model} Median of {metric.upper()}',\n",
    "            hoverinfo='skip',\n",
    "            legendgroup=model,\n",
    "            showlegend=False\n",
    "        ))\n",
    "\n",
    "# Updating layout\n",
    "fig.update_layout(\n",
    "    title='Model Metrics Comparison',\n",
    "    barmode='group',\n",
    "    xaxis=dict(title='Metrics'),\n",
    "    yaxis=dict(title='Metric Value'),\n",
    "    legend=dict(orientation='h', y=-0.2),\n",
    "    height=800,\n",
    "    width=1200\n",
    ")\n",
    "\n",
    "fig.show()\n"
   ]
  },
  {
   "cell_type": "code",
   "execution_count": 17,
   "metadata": {},
   "outputs": [
    {
     "data": {
      "text/html": [
       "\n",
       "        <iframe\n",
       "            width=\"100%\"\n",
       "            height=\"650\"\n",
       "            src=\"http://127.0.0.1:8050/\"\n",
       "            frameborder=\"0\"\n",
       "            allowfullscreen\n",
       "            \n",
       "        ></iframe>\n",
       "        "
      ],
      "text/plain": [
       "<IPython.lib.display.IFrame at 0x27726cbe250>"
      ]
     },
     "metadata": {},
     "output_type": "display_data"
    }
   ],
   "source": [
    "# Model names\n",
    "model_names = ['Arima', 'Lag LLama', 'Autoregressor']\n",
    "\n",
    "# Extracting summary statistics for each model\n",
    "summary_stats = {'model': [], 'metric': [], 'mean': [], 'median': [], 'std': []}\n",
    "metrics = ['r2', 'mse', 'mae', 'rmse', 'mda']\n",
    "\n",
    "for i, df in enumerate(s):\n",
    "    for metric in metrics:\n",
    "        summary_stats['model'].append(model_names[i])\n",
    "        summary_stats['metric'].append(metric)\n",
    "        summary_stats['mean'].append(df.loc['mean', metric])\n",
    "        summary_stats['median'].append(df.loc['median', metric])\n",
    "        summary_stats['std'].append(df.loc['std', metric])\n",
    "\n",
    "summary_df = pd.DataFrame(summary_stats)\n",
    "\n",
    "app = dash.Dash(__name__)\n",
    "\n",
    "app.layout = html.Div([\n",
    "    html.H1(\"Model Metrics Comparison\"),\n",
    "    html.Div([\n",
    "        html.Label('Select Metrics:'),\n",
    "        dcc.Dropdown(\n",
    "            id='metric-selector',\n",
    "            options=[{'label': metric.upper(), 'value': metric} for metric in metrics],\n",
    "            value=metrics,\n",
    "            multi=True\n",
    "        ),\n",
    "        html.Label('Select Models:'),\n",
    "        dcc.Dropdown(\n",
    "            id='model-selector',\n",
    "            options=[{'label': model, 'value': model} for model in model_names],\n",
    "            value=model_names,\n",
    "            multi=True\n",
    "        )\n",
    "    ], style={'width': '50%', 'display': 'inline-block'}),\n",
    "    dcc.Graph(id='metric-graph')\n",
    "])\n",
    "\n",
    "@app.callback(\n",
    "    Output('metric-graph', 'figure'),\n",
    "    [Input('metric-selector', 'value'),\n",
    "     Input('model-selector', 'value')]\n",
    ")\n",
    "def update_graph(selected_metrics, selected_models):\n",
    "    fig = go.Figure()\n",
    "\n",
    "    model_color_map = {\n",
    "        'Arima': 'red',\n",
    "        'Lag LLama': 'green',\n",
    "        'Autoregressor': 'blue'\n",
    "    }\n",
    "\n",
    "    for metric in selected_metrics:\n",
    "        for model in selected_models:\n",
    "            metric_data = summary_df[(summary_df['model'] == model) & (summary_df['metric'] == metric)]\n",
    "            color = model_color_map[model]\n",
    "\n",
    "            fig.add_trace(go.Bar(\n",
    "                x=[metric.upper()],\n",
    "                y=metric_data['mean'],\n",
    "                error_y=dict(type='data', array=metric_data['std'], visible=True),\n",
    "                name=f'{model} Mean',\n",
    "                hovertext=f'{model} - {metric.upper()}',\n",
    "                hoverinfo='text+y',\n",
    "                legendgroup=model,\n",
    "                marker_color=color,\n",
    "                offsetgroup=model\n",
    "            ))\n",
    "\n",
    "            # Adding median as a thick black line\n",
    "            fig.add_trace(go.Scatter(\n",
    "                x=[metric.upper()],\n",
    "                y=metric_data['median'],\n",
    "                mode='markers',\n",
    "                marker=dict(color='black', size=10, symbol='line-ns-open'),\n",
    "                name=f'{model} Median',\n",
    "                hoverinfo='skip',\n",
    "                legendgroup=model,\n",
    "                showlegend=False,\n",
    "                offsetgroup=model\n",
    "            ))\n",
    "\n",
    "    # Updating layout\n",
    "    fig.update_layout(\n",
    "        title='Model Metrics Comparison',\n",
    "        barmode='group',\n",
    "        xaxis=dict(title='Metrics', categoryorder='array', categoryarray=[metric.upper() for metric in selected_metrics]),\n",
    "        yaxis=dict(title='Metric Value'),\n",
    "        legend=dict(orientation='h', y=-0.2),\n",
    "        height=800,\n",
    "        width=1200\n",
    "    )\n",
    "\n",
    "    return fig\n",
    "\n",
    "if __name__ == '__main__':\n",
    "    app.run_server(debug=True)\n"
   ]
  },
  {
   "cell_type": "code",
   "execution_count": 18,
   "metadata": {},
   "outputs": [
    {
     "data": {
      "application/vnd.plotly.v1+json": {
       "config": {
        "plotlyServerURL": "https://plot.ly"
       },
       "data": [
        {
         "mode": "lines+markers",
         "name": "Arima Fold 0",
         "type": "scatter",
         "visible": true,
         "x": [
          1,
          2,
          3,
          4,
          5
         ],
         "y": [
          0.005508153043709438,
          0,
          0,
          0,
          0
         ]
        },
        {
         "mode": "lines+markers",
         "name": "Arima Fold 1",
         "type": "scatter",
         "visible": false,
         "x": [
          1,
          2,
          3,
          4,
          5
         ],
         "y": [
          -0.00036096383475171204,
          0,
          0,
          0,
          0
         ]
        },
        {
         "mode": "lines+markers",
         "name": "Arima Fold 2",
         "type": "scatter",
         "visible": false,
         "x": [
          1,
          2,
          3,
          4,
          5
         ],
         "y": [
          0.0011305903744654807,
          0,
          0,
          0,
          0
         ]
        },
        {
         "mode": "lines+markers",
         "name": "Arima Fold 3",
         "type": "scatter",
         "visible": false,
         "x": [
          1,
          2,
          3,
          4,
          5
         ],
         "y": [
          -0.002020359485470432,
          0,
          0,
          0,
          0
         ]
        },
        {
         "mode": "lines+markers",
         "name": "Arima Fold 4",
         "type": "scatter",
         "visible": false,
         "x": [
          1,
          2,
          3,
          4,
          5
         ],
         "y": [
          0.00015252667035594808,
          0,
          0,
          0,
          0
         ]
        },
        {
         "mode": "lines+markers",
         "name": "Arima Fold 5",
         "type": "scatter",
         "visible": false,
         "x": [
          1,
          2,
          3,
          4,
          5
         ],
         "y": [
          0.0017965930940203765,
          0,
          0,
          0,
          0
         ]
        },
        {
         "mode": "lines+markers",
         "name": "Arima Fold 6",
         "type": "scatter",
         "visible": false,
         "x": [
          1,
          2,
          3,
          4,
          5
         ],
         "y": [
          -0.0028501044056738274,
          0.0015790400669453072,
          -0.0008748337527758578,
          0.00048468313820335715,
          -0.0002685284417905206
         ]
        },
        {
         "mode": "lines+markers",
         "name": "Arima Fold 7",
         "type": "scatter",
         "visible": false,
         "x": [
          1,
          2,
          3,
          4,
          5
         ],
         "y": [
          0.0037063422511597315,
          -0.0019107236114334586,
          0.0009850317299075514,
          -0.0005078115448611307,
          0.00026179112536654054
         ]
        },
        {
         "mode": "lines+markers",
         "name": "Arima Fold 8",
         "type": "scatter",
         "visible": false,
         "x": [
          1,
          2,
          3,
          4,
          5
         ],
         "y": [
          -0.0027168168391779046,
          0.0013877786534315908,
          -0.0007088919514733191,
          0.0003621094744619677,
          -0.00018496933308750874
         ]
        },
        {
         "mode": "lines+markers",
         "name": "Arima Fold 9",
         "type": "scatter",
         "visible": false,
         "x": [
          1,
          2,
          3,
          4,
          5
         ],
         "y": [
          -0.0032676668511900007,
          0.0016124253707634666,
          -0.0007956489124143363,
          0.0003926117780734064,
          -0.00019373370072765312
         ]
        },
        {
         "mode": "lines+markers",
         "name": "Arima Fold 10",
         "type": "scatter",
         "visible": false,
         "x": [
          1,
          2,
          3,
          4,
          5
         ],
         "y": [
          -0.000024870715425959113,
          0.000012604092694341535,
          -0.00000638755861770419,
          0.0000032371156007860975,
          -0.000001640519960757567
         ]
        },
        {
         "mode": "lines+markers",
         "name": "Arima Fold 11",
         "type": "scatter",
         "visible": false,
         "x": [
          1,
          2,
          3,
          4,
          5
         ],
         "y": [
          -0.000157311851913467,
          0.00008120183609235721,
          -0.00004191507572104029,
          0.000021635884817953022,
          -0.00001116809414758495
         ]
        },
        {
         "mode": "lines+markers",
         "name": "Arima Fold 12",
         "type": "scatter",
         "visible": false,
         "x": [
          1,
          2,
          3,
          4,
          5
         ],
         "y": [
          -0.0006579022021639843,
          0.00033651279652478495,
          -0.0001721241574392932,
          0.00008804041296540862,
          -0.0000450321118803643
         ]
        },
        {
         "mode": "lines+markers",
         "name": "Arima Fold 13",
         "type": "scatter",
         "visible": false,
         "x": [
          1,
          2,
          3,
          4,
          5
         ],
         "y": [
          0.0013372155316449873,
          0,
          0,
          0,
          0
         ]
        },
        {
         "mode": "lines+markers",
         "name": "Arima Fold 14",
         "type": "scatter",
         "visible": false,
         "x": [
          1,
          2,
          3,
          4,
          5
         ],
         "y": [
          0.0014504791700564344,
          0,
          0,
          0,
          0
         ]
        },
        {
         "mode": "lines+markers",
         "name": "Arima Fold 15",
         "type": "scatter",
         "visible": false,
         "x": [
          1,
          2,
          3,
          4,
          5
         ],
         "y": [
          -0.0004201700213782814,
          0,
          0,
          0,
          0
         ]
        },
        {
         "mode": "lines+markers",
         "name": "Arima Fold 16",
         "type": "scatter",
         "visible": false,
         "x": [
          1,
          2,
          3,
          4,
          5
         ],
         "y": [
          0.003088386131878393,
          0,
          0,
          0,
          0
         ]
        },
        {
         "mode": "lines+markers",
         "name": "Arima Fold 17",
         "type": "scatter",
         "visible": false,
         "x": [
          1,
          2,
          3,
          4,
          5
         ],
         "y": [
          0.0001428563958427471,
          0,
          0,
          0,
          0
         ]
        },
        {
         "mode": "lines+markers",
         "name": "Arima Fold 18",
         "type": "scatter",
         "visible": false,
         "x": [
          1,
          2,
          3,
          4,
          5
         ],
         "y": [
          0.00008537741731418154,
          0,
          0,
          0,
          0
         ]
        },
        {
         "mode": "lines+markers",
         "name": "Arima Fold 19",
         "type": "scatter",
         "visible": false,
         "x": [
          1,
          2,
          3,
          4,
          5
         ],
         "y": [
          -0.0004968863648357996,
          0,
          0,
          0,
          0
         ]
        },
        {
         "mode": "lines+markers",
         "name": "Lag llama Fold 0",
         "type": "scatter",
         "visible": true,
         "x": [
          1,
          2,
          3,
          4,
          5
         ],
         "y": [
          0.023135046716779472,
          0.023135046794560257,
          0.023135046660949607,
          0.02313504718310213,
          0.02313504708697494
         ]
        },
        {
         "mode": "lines+markers",
         "name": "Lag llama Fold 1",
         "type": "scatter",
         "visible": false,
         "x": [
          1,
          2,
          3,
          4,
          5
         ],
         "y": [
          0.030273168860003353,
          0.03027316883536611,
          0.030273168815647268,
          0.030273167039531645,
          0.0302731668487083
         ]
        },
        {
         "mode": "lines+markers",
         "name": "Lag llama Fold 2",
         "type": "scatter",
         "visible": false,
         "x": [
          1,
          2,
          3,
          4,
          5
         ],
         "y": [
          0.017224652422592045,
          0.017224652368035224,
          0.017224652166282484,
          0.017224652002879925,
          0.017224654122143624
         ]
        },
        {
         "mode": "lines+markers",
         "name": "Lag llama Fold 3",
         "type": "scatter",
         "visible": false,
         "x": [
          1,
          2,
          3,
          4,
          5
         ],
         "y": [
          0.022058736123144625,
          0.022058736049077453,
          0.022058735698770753,
          0.02205873632098164,
          0.022058740197795693
         ]
        },
        {
         "mode": "lines+markers",
         "name": "Lag llama Fold 4",
         "type": "scatter",
         "visible": false,
         "x": [
          1,
          2,
          3,
          4,
          5
         ],
         "y": [
          0.02872914376668632,
          0.028729143771369755,
          0.02872914367179868,
          0.028729143915098065,
          0.02872914444437261
         ]
        },
        {
         "mode": "lines+markers",
         "name": "Lag llama Fold 5",
         "type": "scatter",
         "visible": false,
         "x": [
          1,
          2,
          3,
          4,
          5
         ],
         "y": [
          0.03212330129928887,
          0.03212330126519738,
          0.03212330097122744,
          0.0321233003401056,
          0.03212330105936987
         ]
        },
        {
         "mode": "lines+markers",
         "name": "Lag llama Fold 6",
         "type": "scatter",
         "visible": false,
         "x": [
          1,
          2,
          3,
          4,
          5
         ],
         "y": [
          0.02123559239320457,
          0.021235592408667427,
          0.021235592325801675,
          0.021235592560608186,
          0.021235594589022598
         ]
        },
        {
         "mode": "lines+markers",
         "name": "Lag llama Fold 7",
         "type": "scatter",
         "visible": false,
         "x": [
          1,
          2,
          3,
          4,
          5
         ],
         "y": [
          0.027487577013671396,
          0.02748757697839759,
          0.027487576554987535,
          0.027487577283633234,
          0.027487577057184145
         ]
        },
        {
         "mode": "lines+markers",
         "name": "Lag llama Fold 8",
         "type": "scatter",
         "visible": false,
         "x": [
          1,
          2,
          3,
          4,
          5
         ],
         "y": [
          0.018438906697556375,
          0.018438906741358303,
          0.018438906596575926,
          0.018438906377162393,
          0.01843890664073815
         ]
        },
        {
         "mode": "lines+markers",
         "name": "Lag llama Fold 9",
         "type": "scatter",
         "visible": false,
         "x": [
          1,
          2,
          3,
          4,
          5
         ],
         "y": [
          0.025612019319087267,
          0.02561201929872172,
          0.025612018971045522,
          0.02561201813531897,
          0.025612017432955526
         ]
        },
        {
         "mode": "lines+markers",
         "name": "Lag llama Fold 10",
         "type": "scatter",
         "visible": false,
         "x": [
          1,
          2,
          3,
          4,
          5
         ],
         "y": [
          0.024518185751512645,
          0.02451818582987164,
          0.024518185854325664,
          0.024518186314332686,
          0.024518186887345205
         ]
        },
        {
         "mode": "lines+markers",
         "name": "Lag llama Fold 11",
         "type": "scatter",
         "visible": false,
         "x": [
          1,
          2,
          3,
          4,
          5
         ],
         "y": [
          0.02405116512440145,
          0.02405116504516266,
          0.024051165462221465,
          0.024051165934904913,
          0.024051162771503716
         ]
        },
        {
         "mode": "lines+markers",
         "name": "Lag llama Fold 12",
         "type": "scatter",
         "visible": false,
         "x": [
          1,
          2,
          3,
          4,
          5
         ],
         "y": [
          0.027047756696119904,
          0.02704775665062102,
          0.0270477562595072,
          0.027047755850660916,
          0.027047755679046822
         ]
        },
        {
         "mode": "lines+markers",
         "name": "Lag llama Fold 13",
         "type": "scatter",
         "visible": false,
         "x": [
          1,
          2,
          3,
          4,
          5
         ],
         "y": [
          0.02400602892972529,
          0.024006028911698733,
          0.024006028514786105,
          0.024006029967661043,
          0.024006030093658325
         ]
        },
        {
         "mode": "lines+markers",
         "name": "Lag llama Fold 14",
         "type": "scatter",
         "visible": false,
         "x": [
          1,
          2,
          3,
          4,
          5
         ],
         "y": [
          0.02094182142056525,
          0.02094182137080951,
          0.020941821410993815,
          0.020941820425826554,
          0.020941820096639745
         ]
        },
        {
         "mode": "lines+markers",
         "name": "Lag llama Fold 15",
         "type": "scatter",
         "visible": false,
         "x": [
          1,
          2,
          3,
          4,
          5
         ],
         "y": [
          0.029200147790834307,
          0.02920014780272202,
          0.02920014761365808,
          0.02920014799047746,
          0.029200146712133727
         ]
        },
        {
         "mode": "lines+markers",
         "name": "Lag llama Fold 16",
         "type": "scatter",
         "visible": false,
         "x": [
          1,
          2,
          3,
          4,
          5
         ],
         "y": [
          0.024882533522322774,
          0.0248825335005343,
          0.02488253327528118,
          0.024882531991617895,
          0.024882531983050186
         ]
        },
        {
         "mode": "lines+markers",
         "name": "Lag llama Fold 17",
         "type": "scatter",
         "visible": false,
         "x": [
          1,
          2,
          3,
          4,
          5
         ],
         "y": [
          0.027928889906033875,
          0.027928889956956925,
          0.027928890111452085,
          0.027928889946814365,
          0.027928891638781803
         ]
        },
        {
         "mode": "lines+markers",
         "name": "Lag llama Fold 18",
         "type": "scatter",
         "visible": false,
         "x": [
          1,
          2,
          3,
          4,
          5
         ],
         "y": [
          0.023589678518474103,
          0.0235896784878412,
          0.023589678180515536,
          0.023589676468041953,
          0.023589676156815242
         ]
        },
        {
         "mode": "lines+markers",
         "name": "Lag llama Fold 19",
         "type": "scatter",
         "visible": false,
         "x": [
          1,
          2,
          3,
          4,
          5
         ],
         "y": [
          0.01788439989089966,
          0.017884399882471858,
          0.017884399558599856,
          0.017884400056714215,
          0.01788440108313357
         ]
        },
        {
         "mode": "lines+markers",
         "name": "Autoregressor Fold 0",
         "type": "scatter",
         "visible": true,
         "x": [
          1,
          2,
          3,
          4,
          5
         ],
         "y": [
          0.016804986835238,
          0.016804986835238,
          0.016804986835238,
          0.016804986835238,
          0.016804986835238
         ]
        },
        {
         "mode": "lines+markers",
         "name": "Autoregressor Fold 1",
         "type": "scatter",
         "visible": false,
         "x": [
          1,
          2,
          3,
          4,
          5
         ],
         "y": [
          -0.0008930951168661,
          -0.0008930951168661,
          -0.0008930951168661,
          -0.0008930951168661,
          -0.0008930951168661
         ]
        },
        {
         "mode": "lines+markers",
         "name": "Autoregressor Fold 2",
         "type": "scatter",
         "visible": false,
         "x": [
          1,
          2,
          3,
          4,
          5
         ],
         "y": [
          0.0020636077238871,
          0.0020636077238871,
          0.0020636077238871,
          0.0020636077238871,
          0.0020636077238871
         ]
        },
        {
         "mode": "lines+markers",
         "name": "Autoregressor Fold 3",
         "type": "scatter",
         "visible": false,
         "x": [
          1,
          2,
          3,
          4,
          5
         ],
         "y": [
          -0.0099395477142053,
          -0.0099395477142053,
          -0.0099395477142053,
          -0.0099395477142053,
          -0.0099395477142053
         ]
        },
        {
         "mode": "lines+markers",
         "name": "Autoregressor Fold 4",
         "type": "scatter",
         "visible": false,
         "x": [
          1,
          2,
          3,
          4,
          5
         ],
         "y": [
          -0.0005399114178492,
          -0.0005399114178492,
          -0.0005399114178492,
          -0.0005399114178492,
          -0.0005399114178492
         ]
        },
        {
         "mode": "lines+markers",
         "name": "Autoregressor Fold 5",
         "type": "scatter",
         "visible": false,
         "x": [
          1,
          2,
          3,
          4,
          5
         ],
         "y": [
          0.0037370449930163,
          0.0037370449930163,
          0.0037370449930163,
          0.0037370449930163,
          0.0037370449930163
         ]
        },
        {
         "mode": "lines+markers",
         "name": "Autoregressor Fold 6",
         "type": "scatter",
         "visible": false,
         "x": [
          1,
          2,
          3,
          4,
          5
         ],
         "y": [
          -0.0068537034262768,
          -0.0068537034262768,
          -0.0068537034262768,
          -0.0068537034262768,
          -0.0068537034262768
         ]
        },
        {
         "mode": "lines+markers",
         "name": "Autoregressor Fold 7",
         "type": "scatter",
         "visible": false,
         "x": [
          1,
          2,
          3,
          4,
          5
         ],
         "y": [
          0.007926506808213,
          0.007926506808213,
          0.007926506808213,
          0.007926506808213,
          0.007926506808213
         ]
        },
        {
         "mode": "lines+markers",
         "name": "Autoregressor Fold 8",
         "type": "scatter",
         "visible": false,
         "x": [
          1,
          2,
          3,
          4,
          5
         ],
         "y": [
          -0.0024679457509713,
          -0.0024679457509713,
          -0.0024679457509713,
          -0.0024679457509713,
          -0.0024679457509713
         ]
        },
        {
         "mode": "lines+markers",
         "name": "Autoregressor Fold 9",
         "type": "scatter",
         "visible": false,
         "x": [
          1,
          2,
          3,
          4,
          5
         ],
         "y": [
          -0.003662337155701,
          -0.003662337155701,
          -0.003662337155701,
          -0.003662337155701,
          -0.003662337155701
         ]
        },
        {
         "mode": "lines+markers",
         "name": "Autoregressor Fold 10",
         "type": "scatter",
         "visible": false,
         "x": [
          1,
          2,
          3,
          4,
          5
         ],
         "y": [
          -0.0039263495974808,
          -0.0039263495974808,
          -0.0039263495974808,
          -0.0039263495974808,
          -0.0039263495974808
         ]
        },
        {
         "mode": "lines+markers",
         "name": "Autoregressor Fold 11",
         "type": "scatter",
         "visible": false,
         "x": [
          1,
          2,
          3,
          4,
          5
         ],
         "y": [
          0.0013145903472588,
          0.0013145903472588,
          0.0013145903472588,
          0.0013145903472588,
          0.0013145903472588
         ]
        },
        {
         "mode": "lines+markers",
         "name": "Autoregressor Fold 12",
         "type": "scatter",
         "visible": false,
         "x": [
          1,
          2,
          3,
          4,
          5
         ],
         "y": [
          -0.0028999036576621,
          -0.0028999036576621,
          -0.0028999036576621,
          -0.0028999036576621,
          -0.0028999036576621
         ]
        },
        {
         "mode": "lines+markers",
         "name": "Autoregressor Fold 13",
         "type": "scatter",
         "visible": false,
         "x": [
          1,
          2,
          3,
          4,
          5
         ],
         "y": [
          0.0069377065486386,
          0.0069377065486386,
          0.0069377065486386,
          0.0069377065486386,
          0.0069377065486386
         ]
        },
        {
         "mode": "lines+markers",
         "name": "Autoregressor Fold 14",
         "type": "scatter",
         "visible": false,
         "x": [
          1,
          2,
          3,
          4,
          5
         ],
         "y": [
          0.0091353491156513,
          0.0091353491156513,
          0.0091353491156513,
          0.0091353491156513,
          0.0091353491156513
         ]
        },
        {
         "mode": "lines+markers",
         "name": "Autoregressor Fold 15",
         "type": "scatter",
         "visible": false,
         "x": [
          1,
          2,
          3,
          4,
          5
         ],
         "y": [
          -0.0018633989200746,
          -0.0018633989200746,
          -0.0018633989200746,
          -0.0018633989200746,
          -0.0018633989200746
         ]
        },
        {
         "mode": "lines+markers",
         "name": "Autoregressor Fold 16",
         "type": "scatter",
         "visible": false,
         "x": [
          1,
          2,
          3,
          4,
          5
         ],
         "y": [
          0.0174912055112015,
          0.0174912055112015,
          0.0174912055112015,
          0.0174912055112015,
          0.0174912055112015
         ]
        },
        {
         "mode": "lines+markers",
         "name": "Autoregressor Fold 17",
         "type": "scatter",
         "visible": false,
         "x": [
          1,
          2,
          3,
          4,
          5
         ],
         "y": [
          0.0007547088521433,
          0.0007547088521433,
          0.0007547088521433,
          0.0007547088521433,
          0.0007547088521433
         ]
        },
        {
         "mode": "lines+markers",
         "name": "Autoregressor Fold 18",
         "type": "scatter",
         "visible": false,
         "x": [
          1,
          2,
          3,
          4,
          5
         ],
         "y": [
          0.0003527062423818,
          0.0003527062423818,
          0.0003527062423818,
          0.0003527062423818,
          0.0003527062423818
         ]
        },
        {
         "mode": "lines+markers",
         "name": "Autoregressor Fold 19",
         "type": "scatter",
         "visible": false,
         "x": [
          1,
          2,
          3,
          4,
          5
         ],
         "y": [
          -0.0026911368155128,
          -0.0026911368155128,
          -0.0026911368155128,
          -0.0026911368155128,
          -0.0026911368155128
         ]
        },
        {
         "mode": "lines+markers",
         "name": "Actual Fold 0",
         "type": "scatter",
         "visible": true,
         "x": [
          1,
          2,
          3,
          4,
          5
         ],
         "y": [
          0.0011110902411464,
          0.0009637805703557,
          0.0059112130681306,
          0.0024331960401966,
          -0.0008930951168661
         ]
        },
        {
         "mode": "lines+markers",
         "name": "Actual Fold 1",
         "type": "scatter",
         "visible": false,
         "x": [
          1,
          2,
          3,
          4,
          5
         ],
         "y": [
          -0.0066236944993938,
          -0.0064602884587694,
          -0.0044122286889333,
          -0.0053181535099948,
          0.0020636077238871
         ]
        },
        {
         "mode": "lines+markers",
         "name": "Actual Fold 2",
         "type": "scatter",
         "visible": false,
         "x": [
          1,
          2,
          3,
          4,
          5
         ],
         "y": [
          0.000294877557611,
          0.0043373275833571,
          -0.0012578104884646,
          -0.0127876165655298,
          -0.0099395477142053
         ]
        },
        {
         "mode": "lines+markers",
         "name": "Actual Fold 3",
         "type": "scatter",
         "visible": false,
         "x": [
          1,
          2,
          3,
          4,
          5
         ],
         "y": [
          -0.00004777132913380555,
          -0.0006919891081992,
          0.0031521080711107,
          -0.0017462901504891,
          -0.0005399114178492
         ]
        },
        {
         "mode": "lines+markers",
         "name": "Actual Fold 4",
         "type": "scatter",
         "visible": false,
         "x": [
          1,
          2,
          3,
          4,
          5
         ],
         "y": [
          0.0060130813754522,
          -4.3426947837765805e-7,
          0.0013281413982035,
          -0.0049266154185324,
          0.0037370449930163
         ]
        },
        {
         "mode": "lines+markers",
         "name": "Actual Fold 5",
         "type": "scatter",
         "visible": false,
         "x": [
          1,
          2,
          3,
          4,
          5
         ],
         "y": [
          -0.0020157131983078,
          -0.0157304324085022,
          0.0091497478000888,
          0.0160785091892214,
          -0.0068537034262768
         ]
        },
        {
         "mode": "lines+markers",
         "name": "Actual Fold 6",
         "type": "scatter",
         "visible": false,
         "x": [
          1,
          2,
          3,
          4,
          5
         ],
         "y": [
          -0.0042909239181785,
          -0.003023783961622,
          -0.0024406629356228,
          -0.0033946330095969,
          0.007926506808213
         ]
        },
        {
         "mode": "lines+markers",
         "name": "Actual Fold 7",
         "type": "scatter",
         "visible": false,
         "x": [
          1,
          2,
          3,
          4,
          5
         ],
         "y": [
          -0.0004284536264225,
          0.0015325729041721,
          0.0003980495499402,
          0.0025938088889279,
          -0.0024679457509713
         ]
        },
        {
         "mode": "lines+markers",
         "name": "Actual Fold 8",
         "type": "scatter",
         "visible": false,
         "x": [
          1,
          2,
          3,
          4,
          5
         ],
         "y": [
          -0.0050637747933413,
          0.0157071902980621,
          0.0040026657613136,
          0.0053233641531615,
          -0.003662337155701
         ]
        },
        {
         "mode": "lines+markers",
         "name": "Actual Fold 9",
         "type": "scatter",
         "visible": false,
         "x": [
          1,
          2,
          3,
          4,
          5
         ],
         "y": [
          0.0036992346598296,
          -0.0050758696726468,
          -0.0006658396498424,
          0.0032376241423375,
          -0.0039263495974808
         ]
        },
        {
         "mode": "lines+markers",
         "name": "Actual Fold 10",
         "type": "scatter",
         "visible": false,
         "x": [
          1,
          2,
          3,
          4,
          5
         ],
         "y": [
          0.0041531148540523,
          0.0006780494978273,
          -0.0027102889301621,
          0.0019159639809067,
          0.0013145903472588
         ]
        },
        {
         "mode": "lines+markers",
         "name": "Actual Fold 11",
         "type": "scatter",
         "visible": false,
         "x": [
          1,
          2,
          3,
          4,
          5
         ],
         "y": [
          0.0024753574227547,
          -0.001397703375936,
          -0.0023327424117886,
          -0.00004631011163092058,
          -0.0028999036576621
         ]
        },
        {
         "mode": "lines+markers",
         "name": "Actual Fold 12",
         "type": "scatter",
         "visible": false,
         "x": [
          1,
          2,
          3,
          4,
          5
         ],
         "y": [
          -0.0007270486056217,
          -0.0114758731289174,
          0.0219362570808541,
          -0.0010067837558798,
          0.0069377065486386
         ]
        },
        {
         "mode": "lines+markers",
         "name": "Actual Fold 13",
         "type": "scatter",
         "visible": false,
         "x": [
          1,
          2,
          3,
          4,
          5
         ],
         "y": [
          0.0034608811750505,
          -0.0060726319425412,
          -0.0018523810452534,
          0.0055443062385498,
          0.0091353491156513
         ]
        },
        {
         "mode": "lines+markers",
         "name": "Actual Fold 14",
         "type": "scatter",
         "visible": false,
         "x": [
          1,
          2,
          3,
          4,
          5
         ],
         "y": [
          0.0036591529194944,
          -0.0015725902312138,
          0.0010722543177539,
          0.0028714899741963,
          -0.0018633989200746
         ]
        },
        {
         "mode": "lines+markers",
         "name": "Actual Fold 15",
         "type": "scatter",
         "visible": false,
         "x": [
          1,
          2,
          3,
          4,
          5
         ],
         "y": [
          0.0034149896032908,
          -0.0044924003099812,
          0.0033503536967471,
          0.0053835382823572,
          0.0174912055112015
         ]
        },
        {
         "mode": "lines+markers",
         "name": "Actual Fold 16",
         "type": "scatter",
         "visible": false,
         "x": [
          1,
          2,
          3,
          4,
          5
         ],
         "y": [
          -0.0020020608812456,
          0.0022249910879492,
          0.0005772350684125,
          -0.0004437812327801,
          0.0007547088521433
         ]
        },
        {
         "mode": "lines+markers",
         "name": "Actual Fold 17",
         "type": "scatter",
         "visible": false,
         "x": [
          1,
          2,
          3,
          4,
          5
         ],
         "y": [
          0.0039481829335363,
          -0.0049047793837042,
          0.0058170407475397,
          0.000044191275739402514,
          0.0003527062423818
         ]
        },
        {
         "mode": "lines+markers",
         "name": "Actual Fold 18",
         "type": "scatter",
         "visible": false,
         "x": [
          1,
          2,
          3,
          4,
          5
         ],
         "y": [
          0.0032219896890672,
          -0.0022214616581396,
          0.0042984949482358,
          0.0032045466100067,
          -0.0026911368155128
         ]
        },
        {
         "mode": "lines+markers",
         "name": "Actual Fold 19",
         "type": "scatter",
         "visible": false,
         "x": [
          1,
          2,
          3,
          4,
          5
         ],
         "y": [
          0.0011627115260282,
          -0.0007450178560872,
          0.0018859170428049,
          -0.0003502093775157,
          0.0014012614493537
         ]
        }
       ],
       "layout": {
        "height": 600,
        "template": {
         "data": {
          "bar": [
           {
            "error_x": {
             "color": "#2a3f5f"
            },
            "error_y": {
             "color": "#2a3f5f"
            },
            "marker": {
             "line": {
              "color": "#E5ECF6",
              "width": 0.5
             },
             "pattern": {
              "fillmode": "overlay",
              "size": 10,
              "solidity": 0.2
             }
            },
            "type": "bar"
           }
          ],
          "barpolar": [
           {
            "marker": {
             "line": {
              "color": "#E5ECF6",
              "width": 0.5
             },
             "pattern": {
              "fillmode": "overlay",
              "size": 10,
              "solidity": 0.2
             }
            },
            "type": "barpolar"
           }
          ],
          "carpet": [
           {
            "aaxis": {
             "endlinecolor": "#2a3f5f",
             "gridcolor": "white",
             "linecolor": "white",
             "minorgridcolor": "white",
             "startlinecolor": "#2a3f5f"
            },
            "baxis": {
             "endlinecolor": "#2a3f5f",
             "gridcolor": "white",
             "linecolor": "white",
             "minorgridcolor": "white",
             "startlinecolor": "#2a3f5f"
            },
            "type": "carpet"
           }
          ],
          "choropleth": [
           {
            "colorbar": {
             "outlinewidth": 0,
             "ticks": ""
            },
            "type": "choropleth"
           }
          ],
          "contour": [
           {
            "colorbar": {
             "outlinewidth": 0,
             "ticks": ""
            },
            "colorscale": [
             [
              0,
              "#0d0887"
             ],
             [
              0.1111111111111111,
              "#46039f"
             ],
             [
              0.2222222222222222,
              "#7201a8"
             ],
             [
              0.3333333333333333,
              "#9c179e"
             ],
             [
              0.4444444444444444,
              "#bd3786"
             ],
             [
              0.5555555555555556,
              "#d8576b"
             ],
             [
              0.6666666666666666,
              "#ed7953"
             ],
             [
              0.7777777777777778,
              "#fb9f3a"
             ],
             [
              0.8888888888888888,
              "#fdca26"
             ],
             [
              1,
              "#f0f921"
             ]
            ],
            "type": "contour"
           }
          ],
          "contourcarpet": [
           {
            "colorbar": {
             "outlinewidth": 0,
             "ticks": ""
            },
            "type": "contourcarpet"
           }
          ],
          "heatmap": [
           {
            "colorbar": {
             "outlinewidth": 0,
             "ticks": ""
            },
            "colorscale": [
             [
              0,
              "#0d0887"
             ],
             [
              0.1111111111111111,
              "#46039f"
             ],
             [
              0.2222222222222222,
              "#7201a8"
             ],
             [
              0.3333333333333333,
              "#9c179e"
             ],
             [
              0.4444444444444444,
              "#bd3786"
             ],
             [
              0.5555555555555556,
              "#d8576b"
             ],
             [
              0.6666666666666666,
              "#ed7953"
             ],
             [
              0.7777777777777778,
              "#fb9f3a"
             ],
             [
              0.8888888888888888,
              "#fdca26"
             ],
             [
              1,
              "#f0f921"
             ]
            ],
            "type": "heatmap"
           }
          ],
          "heatmapgl": [
           {
            "colorbar": {
             "outlinewidth": 0,
             "ticks": ""
            },
            "colorscale": [
             [
              0,
              "#0d0887"
             ],
             [
              0.1111111111111111,
              "#46039f"
             ],
             [
              0.2222222222222222,
              "#7201a8"
             ],
             [
              0.3333333333333333,
              "#9c179e"
             ],
             [
              0.4444444444444444,
              "#bd3786"
             ],
             [
              0.5555555555555556,
              "#d8576b"
             ],
             [
              0.6666666666666666,
              "#ed7953"
             ],
             [
              0.7777777777777778,
              "#fb9f3a"
             ],
             [
              0.8888888888888888,
              "#fdca26"
             ],
             [
              1,
              "#f0f921"
             ]
            ],
            "type": "heatmapgl"
           }
          ],
          "histogram": [
           {
            "marker": {
             "pattern": {
              "fillmode": "overlay",
              "size": 10,
              "solidity": 0.2
             }
            },
            "type": "histogram"
           }
          ],
          "histogram2d": [
           {
            "colorbar": {
             "outlinewidth": 0,
             "ticks": ""
            },
            "colorscale": [
             [
              0,
              "#0d0887"
             ],
             [
              0.1111111111111111,
              "#46039f"
             ],
             [
              0.2222222222222222,
              "#7201a8"
             ],
             [
              0.3333333333333333,
              "#9c179e"
             ],
             [
              0.4444444444444444,
              "#bd3786"
             ],
             [
              0.5555555555555556,
              "#d8576b"
             ],
             [
              0.6666666666666666,
              "#ed7953"
             ],
             [
              0.7777777777777778,
              "#fb9f3a"
             ],
             [
              0.8888888888888888,
              "#fdca26"
             ],
             [
              1,
              "#f0f921"
             ]
            ],
            "type": "histogram2d"
           }
          ],
          "histogram2dcontour": [
           {
            "colorbar": {
             "outlinewidth": 0,
             "ticks": ""
            },
            "colorscale": [
             [
              0,
              "#0d0887"
             ],
             [
              0.1111111111111111,
              "#46039f"
             ],
             [
              0.2222222222222222,
              "#7201a8"
             ],
             [
              0.3333333333333333,
              "#9c179e"
             ],
             [
              0.4444444444444444,
              "#bd3786"
             ],
             [
              0.5555555555555556,
              "#d8576b"
             ],
             [
              0.6666666666666666,
              "#ed7953"
             ],
             [
              0.7777777777777778,
              "#fb9f3a"
             ],
             [
              0.8888888888888888,
              "#fdca26"
             ],
             [
              1,
              "#f0f921"
             ]
            ],
            "type": "histogram2dcontour"
           }
          ],
          "mesh3d": [
           {
            "colorbar": {
             "outlinewidth": 0,
             "ticks": ""
            },
            "type": "mesh3d"
           }
          ],
          "parcoords": [
           {
            "line": {
             "colorbar": {
              "outlinewidth": 0,
              "ticks": ""
             }
            },
            "type": "parcoords"
           }
          ],
          "pie": [
           {
            "automargin": true,
            "type": "pie"
           }
          ],
          "scatter": [
           {
            "fillpattern": {
             "fillmode": "overlay",
             "size": 10,
             "solidity": 0.2
            },
            "type": "scatter"
           }
          ],
          "scatter3d": [
           {
            "line": {
             "colorbar": {
              "outlinewidth": 0,
              "ticks": ""
             }
            },
            "marker": {
             "colorbar": {
              "outlinewidth": 0,
              "ticks": ""
             }
            },
            "type": "scatter3d"
           }
          ],
          "scattercarpet": [
           {
            "marker": {
             "colorbar": {
              "outlinewidth": 0,
              "ticks": ""
             }
            },
            "type": "scattercarpet"
           }
          ],
          "scattergeo": [
           {
            "marker": {
             "colorbar": {
              "outlinewidth": 0,
              "ticks": ""
             }
            },
            "type": "scattergeo"
           }
          ],
          "scattergl": [
           {
            "marker": {
             "colorbar": {
              "outlinewidth": 0,
              "ticks": ""
             }
            },
            "type": "scattergl"
           }
          ],
          "scattermapbox": [
           {
            "marker": {
             "colorbar": {
              "outlinewidth": 0,
              "ticks": ""
             }
            },
            "type": "scattermapbox"
           }
          ],
          "scatterpolar": [
           {
            "marker": {
             "colorbar": {
              "outlinewidth": 0,
              "ticks": ""
             }
            },
            "type": "scatterpolar"
           }
          ],
          "scatterpolargl": [
           {
            "marker": {
             "colorbar": {
              "outlinewidth": 0,
              "ticks": ""
             }
            },
            "type": "scatterpolargl"
           }
          ],
          "scatterternary": [
           {
            "marker": {
             "colorbar": {
              "outlinewidth": 0,
              "ticks": ""
             }
            },
            "type": "scatterternary"
           }
          ],
          "surface": [
           {
            "colorbar": {
             "outlinewidth": 0,
             "ticks": ""
            },
            "colorscale": [
             [
              0,
              "#0d0887"
             ],
             [
              0.1111111111111111,
              "#46039f"
             ],
             [
              0.2222222222222222,
              "#7201a8"
             ],
             [
              0.3333333333333333,
              "#9c179e"
             ],
             [
              0.4444444444444444,
              "#bd3786"
             ],
             [
              0.5555555555555556,
              "#d8576b"
             ],
             [
              0.6666666666666666,
              "#ed7953"
             ],
             [
              0.7777777777777778,
              "#fb9f3a"
             ],
             [
              0.8888888888888888,
              "#fdca26"
             ],
             [
              1,
              "#f0f921"
             ]
            ],
            "type": "surface"
           }
          ],
          "table": [
           {
            "cells": {
             "fill": {
              "color": "#EBF0F8"
             },
             "line": {
              "color": "white"
             }
            },
            "header": {
             "fill": {
              "color": "#C8D4E3"
             },
             "line": {
              "color": "white"
             }
            },
            "type": "table"
           }
          ]
         },
         "layout": {
          "annotationdefaults": {
           "arrowcolor": "#2a3f5f",
           "arrowhead": 0,
           "arrowwidth": 1
          },
          "autotypenumbers": "strict",
          "coloraxis": {
           "colorbar": {
            "outlinewidth": 0,
            "ticks": ""
           }
          },
          "colorscale": {
           "diverging": [
            [
             0,
             "#8e0152"
            ],
            [
             0.1,
             "#c51b7d"
            ],
            [
             0.2,
             "#de77ae"
            ],
            [
             0.3,
             "#f1b6da"
            ],
            [
             0.4,
             "#fde0ef"
            ],
            [
             0.5,
             "#f7f7f7"
            ],
            [
             0.6,
             "#e6f5d0"
            ],
            [
             0.7,
             "#b8e186"
            ],
            [
             0.8,
             "#7fbc41"
            ],
            [
             0.9,
             "#4d9221"
            ],
            [
             1,
             "#276419"
            ]
           ],
           "sequential": [
            [
             0,
             "#0d0887"
            ],
            [
             0.1111111111111111,
             "#46039f"
            ],
            [
             0.2222222222222222,
             "#7201a8"
            ],
            [
             0.3333333333333333,
             "#9c179e"
            ],
            [
             0.4444444444444444,
             "#bd3786"
            ],
            [
             0.5555555555555556,
             "#d8576b"
            ],
            [
             0.6666666666666666,
             "#ed7953"
            ],
            [
             0.7777777777777778,
             "#fb9f3a"
            ],
            [
             0.8888888888888888,
             "#fdca26"
            ],
            [
             1,
             "#f0f921"
            ]
           ],
           "sequentialminus": [
            [
             0,
             "#0d0887"
            ],
            [
             0.1111111111111111,
             "#46039f"
            ],
            [
             0.2222222222222222,
             "#7201a8"
            ],
            [
             0.3333333333333333,
             "#9c179e"
            ],
            [
             0.4444444444444444,
             "#bd3786"
            ],
            [
             0.5555555555555556,
             "#d8576b"
            ],
            [
             0.6666666666666666,
             "#ed7953"
            ],
            [
             0.7777777777777778,
             "#fb9f3a"
            ],
            [
             0.8888888888888888,
             "#fdca26"
            ],
            [
             1,
             "#f0f921"
            ]
           ]
          },
          "colorway": [
           "#636efa",
           "#EF553B",
           "#00cc96",
           "#ab63fa",
           "#FFA15A",
           "#19d3f3",
           "#FF6692",
           "#B6E880",
           "#FF97FF",
           "#FECB52"
          ],
          "font": {
           "color": "#2a3f5f"
          },
          "geo": {
           "bgcolor": "white",
           "lakecolor": "white",
           "landcolor": "#E5ECF6",
           "showlakes": true,
           "showland": true,
           "subunitcolor": "white"
          },
          "hoverlabel": {
           "align": "left"
          },
          "hovermode": "closest",
          "mapbox": {
           "style": "light"
          },
          "paper_bgcolor": "white",
          "plot_bgcolor": "#E5ECF6",
          "polar": {
           "angularaxis": {
            "gridcolor": "white",
            "linecolor": "white",
            "ticks": ""
           },
           "bgcolor": "#E5ECF6",
           "radialaxis": {
            "gridcolor": "white",
            "linecolor": "white",
            "ticks": ""
           }
          },
          "scene": {
           "xaxis": {
            "backgroundcolor": "#E5ECF6",
            "gridcolor": "white",
            "gridwidth": 2,
            "linecolor": "white",
            "showbackground": true,
            "ticks": "",
            "zerolinecolor": "white"
           },
           "yaxis": {
            "backgroundcolor": "#E5ECF6",
            "gridcolor": "white",
            "gridwidth": 2,
            "linecolor": "white",
            "showbackground": true,
            "ticks": "",
            "zerolinecolor": "white"
           },
           "zaxis": {
            "backgroundcolor": "#E5ECF6",
            "gridcolor": "white",
            "gridwidth": 2,
            "linecolor": "white",
            "showbackground": true,
            "ticks": "",
            "zerolinecolor": "white"
           }
          },
          "shapedefaults": {
           "line": {
            "color": "#2a3f5f"
           }
          },
          "ternary": {
           "aaxis": {
            "gridcolor": "white",
            "linecolor": "white",
            "ticks": ""
           },
           "baxis": {
            "gridcolor": "white",
            "linecolor": "white",
            "ticks": ""
           },
           "bgcolor": "#E5ECF6",
           "caxis": {
            "gridcolor": "white",
            "linecolor": "white",
            "ticks": ""
           }
          },
          "title": {
           "x": 0.05
          },
          "xaxis": {
           "automargin": true,
           "gridcolor": "white",
           "linecolor": "white",
           "ticks": "",
           "title": {
            "standoff": 15
           },
           "zerolinecolor": "white",
           "zerolinewidth": 2
          },
          "yaxis": {
           "automargin": true,
           "gridcolor": "white",
           "linecolor": "white",
           "ticks": "",
           "title": {
            "standoff": 15
           },
           "zerolinecolor": "white",
           "zerolinewidth": 2
          }
         }
        },
        "title": {
         "text": "Predictions"
        },
        "updatemenus": [
         {
          "active": 0,
          "buttons": [
           {
            "args": [
             {
              "visible": [
               true,
               false,
               false,
               false,
               false,
               false,
               false,
               false,
               false,
               false,
               false,
               false,
               false,
               false,
               false,
               false,
               false,
               false,
               false,
               false,
               true,
               false,
               false,
               false,
               false,
               false,
               false,
               false,
               false,
               false,
               false,
               false,
               false,
               false,
               false,
               false,
               false,
               false,
               false,
               false,
               true,
               false,
               false,
               false,
               false,
               false,
               false,
               false,
               false,
               false,
               false,
               false,
               false,
               false,
               false,
               false,
               false,
               false,
               false,
               false,
               true,
               false,
               false,
               false,
               false,
               false,
               false,
               false,
               false,
               false,
               false,
               false,
               false,
               false,
               false,
               false,
               false,
               false,
               false,
               false
              ]
             },
             {
              "title": "Predictions for Fold 0"
             }
            ],
            "label": "Fold 0",
            "method": "update"
           },
           {
            "args": [
             {
              "visible": [
               false,
               true,
               false,
               false,
               false,
               false,
               false,
               false,
               false,
               false,
               true,
               true,
               true,
               true,
               true,
               true,
               true,
               true,
               true,
               true,
               false,
               true,
               false,
               false,
               false,
               false,
               false,
               false,
               false,
               false,
               true,
               true,
               true,
               true,
               true,
               true,
               true,
               true,
               true,
               true,
               false,
               true,
               false,
               false,
               false,
               false,
               false,
               false,
               false,
               false,
               true,
               true,
               true,
               true,
               true,
               true,
               true,
               true,
               true,
               true,
               false,
               true,
               false,
               false,
               false,
               false,
               false,
               false,
               false,
               false,
               true,
               true,
               true,
               true,
               true,
               true,
               true,
               true,
               true,
               true
              ]
             },
             {
              "title": "Predictions for Fold 1"
             }
            ],
            "label": "Fold 1",
            "method": "update"
           },
           {
            "args": [
             {
              "visible": [
               false,
               false,
               true,
               false,
               false,
               false,
               false,
               false,
               false,
               false,
               false,
               false,
               false,
               false,
               false,
               false,
               false,
               false,
               false,
               false,
               false,
               false,
               true,
               false,
               false,
               false,
               false,
               false,
               false,
               false,
               false,
               false,
               false,
               false,
               false,
               false,
               false,
               false,
               false,
               false,
               false,
               false,
               true,
               false,
               false,
               false,
               false,
               false,
               false,
               false,
               false,
               false,
               false,
               false,
               false,
               false,
               false,
               false,
               false,
               false,
               false,
               false,
               true,
               false,
               false,
               false,
               false,
               false,
               false,
               false,
               false,
               false,
               false,
               false,
               false,
               false,
               false,
               false,
               false,
               false
              ]
             },
             {
              "title": "Predictions for Fold 2"
             }
            ],
            "label": "Fold 2",
            "method": "update"
           },
           {
            "args": [
             {
              "visible": [
               false,
               false,
               false,
               true,
               false,
               false,
               false,
               false,
               false,
               false,
               false,
               false,
               false,
               false,
               false,
               false,
               false,
               false,
               false,
               false,
               false,
               false,
               false,
               true,
               false,
               false,
               false,
               false,
               false,
               false,
               false,
               false,
               false,
               false,
               false,
               false,
               false,
               false,
               false,
               false,
               false,
               false,
               false,
               true,
               false,
               false,
               false,
               false,
               false,
               false,
               false,
               false,
               false,
               false,
               false,
               false,
               false,
               false,
               false,
               false,
               false,
               false,
               false,
               true,
               false,
               false,
               false,
               false,
               false,
               false,
               false,
               false,
               false,
               false,
               false,
               false,
               false,
               false,
               false,
               false
              ]
             },
             {
              "title": "Predictions for Fold 3"
             }
            ],
            "label": "Fold 3",
            "method": "update"
           },
           {
            "args": [
             {
              "visible": [
               false,
               false,
               false,
               false,
               true,
               false,
               false,
               false,
               false,
               false,
               false,
               false,
               false,
               false,
               false,
               false,
               false,
               false,
               false,
               false,
               false,
               false,
               false,
               false,
               true,
               false,
               false,
               false,
               false,
               false,
               false,
               false,
               false,
               false,
               false,
               false,
               false,
               false,
               false,
               false,
               false,
               false,
               false,
               false,
               true,
               false,
               false,
               false,
               false,
               false,
               false,
               false,
               false,
               false,
               false,
               false,
               false,
               false,
               false,
               false,
               false,
               false,
               false,
               false,
               true,
               false,
               false,
               false,
               false,
               false,
               false,
               false,
               false,
               false,
               false,
               false,
               false,
               false,
               false,
               false
              ]
             },
             {
              "title": "Predictions for Fold 4"
             }
            ],
            "label": "Fold 4",
            "method": "update"
           },
           {
            "args": [
             {
              "visible": [
               false,
               false,
               false,
               false,
               false,
               true,
               false,
               false,
               false,
               false,
               false,
               false,
               false,
               false,
               false,
               false,
               false,
               false,
               false,
               false,
               false,
               false,
               false,
               false,
               false,
               true,
               false,
               false,
               false,
               false,
               false,
               false,
               false,
               false,
               false,
               false,
               false,
               false,
               false,
               false,
               false,
               false,
               false,
               false,
               false,
               true,
               false,
               false,
               false,
               false,
               false,
               false,
               false,
               false,
               false,
               false,
               false,
               false,
               false,
               false,
               false,
               false,
               false,
               false,
               false,
               true,
               false,
               false,
               false,
               false,
               false,
               false,
               false,
               false,
               false,
               false,
               false,
               false,
               false,
               false
              ]
             },
             {
              "title": "Predictions for Fold 5"
             }
            ],
            "label": "Fold 5",
            "method": "update"
           },
           {
            "args": [
             {
              "visible": [
               false,
               false,
               false,
               false,
               false,
               false,
               true,
               false,
               false,
               false,
               false,
               false,
               false,
               false,
               false,
               false,
               false,
               false,
               false,
               false,
               false,
               false,
               false,
               false,
               false,
               false,
               true,
               false,
               false,
               false,
               false,
               false,
               false,
               false,
               false,
               false,
               false,
               false,
               false,
               false,
               false,
               false,
               false,
               false,
               false,
               false,
               true,
               false,
               false,
               false,
               false,
               false,
               false,
               false,
               false,
               false,
               false,
               false,
               false,
               false,
               false,
               false,
               false,
               false,
               false,
               false,
               true,
               false,
               false,
               false,
               false,
               false,
               false,
               false,
               false,
               false,
               false,
               false,
               false,
               false
              ]
             },
             {
              "title": "Predictions for Fold 6"
             }
            ],
            "label": "Fold 6",
            "method": "update"
           },
           {
            "args": [
             {
              "visible": [
               false,
               false,
               false,
               false,
               false,
               false,
               false,
               true,
               false,
               false,
               false,
               false,
               false,
               false,
               false,
               false,
               false,
               false,
               false,
               false,
               false,
               false,
               false,
               false,
               false,
               false,
               false,
               true,
               false,
               false,
               false,
               false,
               false,
               false,
               false,
               false,
               false,
               false,
               false,
               false,
               false,
               false,
               false,
               false,
               false,
               false,
               false,
               true,
               false,
               false,
               false,
               false,
               false,
               false,
               false,
               false,
               false,
               false,
               false,
               false,
               false,
               false,
               false,
               false,
               false,
               false,
               false,
               true,
               false,
               false,
               false,
               false,
               false,
               false,
               false,
               false,
               false,
               false,
               false,
               false
              ]
             },
             {
              "title": "Predictions for Fold 7"
             }
            ],
            "label": "Fold 7",
            "method": "update"
           },
           {
            "args": [
             {
              "visible": [
               false,
               false,
               false,
               false,
               false,
               false,
               false,
               false,
               true,
               false,
               false,
               false,
               false,
               false,
               false,
               false,
               false,
               false,
               false,
               false,
               false,
               false,
               false,
               false,
               false,
               false,
               false,
               false,
               true,
               false,
               false,
               false,
               false,
               false,
               false,
               false,
               false,
               false,
               false,
               false,
               false,
               false,
               false,
               false,
               false,
               false,
               false,
               false,
               true,
               false,
               false,
               false,
               false,
               false,
               false,
               false,
               false,
               false,
               false,
               false,
               false,
               false,
               false,
               false,
               false,
               false,
               false,
               false,
               true,
               false,
               false,
               false,
               false,
               false,
               false,
               false,
               false,
               false,
               false,
               false
              ]
             },
             {
              "title": "Predictions for Fold 8"
             }
            ],
            "label": "Fold 8",
            "method": "update"
           },
           {
            "args": [
             {
              "visible": [
               false,
               false,
               false,
               false,
               false,
               false,
               false,
               false,
               false,
               true,
               false,
               false,
               false,
               false,
               false,
               false,
               false,
               false,
               false,
               false,
               false,
               false,
               false,
               false,
               false,
               false,
               false,
               false,
               false,
               true,
               false,
               false,
               false,
               false,
               false,
               false,
               false,
               false,
               false,
               false,
               false,
               false,
               false,
               false,
               false,
               false,
               false,
               false,
               false,
               true,
               false,
               false,
               false,
               false,
               false,
               false,
               false,
               false,
               false,
               false,
               false,
               false,
               false,
               false,
               false,
               false,
               false,
               false,
               false,
               true,
               false,
               false,
               false,
               false,
               false,
               false,
               false,
               false,
               false,
               false
              ]
             },
             {
              "title": "Predictions for Fold 9"
             }
            ],
            "label": "Fold 9",
            "method": "update"
           },
           {
            "args": [
             {
              "visible": [
               false,
               false,
               false,
               false,
               false,
               false,
               false,
               false,
               false,
               false,
               true,
               false,
               false,
               false,
               false,
               false,
               false,
               false,
               false,
               false,
               false,
               false,
               false,
               false,
               false,
               false,
               false,
               false,
               false,
               false,
               true,
               false,
               false,
               false,
               false,
               false,
               false,
               false,
               false,
               false,
               false,
               false,
               false,
               false,
               false,
               false,
               false,
               false,
               false,
               false,
               true,
               false,
               false,
               false,
               false,
               false,
               false,
               false,
               false,
               false,
               false,
               false,
               false,
               false,
               false,
               false,
               false,
               false,
               false,
               false,
               true,
               false,
               false,
               false,
               false,
               false,
               false,
               false,
               false,
               false
              ]
             },
             {
              "title": "Predictions for Fold 10"
             }
            ],
            "label": "Fold 10",
            "method": "update"
           },
           {
            "args": [
             {
              "visible": [
               false,
               false,
               false,
               false,
               false,
               false,
               false,
               false,
               false,
               false,
               false,
               true,
               false,
               false,
               false,
               false,
               false,
               false,
               false,
               false,
               false,
               false,
               false,
               false,
               false,
               false,
               false,
               false,
               false,
               false,
               false,
               true,
               false,
               false,
               false,
               false,
               false,
               false,
               false,
               false,
               false,
               false,
               false,
               false,
               false,
               false,
               false,
               false,
               false,
               false,
               false,
               true,
               false,
               false,
               false,
               false,
               false,
               false,
               false,
               false,
               false,
               false,
               false,
               false,
               false,
               false,
               false,
               false,
               false,
               false,
               false,
               true,
               false,
               false,
               false,
               false,
               false,
               false,
               false,
               false
              ]
             },
             {
              "title": "Predictions for Fold 11"
             }
            ],
            "label": "Fold 11",
            "method": "update"
           },
           {
            "args": [
             {
              "visible": [
               false,
               false,
               false,
               false,
               false,
               false,
               false,
               false,
               false,
               false,
               false,
               false,
               true,
               false,
               false,
               false,
               false,
               false,
               false,
               false,
               false,
               false,
               false,
               false,
               false,
               false,
               false,
               false,
               false,
               false,
               false,
               false,
               true,
               false,
               false,
               false,
               false,
               false,
               false,
               false,
               false,
               false,
               false,
               false,
               false,
               false,
               false,
               false,
               false,
               false,
               false,
               false,
               true,
               false,
               false,
               false,
               false,
               false,
               false,
               false,
               false,
               false,
               false,
               false,
               false,
               false,
               false,
               false,
               false,
               false,
               false,
               false,
               true,
               false,
               false,
               false,
               false,
               false,
               false,
               false
              ]
             },
             {
              "title": "Predictions for Fold 12"
             }
            ],
            "label": "Fold 12",
            "method": "update"
           },
           {
            "args": [
             {
              "visible": [
               false,
               false,
               false,
               false,
               false,
               false,
               false,
               false,
               false,
               false,
               false,
               false,
               false,
               true,
               false,
               false,
               false,
               false,
               false,
               false,
               false,
               false,
               false,
               false,
               false,
               false,
               false,
               false,
               false,
               false,
               false,
               false,
               false,
               true,
               false,
               false,
               false,
               false,
               false,
               false,
               false,
               false,
               false,
               false,
               false,
               false,
               false,
               false,
               false,
               false,
               false,
               false,
               false,
               true,
               false,
               false,
               false,
               false,
               false,
               false,
               false,
               false,
               false,
               false,
               false,
               false,
               false,
               false,
               false,
               false,
               false,
               false,
               false,
               true,
               false,
               false,
               false,
               false,
               false,
               false
              ]
             },
             {
              "title": "Predictions for Fold 13"
             }
            ],
            "label": "Fold 13",
            "method": "update"
           },
           {
            "args": [
             {
              "visible": [
               false,
               false,
               false,
               false,
               false,
               false,
               false,
               false,
               false,
               false,
               false,
               false,
               false,
               false,
               true,
               false,
               false,
               false,
               false,
               false,
               false,
               false,
               false,
               false,
               false,
               false,
               false,
               false,
               false,
               false,
               false,
               false,
               false,
               false,
               true,
               false,
               false,
               false,
               false,
               false,
               false,
               false,
               false,
               false,
               false,
               false,
               false,
               false,
               false,
               false,
               false,
               false,
               false,
               false,
               true,
               false,
               false,
               false,
               false,
               false,
               false,
               false,
               false,
               false,
               false,
               false,
               false,
               false,
               false,
               false,
               false,
               false,
               false,
               false,
               true,
               false,
               false,
               false,
               false,
               false
              ]
             },
             {
              "title": "Predictions for Fold 14"
             }
            ],
            "label": "Fold 14",
            "method": "update"
           },
           {
            "args": [
             {
              "visible": [
               false,
               false,
               false,
               false,
               false,
               false,
               false,
               false,
               false,
               false,
               false,
               false,
               false,
               false,
               false,
               true,
               false,
               false,
               false,
               false,
               false,
               false,
               false,
               false,
               false,
               false,
               false,
               false,
               false,
               false,
               false,
               false,
               false,
               false,
               false,
               true,
               false,
               false,
               false,
               false,
               false,
               false,
               false,
               false,
               false,
               false,
               false,
               false,
               false,
               false,
               false,
               false,
               false,
               false,
               false,
               true,
               false,
               false,
               false,
               false,
               false,
               false,
               false,
               false,
               false,
               false,
               false,
               false,
               false,
               false,
               false,
               false,
               false,
               false,
               false,
               true,
               false,
               false,
               false,
               false
              ]
             },
             {
              "title": "Predictions for Fold 15"
             }
            ],
            "label": "Fold 15",
            "method": "update"
           },
           {
            "args": [
             {
              "visible": [
               false,
               false,
               false,
               false,
               false,
               false,
               false,
               false,
               false,
               false,
               false,
               false,
               false,
               false,
               false,
               false,
               true,
               false,
               false,
               false,
               false,
               false,
               false,
               false,
               false,
               false,
               false,
               false,
               false,
               false,
               false,
               false,
               false,
               false,
               false,
               false,
               true,
               false,
               false,
               false,
               false,
               false,
               false,
               false,
               false,
               false,
               false,
               false,
               false,
               false,
               false,
               false,
               false,
               false,
               false,
               false,
               true,
               false,
               false,
               false,
               false,
               false,
               false,
               false,
               false,
               false,
               false,
               false,
               false,
               false,
               false,
               false,
               false,
               false,
               false,
               false,
               true,
               false,
               false,
               false
              ]
             },
             {
              "title": "Predictions for Fold 16"
             }
            ],
            "label": "Fold 16",
            "method": "update"
           },
           {
            "args": [
             {
              "visible": [
               false,
               false,
               false,
               false,
               false,
               false,
               false,
               false,
               false,
               false,
               false,
               false,
               false,
               false,
               false,
               false,
               false,
               true,
               false,
               false,
               false,
               false,
               false,
               false,
               false,
               false,
               false,
               false,
               false,
               false,
               false,
               false,
               false,
               false,
               false,
               false,
               false,
               true,
               false,
               false,
               false,
               false,
               false,
               false,
               false,
               false,
               false,
               false,
               false,
               false,
               false,
               false,
               false,
               false,
               false,
               false,
               false,
               true,
               false,
               false,
               false,
               false,
               false,
               false,
               false,
               false,
               false,
               false,
               false,
               false,
               false,
               false,
               false,
               false,
               false,
               false,
               false,
               true,
               false,
               false
              ]
             },
             {
              "title": "Predictions for Fold 17"
             }
            ],
            "label": "Fold 17",
            "method": "update"
           },
           {
            "args": [
             {
              "visible": [
               false,
               false,
               false,
               false,
               false,
               false,
               false,
               false,
               false,
               false,
               false,
               false,
               false,
               false,
               false,
               false,
               false,
               false,
               true,
               false,
               false,
               false,
               false,
               false,
               false,
               false,
               false,
               false,
               false,
               false,
               false,
               false,
               false,
               false,
               false,
               false,
               false,
               false,
               true,
               false,
               false,
               false,
               false,
               false,
               false,
               false,
               false,
               false,
               false,
               false,
               false,
               false,
               false,
               false,
               false,
               false,
               false,
               false,
               true,
               false,
               false,
               false,
               false,
               false,
               false,
               false,
               false,
               false,
               false,
               false,
               false,
               false,
               false,
               false,
               false,
               false,
               false,
               false,
               true,
               false
              ]
             },
             {
              "title": "Predictions for Fold 18"
             }
            ],
            "label": "Fold 18",
            "method": "update"
           },
           {
            "args": [
             {
              "visible": [
               false,
               false,
               false,
               false,
               false,
               false,
               false,
               false,
               false,
               false,
               false,
               false,
               false,
               false,
               false,
               false,
               false,
               false,
               false,
               true,
               false,
               false,
               false,
               false,
               false,
               false,
               false,
               false,
               false,
               false,
               false,
               false,
               false,
               false,
               false,
               false,
               false,
               false,
               false,
               true,
               false,
               false,
               false,
               false,
               false,
               false,
               false,
               false,
               false,
               false,
               false,
               false,
               false,
               false,
               false,
               false,
               false,
               false,
               false,
               true,
               false,
               false,
               false,
               false,
               false,
               false,
               false,
               false,
               false,
               false,
               false,
               false,
               false,
               false,
               false,
               false,
               false,
               false,
               false,
               true
              ]
             },
             {
              "title": "Predictions for Fold 19"
             }
            ],
            "label": "Fold 19",
            "method": "update"
           }
          ],
          "direction": "down",
          "showactive": true,
          "x": 0.17,
          "xanchor": "left",
          "y": 1.15,
          "yanchor": "top"
         }
        ],
        "width": 800,
        "xaxis": {
         "anchor": "y",
         "domain": [
          0,
          1
         ]
        },
        "yaxis": {
         "anchor": "x",
         "domain": [
          0,
          1
         ]
        }
       }
      }
     },
     "metadata": {},
     "output_type": "display_data"
    }
   ],
   "source": [
    "def visualize_predictions(p, a):\n",
    "    \"\"\"\n",
    "    Visualizes the predictions and actual values of the time series.\n",
    "\n",
    "    Parameters:\n",
    "    p (list of pd.DataFrame): List containing the dataframes for the models.\n",
    "    a (pd.DataFrame): DataFrame containing the actual values.\n",
    "\n",
    "    Returns:\n",
    "    fig: Plotly figure object.\n",
    "    \"\"\"\n",
    "    model_mapping = {\n",
    "        \"Arima\": p[0],\n",
    "        \"Lag llama\": p[1],\n",
    "        \"Autoregressor\": p[2]\n",
    "    }\n",
    "\n",
    "    models = list(model_mapping.keys())\n",
    "    folds = list(range(len(a)))\n",
    "\n",
    "    fig = make_subplots(rows=1, cols=1)\n",
    "    \n",
    "    # Add traces for all models and folds, but make them invisible initially\n",
    "    for model in models:\n",
    "        for fold in folds:\n",
    "            predicted_values = model_mapping[model].iloc[fold].values\n",
    "            fig.add_trace(go.Scatter(x=list(range(1, len(predicted_values)+1)), \n",
    "                                     y=predicted_values, \n",
    "                                     mode='lines+markers', \n",
    "                                     name=f'{model} Fold {fold}',\n",
    "                                     visible=False))\n",
    "            \n",
    "    for fold in folds:\n",
    "        actual_values = a.iloc[fold].values\n",
    "        fig.add_trace(go.Scatter(x=list(range(1, len(actual_values)+1)), \n",
    "                                 y=actual_values, \n",
    "                                 mode='lines+markers', \n",
    "                                 name=f'Actual Fold {fold}',\n",
    "                                 visible=False))\n",
    "\n",
    "    # Create buttons for folds\n",
    "    fold_buttons = []\n",
    "    for fold in folds:\n",
    "        visibility = []\n",
    "        for trace in fig.data:\n",
    "            if f'Fold {fold}' in trace.name:\n",
    "                visibility.append(True)\n",
    "            else:\n",
    "                visibility.append(False)\n",
    "        button = dict(\n",
    "            label=f'Fold {fold}',\n",
    "            method='update',\n",
    "            args=[{'visible': visibility},\n",
    "                  {'title': f'Predictions for Fold {fold}'}]\n",
    "        )\n",
    "        fold_buttons.append(button)\n",
    "\n",
    "    fig.update_layout(\n",
    "        updatemenus=[\n",
    "            dict(active=0,\n",
    "                 buttons=fold_buttons,\n",
    "                 direction='down',\n",
    "                 showactive=True,\n",
    "                 x=0.17,\n",
    "                 xanchor=\"left\",\n",
    "                 y=1.15,\n",
    "                 yanchor=\"top\")\n",
    "        ],\n",
    "        title=f'Predictions',\n",
    "        height=600,\n",
    "        width=800\n",
    "    )\n",
    "    \n",
    "    # Initially show the first fold\n",
    "    fig.update_traces(visible=True, selector=dict(name=f'Arima Fold 0'))\n",
    "    fig.update_traces(visible=True, selector=dict(name=f'Lag llama Fold 0'))\n",
    "    fig.update_traces(visible=True, selector=dict(name=f'Autoregressor Fold 0'))\n",
    "    fig.update_traces(visible=True, selector=dict(name=f'Actual Fold 0'))\n",
    "\n",
    "    return fig\n",
    "\n",
    "# Example usage\n",
    "fig = visualize_predictions(p, a)\n",
    "fig.show()\n"
   ]
  }
 ],
 "metadata": {
  "kernelspec": {
   "display_name": "Python 3",
   "language": "python",
   "name": "python3"
  },
  "language_info": {
   "codemirror_mode": {
    "name": "ipython",
    "version": 3
   },
   "file_extension": ".py",
   "mimetype": "text/x-python",
   "name": "python",
   "nbconvert_exporter": "python",
   "pygments_lexer": "ipython3",
   "version": "3.11.1"
  }
 },
 "nbformat": 4,
 "nbformat_minor": 2
}
