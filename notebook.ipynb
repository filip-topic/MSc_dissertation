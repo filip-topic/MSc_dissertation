{
 "cells": [
  {
   "cell_type": "markdown",
   "metadata": {},
   "source": [
    "# Imports"
   ]
  },
  {
   "cell_type": "code",
   "execution_count": 1,
   "metadata": {},
   "outputs": [],
   "source": [
    "from modules.data import data_loader, data_splitter, data_reader\n",
    "from modules.models import arima, lag_llama\n",
    "from modules.evaluation import evaluate\n",
    "from sklearn.metrics import mean_squared_error, mean_absolute_error, r2_score\n",
    "from modules.experiment.experiment import run_experiment\n",
    "from modules.data.tscv import create_tscv_dataset\n",
    "from modules.experiment.tscv import get_tscv_results\n",
    "\n",
    "\n",
    "import numpy as np\n",
    "import pandas as pd\n",
    "import matplotlib.pyplot as plt\n",
    "import matplotlib.dates as mdates\n",
    "from itertools import islice\n",
    "from sklearn.model_selection import TimeSeriesSplit"
   ]
  },
  {
   "cell_type": "markdown",
   "metadata": {},
   "source": [
    "# Parameters"
   ]
  },
  {
   "cell_type": "code",
   "execution_count": 3,
   "metadata": {},
   "outputs": [],
   "source": [
    "PREDICTION_LENGTH = 10 # currentlz only works for PREDICTION_LENGTH > 1\n",
    "FREQUENCY = \"daily\" # currently we only have dailz frequency\n",
    "TYPE_OF_DATA = \"stock\" # currently we only have stock prices saved\n",
    "MODELS = [\"arima\", \"llama\"] # currentlz works onlz for these two\n",
    "\n",
    "# want to add\n",
    "PREDICTION_HORIZON = 3 # can use anything as long as it complies with data length\n",
    "#TRAIN_PERIOD = # context lenghts. Should take a look into this\n",
    "#TRAIN_SIZE = \n",
    "FOLDS = 10# for TSCV\n",
    "CONTEXT_LENGTH = 64\n",
    "\n"
   ]
  },
  {
   "cell_type": "markdown",
   "metadata": {},
   "source": [
    "# Notes"
   ]
  },
  {
   "cell_type": "markdown",
   "metadata": {},
   "source": [
    " - autoregressor\n",
    " - mean directional accuracy\n",
    " - ask\n",
    " - for each time-series create a whole dataframe for TSCV\n",
    "  - problem with this is with time horizon that is >1 \n",
    "  - prediction horizon is only for that value in the future"
   ]
  },
  {
   "cell_type": "markdown",
   "metadata": {},
   "source": [
    "# TO DO"
   ]
  },
  {
   "cell_type": "markdown",
   "metadata": {},
   "source": [
    " - create the TSCV experiment. It needs to create a table. Metrics for each fold\n",
    " - lit review\n",
    " - content for the presentation by monday!!\n",
    " - review data leakage risk\n",
    " - writing of the dissertation\n",
    " - autoregressor\n",
    " - MDA metric\n",
    " - frequency\n",
    "\n",
    " Writing\n",
    " - lit review\n",
    " - lit reading"
   ]
  },
  {
   "cell_type": "markdown",
   "metadata": {},
   "source": [
    "# Loading the data"
   ]
  },
  {
   "cell_type": "code",
   "execution_count": 3,
   "metadata": {},
   "outputs": [
    {
     "name": "stdout",
     "output_type": "stream",
     "text": [
      "[*********************100%%**********************]  1 of 1 completed\n"
     ]
    }
   ],
   "source": [
    "# loading the data for all 500 S&P500 stocks\n",
    "data = data_reader.read_data(TYPE_OF_DATA)[0]\n",
    "simple_data = data_loader.get_simle_data()"
   ]
  },
  {
   "cell_type": "markdown",
   "metadata": {},
   "source": [
    "# Prepare the data"
   ]
  },
  {
   "cell_type": "code",
   "execution_count": 4,
   "metadata": {},
   "outputs": [],
   "source": [
    "# pass full data at maximum granularity and produce according to frequency parameter"
   ]
  },
  {
   "cell_type": "code",
   "execution_count": 6,
   "metadata": {},
   "outputs": [],
   "source": [
    "tscv_data = create_tscv_dataset(data = simple_data, context_length=CONTEXT_LENGTH, n_folds=FOLDS, prediction_horizon=PREDICTION_HORIZON, max_folds=False)"
   ]
  },
  {
   "cell_type": "markdown",
   "metadata": {},
   "source": [
    "# Models"
   ]
  },
  {
   "cell_type": "code",
   "execution_count": 7,
   "metadata": {},
   "outputs": [],
   "source": [
    "# arima\n"
   ]
  },
  {
   "cell_type": "code",
   "execution_count": 8,
   "metadata": {},
   "outputs": [],
   "source": [
    "# lag llama"
   ]
  },
  {
   "cell_type": "markdown",
   "metadata": {},
   "source": [
    "# Run regular experiment"
   ]
  },
  {
   "cell_type": "code",
   "execution_count": null,
   "metadata": {},
   "outputs": [],
   "source": [
    "results = run_experiment(data = data, prediction_length = PREDICTION_LENGTH)"
   ]
  },
  {
   "cell_type": "markdown",
   "metadata": {},
   "source": [
    "# Evaluation"
   ]
  },
  {
   "cell_type": "code",
   "execution_count": null,
   "metadata": {},
   "outputs": [],
   "source": [
    "results"
   ]
  },
  {
   "cell_type": "markdown",
   "metadata": {},
   "source": [
    "# Run TSCV experiment"
   ]
  },
  {
   "cell_type": "markdown",
   "metadata": {},
   "source": [
    "look up tzpes of TSCV"
   ]
  },
  {
   "cell_type": "code",
   "execution_count": 10,
   "metadata": {},
   "outputs": [
    {
     "name": "stdout",
     "output_type": "stream",
     "text": [
      "y0 done  1\n",
      "------------\n",
      "y1 done  2\n",
      "------------\n",
      "y2 done  3\n",
      "------------\n",
      "y3 done  4\n",
      "------------\n",
      "y4 done  5\n",
      "------------\n",
      "y5 done  6\n",
      "------------\n",
      "y6 done  7\n",
      "------------\n",
      "y7 done  8\n",
      "------------\n",
      "y8 done  9\n",
      "------------\n",
      "y9 done  10\n",
      "------------\n"
     ]
    }
   ],
   "source": [
    "tscv_results, prediction = run_experiment(data=tscv_data, tscv=True)"
   ]
  },
  {
   "cell_type": "code",
   "execution_count": 11,
   "metadata": {},
   "outputs": [
    {
     "data": {
      "text/plain": [
       "{'r2': {'arima': -0.8036159605688358, 'llama': -4.690321882253741},\n",
       " 'mse': {'arima': 9.014638013311012, 'llama': 28.440750730306206},\n",
       " 'mae': {'arima': 2.712121007999187, 'llama': 4.178632465124013},\n",
       " 'rmse': {'arima': 3.0024386776936867, 'llama': 5.332987036390226}}"
      ]
     },
     "execution_count": 11,
     "metadata": {},
     "output_type": "execute_result"
    }
   ],
   "source": [
    "tscv_results"
   ]
  },
  {
   "cell_type": "markdown",
   "metadata": {},
   "source": [
    "# SKLearn TSCV"
   ]
  },
  {
   "cell_type": "code",
   "execution_count": 2,
   "metadata": {},
   "outputs": [
    {
     "name": "stdout",
     "output_type": "stream",
     "text": [
      "[*********************100%%**********************]  1 of 1 completed\n"
     ]
    }
   ],
   "source": [
    "simple_data = data_loader.get_simle_data()"
   ]
  },
  {
   "cell_type": "code",
   "execution_count": 13,
   "metadata": {},
   "outputs": [],
   "source": [
    "# sklearn tscv object\n",
    "tscv = TimeSeriesSplit(n_splits=FOLDS, test_size=PREDICTION_LENGTH)\n"
   ]
  },
  {
   "cell_type": "code",
   "execution_count": 14,
   "metadata": {},
   "outputs": [],
   "source": [
    "# extracting the time-series data from original data\n",
    "series = simple_data[\"y\"]"
   ]
  },
  {
   "cell_type": "code",
   "execution_count": 15,
   "metadata": {},
   "outputs": [],
   "source": [
    "# initializing the list of models, metrics and emptz result dict\n",
    "models=[\"arima\", \"llama\"]\n",
    "metrics=[\"r2\", \"mse\", \"mae\", \"rmse\"]\n",
    "results = {metric: {model: {f\"fold_{i}\": [] for i in range(FOLDS)} for model in models} for metric in metrics}\n",
    "\n",
    "\n",
    "i = 0\n",
    "# iterating over all the folds\n",
    "for train_index, test_index in tscv.split(series):\n",
    "    # subsetting the original data according to train/test split\n",
    "    train = simple_data.iloc[train_index]\n",
    "    valid = list(simple_data.iloc[test_index][\"y\"])\n",
    "\n",
    "\n",
    "    # inputting data into the models\n",
    "    arima_model = arima.get_autoarima(train)\n",
    "    autoarima_predictions = arima.autoarima_predictions(arima_model, PREDICTION_LENGTH)\n",
    "    lag_llama_predictions, tss = lag_llama.get_lam_llama_forecast(train, PREDICTION_LENGTH, context_length=CONTEXT_LENGTH)\n",
    "    lag_llama_predictions = list(lag_llama_predictions[0].samples.mean(axis = 0))\n",
    "\n",
    "    # for my own testing purposes\n",
    "    \"\"\"\n",
    "    print(autoarima_predictions)\n",
    "    print(lag_llama_predictions)\n",
    "    print(valid)\n",
    "    \"\"\"\n",
    "\n",
    "    # recording the metrics\n",
    "    results[\"r2\"][\"arima\"][f\"fold_{i}\"].append(r2_score(valid, autoarima_predictions))\n",
    "    results[\"mse\"][\"arima\"][f\"fold_{i}\"].append(mean_squared_error(valid, autoarima_predictions))\n",
    "    results[\"mae\"][\"arima\"][f\"fold_{i}\"].append(mean_absolute_error(valid, autoarima_predictions))\n",
    "    results[\"rmse\"][\"arima\"][f\"fold_{i}\"].append(np.sqrt(mean_squared_error(valid, autoarima_predictions)))\n",
    "\n",
    "    results[\"r2\"][\"llama\"][f\"fold_{i}\"].append(r2_score(valid, lag_llama_predictions))\n",
    "    results[\"mse\"][\"llama\"][f\"fold_{i}\"].append(mean_squared_error(valid, lag_llama_predictions))\n",
    "    results[\"mae\"][\"llama\"][f\"fold_{i}\"].append(mean_absolute_error(valid, lag_llama_predictions))\n",
    "    results[\"rmse\"][\"llama\"][f\"fold_{i}\"].append(np.sqrt(mean_squared_error(valid, lag_llama_predictions)))\n",
    "\n",
    "    i += 1"
   ]
  },
  {
   "cell_type": "code",
   "execution_count": 16,
   "metadata": {},
   "outputs": [
    {
     "data": {
      "text/plain": [
       "{'r2': {'arima': {'fold_0': [-9.677372264227262],\n",
       "   'fold_1': [-1.006276091511804],\n",
       "   'fold_2': [-0.020242335135516543],\n",
       "   'fold_3': [-0.12762961417397567],\n",
       "   'fold_4': [0.008398586301453292],\n",
       "   'fold_5': [-1.959846458898328],\n",
       "   'fold_6': [-2.909197686058263],\n",
       "   'fold_7': [-0.14294706692623627],\n",
       "   'fold_8': [-1.7601258200238474],\n",
       "   'fold_9': [-0.9361515709652608]},\n",
       "  'llama': {'fold_0': [-10.837290524964514],\n",
       "   'fold_1': [-6.125358839740125],\n",
       "   'fold_2': [-38.72554293881068],\n",
       "   'fold_3': [-122.4641564866312],\n",
       "   'fold_4': [-11.523098893452007],\n",
       "   'fold_5': [-2.3367277496852545],\n",
       "   'fold_6': [-3.4099310559360942],\n",
       "   'fold_7': [-12.530495957756186],\n",
       "   'fold_8': [-7.237419849315307],\n",
       "   'fold_9': [-30.352568376275634]}},\n",
       " 'mse': {'arima': {'fold_0': [32.010473571653826],\n",
       "   'fold_1': [54.518945404598],\n",
       "   'fold_2': [5.38437167062488],\n",
       "   'fold_3': [2.115276553345149],\n",
       "   'fold_4': [14.099524637632047],\n",
       "   'fold_5': [94.17486163763454],\n",
       "   'fold_6': [40.755711328309566],\n",
       "   'fold_7': [7.0767825929371195],\n",
       "   'fold_8': [199.95595562526324],\n",
       "   'fold_9': [61.790702869794586]},\n",
       "  'llama': {'fold_0': [35.487877179187926],\n",
       "   'fold_1': [193.62591779640715],\n",
       "   'fold_2': [209.6532173128387],\n",
       "   'fold_3': [231.60161112478045],\n",
       "   'fold_4': [178.06523765345048],\n",
       "   'fold_5': [106.16627534998045],\n",
       "   'fold_6': [45.97615457884525],\n",
       "   'fold_7': [83.77673913207978],\n",
       "   'fold_8': [596.7558239218686],\n",
       "   'fold_9': [1000.5917231870095]}},\n",
       " 'mae': {'arima': {'fold_0': [5.399046414430865],\n",
       "   'fold_1': [5.891296533060469],\n",
       "   'fold_2': [1.6285137333275457],\n",
       "   'fold_3': [1.2932934142649686],\n",
       "   'fold_4': [3.3155424916539973],\n",
       "   'fold_5': [7.60864125244814],\n",
       "   'fold_6': [5.433775261211997],\n",
       "   'fold_7': [2.2775184261585535],\n",
       "   'fold_8': [12.144544660253654],\n",
       "   'fold_9': [5.995797362832684]},\n",
       "  'llama': {'fold_0': [5.480826148450231],\n",
       "   'fold_1': [13.136644880912801],\n",
       "   'fold_2': [14.016534113960697],\n",
       "   'fold_3': [14.952091793703847],\n",
       "   'fold_4': [12.91852080979638],\n",
       "   'fold_5': [9.054094411291478],\n",
       "   'fold_6': [6.0237244446258185],\n",
       "   'fold_7': [8.69747176349627],\n",
       "   'fold_8': [23.169466307598853],\n",
       "   'fold_9': [31.16549428081343]}},\n",
       " 'rmse': {'arima': {'fold_0': [5.657779915448623],\n",
       "   'fold_1': [7.383694563333318],\n",
       "   'fold_2': [2.3204248901063096],\n",
       "   'fold_3': [1.4543990351155864],\n",
       "   'fold_4': [3.754933373261375],\n",
       "   'fold_5': [9.704373325343298],\n",
       "   'fold_6': [6.384019997486659],\n",
       "   'fold_7': [2.660222282617962],\n",
       "   'fold_8': [14.14057833418645],\n",
       "   'fold_9': [7.860706257696861]},\n",
       "  'llama': {'fold_0': [5.957170232517107],\n",
       "   'fold_1': [13.914953028896905],\n",
       "   'fold_2': [14.479406663010701],\n",
       "   'fold_3': [15.218462837119274],\n",
       "   'fold_4': [13.344108724581439],\n",
       "   'fold_5': [10.303702021602742],\n",
       "   'fold_6': [6.780571847480509],\n",
       "   'fold_7': [9.15296340712011],\n",
       "   'fold_8': [24.428586203910136],\n",
       "   'fold_9': [31.632131183134177]}}}"
      ]
     },
     "execution_count": 16,
     "metadata": {},
     "output_type": "execute_result"
    }
   ],
   "source": [
    "results"
   ]
  },
  {
   "cell_type": "code",
   "execution_count": 4,
   "metadata": {},
   "outputs": [
    {
     "name": "stderr",
     "output_type": "stream",
     "text": [
      "C:\\Users\\topco\\AppData\\Roaming\\Python\\Python311\\site-packages\\pmdarima\\arima\\_auto_solvers.py:524: ModelFitWarning: Error fitting  ARIMA(5,0,0)(0,0,0)[0]           (if you do not want to see these warnings, run with error_action=\"ignore\").\n",
      "Traceback:\n",
      "Traceback (most recent call last):\n",
      "  File \"C:\\Users\\topco\\AppData\\Roaming\\Python\\Python311\\site-packages\\pmdarima\\arima\\_auto_solvers.py\", line 508, in _fit_candidate_model\n",
      "    fit.fit(y, X=X, **fit_params)\n",
      "  File \"C:\\Users\\topco\\AppData\\Roaming\\Python\\Python311\\site-packages\\pmdarima\\arima\\arima.py\", line 603, in fit\n",
      "    self._fit(y, X, **fit_args)\n",
      "  File \"C:\\Users\\topco\\AppData\\Roaming\\Python\\Python311\\site-packages\\pmdarima\\arima\\arima.py\", line 524, in _fit\n",
      "    fit, self.arima_res_ = _fit_wrapper()\n",
      "                           ^^^^^^^^^^^^^^\n",
      "  File \"C:\\Users\\topco\\AppData\\Roaming\\Python\\Python311\\site-packages\\pmdarima\\arima\\arima.py\", line 510, in _fit_wrapper\n",
      "    fitted = arima.fit(\n",
      "             ^^^^^^^^^^\n",
      "  File \"C:\\Users\\topco\\AppData\\Roaming\\Python\\Python311\\site-packages\\statsmodels\\tsa\\statespace\\mlemodel.py\", line 704, in fit\n",
      "    mlefit = super(MLEModel, self).fit(start_params, method=method,\n",
      "             ^^^^^^^^^^^^^^^^^^^^^^^^^^^^^^^^^^^^^^^^^^^^^^^^^^^^^^\n",
      "  File \"C:\\Users\\topco\\AppData\\Roaming\\Python\\Python311\\site-packages\\statsmodels\\base\\model.py\", line 563, in fit\n",
      "    xopt, retvals, optim_settings = optimizer._fit(f, score, start_params,\n",
      "                                    ^^^^^^^^^^^^^^^^^^^^^^^^^^^^^^^^^^^^^^\n",
      "  File \"C:\\Users\\topco\\AppData\\Roaming\\Python\\Python311\\site-packages\\statsmodels\\base\\optimizer.py\", line 241, in _fit\n",
      "    xopt, retvals = func(objective, gradient, start_params, fargs, kwargs,\n",
      "                    ^^^^^^^^^^^^^^^^^^^^^^^^^^^^^^^^^^^^^^^^^^^^^^^^^^^^^^\n",
      "  File \"C:\\Users\\topco\\AppData\\Roaming\\Python\\Python311\\site-packages\\statsmodels\\base\\optimizer.py\", line 651, in _fit_lbfgs\n",
      "    retvals = optimize.fmin_l_bfgs_b(func, start_params, maxiter=maxiter,\n",
      "              ^^^^^^^^^^^^^^^^^^^^^^^^^^^^^^^^^^^^^^^^^^^^^^^^^^^^^^^^^^^\n",
      "  File \"C:\\Users\\topco\\AppData\\Roaming\\Python\\Python311\\site-packages\\scipy\\optimize\\_lbfgsb_py.py\", line 237, in fmin_l_bfgs_b\n",
      "    res = _minimize_lbfgsb(fun, x0, args=args, jac=jac, bounds=bounds,\n",
      "          ^^^^^^^^^^^^^^^^^^^^^^^^^^^^^^^^^^^^^^^^^^^^^^^^^^^^^^^^^^^^\n",
      "  File \"C:\\Users\\topco\\AppData\\Roaming\\Python\\Python311\\site-packages\\scipy\\optimize\\_lbfgsb_py.py\", line 407, in _minimize_lbfgsb\n",
      "    f, g = func_and_grad(x)\n",
      "           ^^^^^^^^^^^^^^^^\n",
      "  File \"C:\\Users\\topco\\AppData\\Roaming\\Python\\Python311\\site-packages\\scipy\\optimize\\_differentiable_functions.py\", line 296, in fun_and_grad\n",
      "    self._update_fun()\n",
      "  File \"C:\\Users\\topco\\AppData\\Roaming\\Python\\Python311\\site-packages\\scipy\\optimize\\_differentiable_functions.py\", line 262, in _update_fun\n",
      "    self._update_fun_impl()\n",
      "  File \"C:\\Users\\topco\\AppData\\Roaming\\Python\\Python311\\site-packages\\scipy\\optimize\\_differentiable_functions.py\", line 163, in update_fun\n",
      "    self.f = fun_wrapped(self.x)\n",
      "             ^^^^^^^^^^^^^^^^^^^\n",
      "  File \"C:\\Users\\topco\\AppData\\Roaming\\Python\\Python311\\site-packages\\scipy\\optimize\\_differentiable_functions.py\", line 145, in fun_wrapped\n",
      "    fx = fun(np.copy(x), *args)\n",
      "         ^^^^^^^^^^^^^^^^^^^^^^\n",
      "  File \"C:\\Users\\topco\\AppData\\Roaming\\Python\\Python311\\site-packages\\statsmodels\\base\\model.py\", line 531, in f\n",
      "    return -self.loglike(params, *args) / nobs\n",
      "            ^^^^^^^^^^^^^^^^^^^^^^^^^^^\n",
      "  File \"C:\\Users\\topco\\AppData\\Roaming\\Python\\Python311\\site-packages\\statsmodels\\tsa\\statespace\\mlemodel.py\", line 939, in loglike\n",
      "    loglike = self.ssm.loglike(complex_step=complex_step, **kwargs)\n",
      "              ^^^^^^^^^^^^^^^^^^^^^^^^^^^^^^^^^^^^^^^^^^^^^^^^^^^^^\n",
      "  File \"C:\\Users\\topco\\AppData\\Roaming\\Python\\Python311\\site-packages\\statsmodels\\tsa\\statespace\\kalman_filter.py\", line 983, in loglike\n",
      "    kfilter = self._filter(**kwargs)\n",
      "              ^^^^^^^^^^^^^^^^^^^^^^\n",
      "  File \"C:\\Users\\topco\\AppData\\Roaming\\Python\\Python311\\site-packages\\statsmodels\\tsa\\statespace\\kalman_filter.py\", line 903, in _filter\n",
      "    self._initialize_state(prefix=prefix, complex_step=complex_step)\n",
      "  File \"C:\\Users\\topco\\AppData\\Roaming\\Python\\Python311\\site-packages\\statsmodels\\tsa\\statespace\\representation.py\", line 983, in _initialize_state\n",
      "    self._statespaces[prefix].initialize(self.initialization,\n",
      "  File \"statsmodels\\tsa\\statespace\\_representation.pyx\", line 1362, in statsmodels.tsa.statespace._representation.dStatespace.initialize\n",
      "  File \"statsmodels\\tsa\\statespace\\_initialization.pyx\", line 288, in statsmodels.tsa.statespace._initialization.dInitialization.initialize\n",
      "  File \"statsmodels\\tsa\\statespace\\_initialization.pyx\", line 406, in statsmodels.tsa.statespace._initialization.dInitialization.initialize_stationary_stationary_cov\n",
      "  File \"statsmodels\\tsa\\statespace\\_tools.pyx\", line 1206, in statsmodels.tsa.statespace._tools._dsolve_discrete_lyapunov\n",
      "numpy.linalg.LinAlgError: LU decomposition error.\n",
      "\n",
      "  warnings.warn(warning_str, ModelFitWarning)\n"
     ]
    }
   ],
   "source": [
    "r = get_tscv_results(simple_data, PREDICTION_HORIZON, CONTEXT_LENGTH, FOLDS)"
   ]
  },
  {
   "cell_type": "code",
   "execution_count": 5,
   "metadata": {},
   "outputs": [
    {
     "data": {
      "text/plain": [
       "{'r2': {'arima': {'fold_0': [-3.691877661141132],\n",
       "   'fold_1': [-0.010542006383208902],\n",
       "   'fold_2': [-5.611156232296624],\n",
       "   'fold_3': [-2.0666207482946946],\n",
       "   'fold_4': [-0.7687106529191812],\n",
       "   'fold_5': [-0.3431518091946324],\n",
       "   'fold_6': [-5.351096735700188],\n",
       "   'fold_7': [-1.6938904126202843],\n",
       "   'fold_8': [-0.011681380345721193],\n",
       "   'fold_9': [-4.330864243718463]},\n",
       "  'llama': {'fold_0': [-13.044976005129282],\n",
       "   'fold_1': [-176.76953041932452],\n",
       "   'fold_2': [-102.9465414708508],\n",
       "   'fold_3': [-90.47143852358084],\n",
       "   'fold_4': [-4.48098954078807],\n",
       "   'fold_5': [-308.4724351603354],\n",
       "   'fold_6': [-79.70480435804069],\n",
       "   'fold_7': [-113.78540714174814],\n",
       "   'fold_8': [-113.45712352875105],\n",
       "   'fold_9': [-172.0529033063294]}},\n",
       " 'mse': {'arima': {'fold_0': [13.875785862988721],\n",
       "   'fold_1': [0.31214081152770684],\n",
       "   'fold_2': [5.642126724971973],\n",
       "   'fold_3': [2.991871755262922],\n",
       "   'fold_4': [123.78820905652573],\n",
       "   'fold_5': [3.945837239182269],\n",
       "   'fold_6': [51.01199731770291],\n",
       "   'fold_7': [13.30463379111579],\n",
       "   'fold_8': [6.3747059930477645],\n",
       "   'fold_9': [36.38447302355967]},\n",
       "  'llama': {'fold_0': [41.536692465802666],\n",
       "   'fold_1': [54.910261166268846],\n",
       "   'fold_2': [88.71058843474948],\n",
       "   'fold_3': [89.24181886011006],\n",
       "   'fold_4': [383.6025287640459],\n",
       "   'fold_5': [909.1510362393602],\n",
       "   'fold_6': [648.2208403938336],\n",
       "   'fold_7': [566.9042064334145],\n",
       "   'fold_8': [721.2058316783506],\n",
       "   'fold_9': [1181.1290635317016]}},\n",
       " 'mae': {'arima': {'fold_0': [3.299668014739723],\n",
       "   'fold_1': [0.4430380839316304],\n",
       "   'fold_2': [2.1825338679929396],\n",
       "   'fold_3': [1.4156159390302416],\n",
       "   'fold_4': [10.002442179429323],\n",
       "   'fold_5': [1.6468804626613671],\n",
       "   'fold_6': [6.562885693697486],\n",
       "   'fold_7': [2.8801263315627446],\n",
       "   'fold_8': [2.199529348756755],\n",
       "   'fold_9': [5.429148340103448]},\n",
       "  'llama': {'fold_0': [6.311084659950069],\n",
       "   'fold_1': [7.397999156561203],\n",
       "   'fold_2': [9.329360697978814],\n",
       "   'fold_3': [9.257863520196244],\n",
       "   'fold_4': [18.2981127752696],\n",
       "   'fold_5': [29.983925584158083],\n",
       "   'fold_6': [25.406426010538325],\n",
       "   'fold_7': [23.51071306437508],\n",
       "   'fold_8': [26.579825771627384],\n",
       "   'fold_9': [34.14689873233825]}},\n",
       " 'rmse': {'arima': {'fold_0': [3.7250215922848984],\n",
       "   'fold_1': [0.5586956340689507],\n",
       "   'fold_2': [2.3753161315858513],\n",
       "   'fold_3': [1.7297027939108274],\n",
       "   'fold_4': [11.126014967477158],\n",
       "   'fold_5': [1.9864131592350744],\n",
       "   'fold_6': [7.142268359401158],\n",
       "   'fold_7': [3.647551753041455],\n",
       "   'fold_8': [2.524818011866947],\n",
       "   'fold_9': [6.031954328703067]},\n",
       "  'llama': {'fold_0': [6.444896621808814],\n",
       "   'fold_1': [7.410145826248553],\n",
       "   'fold_2': [9.418629859738065],\n",
       "   'fold_3': [9.446788812083716],\n",
       "   'fold_4': [19.58577363200254],\n",
       "   'fold_5': [30.15213153724559],\n",
       "   'fold_6': [25.46018146820312],\n",
       "   'fold_7': [23.809750238786936],\n",
       "   'fold_8': [26.85527567682653],\n",
       "   'fold_9': [34.36755830040449]}}}"
      ]
     },
     "execution_count": 5,
     "metadata": {},
     "output_type": "execute_result"
    }
   ],
   "source": [
    "r"
   ]
  }
 ],
 "metadata": {
  "kernelspec": {
   "display_name": "Python 3",
   "language": "python",
   "name": "python3"
  },
  "language_info": {
   "codemirror_mode": {
    "name": "ipython",
    "version": 3
   },
   "file_extension": ".py",
   "mimetype": "text/x-python",
   "name": "python",
   "nbconvert_exporter": "python",
   "pygments_lexer": "ipython3",
   "version": "3.11.1"
  }
 },
 "nbformat": 4,
 "nbformat_minor": 2
}
