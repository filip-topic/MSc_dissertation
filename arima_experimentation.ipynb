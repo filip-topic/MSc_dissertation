{
 "cells": [
  {
   "cell_type": "markdown",
   "metadata": {},
   "source": [
    "# ARIMA model"
   ]
  },
  {
   "cell_type": "code",
   "execution_count": null,
   "metadata": {},
   "outputs": [],
   "source": [
    "import pandas as pd\n",
    "import numpy as np\n",
    "import matplotlib.pyplot as plt\n",
    "from statsmodels.tsa.arima.model import ARIMA\n",
    "from sklearn.metrics import mean_squared_error\n",
    "\n",
    "# from prophet script\n",
    "import pandas as pd\n",
    "from prophet import Prophet\n",
    "from datetime import datetime, timedelta\n",
    "import yfinance as yf\n",
    "from prophet.plot import plot_plotly, plot_components_plotly\n",
    "import matplotlib.pyplot as plt"
   ]
  },
  {
   "cell_type": "markdown",
   "metadata": {},
   "source": [
    "## Data download and preparation"
   ]
  },
  {
   "cell_type": "code",
   "execution_count": 3,
   "metadata": {},
   "outputs": [
    {
     "name": "stdout",
     "output_type": "stream",
     "text": [
      "[*********************100%%**********************]  1 of 1 completed\n"
     ]
    }
   ],
   "source": [
    "prediction_length = 10\n",
    "end_date = datetime.today()\n",
    "start_date = end_date - timedelta(days=365)  \n",
    "apple_stock_price = yf.download(\"AAPL\", start=start_date, end=end_date, interval=\"1d\")[\"Adj Close\"]\n"
   ]
  },
  {
   "cell_type": "code",
   "execution_count": 4,
   "metadata": {},
   "outputs": [],
   "source": [
    "# Load your time series data\n",
    "# Assuming the data is in a CSV file with a date column and a value column\n",
    "df = apple_stock_price\n",
    "\n",
    "# Split the data into train and test sets\n",
    "train_size = int(len(df) - prediction_length)\n",
    "train, test = df[:train_size], df[train_size:]"
   ]
  },
  {
   "cell_type": "code",
   "execution_count": null,
   "metadata": {},
   "outputs": [],
   "source": [
    "\n",
    "# Fit an ARIMA model\n",
    "# Order (p,d,q) should be determined based on your data analysis\n",
    "model = ARIMA(train, order=(5, 1, 0))\n",
    "model_fit = model.fit()\n",
    "\n",
    "# Make predictions\n",
    "predictions = model_fit.forecast(steps=len(test))\n",
    "predictions = pd.Series(predictions, index=test.index)\n",
    "\n",
    "# Evaluate the model\n",
    "mse = mean_squared_error(test, predictions)\n",
    "print(f'Mean Squared Error: {mse}')\n",
    "\n",
    "# Plot the results\n",
    "plt.figure(figsize=(10, 6))\n",
    "plt.plot(train, label='Training Data')\n",
    "plt.plot(test, label='Test Data')\n",
    "plt.plot(predictions, label='Predictions', color='red')\n",
    "plt.legend()\n",
    "plt.title('ARIMA Model - Time Series Forecast')\n",
    "plt.xlabel('Date')\n",
    "plt.ylabel('Values')\n",
    "plt.show()\n"
   ]
  }
 ],
 "metadata": {
  "kernelspec": {
   "display_name": "Python 3",
   "language": "python",
   "name": "python3"
  },
  "language_info": {
   "codemirror_mode": {
    "name": "ipython",
    "version": 3
   },
   "file_extension": ".py",
   "mimetype": "text/x-python",
   "name": "python",
   "nbconvert_exporter": "python",
   "pygments_lexer": "ipython3",
   "version": "3.11.1"
  }
 },
 "nbformat": 4,
 "nbformat_minor": 2
}
